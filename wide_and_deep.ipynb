{
 "cells": [
  {
   "cell_type": "markdown",
   "metadata": {},
   "source": [
    "Setup"
   ]
  },
  {
   "cell_type": "code",
   "execution_count": 1,
   "metadata": {},
   "outputs": [],
   "source": [
    "import json\n",
    "import os\n",
    "import numpy as np\n",
    "import pandas as pd\n",
    "from IPython.display import display\n",
    "import pprint\n",
    "import tensorflow as tf"
   ]
  },
  {
   "cell_type": "markdown",
   "metadata": {},
   "source": [
    "Dataset Directory"
   ]
  },
  {
   "cell_type": "code",
   "execution_count": 2,
   "metadata": {},
   "outputs": [],
   "source": [
    "DIR = './data/cleaned/'\n",
    "fn_books = 'goodreads_books_mystery_thriller_crime.pkl'\n",
    "fn_reviews = 'goodreads_reviews_mystery_thriller_crime.pkl'"
   ]
  },
  {
   "cell_type": "code",
   "execution_count": 3,
   "metadata": {},
   "outputs": [],
   "source": [
    "df_reviews = pd.read_pickle(os.path.join(DIR, fn_reviews))\n",
    "df_books = pd.read_pickle(os.path.join(DIR, fn_books))"
   ]
  },
  {
   "cell_type": "code",
   "execution_count": 4,
   "metadata": {},
   "outputs": [
    {
     "data": {
      "text/html": [
       "<div>\n",
       "<style scoped>\n",
       "    .dataframe tbody tr th:only-of-type {\n",
       "        vertical-align: middle;\n",
       "    }\n",
       "\n",
       "    .dataframe tbody tr th {\n",
       "        vertical-align: top;\n",
       "    }\n",
       "\n",
       "    .dataframe thead th {\n",
       "        text-align: right;\n",
       "    }\n",
       "</style>\n",
       "<table border=\"1\" class=\"dataframe\">\n",
       "  <thead>\n",
       "    <tr style=\"text-align: right;\">\n",
       "      <th></th>\n",
       "      <th>user_id</th>\n",
       "      <th>book_id</th>\n",
       "      <th>rating</th>\n",
       "      <th>review_text</th>\n",
       "    </tr>\n",
       "    <tr>\n",
       "      <th>review_id</th>\n",
       "      <th></th>\n",
       "      <th></th>\n",
       "      <th></th>\n",
       "      <th></th>\n",
       "    </tr>\n",
       "  </thead>\n",
       "  <tbody>\n",
       "    <tr>\n",
       "      <th>5e212a62bced17b4dbe41150e5bb9037</th>\n",
       "      <td>8842281e1d1347389f2ab93d60773d4d</td>\n",
       "      <td>6392944</td>\n",
       "      <td>3</td>\n",
       "      <td>I haven't read a fun mystery book in a while a...</td>\n",
       "    </tr>\n",
       "    <tr>\n",
       "      <th>2ede853b14dc4583f96cf5d120af636f</th>\n",
       "      <td>8842281e1d1347389f2ab93d60773d4d</td>\n",
       "      <td>28684704</td>\n",
       "      <td>3</td>\n",
       "      <td>A fun, fast paced science fiction thriller. I ...</td>\n",
       "    </tr>\n",
       "    <tr>\n",
       "      <th>8e4d61801907e591018bdc3442a9cf2b</th>\n",
       "      <td>8842281e1d1347389f2ab93d60773d4d</td>\n",
       "      <td>32283133</td>\n",
       "      <td>0</td>\n",
       "      <td>http://www.telegraph.co.uk/culture/10...</td>\n",
       "    </tr>\n",
       "    <tr>\n",
       "      <th>022bb6daffa49adc27f6b20b6ebeb37d</th>\n",
       "      <td>8842281e1d1347389f2ab93d60773d4d</td>\n",
       "      <td>17860739</td>\n",
       "      <td>4</td>\n",
       "      <td>An amazing and unique creation: JJ Abrams and ...</td>\n",
       "    </tr>\n",
       "    <tr>\n",
       "      <th>0e317947e1fd341f573192111bb2921d</th>\n",
       "      <td>8842281e1d1347389f2ab93d60773d4d</td>\n",
       "      <td>8694005</td>\n",
       "      <td>3</td>\n",
       "      <td>The Name of the Rose is a thrilling Dan Brown-...</td>\n",
       "    </tr>\n",
       "  </tbody>\n",
       "</table>\n",
       "</div>"
      ],
      "text/plain": [
       "                                                           user_id   book_id  \\\n",
       "review_id                                                                      \n",
       "5e212a62bced17b4dbe41150e5bb9037  8842281e1d1347389f2ab93d60773d4d   6392944   \n",
       "2ede853b14dc4583f96cf5d120af636f  8842281e1d1347389f2ab93d60773d4d  28684704   \n",
       "8e4d61801907e591018bdc3442a9cf2b  8842281e1d1347389f2ab93d60773d4d  32283133   \n",
       "022bb6daffa49adc27f6b20b6ebeb37d  8842281e1d1347389f2ab93d60773d4d  17860739   \n",
       "0e317947e1fd341f573192111bb2921d  8842281e1d1347389f2ab93d60773d4d   8694005   \n",
       "\n",
       "                                  rating  \\\n",
       "review_id                                  \n",
       "5e212a62bced17b4dbe41150e5bb9037       3   \n",
       "2ede853b14dc4583f96cf5d120af636f       3   \n",
       "8e4d61801907e591018bdc3442a9cf2b       0   \n",
       "022bb6daffa49adc27f6b20b6ebeb37d       4   \n",
       "0e317947e1fd341f573192111bb2921d       3   \n",
       "\n",
       "                                                                        review_text  \n",
       "review_id                                                                            \n",
       "5e212a62bced17b4dbe41150e5bb9037  I haven't read a fun mystery book in a while a...  \n",
       "2ede853b14dc4583f96cf5d120af636f  A fun, fast paced science fiction thriller. I ...  \n",
       "8e4d61801907e591018bdc3442a9cf2b           http://www.telegraph.co.uk/culture/10...  \n",
       "022bb6daffa49adc27f6b20b6ebeb37d  An amazing and unique creation: JJ Abrams and ...  \n",
       "0e317947e1fd341f573192111bb2921d  The Name of the Rose is a thrilling Dan Brown-...  "
      ]
     },
     "execution_count": 4,
     "metadata": {},
     "output_type": "execute_result"
    }
   ],
   "source": [
    "df_reviews.head()"
   ]
  },
  {
   "cell_type": "code",
   "execution_count": 5,
   "metadata": {},
   "outputs": [
    {
     "data": {
      "text/html": [
       "<div>\n",
       "<style scoped>\n",
       "    .dataframe tbody tr th:only-of-type {\n",
       "        vertical-align: middle;\n",
       "    }\n",
       "\n",
       "    .dataframe tbody tr th {\n",
       "        vertical-align: top;\n",
       "    }\n",
       "\n",
       "    .dataframe thead th {\n",
       "        text-align: right;\n",
       "    }\n",
       "</style>\n",
       "<table border=\"1\" class=\"dataframe\">\n",
       "  <thead>\n",
       "    <tr style=\"text-align: right;\">\n",
       "      <th></th>\n",
       "      <th>title</th>\n",
       "      <th>text_reviews_count</th>\n",
       "      <th>popular_shelves</th>\n",
       "      <th>average_rating</th>\n",
       "      <th>description</th>\n",
       "      <th>author_id</th>\n",
       "      <th>author_name</th>\n",
       "    </tr>\n",
       "    <tr>\n",
       "      <th>book_id</th>\n",
       "      <th></th>\n",
       "      <th></th>\n",
       "      <th></th>\n",
       "      <th></th>\n",
       "      <th></th>\n",
       "      <th></th>\n",
       "      <th></th>\n",
       "    </tr>\n",
       "  </thead>\n",
       "  <tbody>\n",
       "    <tr>\n",
       "      <th>6066814</th>\n",
       "      <td>b'Crowner Royal (Crowner John Mystery, #13)'</td>\n",
       "      <td>15</td>\n",
       "      <td>[{'count': '159', 'name': 'to-read'}, {'count'...</td>\n",
       "      <td>3.93</td>\n",
       "      <td>London, 1196. At the command of Richard the Li...</td>\n",
       "      <td>37778</td>\n",
       "      <td>Bernard Knight</td>\n",
       "    </tr>\n",
       "    <tr>\n",
       "      <th>33394837</th>\n",
       "      <td>b\"The House of Memory (Pluto's Snitch #2)\"</td>\n",
       "      <td>60</td>\n",
       "      <td>[{'count': '54', 'name': 'currently-reading'},...</td>\n",
       "      <td>4.33</td>\n",
       "      <td></td>\n",
       "      <td>242185</td>\n",
       "      <td>Carolyn Haines</td>\n",
       "    </tr>\n",
       "    <tr>\n",
       "      <th>29074697</th>\n",
       "      <td>b'The Slaughtered Virgin of Zenopolis (Inspect...</td>\n",
       "      <td>23</td>\n",
       "      <td>[{'count': '90', 'name': 'to-read'}, {'count':...</td>\n",
       "      <td>3.49</td>\n",
       "      <td>BATHS, BANKS AND ROMAN INSURRECTION Detective ...</td>\n",
       "      <td>15104629</td>\n",
       "      <td>David  Blake</td>\n",
       "    </tr>\n",
       "    <tr>\n",
       "      <th>1902202</th>\n",
       "      <td>b'Dead in the Morning (Patrick Grant, #1)'</td>\n",
       "      <td>8</td>\n",
       "      <td>[{'count': '51', 'name': 'to-read'}, {'count':...</td>\n",
       "      <td>3.30</td>\n",
       "      <td>Gerald breezily introduced his wife, Helen, to...</td>\n",
       "      <td>190988</td>\n",
       "      <td>Margaret Yorke</td>\n",
       "    </tr>\n",
       "    <tr>\n",
       "      <th>9671977</th>\n",
       "      <td>b'Aristotele e i misteri di Eleusi'</td>\n",
       "      <td>3</td>\n",
       "      <td>[{'count': '48', 'name': 'to-read'}, {'count':...</td>\n",
       "      <td>3.54</td>\n",
       "      <td>\"I misteri di Eleusi\" e il quinto romanzo di A...</td>\n",
       "      <td>337108</td>\n",
       "      <td>Margaret Doody</td>\n",
       "    </tr>\n",
       "  </tbody>\n",
       "</table>\n",
       "</div>"
      ],
      "text/plain": [
       "                                                      title  \\\n",
       "book_id                                                       \n",
       "6066814        b'Crowner Royal (Crowner John Mystery, #13)'   \n",
       "33394837         b\"The House of Memory (Pluto's Snitch #2)\"   \n",
       "29074697  b'The Slaughtered Virgin of Zenopolis (Inspect...   \n",
       "1902202          b'Dead in the Morning (Patrick Grant, #1)'   \n",
       "9671977                 b'Aristotele e i misteri di Eleusi'   \n",
       "\n",
       "          text_reviews_count  \\\n",
       "book_id                        \n",
       "6066814                   15   \n",
       "33394837                  60   \n",
       "29074697                  23   \n",
       "1902202                    8   \n",
       "9671977                    3   \n",
       "\n",
       "                                            popular_shelves  average_rating  \\\n",
       "book_id                                                                       \n",
       "6066814   [{'count': '159', 'name': 'to-read'}, {'count'...            3.93   \n",
       "33394837  [{'count': '54', 'name': 'currently-reading'},...            4.33   \n",
       "29074697  [{'count': '90', 'name': 'to-read'}, {'count':...            3.49   \n",
       "1902202   [{'count': '51', 'name': 'to-read'}, {'count':...            3.30   \n",
       "9671977   [{'count': '48', 'name': 'to-read'}, {'count':...            3.54   \n",
       "\n",
       "                                                description  author_id  \\\n",
       "book_id                                                                  \n",
       "6066814   London, 1196. At the command of Richard the Li...      37778   \n",
       "33394837                                                        242185   \n",
       "29074697  BATHS, BANKS AND ROMAN INSURRECTION Detective ...   15104629   \n",
       "1902202   Gerald breezily introduced his wife, Helen, to...     190988   \n",
       "9671977   \"I misteri di Eleusi\" e il quinto romanzo di A...     337108   \n",
       "\n",
       "             author_name  \n",
       "book_id                   \n",
       "6066814   Bernard Knight  \n",
       "33394837  Carolyn Haines  \n",
       "29074697    David  Blake  \n",
       "1902202   Margaret Yorke  \n",
       "9671977   Margaret Doody  "
      ]
     },
     "execution_count": 5,
     "metadata": {},
     "output_type": "execute_result"
    }
   ],
   "source": [
    "df_books.head()"
   ]
  },
  {
   "cell_type": "code",
   "execution_count": 6,
   "metadata": {},
   "outputs": [
    {
     "data": {
      "text/html": [
       "<div>\n",
       "<style scoped>\n",
       "    .dataframe tbody tr th:only-of-type {\n",
       "        vertical-align: middle;\n",
       "    }\n",
       "\n",
       "    .dataframe tbody tr th {\n",
       "        vertical-align: top;\n",
       "    }\n",
       "\n",
       "    .dataframe thead th {\n",
       "        text-align: right;\n",
       "    }\n",
       "</style>\n",
       "<table border=\"1\" class=\"dataframe\">\n",
       "  <thead>\n",
       "    <tr style=\"text-align: right;\">\n",
       "      <th></th>\n",
       "      <th>user_id</th>\n",
       "      <th>book_id</th>\n",
       "      <th>rating</th>\n",
       "      <th>review_text</th>\n",
       "      <th>title</th>\n",
       "      <th>text_reviews_count</th>\n",
       "      <th>popular_shelves</th>\n",
       "      <th>average_rating</th>\n",
       "      <th>description</th>\n",
       "      <th>author_id</th>\n",
       "      <th>author_name</th>\n",
       "    </tr>\n",
       "    <tr>\n",
       "      <th>review_id</th>\n",
       "      <th></th>\n",
       "      <th></th>\n",
       "      <th></th>\n",
       "      <th></th>\n",
       "      <th></th>\n",
       "      <th></th>\n",
       "      <th></th>\n",
       "      <th></th>\n",
       "      <th></th>\n",
       "      <th></th>\n",
       "      <th></th>\n",
       "    </tr>\n",
       "  </thead>\n",
       "  <tbody>\n",
       "    <tr>\n",
       "      <th>0e317947e1fd341f573192111bb2921d</th>\n",
       "      <td>8842281e1d1347389f2ab93d60773d4d</td>\n",
       "      <td>8694005</td>\n",
       "      <td>3</td>\n",
       "      <td>The Name of the Rose is a thrilling Dan Brown-...</td>\n",
       "      <td>b'The Name of the Rose'</td>\n",
       "      <td>99</td>\n",
       "      <td>[{'count': '8209', 'name': 'to-read'}, {'count...</td>\n",
       "      <td>4.11</td>\n",
       "      <td>The year is 1327. Franciscans in a wealthy Ita...</td>\n",
       "      <td>1730</td>\n",
       "      <td>Umberto Eco</td>\n",
       "    </tr>\n",
       "    <tr>\n",
       "      <th>4276918357312212384ac6415ceb9159</th>\n",
       "      <td>8842281e1d1347389f2ab93d60773d4d</td>\n",
       "      <td>6652906</td>\n",
       "      <td>3</td>\n",
       "      <td>** spoiler alert **   Hooked me equally as wel...</td>\n",
       "      <td>b'The Girl Who Played with Fire (Millennium, #2)'</td>\n",
       "      <td>772</td>\n",
       "      <td>[{'count': '6613', 'name': 'fiction'}, {'count...</td>\n",
       "      <td>4.22</td>\n",
       "      <td>Part blistering espionage thriller, part rivet...</td>\n",
       "      <td>706255</td>\n",
       "      <td>Stieg Larsson</td>\n",
       "    </tr>\n",
       "    <tr>\n",
       "      <th>9ee704921386f88893900829c037abd0</th>\n",
       "      <td>4fdf8e419e36ae2e82bc44376768e280</td>\n",
       "      <td>6652906</td>\n",
       "      <td>4</td>\n",
       "      <td>Don't start these books unless you're ready to...</td>\n",
       "      <td>b'The Girl Who Played with Fire (Millennium, #2)'</td>\n",
       "      <td>772</td>\n",
       "      <td>[{'count': '6613', 'name': 'fiction'}, {'count...</td>\n",
       "      <td>4.22</td>\n",
       "      <td>Part blistering espionage thriller, part rivet...</td>\n",
       "      <td>706255</td>\n",
       "      <td>Stieg Larsson</td>\n",
       "    </tr>\n",
       "    <tr>\n",
       "      <th>26e59823f1936fe9030d85262f1477e1</th>\n",
       "      <td>446728d221c1343b92e1e4ff5545a843</td>\n",
       "      <td>6652906</td>\n",
       "      <td>5</td>\n",
       "      <td>Loved it! Not as much as the first but it this...</td>\n",
       "      <td>b'The Girl Who Played with Fire (Millennium, #2)'</td>\n",
       "      <td>772</td>\n",
       "      <td>[{'count': '6613', 'name': 'fiction'}, {'count...</td>\n",
       "      <td>4.22</td>\n",
       "      <td>Part blistering espionage thriller, part rivet...</td>\n",
       "      <td>706255</td>\n",
       "      <td>Stieg Larsson</td>\n",
       "    </tr>\n",
       "    <tr>\n",
       "      <th>83370bd38023a2fd928b2b6114c2b210</th>\n",
       "      <td>fe0ad83a30bcd7fbe65ac1670b2b01e1</td>\n",
       "      <td>6652906</td>\n",
       "      <td>5</td>\n",
       "      <td>Once again Larsson does not disappoint. Althou...</td>\n",
       "      <td>b'The Girl Who Played with Fire (Millennium, #2)'</td>\n",
       "      <td>772</td>\n",
       "      <td>[{'count': '6613', 'name': 'fiction'}, {'count...</td>\n",
       "      <td>4.22</td>\n",
       "      <td>Part blistering espionage thriller, part rivet...</td>\n",
       "      <td>706255</td>\n",
       "      <td>Stieg Larsson</td>\n",
       "    </tr>\n",
       "  </tbody>\n",
       "</table>\n",
       "</div>"
      ],
      "text/plain": [
       "                                                           user_id  book_id  \\\n",
       "review_id                                                                     \n",
       "0e317947e1fd341f573192111bb2921d  8842281e1d1347389f2ab93d60773d4d  8694005   \n",
       "4276918357312212384ac6415ceb9159  8842281e1d1347389f2ab93d60773d4d  6652906   \n",
       "9ee704921386f88893900829c037abd0  4fdf8e419e36ae2e82bc44376768e280  6652906   \n",
       "26e59823f1936fe9030d85262f1477e1  446728d221c1343b92e1e4ff5545a843  6652906   \n",
       "83370bd38023a2fd928b2b6114c2b210  fe0ad83a30bcd7fbe65ac1670b2b01e1  6652906   \n",
       "\n",
       "                                  rating  \\\n",
       "review_id                                  \n",
       "0e317947e1fd341f573192111bb2921d       3   \n",
       "4276918357312212384ac6415ceb9159       3   \n",
       "9ee704921386f88893900829c037abd0       4   \n",
       "26e59823f1936fe9030d85262f1477e1       5   \n",
       "83370bd38023a2fd928b2b6114c2b210       5   \n",
       "\n",
       "                                                                        review_text  \\\n",
       "review_id                                                                             \n",
       "0e317947e1fd341f573192111bb2921d  The Name of the Rose is a thrilling Dan Brown-...   \n",
       "4276918357312212384ac6415ceb9159  ** spoiler alert **   Hooked me equally as wel...   \n",
       "9ee704921386f88893900829c037abd0  Don't start these books unless you're ready to...   \n",
       "26e59823f1936fe9030d85262f1477e1  Loved it! Not as much as the first but it this...   \n",
       "83370bd38023a2fd928b2b6114c2b210  Once again Larsson does not disappoint. Althou...   \n",
       "\n",
       "                                                                              title  \\\n",
       "review_id                                                                             \n",
       "0e317947e1fd341f573192111bb2921d                            b'The Name of the Rose'   \n",
       "4276918357312212384ac6415ceb9159  b'The Girl Who Played with Fire (Millennium, #2)'   \n",
       "9ee704921386f88893900829c037abd0  b'The Girl Who Played with Fire (Millennium, #2)'   \n",
       "26e59823f1936fe9030d85262f1477e1  b'The Girl Who Played with Fire (Millennium, #2)'   \n",
       "83370bd38023a2fd928b2b6114c2b210  b'The Girl Who Played with Fire (Millennium, #2)'   \n",
       "\n",
       "                                  text_reviews_count  \\\n",
       "review_id                                              \n",
       "0e317947e1fd341f573192111bb2921d                  99   \n",
       "4276918357312212384ac6415ceb9159                 772   \n",
       "9ee704921386f88893900829c037abd0                 772   \n",
       "26e59823f1936fe9030d85262f1477e1                 772   \n",
       "83370bd38023a2fd928b2b6114c2b210                 772   \n",
       "\n",
       "                                                                    popular_shelves  \\\n",
       "review_id                                                                             \n",
       "0e317947e1fd341f573192111bb2921d  [{'count': '8209', 'name': 'to-read'}, {'count...   \n",
       "4276918357312212384ac6415ceb9159  [{'count': '6613', 'name': 'fiction'}, {'count...   \n",
       "9ee704921386f88893900829c037abd0  [{'count': '6613', 'name': 'fiction'}, {'count...   \n",
       "26e59823f1936fe9030d85262f1477e1  [{'count': '6613', 'name': 'fiction'}, {'count...   \n",
       "83370bd38023a2fd928b2b6114c2b210  [{'count': '6613', 'name': 'fiction'}, {'count...   \n",
       "\n",
       "                                  average_rating  \\\n",
       "review_id                                          \n",
       "0e317947e1fd341f573192111bb2921d            4.11   \n",
       "4276918357312212384ac6415ceb9159            4.22   \n",
       "9ee704921386f88893900829c037abd0            4.22   \n",
       "26e59823f1936fe9030d85262f1477e1            4.22   \n",
       "83370bd38023a2fd928b2b6114c2b210            4.22   \n",
       "\n",
       "                                                                        description  \\\n",
       "review_id                                                                             \n",
       "0e317947e1fd341f573192111bb2921d  The year is 1327. Franciscans in a wealthy Ita...   \n",
       "4276918357312212384ac6415ceb9159  Part blistering espionage thriller, part rivet...   \n",
       "9ee704921386f88893900829c037abd0  Part blistering espionage thriller, part rivet...   \n",
       "26e59823f1936fe9030d85262f1477e1  Part blistering espionage thriller, part rivet...   \n",
       "83370bd38023a2fd928b2b6114c2b210  Part blistering espionage thriller, part rivet...   \n",
       "\n",
       "                                  author_id    author_name  \n",
       "review_id                                                   \n",
       "0e317947e1fd341f573192111bb2921d       1730    Umberto Eco  \n",
       "4276918357312212384ac6415ceb9159     706255  Stieg Larsson  \n",
       "9ee704921386f88893900829c037abd0     706255  Stieg Larsson  \n",
       "26e59823f1936fe9030d85262f1477e1     706255  Stieg Larsson  \n",
       "83370bd38023a2fd928b2b6114c2b210     706255  Stieg Larsson  "
      ]
     },
     "execution_count": 6,
     "metadata": {},
     "output_type": "execute_result"
    }
   ],
   "source": [
    "df_join = pd.merge(df_reviews, df_books, left_on=\"book_id\", right_index=True)\n",
    "df_join.head()"
   ]
  },
  {
   "cell_type": "code",
   "execution_count": 7,
   "metadata": {},
   "outputs": [
    {
     "data": {
      "text/plain": [
       "user_id                object\n",
       "book_id                uint32\n",
       "rating                  uint8\n",
       "review_text            object\n",
       "title                  object\n",
       "text_reviews_count     uint32\n",
       "popular_shelves        object\n",
       "average_rating        float64\n",
       "description            object\n",
       "author_id               int64\n",
       "author_name            object\n",
       "dtype: object"
      ]
     },
     "execution_count": 7,
     "metadata": {},
     "output_type": "execute_result"
    }
   ],
   "source": [
    "df_join.dtypes"
   ]
  },
  {
   "cell_type": "markdown",
   "metadata": {},
   "source": [
    "### Define Base Feature Columns\n",
    "First, let's define the base categorical and continuous feature columns that we'll use. These base columns will be the building blocks used by both the wide part and the deep part of the model."
   ]
  },
  {
   "cell_type": "code",
   "execution_count": 8,
   "metadata": {},
   "outputs": [],
   "source": [
    "df_simplified = df_join[[\"user_id\", \"book_id\", \"rating\", \"review_text\", \"title\", \"description\", \"author_id\"]]"
   ]
  },
  {
   "cell_type": "code",
   "execution_count": 9,
   "metadata": {},
   "outputs": [],
   "source": [
    "labels = tf.constant(df_join['rating'])"
   ]
  },
  {
   "cell_type": "code",
   "execution_count": 10,
   "metadata": {},
   "outputs": [
    {
     "data": {
      "text/plain": [
       "<tf.Tensor: shape=(22726,), dtype=string, numpy=\n",
       "array([b'0e317947e1fd341f573192111bb2921d',\n",
       "       b'4276918357312212384ac6415ceb9159',\n",
       "       b'9ee704921386f88893900829c037abd0', ...,\n",
       "       b'2b6a65954eb5acc9ba251a9b61d9af5a',\n",
       "       b'f0ff906a26b8894858eab817731faaaf',\n",
       "       b'921812c9edc173c6d12e000723b9e667'], dtype=object)>"
      ]
     },
     "execution_count": 10,
     "metadata": {},
     "output_type": "execute_result"
    }
   ],
   "source": [
    "labels"
   ]
  },
  {
   "cell_type": "code",
   "execution_count": 11,
   "metadata": {},
   "outputs": [
    {
     "name": "stdout",
     "output_type": "stream",
     "text": [
      "<class 'pandas.core.frame.DataFrame'>\n",
      "Index: 22726 entries, 0e317947e1fd341f573192111bb2921d to 921812c9edc173c6d12e000723b9e667\n",
      "Data columns (total 7 columns):\n",
      " #   Column       Non-Null Count  Dtype \n",
      "---  ------       --------------  ----- \n",
      " 0   user_id      22726 non-null  object\n",
      " 1   book_id      22726 non-null  uint32\n",
      " 2   rating       22726 non-null  uint8 \n",
      " 3   review_text  22726 non-null  object\n",
      " 4   title        22726 non-null  object\n",
      " 5   description  22726 non-null  object\n",
      " 6   author_id    22726 non-null  int64 \n",
      "dtypes: int64(1), object(4), uint32(1), uint8(1)\n",
      "memory usage: 1.1+ MB\n"
     ]
    }
   ],
   "source": [
    "df_simplified.info()"
   ]
  },
  {
   "cell_type": "code",
   "execution_count": 12,
   "metadata": {},
   "outputs": [
    {
     "name": "stdout",
     "output_type": "stream",
     "text": [
      "label:  tf.Tensor(b'0e317947e1fd341f573192111bb2921d', shape=(), dtype=string)\n",
      "'user_id'           : b'8842281e1d1347389f2ab93d60773d4d'\n",
      "'book_id'           : 8694005\n",
      "'rating'            : 3\n",
      "'review_text'       : b'The Name of the Rose is a thrilling Dan Brown-esque murder mystery set in a 14th century Italian monastery. It really is two stories - the story of the murder mystery, and that of political climate in Italy at the time. And of course, they nicely interweave throughout.   The history the book brought was one of my favorite parts. I learned about how the church controlled so much of the world, how even then it was already starting to fall from power, why saints are so prevalent in Italy, and more. I learned about Franciscans and Dolcians and minorites, and poverity and false monks. Poverty was a big theme, which came through on several levels: rebellions by poor people and religious leaders stepping in to lead the masses, and also an a debate about the role the Church should have in society.   I loved brother William of baskerville. He was Sherlock Holmes-esque (so that can\\'t be a coincidence he\\'s from Baskerville right?) in his deductive reasoning and approach. I think my favorite moment of his was when he had no time left to solve the crime he said \"when a man has little time, he must take care to maintain his calm. We must act as if we had eternity before us.\"   I took one star off because I often found myself skipping large sections that went into flowery details of something (often history) that just seemed irrelevant.   The book was also a lot about change. The monks were so set in their ways and in their dogma that you could see how it likely took generations before a viewpoint could really change. The focus on humor for instance and the dogmatic viewpoint of Jorge was in my opinion simply nothing more than fear of change. We all know that the introduction of humor and the divine comedy didn\\'t ruin the world.   The library was one of the greatest in the world at the time. I would love to have seen it. Yet it was almost impossible to access, and that very lack of accessibility is what ultimately led to it\\'s destruction. Seems like the message is that knowledge should be open and free and and keeping it locked up can be more dangerous than not.'\n",
      "'title'             : b'The Name of the Rose'\n",
      "'description'       : b'The year is 1327. Franciscans in a wealthy Italian abbey are suspected of heresy, and Brother William of Baskerville arrives to investigate. When his delicate mission is suddenly overshadowed by seven bizarre deaths, Brother William turns detective. His tools are the logic of Aristotle, the theology of Aquinas, the empirical insights of Roger Bacon - all sharpened to a glistening edge by wry humor and a ferocious curiosity. He collects evidence, deciphers secret symbols and coded manuscripts, and digs into the eerie labyrinth of the abbey, where \"the most interesting things happen at night.\"'\n",
      "'author_id'         : 1730\n"
     ]
    }
   ],
   "source": [
    "joined_slices = tf.data.Dataset.from_tensor_slices((dict(df_simplified), labels))\n",
    "\n",
    "for feature_batch, label in joined_slices.take(1):\n",
    "  print(\"label: \", label)\n",
    "  for key, value in feature_batch.items():\n",
    "    print(\"{!r:20s}: {}\".format(key, value))\n"
   ]
  },
  {
   "cell_type": "code",
   "execution_count": 13,
   "metadata": {},
   "outputs": [
    {
     "data": {
      "text/plain": [
       "<TensorSliceDataset shapes: ({user_id: (), book_id: (), rating: (), review_text: (), title: (), description: (), author_id: ()}, ()), types: ({user_id: tf.string, book_id: tf.uint32, rating: tf.uint8, review_text: tf.string, title: tf.string, description: tf.string, author_id: tf.int64}, tf.string)>"
      ]
     },
     "execution_count": 13,
     "metadata": {},
     "output_type": "execute_result"
    }
   ],
   "source": [
    "dataset = joined_slices\n",
    "dataset"
   ]
  },
  {
   "cell_type": "code",
   "execution_count": 14,
   "metadata": {},
   "outputs": [],
   "source": [
    "inputs = {\n",
    "  'user_id': tf.keras.Input(shape=(), dtype='string'),\n",
    "  'book_id': tf.keras.Input(shape=(), dtype='uint32'),\n",
    "  'rating': tf.keras.Input(shape=(), dtype='uint8'),\n",
    "  'review_text': tf.keras.Input(shape=(), dtype='string'),\n",
    "  'title': tf.keras.Input(shape=(), dtype='string'),\n",
    "  'description': tf.keras.Input(shape=(), dtype='string'),\n",
    "  'author_id': tf.keras.Input(shape=(), dtype='int64'),\n",
    "}"
   ]
  },
  {
   "cell_type": "markdown",
   "metadata": {},
   "source": [
    "Normalize Ratings"
   ]
  },
  {
   "cell_type": "code",
   "execution_count": 15,
   "metadata": {},
   "outputs": [],
   "source": [
    "rating_normalization = tf.keras.layers.Normalization(name=\"rating_normalization\")\n",
    "rating_normalization.adapt(df_simplified['rating'])"
   ]
  },
  {
   "cell_type": "markdown",
   "metadata": {},
   "source": [
    "Encode integer IDs using IntegerLookup"
   ]
  },
  {
   "cell_type": "code",
   "execution_count": 16,
   "metadata": {},
   "outputs": [],
   "source": [
    "book_id_lookup_layer = tf.keras.layers.IntegerLookup(name=\"book_id_lookup\")\n",
    "book_id_lookup_layer.adapt(df_simplified['book_id'])"
   ]
  },
  {
   "cell_type": "code",
   "execution_count": 17,
   "metadata": {},
   "outputs": [],
   "source": [
    "author_id_lookup_layer = tf.keras.layers.IntegerLookup(name=\"author_id_lookup\")\n",
    "author_id_lookup_layer.adapt(df_simplified['author_id'])"
   ]
  },
  {
   "cell_type": "markdown",
   "metadata": {},
   "source": [
    "Encode string data into integers"
   ]
  },
  {
   "cell_type": "code",
   "execution_count": 18,
   "metadata": {},
   "outputs": [],
   "source": [
    "user_id_lookup_layer = tf.keras.layers.StringLookup(name=\"user_id_lookup\")\n",
    "user_id_lookup_layer.adapt(df_simplified['user_id'])"
   ]
  },
  {
   "cell_type": "markdown",
   "metadata": {},
   "source": [
    "unknown words:"
   ]
  },
  {
   "cell_type": "code",
   "execution_count": 19,
   "metadata": {},
   "outputs": [
    {
     "name": "stdout",
     "output_type": "stream",
     "text": [
      "Encoded text:\n",
      " [0]\n"
     ]
    }
   ],
   "source": [
    "# Try out the layer\n",
    "print(\n",
    "    \"Encoded text:\\n\", user_id_lookup_layer([\"The Brain is deeper than the sea\"]).numpy(),\n",
    ")"
   ]
  },
  {
   "cell_type": "markdown",
   "metadata": {},
   "source": [
    "known \"word\" aka user-id string"
   ]
  },
  {
   "cell_type": "code",
   "execution_count": 20,
   "metadata": {},
   "outputs": [
    {
     "name": "stdout",
     "output_type": "stream",
     "text": [
      "Encoded text:\n",
      " [963]\n"
     ]
    }
   ],
   "source": [
    "# Try out the layer\n",
    "print(\n",
    "    \"Encoded text:\\n\", user_id_lookup_layer([\"8842281e1d1347389f2ab93d60773d4d\"]).numpy(),\n",
    ")"
   ]
  },
  {
   "cell_type": "code",
   "execution_count": 21,
   "metadata": {},
   "outputs": [],
   "source": [
    "title_lookup_layer = tf.keras.layers.StringLookup(name=\"title_lookup\")\n",
    "title_lookup_layer.adapt(df_simplified['title'])"
   ]
  },
  {
   "cell_type": "markdown",
   "metadata": {},
   "source": [
    "Embedding larger String data"
   ]
  },
  {
   "cell_type": "code",
   "execution_count": 22,
   "metadata": {},
   "outputs": [],
   "source": [
    "review_text_vectorization = tf.keras.layers.TextVectorization(name=\"review_text_vectorization\")\n",
    "review_text_vectorization.adapt(df_simplified['review_text'])"
   ]
  },
  {
   "cell_type": "code",
   "execution_count": 23,
   "metadata": {},
   "outputs": [],
   "source": [
    "description_vectorization = tf.keras.layers.TextVectorization(name=\"description_vectorization\")\n",
    "description_vectorization.adapt(df_simplified['description'])"
   ]
  },
  {
   "cell_type": "code",
   "execution_count": 24,
   "metadata": {},
   "outputs": [
    {
     "name": "stdout",
     "output_type": "stream",
     "text": [
      "Encoded text:\n",
      " [[   2 2631    8  428   67    2 1251]]\n"
     ]
    }
   ],
   "source": [
    "# Try out the layer\n",
    "print(\n",
    "    \"Encoded text:\\n\", description_vectorization([\"The Brain is deeper than the sea\"]).numpy(),\n",
    ")"
   ]
  },
  {
   "cell_type": "code",
   "execution_count": 25,
   "metadata": {},
   "outputs": [
    {
     "data": {
      "text/plain": [
       "{'user_id': <KerasTensor: shape=(None,) dtype=string (created by layer 'input_1')>,\n",
       " 'book_id': <KerasTensor: shape=(None,) dtype=uint32 (created by layer 'input_2')>,\n",
       " 'rating': <KerasTensor: shape=(None,) dtype=uint8 (created by layer 'input_3')>,\n",
       " 'review_text': <KerasTensor: shape=(None,) dtype=string (created by layer 'input_4')>,\n",
       " 'title': <KerasTensor: shape=(None,) dtype=string (created by layer 'input_5')>,\n",
       " 'description': <KerasTensor: shape=(None,) dtype=string (created by layer 'input_6')>,\n",
       " 'author_id': <KerasTensor: shape=(None,) dtype=int64 (created by layer 'input_7')>}"
      ]
     },
     "execution_count": 25,
     "metadata": {},
     "output_type": "execute_result"
    }
   ],
   "source": [
    "inputs"
   ]
  },
  {
   "cell_type": "code",
   "execution_count": 26,
   "metadata": {},
   "outputs": [],
   "source": [
    "outputs = {\n",
    "  'user_id': user_id_lookup_layer(inputs['user_id']),\n",
    "  'book_id': book_id_lookup_layer(inputs['book_id']),\n",
    "  'rating': rating_normalization(inputs['rating']),\n",
    "  'review_text': review_text_vectorization(inputs['review_text']),\n",
    "  'title': title_lookup_layer(inputs['title']),\n",
    "  'description': description_vectorization(inputs['description']),\n",
    "  'author_id': author_id_lookup_layer(inputs['author_id']),\n",
    "}"
   ]
  },
  {
   "cell_type": "code",
   "execution_count": 27,
   "metadata": {},
   "outputs": [
    {
     "data": {
      "text/plain": [
       "{'user_id': <KerasTensor: shape=(None,) dtype=int64 (created by layer 'user_id_lookup')>,\n",
       " 'book_id': <KerasTensor: shape=(None,) dtype=int64 (created by layer 'book_id_lookup')>,\n",
       " 'rating': <KerasTensor: shape=(1, None) dtype=float32 (created by layer 'rating_normalization')>,\n",
       " 'review_text': <KerasTensor: shape=(None, None) dtype=int64 (created by layer 'review_text_vectorization')>,\n",
       " 'title': <KerasTensor: shape=(None,) dtype=int64 (created by layer 'title_lookup')>,\n",
       " 'description': <KerasTensor: shape=(None, None) dtype=int64 (created by layer 'description_vectorization')>,\n",
       " 'author_id': <KerasTensor: shape=(None,) dtype=int64 (created by layer 'author_id_lookup')>}"
      ]
     },
     "execution_count": 27,
     "metadata": {},
     "output_type": "execute_result"
    }
   ],
   "source": [
    "outputs"
   ]
  },
  {
   "cell_type": "code",
   "execution_count": 28,
   "metadata": {},
   "outputs": [
    {
     "data": {
      "text/plain": [
       "<keras.engine.functional.Functional at 0x28d4cc07fd0>"
      ]
     },
     "execution_count": 28,
     "metadata": {},
     "output_type": "execute_result"
    }
   ],
   "source": [
    "preprocessing_model = tf.keras.Model(inputs, outputs)\n",
    "preprocessing_model"
   ]
  },
  {
   "cell_type": "code",
   "execution_count": 29,
   "metadata": {},
   "outputs": [
    {
     "data": {
      "text/plain": [
       "({'user_id': b'8842281e1d1347389f2ab93d60773d4d',\n",
       "  'book_id': 8694005,\n",
       "  'rating': 3,\n",
       "  'review_text': b'The Name of the Rose is a thrilling Dan Brown-esque murder mystery set in a 14th century Italian monastery. It really is two stories - the story of the murder mystery, and that of political climate in Italy at the time. And of course, they nicely interweave throughout.   The history the book brought was one of my favorite parts. I learned about how the church controlled so much of the world, how even then it was already starting to fall from power, why saints are so prevalent in Italy, and more. I learned about Franciscans and Dolcians and minorites, and poverity and false monks. Poverty was a big theme, which came through on several levels: rebellions by poor people and religious leaders stepping in to lead the masses, and also an a debate about the role the Church should have in society.   I loved brother William of baskerville. He was Sherlock Holmes-esque (so that can\\'t be a coincidence he\\'s from Baskerville right?) in his deductive reasoning and approach. I think my favorite moment of his was when he had no time left to solve the crime he said \"when a man has little time, he must take care to maintain his calm. We must act as if we had eternity before us.\"   I took one star off because I often found myself skipping large sections that went into flowery details of something (often history) that just seemed irrelevant.   The book was also a lot about change. The monks were so set in their ways and in their dogma that you could see how it likely took generations before a viewpoint could really change. The focus on humor for instance and the dogmatic viewpoint of Jorge was in my opinion simply nothing more than fear of change. We all know that the introduction of humor and the divine comedy didn\\'t ruin the world.   The library was one of the greatest in the world at the time. I would love to have seen it. Yet it was almost impossible to access, and that very lack of accessibility is what ultimately led to it\\'s destruction. Seems like the message is that knowledge should be open and free and and keeping it locked up can be more dangerous than not.',\n",
       "  'title': b'The Name of the Rose',\n",
       "  'description': b'The year is 1327. Franciscans in a wealthy Italian abbey are suspected of heresy, and Brother William of Baskerville arrives to investigate. When his delicate mission is suddenly overshadowed by seven bizarre deaths, Brother William turns detective. His tools are the logic of Aristotle, the theology of Aquinas, the empirical insights of Roger Bacon - all sharpened to a glistening edge by wry humor and a ferocious curiosity. He collects evidence, deciphers secret symbols and coded manuscripts, and digs into the eerie labyrinth of the abbey, where \"the most interesting things happen at night.\"',\n",
       "  'author_id': 1730},\n",
       " b'0e317947e1fd341f573192111bb2921d')"
      ]
     },
     "execution_count": 29,
     "metadata": {},
     "output_type": "execute_result"
    }
   ],
   "source": [
    "next(dataset.take(1).as_numpy_iterator())"
   ]
  },
  {
   "cell_type": "code",
   "execution_count": 30,
   "metadata": {},
   "outputs": [
    {
     "name": "stdout",
     "output_type": "stream",
     "text": [
      "WARNING:tensorflow:Model was constructed with shape (None,) for input KerasTensor(type_spec=TensorSpec(shape=(None,), dtype=tf.int64, name='input_7'), name='input_7', description=\"created by layer 'input_7'\"), but it was called on an input with incompatible shape ().\n",
      "WARNING:tensorflow:Model was constructed with shape (None,) for input KerasTensor(type_spec=TensorSpec(shape=(None,), dtype=tf.uint32, name='input_2'), name='input_2', description=\"created by layer 'input_2'\"), but it was called on an input with incompatible shape ().\n",
      "WARNING:tensorflow:Model was constructed with shape (None,) for input KerasTensor(type_spec=TensorSpec(shape=(None,), dtype=tf.string, name='input_6'), name='input_6', description=\"created by layer 'input_6'\"), but it was called on an input with incompatible shape ().\n",
      "WARNING:tensorflow:Model was constructed with shape (None,) for input KerasTensor(type_spec=TensorSpec(shape=(None,), dtype=tf.uint8, name='input_3'), name='input_3', description=\"created by layer 'input_3'\"), but it was called on an input with incompatible shape ().\n",
      "WARNING:tensorflow:Model was constructed with shape (None,) for input KerasTensor(type_spec=TensorSpec(shape=(None,), dtype=tf.string, name='input_4'), name='input_4', description=\"created by layer 'input_4'\"), but it was called on an input with incompatible shape ().\n",
      "WARNING:tensorflow:Model was constructed with shape (None,) for input KerasTensor(type_spec=TensorSpec(shape=(None,), dtype=tf.string, name='input_5'), name='input_5', description=\"created by layer 'input_5'\"), but it was called on an input with incompatible shape ().\n",
      "WARNING:tensorflow:Model was constructed with shape (None,) for input KerasTensor(type_spec=TensorSpec(shape=(None,), dtype=tf.string, name='input_1'), name='input_1', description=\"created by layer 'input_1'\"), but it was called on an input with incompatible shape ().\n"
     ]
    },
    {
     "data": {
      "text/plain": [
       "({'user_id': 963,\n",
       "  'book_id': 7589,\n",
       "  'rating': array([[-0.5969872]], dtype=float32),\n",
       "  'review_text': array([    2,   432,     7,     2,  1539,     8,     4,  1004,   470,\n",
       "         38918,   135,    67,   249,     9,     4,  9002,  1389,  2696,\n",
       "         11561,    11,    48,     8,   109,   187,     2,    26,     7,\n",
       "             2,   135,    67,     3,    12,     7,  1052, 11907,     9,\n",
       "          3574,    36,     2,    71,     3,     7,   350,    55,  1238,\n",
       "         16531,   377,     2,   399,     2,    14,   774,    13,    24,\n",
       "             7,    35,   304,   418,     6,  1081,    39,    68,     2,\n",
       "          1754,  6327,    30,    70,     7,     2,   195,    68,    84,\n",
       "           114,    11,    13,   415,  1020,     5,   804,    40,   948,\n",
       "           151, 24609,    29,    30,  7092,     9,  3574,     3,    38,\n",
       "             6,  1081,    39, 72221,     3, 76181,     3, 60908,     3,\n",
       "         55188,     3,  2235,  6442,  4549,    13,     4,   318,  1261,\n",
       "            79,   378,   119,    22,   347,  2382, 32019,    46,   911,\n",
       "           121,     3,  1654,  5504, 11355,     9,     5,   667,     2,\n",
       "         13511,     3,    86,    34,     4,  6971,    39,     2,  1068,\n",
       "             2,  1754,   264,    28,     9,   915,     6,   127,   596,\n",
       "          2548,     7,  8966,    31,    13,   815, 35782,    30,    12,\n",
       "           159,    27,     4,  4008,   241,    40,  8966,   184,     9,\n",
       "            25,  8118,  3267,     3,  2709,     6,   100,    35,   304,\n",
       "           722,     7,    25,    13,    56,    31,    57,    78,    71,\n",
       "           274,     5,   503,     2,   200,    31,   325,    56,     4,\n",
       "           162,    50,   101,    71,    31,   336,   221,   396,     5,\n",
       "          4213,    25,  3891,   104,   336,  1323,    18,    60,   104,\n",
       "            57, 16803,   156,   236,     6,   316,    24,   577,   168,\n",
       "            80,     6,   455,   123,   312,  4280,  1203,  1996,    12,\n",
       "           425,    73, 10360,   509,     7,   150,   455,   399,    12,\n",
       "            44,   346,  6674,     2,    14,    13,    86,     4,   136,\n",
       "            39,   593,     2,  6442,    66,    30,   249,     9,    77,\n",
       "           679,     3,     9,    77, 27635,    12,    23,   105,   115,\n",
       "            68,    11,  1328,   316,  4152,   156,     4,  3902,   105,\n",
       "            48,   593,     2,  1083,    22,   681,    16,  2532,     3,\n",
       "             2, 22406,  3902,     7, 35208,    13,     9,    35,   569,\n",
       "           676,   301,    38,    87,   937,     7,   593,   104,    37,\n",
       "            98,    12,     2,  1562,     7,   681,     3,     2,  6721,\n",
       "          2483,    90,  2491,     2,   195,     2,   745,    13,    24,\n",
       "             7,     2,  2725,     9,     2,   195,    36,     2,    71,\n",
       "             6,    62,    76,     5,    28,   589,    11,   273,    11,\n",
       "            13,   283,  1506,     5,  3842,     3,    12,    61,  1011,\n",
       "             7, 86696,     8,    41,  1236,  1466,     5,    52,  4589,\n",
       "           254,    42,     2,  1882,     8,    12,  1209,   264,    27,\n",
       "           994,     3,   519,     3,     3,   981,    11,  2599,    51,\n",
       "            85,    27,    38,   822,    87,    21], dtype=int64),\n",
       "  'title': 557,\n",
       "  'description': array([    2,   335,     8, 16232, 21983,     7,     3,   624,  1979,\n",
       "          4437,    28,  1818,     5, 17750,     4,   309,  1737,     5,\n",
       "          3136,   718,     6,   450,    23,    10,  3916,   644,     8,\n",
       "           389, 12636,    27,  1134,   693,  1008,   309,  1737,   206,\n",
       "            92,    10, 10003,    28,     2,  5873,     5, 24850,     2,\n",
       "         15517,     5, 20797,     2, 24279,  7564,     5,  1846, 17035,\n",
       "            38, 10605,     6,     3, 18927,  1098,    27,  7890,  1790,\n",
       "             4,     3, 10762,  2783,    17, 12828,   289, 19120,   108,\n",
       "          1133,     4,  8933, 11028,     4,  1623,    33,     2,   938,\n",
       "          1573,     5,     2,  4437,   101,     2,    55,  4543,   222,\n",
       "          1403,    26,   128], dtype=int64),\n",
       "  'author_id': 301},\n",
       " b'0e317947e1fd341f573192111bb2921d')"
      ]
     },
     "execution_count": 30,
     "metadata": {},
     "output_type": "execute_result"
    }
   ],
   "source": [
    "# Apply the preprocessing in tf.data.Dataset.map.\n",
    "dataset_preprocessed = dataset.map(lambda x, y: (preprocessing_model(x), y),\n",
    "                      num_parallel_calls=tf.data.AUTOTUNE)\n",
    "# Display a preprocessed input sample.\n",
    "next(dataset_preprocessed.take(1).as_numpy_iterator())"
   ]
  },
  {
   "cell_type": "markdown",
   "metadata": {},
   "source": [
    "## Dataset wird jetzt erfolgreich encodiert"
   ]
  },
  {
   "cell_type": "markdown",
   "metadata": {},
   "source": [
    "Rating ist eigentlich die einzige numerische, \"kontinuierliche\" Spalte... hm."
   ]
  },
  {
   "cell_type": "markdown",
   "metadata": {},
   "source": [
    "### The Wide Model: Linear Model with Crossed Feature Columns\n",
    "The wide model is a linear model with a wide set of sparse and crossed feature columns:"
   ]
  },
  {
   "cell_type": "markdown",
   "metadata": {},
   "source": [
    "### Crossed Column is not implemented in Keras"
   ]
  },
  {
   "cell_type": "code",
   "execution_count": 31,
   "metadata": {},
   "outputs": [
    {
     "data": {
      "text/plain": [
       "[<keras.layers.preprocessing.string_lookup.StringLookup at 0x28d4a5de070>,\n",
       " <keras.layers.preprocessing.integer_lookup.IntegerLookup at 0x28d4946e3d0>,\n",
       " <keras.layers.preprocessing.integer_lookup.IntegerLookup at 0x28d4a5b81f0>,\n",
       " <keras.layers.preprocessing.normalization.Normalization at 0x28d470ecb80>]"
      ]
     },
     "execution_count": 31,
     "metadata": {},
     "output_type": "execute_result"
    }
   ],
   "source": [
    "linear_columns = [\n",
    "    user_id_lookup_layer,\n",
    "    book_id_lookup_layer,\n",
    "    author_id_lookup_layer,\n",
    "    rating_normalization,\n",
    "]\n",
    "# linear_columns = [\n",
    "#     user_id_lookup_layer(inputs['user_id']),\n",
    "#     book_id_lookup_layer(inputs['book_id']),\n",
    "#     author_id_lookup_layer(inputs['author_id']),\n",
    "#     rating_normalization(inputs['rating']),\n",
    "# ]\n",
    "# linear_columns = [\n",
    "#     outputs[\"user_id\"],\n",
    "#     outputs[\"book_id\"],\n",
    "#     outputs[\"author_id\"],\n",
    "#     outputs[\"rating\"],\n",
    "# ]\n",
    "linear_columns"
   ]
  },
  {
   "cell_type": "markdown",
   "metadata": {},
   "source": [
    "Wide models with crossed feature columns can memorize sparse interactions between features effectively. That being said, one limitation of crossed feature columns is that they do not generalize to feature combinations that have not appeared in the training data. Let's add a deep model with embeddings to fix that."
   ]
  },
  {
   "cell_type": "markdown",
   "metadata": {},
   "source": [
    "### The Deep Model: Neural Network with Embeddings\n",
    "The deep model is a feed-forward neural network, as shown in the previous figure. Each of the sparse, high-dimensional categorical features are first converted into a low-dimensional and dense real-valued vector, often referred to as an embedding vector. These low-dimensional dense embedding vectors are concatenated with the continuous features, and then fed into the hidden layers of a neural network in the forward pass. The embedding values are initialized randomly, and are trained along with all other model parameters to minimize the training loss. If you're interested in learning more about embeddings, check out the TensorFlow tutorial on Vector Representations of Words, or Word Embedding on Wikipedia.\n",
    "\n",
    "Another way to represent categorical columns to feed into a neural network is via a multi-hot representation. This is often appropriate for categorical columns with only a few possible values. E.g. for the gender column, \"Male\" can be represented as [1, 0] and \"Female\" as [0, 1]. This is a fixed representation, whereas embeddings are more flexible and calculated at training time.\n",
    "\n",
    "We'll configure the embeddings for the categorical columns using embedding_column, and concatenate them with the continuous columns. We also use indicator_column to create multi-hot representation of some categorical columns."
   ]
  },
  {
   "cell_type": "code",
   "execution_count": 32,
   "metadata": {},
   "outputs": [],
   "source": [
    "book_id_embedding = tf.keras.layers.Embedding(1,32)\n",
    "rating_embedding = tf.keras.layers.Embedding(1,32)\n"
   ]
  },
  {
   "cell_type": "markdown",
   "metadata": {},
   "source": [
    "ob das Rating Embedding so sinn ergibt.. naja.."
   ]
  },
  {
   "cell_type": "code",
   "execution_count": 33,
   "metadata": {},
   "outputs": [
    {
     "data": {
      "text/plain": [
       "[<keras.layers.preprocessing.text_vectorization.TextVectorization at 0x28d4a6f8bb0>,\n",
       " <keras.layers.preprocessing.text_vectorization.TextVectorization at 0x28d4cc55c10>,\n",
       " <keras.layers.preprocessing.string_lookup.StringLookup at 0x28d4a6423d0>]"
      ]
     },
     "execution_count": 33,
     "metadata": {},
     "output_type": "execute_result"
    }
   ],
   "source": [
    "# deep_columns = [\n",
    "#     outputs[\"review_text\"],\n",
    "#     outputs[\"description\"],\n",
    "#     outputs[\"title\"],\n",
    "#     book_id_embedding(book_id_lookup_layer(outputs[\"book_id\"])),\n",
    "#     rating_embedding(rating_normalization(outputs[\"rating\"])),\n",
    "# ]\n",
    "# deep_columns = [\n",
    "#     review_text_vectorization(inputs['review_text']),\n",
    "#     description_vectorization(inputs['description']),\n",
    "#     title_lookup_layer(inputs['title']),\n",
    "#     book_id_embedding(book_id_lookup_layer(outputs[\"book_id\"])),\n",
    "#     rating_embedding(rating_normalization(outputs[\"rating\"])),\n",
    "# ]\n",
    "deep_columns = [\n",
    "    review_text_vectorization,\n",
    "    description_vectorization,\n",
    "    title_lookup_layer,\n",
    "    # book_id_embedding(book_id_lookup_layer(outputs[\"book_id\"])),\n",
    "    # rating_embedding(rating_normalization(outputs[\"rating\"])),\n",
    "]\n",
    "deep_columns"
   ]
  },
  {
   "cell_type": "markdown",
   "metadata": {},
   "source": [
    "log_2(n) = 13, k\\*4sqrt(n) = k\\*10  with k <= 10 --> choose dim = 32 for now"
   ]
  },
  {
   "cell_type": "markdown",
   "metadata": {},
   "source": [
    "The higher the dimension of the embedding is, the more degrees of freedom the model will have to learn the representations of the features. For simplicity, we set the dimension to 8 for all feature columns here. Empirically, a more informed decision for the number of dimensions is to start with a value on the order of  log2(n)  or  kn√4 , where  n  is the number of unique features in a feature column and  k  is a small constant (usually smaller than 10).\n",
    "\n",
    "Through dense embeddings, deep models can generalize better and make predictions on feature pairs that were previously unseen in the training data. However, it is difficult to learn effective low-dimensional representations for feature columns when the underlying interaction matrix between two feature columns is sparse and high-rank. In such cases, the interaction between most feature pairs should be zero except a few, but dense embeddings will lead to nonzero predictions for all feature pairs, and thus can over-generalize. On the other hand, linear models with crossed features can memorize these “exception rules” effectively with fewer model parameters.\n",
    "\n",
    "Now, let's see how to jointly train wide and deep models and allow them to complement each other’s strengths and weaknesses."
   ]
  },
  {
   "cell_type": "markdown",
   "metadata": {},
   "source": [
    "### Combining Wide and Deep Models into One\n",
    "The wide models and deep models are combined by summing up their final output log odds as the prediction, then feeding the prediction to a logistic loss function. All the graph definition and variable allocations have already been handled for you under the hood, so you simply need to create a DNNLinearCombinedClassifier:"
   ]
  },
  {
   "cell_type": "code",
   "execution_count": null,
   "metadata": {},
   "outputs": [],
   "source": [
    "import tempfile\n",
    "model_dir = tempfile.mkdtemp()\n",
    "m = tf.estimator.DNNLinearCombinedClassifier(\n",
    "    model_dir=model_dir,\n",
    "    linear_feature_columns=crossed_columns,\n",
    "    dnn_feature_columns=deep_columns,\n",
    "    dnn_hidden_units=[100, 50])"
   ]
  },
  {
   "cell_type": "code",
   "execution_count": 34,
   "metadata": {},
   "outputs": [],
   "source": [
    "linear_model = tf.keras.experimental.LinearModel()\n",
    "dnn_model = tf.keras.Sequential([tf.keras.layers.Dense(units=64),\n",
    "                             tf.keras.layers.Dense(units=1)])\n",
    "combined_model = tf.keras.experimental.WideDeepModel(linear_model, dnn_model)\n",
    "combined_model.compile(['sgd', 'adam'], 'mse', ['mse'])"
   ]
  },
  {
   "cell_type": "code",
   "execution_count": 35,
   "metadata": {},
   "outputs": [],
   "source": [
    "EPOCHS = 32"
   ]
  },
  {
   "cell_type": "code",
   "execution_count": 36,
   "metadata": {},
   "outputs": [
    {
     "data": {
      "image/png": "[encoded data removed]",
      "text/plain": [
       "<IPython.core.display.Image object>"
      ]
     },
     "execution_count": 36,
     "metadata": {},
     "output_type": "execute_result"
    }
   ],
   "source": [
    "tf.keras.utils.plot_model(preprocessing_model)"
   ]
  },
  {
   "cell_type": "code",
   "execution_count": 38,
   "metadata": {},
   "outputs": [
    {
     "ename": "TypeError",
     "evalue": "build() missing 1 required positional argument: 'input_shape'",
     "output_type": "error",
     "traceback": [
      "\u001b[1;31m---------------------------------------------------------------------------\u001b[0m",
      "\u001b[1;31mTypeError\u001b[0m                                 Traceback (most recent call last)",
      "\u001b[1;32m~\\AppData\\Local\\Temp/ipykernel_14196/1038138474.py\u001b[0m in \u001b[0;36m<module>\u001b[1;34m\u001b[0m\n\u001b[1;32m----> 1\u001b[1;33m \u001b[0mcombined_model\u001b[0m\u001b[1;33m.\u001b[0m\u001b[0mbuild\u001b[0m\u001b[1;33m(\u001b[0m\u001b[1;33m)\u001b[0m\u001b[1;33m\u001b[0m\u001b[1;33m\u001b[0m\u001b[0m\n\u001b[0m",
      "\u001b[1;31mTypeError\u001b[0m: build() missing 1 required positional argument: 'input_shape'"
     ]
    }
   ],
   "source": [
    "combined_model()"
   ]
  },
  {
   "cell_type": "code",
   "execution_count": 37,
   "metadata": {},
   "outputs": [
    {
     "ename": "ValueError",
     "evalue": "This model has not yet been built. Build the model first by calling `build()` or by calling the model on a batch of data.",
     "output_type": "error",
     "traceback": [
      "\u001b[1;31m---------------------------------------------------------------------------\u001b[0m",
      "\u001b[1;31mValueError\u001b[0m                                Traceback (most recent call last)",
      "\u001b[1;32m~\\AppData\\Local\\Temp/ipykernel_14196/2338543439.py\u001b[0m in \u001b[0;36m<module>\u001b[1;34m\u001b[0m\n\u001b[1;32m----> 1\u001b[1;33m \u001b[0mtf\u001b[0m\u001b[1;33m.\u001b[0m\u001b[0mkeras\u001b[0m\u001b[1;33m.\u001b[0m\u001b[0mutils\u001b[0m\u001b[1;33m.\u001b[0m\u001b[0mplot_model\u001b[0m\u001b[1;33m(\u001b[0m\u001b[0mcombined_model\u001b[0m\u001b[1;33m)\u001b[0m\u001b[1;33m\u001b[0m\u001b[1;33m\u001b[0m\u001b[0m\n\u001b[0m",
      "\u001b[1;32m~\\anaconda3\\envs\\ds-project\\lib\\site-packages\\keras\\utils\\vis_utils.py\u001b[0m in \u001b[0;36mplot_model\u001b[1;34m(model, to_file, show_shapes, show_dtype, show_layer_names, rankdir, expand_nested, dpi, layer_range, show_layer_activations)\u001b[0m\n\u001b[0;32m    411\u001b[0m \u001b[1;33m\u001b[0m\u001b[0m\n\u001b[0;32m    412\u001b[0m   \u001b[1;32mif\u001b[0m \u001b[1;32mnot\u001b[0m \u001b[0mmodel\u001b[0m\u001b[1;33m.\u001b[0m\u001b[0mbuilt\u001b[0m\u001b[1;33m:\u001b[0m\u001b[1;33m\u001b[0m\u001b[1;33m\u001b[0m\u001b[0m\n\u001b[1;32m--> 413\u001b[1;33m     raise ValueError('This model has not yet been built. '\n\u001b[0m\u001b[0;32m    414\u001b[0m                      \u001b[1;34m'Build the model first by calling `build()` or by calling '\u001b[0m\u001b[1;33m\u001b[0m\u001b[1;33m\u001b[0m\u001b[0m\n\u001b[0;32m    415\u001b[0m                      'the model on a batch of data.')\n",
      "\u001b[1;31mValueError\u001b[0m: This model has not yet been built. Build the model first by calling `build()` or by calling the model on a batch of data."
     ]
    }
   ],
   "source": [
    "tf.keras.utils.plot_model(combined_model)"
   ]
  },
  {
   "cell_type": "code",
   "execution_count": 38,
   "metadata": {},
   "outputs": [
    {
     "name": "stdout",
     "output_type": "stream",
     "text": [
      "INFO:tensorflow:Enabled dumping callback in thread MainThread (dump root: /tmp/tfdbg2_logdir, tensor debug mode: FULL_HEALTH)\n"
     ]
    },
    {
     "data": {
      "text/plain": [
       "<tensorflow.python.debug.lib.debug_events_writer.DebugEventsWriter at 0x1b45fd90cd0>"
      ]
     },
     "execution_count": 38,
     "metadata": {},
     "output_type": "execute_result"
    }
   ],
   "source": [
    "tf.debugging.experimental.enable_dump_debug_info(\n",
    "    \"/tmp/tfdbg2_logdir\",\n",
    "    tensor_debug_mode=\"FULL_HEALTH\",\n",
    "    circular_buffer_size=-1)"
   ]
  },
  {
   "cell_type": "code",
   "execution_count": 67,
   "metadata": {},
   "outputs": [
    {
     "data": {
      "text/plain": [
       "<TensorSliceDataset shapes: ({user_id: (), book_id: (), rating: (), review_text: (), title: (), description: (), author_id: ()}, ()), types: ({user_id: tf.string, book_id: tf.uint32, rating: tf.uint8, review_text: tf.string, title: tf.string, description: tf.string, author_id: tf.int64}, tf.string)>"
      ]
     },
     "execution_count": 67,
     "metadata": {},
     "output_type": "execute_result"
    }
   ],
   "source": [
    "dataset"
   ]
  },
  {
   "cell_type": "code",
   "execution_count": 40,
   "metadata": {},
   "outputs": [
    {
     "ename": "ValueError",
     "evalue": "This model has not yet been built. Build the model first by calling `build()` or by calling the model on a batch of data.",
     "output_type": "error",
     "traceback": [
      "\u001b[1;31m---------------------------------------------------------------------------\u001b[0m",
      "\u001b[1;31mValueError\u001b[0m                                Traceback (most recent call last)",
      "\u001b[1;32m~\\AppData\\Local\\Temp/ipykernel_19288/175816803.py\u001b[0m in \u001b[0;36m<module>\u001b[1;34m\u001b[0m\n\u001b[1;32m----> 1\u001b[1;33m \u001b[0mcombined_model\u001b[0m\u001b[1;33m.\u001b[0m\u001b[0msummary\u001b[0m\u001b[1;33m(\u001b[0m\u001b[0mexpand_nested\u001b[0m\u001b[1;33m=\u001b[0m\u001b[1;32mTrue\u001b[0m\u001b[1;33m)\u001b[0m\u001b[1;33m\u001b[0m\u001b[1;33m\u001b[0m\u001b[0m\n\u001b[0m",
      "\u001b[1;32m~\\anaconda3\\envs\\ds-project\\lib\\site-packages\\keras\\engine\\training.py\u001b[0m in \u001b[0;36msummary\u001b[1;34m(self, line_length, positions, print_fn, expand_nested)\u001b[0m\n\u001b[0;32m   2577\u001b[0m     \"\"\"\n\u001b[0;32m   2578\u001b[0m     \u001b[1;32mif\u001b[0m \u001b[1;32mnot\u001b[0m \u001b[0mself\u001b[0m\u001b[1;33m.\u001b[0m\u001b[0mbuilt\u001b[0m\u001b[1;33m:\u001b[0m\u001b[1;33m\u001b[0m\u001b[1;33m\u001b[0m\u001b[0m\n\u001b[1;32m-> 2579\u001b[1;33m       raise ValueError(\n\u001b[0m\u001b[0;32m   2580\u001b[0m           \u001b[1;34m'This model has not yet been built. '\u001b[0m\u001b[1;33m\u001b[0m\u001b[1;33m\u001b[0m\u001b[0m\n\u001b[0;32m   2581\u001b[0m           \u001b[1;34m'Build the model first by calling `build()` or by calling '\u001b[0m\u001b[1;33m\u001b[0m\u001b[1;33m\u001b[0m\u001b[0m\n",
      "\u001b[1;31mValueError\u001b[0m: This model has not yet been built. Build the model first by calling `build()` or by calling the model on a batch of data."
     ]
    }
   ],
   "source": [
    "combined_model.summary(expand_nested=True)"
   ]
  },
  {
   "cell_type": "markdown",
   "metadata": {},
   "source": [
    "### Linear Data Model"
   ]
  },
  {
   "cell_type": "markdown",
   "metadata": {},
   "source": [
    "#### Linear Inputs"
   ]
  },
  {
   "cell_type": "code",
   "execution_count": 39,
   "metadata": {},
   "outputs": [
    {
     "data": {
      "text/plain": [
       "{'user_id': <KerasTensor: shape=(None,) dtype=string (created by layer 'user_id_input')>,\n",
       " 'book_id': <KerasTensor: shape=(None,) dtype=uint32 (created by layer 'book_id_input')>,\n",
       " 'rating': <KerasTensor: shape=(None,) dtype=uint8 (created by layer 'rating_input')>,\n",
       " 'author_id': <KerasTensor: shape=(None,) dtype=int64 (created by layer 'author_id_input')>}"
      ]
     },
     "execution_count": 39,
     "metadata": {},
     "output_type": "execute_result"
    }
   ],
   "source": [
    "linear_inputs = {\n",
    "  'user_id': tf.keras.Input(shape=(), dtype='string', name=\"user_id_input\"),\n",
    "  'book_id': tf.keras.Input(shape=(), dtype='uint32', name=\"book_id_input\"),\n",
    "  'rating': tf.keras.Input(shape=(), dtype='uint8', name=\"rating_input\"),\n",
    "  'author_id': tf.keras.Input(shape=(), dtype='int64', name=\"author_id_input\"),\n",
    "}\n",
    "linear_inputs"
   ]
  },
  {
   "cell_type": "markdown",
   "metadata": {},
   "source": [
    "#### Linear Outputs"
   ]
  },
  {
   "cell_type": "code",
   "execution_count": 40,
   "metadata": {},
   "outputs": [
    {
     "data": {
      "text/plain": [
       "{'user_id': <KerasTensor: shape=(None,) dtype=int64 (created by layer 'user_id_lookup')>,\n",
       " 'book_id': <KerasTensor: shape=(None,) dtype=int64 (created by layer 'book_id_lookup')>,\n",
       " 'rating': <KerasTensor: shape=(1, None) dtype=float32 (created by layer 'rating_normalization')>,\n",
       " 'author_id': <KerasTensor: shape=(None,) dtype=int64 (created by layer 'author_id_lookup')>}"
      ]
     },
     "execution_count": 40,
     "metadata": {},
     "output_type": "execute_result"
    }
   ],
   "source": [
    "linear_outputs = {\n",
    "  'user_id': user_id_lookup_layer(linear_inputs['user_id']),\n",
    "  'book_id': book_id_lookup_layer(linear_inputs['book_id']),\n",
    "  'rating': rating_normalization(linear_inputs['rating']),\n",
    "  'author_id': author_id_lookup_layer(linear_inputs['author_id']),\n",
    "}\n",
    "linear_outputs"
   ]
  },
  {
   "cell_type": "markdown",
   "metadata": {},
   "source": [
    "#### Linear Model"
   ]
  },
  {
   "cell_type": "code",
   "execution_count": 41,
   "metadata": {},
   "outputs": [],
   "source": [
    "linear_input_model = tf.keras.Model(inputs=linear_inputs, outputs=linear_outputs)"
   ]
  },
  {
   "cell_type": "code",
   "execution_count": 42,
   "metadata": {},
   "outputs": [
    {
     "data": {
      "image/png": "[encoded data removed]",
      "text/plain": [
       "<IPython.core.display.Image object>"
      ]
     },
     "execution_count": 42,
     "metadata": {},
     "output_type": "execute_result"
    }
   ],
   "source": [
    "tf.keras.utils.plot_model(linear_input_model)"
   ]
  },
  {
   "cell_type": "markdown",
   "metadata": {},
   "source": [
    "### Deep Data Model"
   ]
  },
  {
   "cell_type": "markdown",
   "metadata": {},
   "source": [
    "#### Deep Inputs"
   ]
  },
  {
   "cell_type": "code",
   "execution_count": 43,
   "metadata": {},
   "outputs": [
    {
     "data": {
      "text/plain": [
       "{'review_text': <KerasTensor: shape=(None,) dtype=string (created by layer 'review_text_input')>,\n",
       " 'title': <KerasTensor: shape=(None,) dtype=string (created by layer 'title_input')>,\n",
       " 'description': <KerasTensor: shape=(None,) dtype=string (created by layer 'description_input')>}"
      ]
     },
     "execution_count": 43,
     "metadata": {},
     "output_type": "execute_result"
    }
   ],
   "source": [
    "deep_inputs = {\n",
    "  'review_text': tf.keras.Input(shape=(), dtype='string', name=\"review_text_input\"),\n",
    "  'title': tf.keras.Input(shape=(), dtype='string', name=\"title_input\"),\n",
    "  'description': tf.keras.Input(shape=(), dtype='string', name=\"description_input\"),\n",
    "}\n",
    "deep_inputs"
   ]
  },
  {
   "cell_type": "markdown",
   "metadata": {},
   "source": [
    "#### Deep Outputs"
   ]
  },
  {
   "cell_type": "code",
   "execution_count": 44,
   "metadata": {},
   "outputs": [
    {
     "data": {
      "text/plain": [
       "{'review_text': <KerasTensor: shape=(None, None) dtype=int64 (created by layer 'review_text_vectorization')>,\n",
       " 'title': <KerasTensor: shape=(None,) dtype=int64 (created by layer 'title_lookup')>,\n",
       " 'description': <KerasTensor: shape=(None, None) dtype=int64 (created by layer 'description_vectorization')>}"
      ]
     },
     "execution_count": 44,
     "metadata": {},
     "output_type": "execute_result"
    }
   ],
   "source": [
    "deep_outputs = {\n",
    "  'review_text': review_text_vectorization(deep_inputs['review_text']),\n",
    "  'title': title_lookup_layer(deep_inputs['title']),\n",
    "  'description': description_vectorization(deep_inputs['description']),\n",
    "}\n",
    "deep_outputs"
   ]
  },
  {
   "cell_type": "markdown",
   "metadata": {},
   "source": [
    "#### Deep Model"
   ]
  },
  {
   "cell_type": "code",
   "execution_count": 45,
   "metadata": {},
   "outputs": [],
   "source": [
    "deep_input_model = tf.keras.Model(inputs=deep_inputs, outputs=deep_outputs)"
   ]
  },
  {
   "cell_type": "code",
   "execution_count": 46,
   "metadata": {},
   "outputs": [
    {
     "data": {
      "image/png": "[encoded data removed]",
      "text/plain": [
       "<IPython.core.display.Image object>"
      ]
     },
     "execution_count": 46,
     "metadata": {},
     "output_type": "execute_result"
    }
   ],
   "source": [
    "tf.keras.utils.plot_model(deep_input_model)"
   ]
  },
  {
   "cell_type": "markdown",
   "metadata": {},
   "source": [
    "---"
   ]
  },
  {
   "cell_type": "code",
   "execution_count": 47,
   "metadata": {},
   "outputs": [
    {
     "name": "stdout",
     "output_type": "stream",
     "text": [
      "WARNING:tensorflow:Model was constructed with shape (None,) for input KerasTensor(type_spec=TensorSpec(shape=(None,), dtype=tf.string, name='description_input'), name='description_input', description=\"created by layer 'description_input'\"), but it was called on an input with incompatible shape ().\n",
      "WARNING:tensorflow:Model was constructed with shape (None,) for input KerasTensor(type_spec=TensorSpec(shape=(None,), dtype=tf.string, name='review_text_input'), name='review_text_input', description=\"created by layer 'review_text_input'\"), but it was called on an input with incompatible shape ().\n",
      "WARNING:tensorflow:Model was constructed with shape (None,) for input KerasTensor(type_spec=TensorSpec(shape=(None,), dtype=tf.string, name='title_input'), name='title_input', description=\"created by layer 'title_input'\"), but it was called on an input with incompatible shape ().\n"
     ]
    },
    {
     "name": "stderr",
     "output_type": "stream",
     "text": [
      "C:\\Users\\simon\\anaconda3\\envs\\ds-project\\lib\\site-packages\\keras\\engine\\functional.py:559: UserWarning: Input dict contained keys ['user_id', 'book_id', 'rating', 'author_id'] which did not match any model input. They will be ignored by the model.\n",
      "  inputs = self._flatten_to_reference_inputs(inputs)\n"
     ]
    },
    {
     "data": {
      "text/plain": [
       "({'review_text': array([    2,   432,     7,     2,  1539,     8,     4,  1004,   470,\n",
       "         38918,   135,    67,   249,     9,     4,  9002,  1389,  2696,\n",
       "         11561,    11,    48,     8,   109,   187,     2,    26,     7,\n",
       "             2,   135,    67,     3,    12,     7,  1052, 11907,     9,\n",
       "          3574,    36,     2,    71,     3,     7,   350,    55,  1238,\n",
       "         16531,   377,     2,   399,     2,    14,   774,    13,    24,\n",
       "             7,    35,   304,   418,     6,  1081,    39,    68,     2,\n",
       "          1754,  6327,    30,    70,     7,     2,   195,    68,    84,\n",
       "           114,    11,    13,   415,  1020,     5,   804,    40,   948,\n",
       "           151, 24609,    29,    30,  7092,     9,  3574,     3,    38,\n",
       "             6,  1081,    39, 72221,     3, 76181,     3, 60908,     3,\n",
       "         55188,     3,  2235,  6442,  4549,    13,     4,   318,  1261,\n",
       "            79,   378,   119,    22,   347,  2382, 32019,    46,   911,\n",
       "           121,     3,  1654,  5504, 11355,     9,     5,   667,     2,\n",
       "         13511,     3,    86,    34,     4,  6971,    39,     2,  1068,\n",
       "             2,  1754,   264,    28,     9,   915,     6,   127,   596,\n",
       "          2548,     7,  8966,    31,    13,   815, 35782,    30,    12,\n",
       "           159,    27,     4,  4008,   241,    40,  8966,   184,     9,\n",
       "            25,  8118,  3267,     3,  2709,     6,   100,    35,   304,\n",
       "           722,     7,    25,    13,    56,    31,    57,    78,    71,\n",
       "           274,     5,   503,     2,   200,    31,   325,    56,     4,\n",
       "           162,    50,   101,    71,    31,   336,   221,   396,     5,\n",
       "          4213,    25,  3891,   104,   336,  1323,    18,    60,   104,\n",
       "            57, 16803,   156,   236,     6,   316,    24,   577,   168,\n",
       "            80,     6,   455,   123,   312,  4280,  1203,  1996,    12,\n",
       "           425,    73, 10360,   509,     7,   150,   455,   399,    12,\n",
       "            44,   346,  6674,     2,    14,    13,    86,     4,   136,\n",
       "            39,   593,     2,  6442,    66,    30,   249,     9,    77,\n",
       "           679,     3,     9,    77, 27635,    12,    23,   105,   115,\n",
       "            68,    11,  1328,   316,  4152,   156,     4,  3902,   105,\n",
       "            48,   593,     2,  1083,    22,   681,    16,  2532,     3,\n",
       "             2, 22406,  3902,     7, 35208,    13,     9,    35,   569,\n",
       "           676,   301,    38,    87,   937,     7,   593,   104,    37,\n",
       "            98,    12,     2,  1562,     7,   681,     3,     2,  6721,\n",
       "          2483,    90,  2491,     2,   195,     2,   745,    13,    24,\n",
       "             7,     2,  2725,     9,     2,   195,    36,     2,    71,\n",
       "             6,    62,    76,     5,    28,   589,    11,   273,    11,\n",
       "            13,   283,  1506,     5,  3842,     3,    12,    61,  1011,\n",
       "             7, 86696,     8,    41,  1236,  1466,     5,    52,  4589,\n",
       "           254,    42,     2,  1882,     8,    12,  1209,   264,    27,\n",
       "           994,     3,   519,     3,     3,   981,    11,  2599,    51,\n",
       "            85,    27,    38,   822,    87,    21], dtype=int64),\n",
       "  'title': 557,\n",
       "  'description': array([    2,   335,     8, 16232, 21983,     7,     3,   624,  1979,\n",
       "          4437,    28,  1818,     5, 17750,     4,   309,  1737,     5,\n",
       "          3136,   718,     6,   450,    23,    10,  3916,   644,     8,\n",
       "           389, 12636,    27,  1134,   693,  1008,   309,  1737,   206,\n",
       "            92,    10, 10003,    28,     2,  5873,     5, 24850,     2,\n",
       "         15517,     5, 20797,     2, 24279,  7564,     5,  1846, 17035,\n",
       "            38, 10605,     6,     3, 18927,  1098,    27,  7890,  1790,\n",
       "             4,     3, 10762,  2783,    17, 12828,   289, 19120,   108,\n",
       "          1133,     4,  8933, 11028,     4,  1623,    33,     2,   938,\n",
       "          1573,     5,     2,  4437,   101,     2,    55,  4543,   222,\n",
       "          1403,    26,   128], dtype=int64)},\n",
       " b'0e317947e1fd341f573192111bb2921d')"
      ]
     },
     "execution_count": 47,
     "metadata": {},
     "output_type": "execute_result"
    }
   ],
   "source": [
    "# Apply the preprocessing in tf.data.Dataset.map.\n",
    "deep_dataset = dataset.map(lambda x, y: (deep_input_model(x), y),\n",
    "                      num_parallel_calls=tf.data.AUTOTUNE)\n",
    "# Display a preprocessed input sample.\n",
    "next(deep_dataset.take(1).as_numpy_iterator())\n"
   ]
  },
  {
   "cell_type": "code",
   "execution_count": 48,
   "metadata": {},
   "outputs": [
    {
     "name": "stdout",
     "output_type": "stream",
     "text": [
      "WARNING:tensorflow:Model was constructed with shape (None,) for input KerasTensor(type_spec=TensorSpec(shape=(None,), dtype=tf.int64, name='author_id_input'), name='author_id_input', description=\"created by layer 'author_id_input'\"), but it was called on an input with incompatible shape ().\n",
      "WARNING:tensorflow:Model was constructed with shape (None,) for input KerasTensor(type_spec=TensorSpec(shape=(None,), dtype=tf.uint32, name='book_id_input'), name='book_id_input', description=\"created by layer 'book_id_input'\"), but it was called on an input with incompatible shape ().\n",
      "WARNING:tensorflow:Model was constructed with shape (None,) for input KerasTensor(type_spec=TensorSpec(shape=(None,), dtype=tf.uint8, name='rating_input'), name='rating_input', description=\"created by layer 'rating_input'\"), but it was called on an input with incompatible shape ().\n",
      "WARNING:tensorflow:Model was constructed with shape (None,) for input KerasTensor(type_spec=TensorSpec(shape=(None,), dtype=tf.string, name='user_id_input'), name='user_id_input', description=\"created by layer 'user_id_input'\"), but it was called on an input with incompatible shape ().\n"
     ]
    },
    {
     "name": "stderr",
     "output_type": "stream",
     "text": [
      "C:\\Users\\simon\\anaconda3\\envs\\ds-project\\lib\\site-packages\\keras\\engine\\functional.py:559: UserWarning: Input dict contained keys ['review_text', 'title', 'description'] which did not match any model input. They will be ignored by the model.\n",
      "  inputs = self._flatten_to_reference_inputs(inputs)\n"
     ]
    },
    {
     "data": {
      "text/plain": [
       "({'user_id': 963,\n",
       "  'book_id': 7589,\n",
       "  'rating': array([[-0.5969872]], dtype=float32),\n",
       "  'author_id': 301},\n",
       " b'0e317947e1fd341f573192111bb2921d')"
      ]
     },
     "execution_count": 48,
     "metadata": {},
     "output_type": "execute_result"
    }
   ],
   "source": [
    "# Apply the preprocessing in tf.data.Dataset.map.\n",
    "linear_dataset = dataset.map(lambda x, y: (linear_input_model(x), y),\n",
    "                      num_parallel_calls=tf.data.AUTOTUNE)\n",
    "# Display a preprocessed input sample.\n",
    "next(linear_dataset.take(1).as_numpy_iterator())\n"
   ]
  },
  {
   "cell_type": "markdown",
   "metadata": {},
   "source": [
    "---"
   ]
  },
  {
   "cell_type": "code",
   "execution_count": 49,
   "metadata": {},
   "outputs": [],
   "source": [
    "linear_model2 = tf.keras.experimental.LinearModel()\n",
    "dnn_model2 = tf.keras.Sequential([tf.keras.layers.Dense(units=64),\n",
    "                             tf.keras.layers.Dense(units=1)])\n",
    "combined_model2 = tf.keras.experimental.WideDeepModel(linear_model, dnn_model)\n",
    "combined_model2.compile(['sgd', 'adam'], 'mse', ['mse'])"
   ]
  },
  {
   "cell_type": "code",
   "execution_count": 53,
   "metadata": {},
   "outputs": [
    {
     "ename": "IndexError",
     "evalue": "list index out of range",
     "output_type": "error",
     "traceback": [
      "\u001b[1;31m---------------------------------------------------------------------------\u001b[0m",
      "\u001b[1;31mIndexError\u001b[0m                                Traceback (most recent call last)",
      "\u001b[1;32m~\\AppData\\Local\\Temp/ipykernel_14196/3197512567.py\u001b[0m in \u001b[0;36m<module>\u001b[1;34m\u001b[0m\n\u001b[1;32m----> 1\u001b[1;33m \u001b[0mcombined_model2\u001b[0m\u001b[1;33m.\u001b[0m\u001b[0mcall\u001b[0m\u001b[1;33m(\u001b[0m\u001b[0mnext\u001b[0m\u001b[1;33m(\u001b[0m\u001b[0mdeep_dataset\u001b[0m\u001b[1;33m.\u001b[0m\u001b[0mtake\u001b[0m\u001b[1;33m(\u001b[0m\u001b[1;36m1\u001b[0m\u001b[1;33m)\u001b[0m\u001b[1;33m.\u001b[0m\u001b[0mas_numpy_iterator\u001b[0m\u001b[1;33m(\u001b[0m\u001b[1;33m)\u001b[0m\u001b[1;33m)\u001b[0m\u001b[1;33m)\u001b[0m\u001b[1;33m\u001b[0m\u001b[1;33m\u001b[0m\u001b[0m\n\u001b[0m",
      "\u001b[1;32m~\\anaconda3\\envs\\ds-project\\lib\\site-packages\\keras\\premade\\wide_deep.py\u001b[0m in \u001b[0;36mcall\u001b[1;34m(self, inputs, training)\u001b[0m\n\u001b[0;32m     95\u001b[0m     \u001b[1;32melse\u001b[0m\u001b[1;33m:\u001b[0m\u001b[1;33m\u001b[0m\u001b[1;33m\u001b[0m\u001b[0m\n\u001b[0;32m     96\u001b[0m       \u001b[0mlinear_inputs\u001b[0m\u001b[1;33m,\u001b[0m \u001b[0mdnn_inputs\u001b[0m \u001b[1;33m=\u001b[0m \u001b[0minputs\u001b[0m\u001b[1;33m\u001b[0m\u001b[1;33m\u001b[0m\u001b[0m\n\u001b[1;32m---> 97\u001b[1;33m     \u001b[0mlinear_output\u001b[0m \u001b[1;33m=\u001b[0m \u001b[0mself\u001b[0m\u001b[1;33m.\u001b[0m\u001b[0mlinear_model\u001b[0m\u001b[1;33m(\u001b[0m\u001b[0mlinear_inputs\u001b[0m\u001b[1;33m)\u001b[0m\u001b[1;33m\u001b[0m\u001b[1;33m\u001b[0m\u001b[0m\n\u001b[0m\u001b[0;32m     98\u001b[0m     \u001b[1;31m# pylint: disable=protected-access\u001b[0m\u001b[1;33m\u001b[0m\u001b[1;33m\u001b[0m\u001b[1;33m\u001b[0m\u001b[0m\n\u001b[0;32m     99\u001b[0m     \u001b[1;32mif\u001b[0m \u001b[0mself\u001b[0m\u001b[1;33m.\u001b[0m\u001b[0mdnn_model\u001b[0m\u001b[1;33m.\u001b[0m\u001b[0m_expects_training_arg\u001b[0m\u001b[1;33m:\u001b[0m\u001b[1;33m\u001b[0m\u001b[1;33m\u001b[0m\u001b[0m\n",
      "\u001b[1;32m~\\anaconda3\\envs\\ds-project\\lib\\site-packages\\keras\\utils\\traceback_utils.py\u001b[0m in \u001b[0;36merror_handler\u001b[1;34m(*args, **kwargs)\u001b[0m\n\u001b[0;32m     65\u001b[0m     \u001b[1;32mexcept\u001b[0m \u001b[0mException\u001b[0m \u001b[1;32mas\u001b[0m \u001b[0me\u001b[0m\u001b[1;33m:\u001b[0m  \u001b[1;31m# pylint: disable=broad-except\u001b[0m\u001b[1;33m\u001b[0m\u001b[1;33m\u001b[0m\u001b[0m\n\u001b[0;32m     66\u001b[0m       \u001b[0mfiltered_tb\u001b[0m \u001b[1;33m=\u001b[0m \u001b[0m_process_traceback_frames\u001b[0m\u001b[1;33m(\u001b[0m\u001b[0me\u001b[0m\u001b[1;33m.\u001b[0m\u001b[0m__traceback__\u001b[0m\u001b[1;33m)\u001b[0m\u001b[1;33m\u001b[0m\u001b[1;33m\u001b[0m\u001b[0m\n\u001b[1;32m---> 67\u001b[1;33m       \u001b[1;32mraise\u001b[0m \u001b[0me\u001b[0m\u001b[1;33m.\u001b[0m\u001b[0mwith_traceback\u001b[0m\u001b[1;33m(\u001b[0m\u001b[0mfiltered_tb\u001b[0m\u001b[1;33m)\u001b[0m \u001b[1;32mfrom\u001b[0m \u001b[1;32mNone\u001b[0m\u001b[1;33m\u001b[0m\u001b[1;33m\u001b[0m\u001b[0m\n\u001b[0m\u001b[0;32m     68\u001b[0m     \u001b[1;32mfinally\u001b[0m\u001b[1;33m:\u001b[0m\u001b[1;33m\u001b[0m\u001b[1;33m\u001b[0m\u001b[0m\n\u001b[0;32m     69\u001b[0m       \u001b[1;32mdel\u001b[0m \u001b[0mfiltered_tb\u001b[0m\u001b[1;33m\u001b[0m\u001b[1;33m\u001b[0m\u001b[0m\n",
      "\u001b[1;32m~\\anaconda3\\envs\\ds-project\\lib\\site-packages\\tensorflow\\python\\framework\\tensor_shape.py\u001b[0m in \u001b[0;36m__getitem__\u001b[1;34m(self, key)\u001b[0m\n\u001b[0;32m    904\u001b[0m       \u001b[1;32melse\u001b[0m\u001b[1;33m:\u001b[0m\u001b[1;33m\u001b[0m\u001b[1;33m\u001b[0m\u001b[0m\n\u001b[0;32m    905\u001b[0m         \u001b[1;32mif\u001b[0m \u001b[0mself\u001b[0m\u001b[1;33m.\u001b[0m\u001b[0m_v2_behavior\u001b[0m\u001b[1;33m:\u001b[0m\u001b[1;33m\u001b[0m\u001b[1;33m\u001b[0m\u001b[0m\n\u001b[1;32m--> 906\u001b[1;33m           \u001b[1;32mreturn\u001b[0m \u001b[0mself\u001b[0m\u001b[1;33m.\u001b[0m\u001b[0m_dims\u001b[0m\u001b[1;33m[\u001b[0m\u001b[0mkey\u001b[0m\u001b[1;33m]\u001b[0m\u001b[1;33m.\u001b[0m\u001b[0mvalue\u001b[0m\u001b[1;33m\u001b[0m\u001b[1;33m\u001b[0m\u001b[0m\n\u001b[0m\u001b[0;32m    907\u001b[0m         \u001b[1;32melse\u001b[0m\u001b[1;33m:\u001b[0m\u001b[1;33m\u001b[0m\u001b[1;33m\u001b[0m\u001b[0m\n\u001b[0;32m    908\u001b[0m           \u001b[1;32mreturn\u001b[0m \u001b[0mself\u001b[0m\u001b[1;33m.\u001b[0m\u001b[0m_dims\u001b[0m\u001b[1;33m[\u001b[0m\u001b[0mkey\u001b[0m\u001b[1;33m]\u001b[0m\u001b[1;33m\u001b[0m\u001b[1;33m\u001b[0m\u001b[0m\n",
      "\u001b[1;31mIndexError\u001b[0m: list index out of range"
     ]
    }
   ],
   "source": [
    "combined_model2.call(next(deep_dataset.take(1).as_numpy_iterator()))"
   ]
  },
  {
   "cell_type": "code",
   "execution_count": 50,
   "metadata": {},
   "outputs": [],
   "source": [
    "l = linear_dataset.map(lambda x, y: x)\n",
    "d = deep_dataset.map(lambda a, b: a)\n",
    "y = dataset.map(lambda f, l: l)"
   ]
  },
  {
   "cell_type": "code",
   "execution_count": 103,
   "metadata": {},
   "outputs": [
    {
     "ename": "ValueError",
     "evalue": "Failed to find data adapter that can handle input: (<class 'list'> containing values of types {\"<class 'tensorflow.python.data.ops.dataset_ops.MapDataset'>\"}), <class 'tensorflow.python.data.ops.dataset_ops.MapDataset'>",
     "output_type": "error",
     "traceback": [
      "\u001b[1;31m---------------------------------------------------------------------------\u001b[0m",
      "\u001b[1;31mValueError\u001b[0m                                Traceback (most recent call last)",
      "\u001b[1;32m~\\AppData\\Local\\Temp/ipykernel_19288/2876143151.py\u001b[0m in \u001b[0;36m<module>\u001b[1;34m\u001b[0m\n\u001b[1;32m----> 1\u001b[1;33m \u001b[0mcombined_model\u001b[0m\u001b[1;33m.\u001b[0m\u001b[0mfit\u001b[0m\u001b[1;33m(\u001b[0m\u001b[1;33m[\u001b[0m\u001b[0ml\u001b[0m\u001b[1;33m,\u001b[0m \u001b[0md\u001b[0m\u001b[1;33m]\u001b[0m\u001b[1;33m,\u001b[0m \u001b[0my\u001b[0m\u001b[1;33m,\u001b[0m \u001b[0mepochs\u001b[0m\u001b[1;33m=\u001b[0m\u001b[0mEPOCHS\u001b[0m\u001b[1;33m)\u001b[0m\u001b[1;33m\u001b[0m\u001b[1;33m\u001b[0m\u001b[0m\n\u001b[0m",
      "\u001b[1;32m~\\anaconda3\\envs\\ds-project\\lib\\site-packages\\keras\\utils\\traceback_utils.py\u001b[0m in \u001b[0;36merror_handler\u001b[1;34m(*args, **kwargs)\u001b[0m\n\u001b[0;32m     65\u001b[0m     \u001b[1;32mexcept\u001b[0m \u001b[0mException\u001b[0m \u001b[1;32mas\u001b[0m \u001b[0me\u001b[0m\u001b[1;33m:\u001b[0m  \u001b[1;31m# pylint: disable=broad-except\u001b[0m\u001b[1;33m\u001b[0m\u001b[1;33m\u001b[0m\u001b[0m\n\u001b[0;32m     66\u001b[0m       \u001b[0mfiltered_tb\u001b[0m \u001b[1;33m=\u001b[0m \u001b[0m_process_traceback_frames\u001b[0m\u001b[1;33m(\u001b[0m\u001b[0me\u001b[0m\u001b[1;33m.\u001b[0m\u001b[0m__traceback__\u001b[0m\u001b[1;33m)\u001b[0m\u001b[1;33m\u001b[0m\u001b[1;33m\u001b[0m\u001b[0m\n\u001b[1;32m---> 67\u001b[1;33m       \u001b[1;32mraise\u001b[0m \u001b[0me\u001b[0m\u001b[1;33m.\u001b[0m\u001b[0mwith_traceback\u001b[0m\u001b[1;33m(\u001b[0m\u001b[0mfiltered_tb\u001b[0m\u001b[1;33m)\u001b[0m \u001b[1;32mfrom\u001b[0m \u001b[1;32mNone\u001b[0m\u001b[1;33m\u001b[0m\u001b[1;33m\u001b[0m\u001b[0m\n\u001b[0m\u001b[0;32m     68\u001b[0m     \u001b[1;32mfinally\u001b[0m\u001b[1;33m:\u001b[0m\u001b[1;33m\u001b[0m\u001b[1;33m\u001b[0m\u001b[0m\n\u001b[0;32m     69\u001b[0m       \u001b[1;32mdel\u001b[0m \u001b[0mfiltered_tb\u001b[0m\u001b[1;33m\u001b[0m\u001b[1;33m\u001b[0m\u001b[0m\n",
      "\u001b[1;32m~\\anaconda3\\envs\\ds-project\\lib\\site-packages\\keras\\engine\\data_adapter.py\u001b[0m in \u001b[0;36mselect_data_adapter\u001b[1;34m(x, y)\u001b[0m\n\u001b[0;32m    986\u001b[0m   \u001b[1;32mif\u001b[0m \u001b[1;32mnot\u001b[0m \u001b[0madapter_cls\u001b[0m\u001b[1;33m:\u001b[0m\u001b[1;33m\u001b[0m\u001b[1;33m\u001b[0m\u001b[0m\n\u001b[0;32m    987\u001b[0m     \u001b[1;31m# TODO(scottzhu): This should be a less implementation-specific error.\u001b[0m\u001b[1;33m\u001b[0m\u001b[1;33m\u001b[0m\u001b[1;33m\u001b[0m\u001b[0m\n\u001b[1;32m--> 988\u001b[1;33m     raise ValueError(\n\u001b[0m\u001b[0;32m    989\u001b[0m         \u001b[1;34m\"Failed to find data adapter that can handle \"\u001b[0m\u001b[1;33m\u001b[0m\u001b[1;33m\u001b[0m\u001b[0m\n\u001b[0;32m    990\u001b[0m         \"input: {}, {}\".format(\n",
      "\u001b[1;31mValueError\u001b[0m: Failed to find data adapter that can handle input: (<class 'list'> containing values of types {\"<class 'tensorflow.python.data.ops.dataset_ops.MapDataset'>\"}), <class 'tensorflow.python.data.ops.dataset_ops.MapDataset'>"
     ]
    }
   ],
   "source": [
    "combined_model.fit([l, d], y, epochs=EPOCHS)"
   ]
  },
  {
   "cell_type": "code",
   "execution_count": 100,
   "metadata": {},
   "outputs": [
    {
     "name": "stdout",
     "output_type": "stream",
     "text": [
      "WARNING:tensorflow:Keras is training/fitting/evaluating on array-like data. Keras may not be optimized for this format, so if your input data format is supported by TensorFlow I/O (https://github.com/tensorflow/io) we recommend using that to load a Dataset instead.\n"
     ]
    },
    {
     "ename": "TypeError",
     "evalue": "int() argument must be a string, a bytes-like object or a number, not 'NoneType'",
     "output_type": "error",
     "traceback": [
      "\u001b[1;31m---------------------------------------------------------------------------\u001b[0m",
      "\u001b[1;31mTypeError\u001b[0m                                 Traceback (most recent call last)",
      "\u001b[1;32m~\\AppData\\Local\\Temp/ipykernel_18680/1847148019.py\u001b[0m in \u001b[0;36m<module>\u001b[1;34m\u001b[0m\n\u001b[1;32m----> 1\u001b[1;33m \u001b[0mcombined_model\u001b[0m\u001b[1;33m.\u001b[0m\u001b[0mfit\u001b[0m\u001b[1;33m(\u001b[0m\u001b[1;33m[\u001b[0m\u001b[0mlinear_columns\u001b[0m\u001b[1;33m,\u001b[0m \u001b[0mdeep_columns\u001b[0m\u001b[1;33m]\u001b[0m\u001b[1;33m,\u001b[0m \u001b[0mepochs\u001b[0m\u001b[1;33m=\u001b[0m\u001b[0mEPOCHS\u001b[0m\u001b[1;33m)\u001b[0m\u001b[1;33m\u001b[0m\u001b[1;33m\u001b[0m\u001b[0m\n\u001b[0m",
      "\u001b[1;32m~\\anaconda3\\envs\\ds-project\\lib\\site-packages\\keras\\utils\\traceback_utils.py\u001b[0m in \u001b[0;36merror_handler\u001b[1;34m(*args, **kwargs)\u001b[0m\n\u001b[0;32m     65\u001b[0m     \u001b[1;32mexcept\u001b[0m \u001b[0mException\u001b[0m \u001b[1;32mas\u001b[0m \u001b[0me\u001b[0m\u001b[1;33m:\u001b[0m  \u001b[1;31m# pylint: disable=broad-except\u001b[0m\u001b[1;33m\u001b[0m\u001b[1;33m\u001b[0m\u001b[0m\n\u001b[0;32m     66\u001b[0m       \u001b[0mfiltered_tb\u001b[0m \u001b[1;33m=\u001b[0m \u001b[0m_process_traceback_frames\u001b[0m\u001b[1;33m(\u001b[0m\u001b[0me\u001b[0m\u001b[1;33m.\u001b[0m\u001b[0m__traceback__\u001b[0m\u001b[1;33m)\u001b[0m\u001b[1;33m\u001b[0m\u001b[1;33m\u001b[0m\u001b[0m\n\u001b[1;32m---> 67\u001b[1;33m       \u001b[1;32mraise\u001b[0m \u001b[0me\u001b[0m\u001b[1;33m.\u001b[0m\u001b[0mwith_traceback\u001b[0m\u001b[1;33m(\u001b[0m\u001b[0mfiltered_tb\u001b[0m\u001b[1;33m)\u001b[0m \u001b[1;32mfrom\u001b[0m \u001b[1;32mNone\u001b[0m\u001b[1;33m\u001b[0m\u001b[1;33m\u001b[0m\u001b[0m\n\u001b[0m\u001b[0;32m     68\u001b[0m     \u001b[1;32mfinally\u001b[0m\u001b[1;33m:\u001b[0m\u001b[1;33m\u001b[0m\u001b[1;33m\u001b[0m\u001b[0m\n\u001b[0;32m     69\u001b[0m       \u001b[1;32mdel\u001b[0m \u001b[0mfiltered_tb\u001b[0m\u001b[1;33m\u001b[0m\u001b[1;33m\u001b[0m\u001b[0m\n",
      "\u001b[1;32m~\\anaconda3\\envs\\ds-project\\lib\\site-packages\\keras\\engine\\data_adapter.py\u001b[0m in \u001b[0;36m<genexpr>\u001b[1;34m(.0)\u001b[0m\n\u001b[0;32m    243\u001b[0m     \u001b[0minputs\u001b[0m \u001b[1;33m=\u001b[0m \u001b[0mpack_x_y_sample_weight\u001b[0m\u001b[1;33m(\u001b[0m\u001b[0mx\u001b[0m\u001b[1;33m,\u001b[0m \u001b[0my\u001b[0m\u001b[1;33m,\u001b[0m \u001b[0msample_weights\u001b[0m\u001b[1;33m)\u001b[0m\u001b[1;33m\u001b[0m\u001b[1;33m\u001b[0m\u001b[0m\n\u001b[0;32m    244\u001b[0m \u001b[1;33m\u001b[0m\u001b[0m\n\u001b[1;32m--> 245\u001b[1;33m     \u001b[0mnum_samples\u001b[0m \u001b[1;33m=\u001b[0m \u001b[0mset\u001b[0m\u001b[1;33m(\u001b[0m\u001b[0mint\u001b[0m\u001b[1;33m(\u001b[0m\u001b[0mi\u001b[0m\u001b[1;33m.\u001b[0m\u001b[0mshape\u001b[0m\u001b[1;33m[\u001b[0m\u001b[1;36m0\u001b[0m\u001b[1;33m]\u001b[0m\u001b[1;33m)\u001b[0m \u001b[1;32mfor\u001b[0m \u001b[0mi\u001b[0m \u001b[1;32min\u001b[0m \u001b[0mtf\u001b[0m\u001b[1;33m.\u001b[0m\u001b[0mnest\u001b[0m\u001b[1;33m.\u001b[0m\u001b[0mflatten\u001b[0m\u001b[1;33m(\u001b[0m\u001b[0minputs\u001b[0m\u001b[1;33m)\u001b[0m\u001b[1;33m)\u001b[0m\u001b[1;33m.\u001b[0m\u001b[0mpop\u001b[0m\u001b[1;33m(\u001b[0m\u001b[1;33m)\u001b[0m\u001b[1;33m\u001b[0m\u001b[1;33m\u001b[0m\u001b[0m\n\u001b[0m\u001b[0;32m    246\u001b[0m     \u001b[0m_check_data_cardinality\u001b[0m\u001b[1;33m(\u001b[0m\u001b[0minputs\u001b[0m\u001b[1;33m)\u001b[0m\u001b[1;33m\u001b[0m\u001b[1;33m\u001b[0m\u001b[0m\n\u001b[0;32m    247\u001b[0m \u001b[1;33m\u001b[0m\u001b[0m\n",
      "\u001b[1;31mTypeError\u001b[0m: int() argument must be a string, a bytes-like object or a number, not 'NoneType'"
     ]
    }
   ],
   "source": [
    "combined_model.fit([linear_columns, deep_columns], dataset, epochs=EPOCHS)\n"
   ]
  },
  {
   "cell_type": "markdown",
   "metadata": {},
   "source": [
    "### Training and Evaluating The Model\n",
    "Before we train the model, let's read in the Census dataset as we did in the TensorFlow Linear Model tutorial. The code for input data processing is provided here again for your convenience:\n"
   ]
  },
  {
   "cell_type": "markdown",
   "metadata": {},
   "source": []
  }
 ],
 "metadata": {
  "interpreter": {
   "hash": "48bc9e598fcbf8a93b8170aeed7972c61fdd84b24baf2eff9e2683f5bf1d2fdd"
  },
  "kernelspec": {
   "display_name": "Python 3.8.5 64-bit ('ds-project': conda)",
   "language": "python",
   "name": "python3"
  },
  "language_info": {
   "codemirror_mode": {
    "name": "ipython",
    "version": 3
   },
   "file_extension": ".py",
   "mimetype": "text/x-python",
   "name": "python",
   "nbconvert_exporter": "python",
   "pygments_lexer": "ipython3",
   "version": "3.8.5"
  },
  "orig_nbformat": 4
 },
 "nbformat": 4,
 "nbformat_minor": 2
}
