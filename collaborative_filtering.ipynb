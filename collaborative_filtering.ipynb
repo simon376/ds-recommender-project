{
 "cells": [
  {
   "cell_type": "markdown",
   "metadata": {},
   "source": [
    "# (Neural) Collaborative Filtering\n",
    "### Dataset Preparation - Ratings only\n",
    "##### Setup"
   ]
  },
  {
   "cell_type": "code",
   "execution_count": 1,
   "metadata": {},
   "outputs": [],
   "source": [
    "import json\n",
    "import os\n",
    "import numpy as np\n",
    "import pandas as pd\n",
    "from IPython.display import display\n",
    "import pprint\n",
    "import tensorflow as tf"
   ]
  },
  {
   "cell_type": "code",
   "execution_count": 2,
   "metadata": {},
   "outputs": [],
   "source": [
    "DIR = './data/cleaned/'\n",
    "fn_books = 'goodreads_books_mystery_thriller_crime.pkl'\n",
    "fn_reviews = 'goodreads_reviews_mystery_thriller_crime.pkl'"
   ]
  },
  {
   "cell_type": "code",
   "execution_count": 3,
   "metadata": {},
   "outputs": [],
   "source": [
    "df_reviews = pd.read_pickle(os.path.join(DIR, fn_reviews))\n",
    "df_books = pd.read_pickle(os.path.join(DIR, fn_books))"
   ]
  },
  {
   "cell_type": "code",
   "execution_count": 4,
   "metadata": {},
   "outputs": [
    {
     "data": {
      "text/html": [
       "<div>\n",
       "<style scoped>\n",
       "    .dataframe tbody tr th:only-of-type {\n",
       "        vertical-align: middle;\n",
       "    }\n",
       "\n",
       "    .dataframe tbody tr th {\n",
       "        vertical-align: top;\n",
       "    }\n",
       "\n",
       "    .dataframe thead th {\n",
       "        text-align: right;\n",
       "    }\n",
       "</style>\n",
       "<table border=\"1\" class=\"dataframe\">\n",
       "  <thead>\n",
       "    <tr style=\"text-align: right;\">\n",
       "      <th></th>\n",
       "      <th>user_id</th>\n",
       "      <th>book_id</th>\n",
       "      <th>rating</th>\n",
       "      <th>review_text</th>\n",
       "    </tr>\n",
       "    <tr>\n",
       "      <th>review_id</th>\n",
       "      <th></th>\n",
       "      <th></th>\n",
       "      <th></th>\n",
       "      <th></th>\n",
       "    </tr>\n",
       "  </thead>\n",
       "  <tbody>\n",
       "    <tr>\n",
       "      <th>5e212a62bced17b4dbe41150e5bb9037</th>\n",
       "      <td>8842281e1d1347389f2ab93d60773d4d</td>\n",
       "      <td>6392944</td>\n",
       "      <td>3</td>\n",
       "      <td>I haven't read a fun mystery book in a while a...</td>\n",
       "    </tr>\n",
       "    <tr>\n",
       "      <th>2ede853b14dc4583f96cf5d120af636f</th>\n",
       "      <td>8842281e1d1347389f2ab93d60773d4d</td>\n",
       "      <td>28684704</td>\n",
       "      <td>3</td>\n",
       "      <td>A fun, fast paced science fiction thriller. I ...</td>\n",
       "    </tr>\n",
       "    <tr>\n",
       "      <th>8e4d61801907e591018bdc3442a9cf2b</th>\n",
       "      <td>8842281e1d1347389f2ab93d60773d4d</td>\n",
       "      <td>32283133</td>\n",
       "      <td>0</td>\n",
       "      <td>http://www.telegraph.co.uk/culture/10...</td>\n",
       "    </tr>\n",
       "    <tr>\n",
       "      <th>022bb6daffa49adc27f6b20b6ebeb37d</th>\n",
       "      <td>8842281e1d1347389f2ab93d60773d4d</td>\n",
       "      <td>17860739</td>\n",
       "      <td>4</td>\n",
       "      <td>An amazing and unique creation: JJ Abrams and ...</td>\n",
       "    </tr>\n",
       "    <tr>\n",
       "      <th>0e317947e1fd341f573192111bb2921d</th>\n",
       "      <td>8842281e1d1347389f2ab93d60773d4d</td>\n",
       "      <td>8694005</td>\n",
       "      <td>3</td>\n",
       "      <td>The Name of the Rose is a thrilling Dan Brown-...</td>\n",
       "    </tr>\n",
       "  </tbody>\n",
       "</table>\n",
       "</div>"
      ],
      "text/plain": [
       "                                                           user_id   book_id  \\\n",
       "review_id                                                                      \n",
       "5e212a62bced17b4dbe41150e5bb9037  8842281e1d1347389f2ab93d60773d4d   6392944   \n",
       "2ede853b14dc4583f96cf5d120af636f  8842281e1d1347389f2ab93d60773d4d  28684704   \n",
       "8e4d61801907e591018bdc3442a9cf2b  8842281e1d1347389f2ab93d60773d4d  32283133   \n",
       "022bb6daffa49adc27f6b20b6ebeb37d  8842281e1d1347389f2ab93d60773d4d  17860739   \n",
       "0e317947e1fd341f573192111bb2921d  8842281e1d1347389f2ab93d60773d4d   8694005   \n",
       "\n",
       "                                  rating  \\\n",
       "review_id                                  \n",
       "5e212a62bced17b4dbe41150e5bb9037       3   \n",
       "2ede853b14dc4583f96cf5d120af636f       3   \n",
       "8e4d61801907e591018bdc3442a9cf2b       0   \n",
       "022bb6daffa49adc27f6b20b6ebeb37d       4   \n",
       "0e317947e1fd341f573192111bb2921d       3   \n",
       "\n",
       "                                                                        review_text  \n",
       "review_id                                                                            \n",
       "5e212a62bced17b4dbe41150e5bb9037  I haven't read a fun mystery book in a while a...  \n",
       "2ede853b14dc4583f96cf5d120af636f  A fun, fast paced science fiction thriller. I ...  \n",
       "8e4d61801907e591018bdc3442a9cf2b           http://www.telegraph.co.uk/culture/10...  \n",
       "022bb6daffa49adc27f6b20b6ebeb37d  An amazing and unique creation: JJ Abrams and ...  \n",
       "0e317947e1fd341f573192111bb2921d  The Name of the Rose is a thrilling Dan Brown-...  "
      ]
     },
     "execution_count": 4,
     "metadata": {},
     "output_type": "execute_result"
    }
   ],
   "source": [
    "df_reviews.head()"
   ]
  },
  {
   "cell_type": "code",
   "execution_count": null,
   "metadata": {},
   "outputs": [],
   "source": []
  }
 ],
 "metadata": {
  "interpreter": {
   "hash": "48bc9e598fcbf8a93b8170aeed7972c61fdd84b24baf2eff9e2683f5bf1d2fdd"
  },
  "kernelspec": {
   "display_name": "Python 3.8.5 64-bit ('ds-project': conda)",
   "language": "python",
   "name": "python3"
  },
  "language_info": {
   "codemirror_mode": {
    "name": "ipython",
    "version": 3
   },
   "file_extension": ".py",
   "mimetype": "text/x-python",
   "name": "python",
   "nbconvert_exporter": "python",
   "pygments_lexer": "ipython3",
   "version": "3.8.5"
  },
  "orig_nbformat": 4
 },
 "nbformat": 4,
 "nbformat_minor": 2
}
