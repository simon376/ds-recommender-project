{
 "cells": [
  {
   "cell_type": "markdown",
   "metadata": {},
   "source": [
    "# Feature Extraction and Processing for GoodReads Dataset\n",
    "## Pre-processing input data, creating Embeddings, etc."
   ]
  },
  {
   "cell_type": "markdown",
   "metadata": {},
   "source": [
    "### Setup"
   ]
  },
  {
   "cell_type": "code",
   "execution_count": 2,
   "metadata": {},
   "outputs": [],
   "source": [
    "import json\n",
    "import os\n",
    "import numpy as np\n",
    "import pandas as pd\n",
    "from IPython.display import display\n",
    "import pprint\n",
    "import tensorflow as tf"
   ]
  },
  {
   "cell_type": "markdown",
   "metadata": {},
   "source": [
    "Dataset Directory"
   ]
  },
  {
   "cell_type": "code",
   "execution_count": 3,
   "metadata": {},
   "outputs": [],
   "source": [
    "DIR = './data/cleaned/'\n",
    "fn_books = 'goodreads_books_mystery_thriller_crime.pkl'\n",
    "fn_reviews = 'goodreads_reviews_mystery_thriller_crime.pkl'"
   ]
  },
  {
   "cell_type": "code",
   "execution_count": 4,
   "metadata": {},
   "outputs": [],
   "source": [
    "df_reviews = pd.read_pickle(os.path.join(DIR, fn_reviews))\n",
    "df_books = pd.read_pickle(os.path.join(DIR, fn_books))"
   ]
  },
  {
   "cell_type": "code",
   "execution_count": 5,
   "metadata": {},
   "outputs": [
    {
     "data": {
      "text/html": [
       "<div>\n",
       "<style scoped>\n",
       "    .dataframe tbody tr th:only-of-type {\n",
       "        vertical-align: middle;\n",
       "    }\n",
       "\n",
       "    .dataframe tbody tr th {\n",
       "        vertical-align: top;\n",
       "    }\n",
       "\n",
       "    .dataframe thead th {\n",
       "        text-align: right;\n",
       "    }\n",
       "</style>\n",
       "<table border=\"1\" class=\"dataframe\">\n",
       "  <thead>\n",
       "    <tr style=\"text-align: right;\">\n",
       "      <th></th>\n",
       "      <th>user_id</th>\n",
       "      <th>book_id</th>\n",
       "      <th>rating</th>\n",
       "      <th>review_text</th>\n",
       "    </tr>\n",
       "    <tr>\n",
       "      <th>review_id</th>\n",
       "      <th></th>\n",
       "      <th></th>\n",
       "      <th></th>\n",
       "      <th></th>\n",
       "    </tr>\n",
       "  </thead>\n",
       "  <tbody>\n",
       "    <tr>\n",
       "      <th>5e212a62bced17b4dbe41150e5bb9037</th>\n",
       "      <td>8842281e1d1347389f2ab93d60773d4d</td>\n",
       "      <td>6392944</td>\n",
       "      <td>3</td>\n",
       "      <td>I haven't read a fun mystery book in a while a...</td>\n",
       "    </tr>\n",
       "    <tr>\n",
       "      <th>2ede853b14dc4583f96cf5d120af636f</th>\n",
       "      <td>8842281e1d1347389f2ab93d60773d4d</td>\n",
       "      <td>28684704</td>\n",
       "      <td>3</td>\n",
       "      <td>A fun, fast paced science fiction thriller. I ...</td>\n",
       "    </tr>\n",
       "    <tr>\n",
       "      <th>8e4d61801907e591018bdc3442a9cf2b</th>\n",
       "      <td>8842281e1d1347389f2ab93d60773d4d</td>\n",
       "      <td>32283133</td>\n",
       "      <td>0</td>\n",
       "      <td>http://www.telegraph.co.uk/culture/10...</td>\n",
       "    </tr>\n",
       "    <tr>\n",
       "      <th>022bb6daffa49adc27f6b20b6ebeb37d</th>\n",
       "      <td>8842281e1d1347389f2ab93d60773d4d</td>\n",
       "      <td>17860739</td>\n",
       "      <td>4</td>\n",
       "      <td>An amazing and unique creation: JJ Abrams and ...</td>\n",
       "    </tr>\n",
       "    <tr>\n",
       "      <th>0e317947e1fd341f573192111bb2921d</th>\n",
       "      <td>8842281e1d1347389f2ab93d60773d4d</td>\n",
       "      <td>8694005</td>\n",
       "      <td>3</td>\n",
       "      <td>The Name of the Rose is a thrilling Dan Brown-...</td>\n",
       "    </tr>\n",
       "  </tbody>\n",
       "</table>\n",
       "</div>"
      ],
      "text/plain": [
       "                                                           user_id   book_id  \\\n",
       "review_id                                                                      \n",
       "5e212a62bced17b4dbe41150e5bb9037  8842281e1d1347389f2ab93d60773d4d   6392944   \n",
       "2ede853b14dc4583f96cf5d120af636f  8842281e1d1347389f2ab93d60773d4d  28684704   \n",
       "8e4d61801907e591018bdc3442a9cf2b  8842281e1d1347389f2ab93d60773d4d  32283133   \n",
       "022bb6daffa49adc27f6b20b6ebeb37d  8842281e1d1347389f2ab93d60773d4d  17860739   \n",
       "0e317947e1fd341f573192111bb2921d  8842281e1d1347389f2ab93d60773d4d   8694005   \n",
       "\n",
       "                                  rating  \\\n",
       "review_id                                  \n",
       "5e212a62bced17b4dbe41150e5bb9037       3   \n",
       "2ede853b14dc4583f96cf5d120af636f       3   \n",
       "8e4d61801907e591018bdc3442a9cf2b       0   \n",
       "022bb6daffa49adc27f6b20b6ebeb37d       4   \n",
       "0e317947e1fd341f573192111bb2921d       3   \n",
       "\n",
       "                                                                        review_text  \n",
       "review_id                                                                            \n",
       "5e212a62bced17b4dbe41150e5bb9037  I haven't read a fun mystery book in a while a...  \n",
       "2ede853b14dc4583f96cf5d120af636f  A fun, fast paced science fiction thriller. I ...  \n",
       "8e4d61801907e591018bdc3442a9cf2b           http://www.telegraph.co.uk/culture/10...  \n",
       "022bb6daffa49adc27f6b20b6ebeb37d  An amazing and unique creation: JJ Abrams and ...  \n",
       "0e317947e1fd341f573192111bb2921d  The Name of the Rose is a thrilling Dan Brown-...  "
      ]
     },
     "execution_count": 5,
     "metadata": {},
     "output_type": "execute_result"
    }
   ],
   "source": [
    "df_reviews.head()"
   ]
  },
  {
   "cell_type": "code",
   "execution_count": 19,
   "metadata": {},
   "outputs": [
    {
     "data": {
      "text/html": [
       "<div>\n",
       "<style scoped>\n",
       "    .dataframe tbody tr th:only-of-type {\n",
       "        vertical-align: middle;\n",
       "    }\n",
       "\n",
       "    .dataframe tbody tr th {\n",
       "        vertical-align: top;\n",
       "    }\n",
       "\n",
       "    .dataframe thead th {\n",
       "        text-align: right;\n",
       "    }\n",
       "</style>\n",
       "<table border=\"1\" class=\"dataframe\">\n",
       "  <thead>\n",
       "    <tr style=\"text-align: right;\">\n",
       "      <th></th>\n",
       "      <th>title</th>\n",
       "      <th>text_reviews_count</th>\n",
       "      <th>popular_shelves</th>\n",
       "      <th>average_rating</th>\n",
       "      <th>description</th>\n",
       "      <th>author_id</th>\n",
       "      <th>author_name</th>\n",
       "    </tr>\n",
       "    <tr>\n",
       "      <th>book_id</th>\n",
       "      <th></th>\n",
       "      <th></th>\n",
       "      <th></th>\n",
       "      <th></th>\n",
       "      <th></th>\n",
       "      <th></th>\n",
       "      <th></th>\n",
       "    </tr>\n",
       "  </thead>\n",
       "  <tbody>\n",
       "    <tr>\n",
       "      <th>6066814</th>\n",
       "      <td>Crowner Royal (Crowner John Mystery, #13)</td>\n",
       "      <td>15</td>\n",
       "      <td>[{'count': '159', 'name': 'to-read'}, {'count'...</td>\n",
       "      <td>3.93</td>\n",
       "      <td>London, 1196. At the command of Richard the Li...</td>\n",
       "      <td>37778</td>\n",
       "      <td>Bernard Knight</td>\n",
       "    </tr>\n",
       "    <tr>\n",
       "      <th>33394837</th>\n",
       "      <td>The House of Memory (Pluto's Snitch #2)</td>\n",
       "      <td>60</td>\n",
       "      <td>[{'count': '54', 'name': 'currently-reading'},...</td>\n",
       "      <td>4.33</td>\n",
       "      <td></td>\n",
       "      <td>242185</td>\n",
       "      <td>Carolyn Haines</td>\n",
       "    </tr>\n",
       "    <tr>\n",
       "      <th>29074697</th>\n",
       "      <td>The Slaughtered Virgin of Zenopolis (Inspector...</td>\n",
       "      <td>23</td>\n",
       "      <td>[{'count': '90', 'name': 'to-read'}, {'count':...</td>\n",
       "      <td>3.49</td>\n",
       "      <td>BATHS, BANKS AND ROMAN INSURRECTION\\nDetective...</td>\n",
       "      <td>15104629</td>\n",
       "      <td>David  Blake</td>\n",
       "    </tr>\n",
       "    <tr>\n",
       "      <th>1902202</th>\n",
       "      <td>Dead in the Morning (Patrick Grant, #1)</td>\n",
       "      <td>8</td>\n",
       "      <td>[{'count': '51', 'name': 'to-read'}, {'count':...</td>\n",
       "      <td>3.30</td>\n",
       "      <td>Gerald breezily introduced his wife, Helen, to...</td>\n",
       "      <td>190988</td>\n",
       "      <td>Margaret Yorke</td>\n",
       "    </tr>\n",
       "    <tr>\n",
       "      <th>9671977</th>\n",
       "      <td>Aristotele e i misteri di Eleusi</td>\n",
       "      <td>3</td>\n",
       "      <td>[{'count': '48', 'name': 'to-read'}, {'count':...</td>\n",
       "      <td>3.54</td>\n",
       "      <td>\"I misteri di Eleusi\" e il quinto romanzo di A...</td>\n",
       "      <td>337108</td>\n",
       "      <td>Margaret Doody</td>\n",
       "    </tr>\n",
       "  </tbody>\n",
       "</table>\n",
       "</div>"
      ],
      "text/plain": [
       "                                                      title  \\\n",
       "book_id                                                       \n",
       "6066814           Crowner Royal (Crowner John Mystery, #13)   \n",
       "33394837            The House of Memory (Pluto's Snitch #2)   \n",
       "29074697  The Slaughtered Virgin of Zenopolis (Inspector...   \n",
       "1902202             Dead in the Morning (Patrick Grant, #1)   \n",
       "9671977                    Aristotele e i misteri di Eleusi   \n",
       "\n",
       "          text_reviews_count  \\\n",
       "book_id                        \n",
       "6066814                   15   \n",
       "33394837                  60   \n",
       "29074697                  23   \n",
       "1902202                    8   \n",
       "9671977                    3   \n",
       "\n",
       "                                            popular_shelves  average_rating  \\\n",
       "book_id                                                                       \n",
       "6066814   [{'count': '159', 'name': 'to-read'}, {'count'...            3.93   \n",
       "33394837  [{'count': '54', 'name': 'currently-reading'},...            4.33   \n",
       "29074697  [{'count': '90', 'name': 'to-read'}, {'count':...            3.49   \n",
       "1902202   [{'count': '51', 'name': 'to-read'}, {'count':...            3.30   \n",
       "9671977   [{'count': '48', 'name': 'to-read'}, {'count':...            3.54   \n",
       "\n",
       "                                                description  author_id  \\\n",
       "book_id                                                                  \n",
       "6066814   London, 1196. At the command of Richard the Li...      37778   \n",
       "33394837                                                        242185   \n",
       "29074697  BATHS, BANKS AND ROMAN INSURRECTION\\nDetective...   15104629   \n",
       "1902202   Gerald breezily introduced his wife, Helen, to...     190988   \n",
       "9671977   \"I misteri di Eleusi\" e il quinto romanzo di A...     337108   \n",
       "\n",
       "             author_name  \n",
       "book_id                   \n",
       "6066814   Bernard Knight  \n",
       "33394837  Carolyn Haines  \n",
       "29074697    David  Blake  \n",
       "1902202   Margaret Yorke  \n",
       "9671977   Margaret Doody  "
      ]
     },
     "execution_count": 19,
     "metadata": {},
     "output_type": "execute_result"
    }
   ],
   "source": [
    "df_books.rename(columns={\"name\": \"author_name\"}, inplace=True)\n",
    "df_books.head()"
   ]
  },
  {
   "cell_type": "code",
   "execution_count": 20,
   "metadata": {},
   "outputs": [
    {
     "data": {
      "text/html": [
       "<div>\n",
       "<style scoped>\n",
       "    .dataframe tbody tr th:only-of-type {\n",
       "        vertical-align: middle;\n",
       "    }\n",
       "\n",
       "    .dataframe tbody tr th {\n",
       "        vertical-align: top;\n",
       "    }\n",
       "\n",
       "    .dataframe thead th {\n",
       "        text-align: right;\n",
       "    }\n",
       "</style>\n",
       "<table border=\"1\" class=\"dataframe\">\n",
       "  <thead>\n",
       "    <tr style=\"text-align: right;\">\n",
       "      <th></th>\n",
       "      <th>user_id</th>\n",
       "      <th>book_id</th>\n",
       "      <th>rating</th>\n",
       "      <th>review_text</th>\n",
       "      <th>title</th>\n",
       "      <th>text_reviews_count</th>\n",
       "      <th>popular_shelves</th>\n",
       "      <th>average_rating</th>\n",
       "      <th>description</th>\n",
       "      <th>author_id</th>\n",
       "      <th>author_name</th>\n",
       "    </tr>\n",
       "    <tr>\n",
       "      <th>review_id</th>\n",
       "      <th></th>\n",
       "      <th></th>\n",
       "      <th></th>\n",
       "      <th></th>\n",
       "      <th></th>\n",
       "      <th></th>\n",
       "      <th></th>\n",
       "      <th></th>\n",
       "      <th></th>\n",
       "      <th></th>\n",
       "      <th></th>\n",
       "    </tr>\n",
       "  </thead>\n",
       "  <tbody>\n",
       "    <tr>\n",
       "      <th>d44b6d28f456dbcc5b1537b4c5572400</th>\n",
       "      <td>8842281e1d1347389f2ab93d60773d4d</td>\n",
       "      <td>6411961</td>\n",
       "      <td>3</td>\n",
       "      <td>** spoiler alert ** \\n Critics aside, Dan Brow...</td>\n",
       "      <td>The Lost Symbol (Robert Langdon, #3)</td>\n",
       "      <td>21569</td>\n",
       "      <td>[{'count': '9279', 'name': 'currently-reading'...</td>\n",
       "      <td>3.66</td>\n",
       "      <td>WHAT IS LOST...\\nWILL BE FOUND\\nIn this stunni...</td>\n",
       "      <td>630</td>\n",
       "      <td>Dan Brown</td>\n",
       "    </tr>\n",
       "    <tr>\n",
       "      <th>41e98a56ec0abd77d9191b4f1e2cd806</th>\n",
       "      <td>40b795551cd5b1dae85ff2f7b8ddee27</td>\n",
       "      <td>6411961</td>\n",
       "      <td>2</td>\n",
       "      <td>While the book is a page-turner, I found the p...</td>\n",
       "      <td>The Lost Symbol (Robert Langdon, #3)</td>\n",
       "      <td>21569</td>\n",
       "      <td>[{'count': '9279', 'name': 'currently-reading'...</td>\n",
       "      <td>3.66</td>\n",
       "      <td>WHAT IS LOST...\\nWILL BE FOUND\\nIn this stunni...</td>\n",
       "      <td>630</td>\n",
       "      <td>Dan Brown</td>\n",
       "    </tr>\n",
       "    <tr>\n",
       "      <th>9ccb9f3b2719283bd8a6d24c297cd738</th>\n",
       "      <td>2193b39163317f53641d1f8539a4586c</td>\n",
       "      <td>6411961</td>\n",
       "      <td>3</td>\n",
       "      <td>As always well written and you have to keep re...</td>\n",
       "      <td>The Lost Symbol (Robert Langdon, #3)</td>\n",
       "      <td>21569</td>\n",
       "      <td>[{'count': '9279', 'name': 'currently-reading'...</td>\n",
       "      <td>3.66</td>\n",
       "      <td>WHAT IS LOST...\\nWILL BE FOUND\\nIn this stunni...</td>\n",
       "      <td>630</td>\n",
       "      <td>Dan Brown</td>\n",
       "    </tr>\n",
       "    <tr>\n",
       "      <th>a4f43a0a2703c9c46a18ba1b8a7a2b90</th>\n",
       "      <td>21e67f8f9a1679070e93ff8a152efde6</td>\n",
       "      <td>6411961</td>\n",
       "      <td>3</td>\n",
       "      <td>I am sorry to say this, but i found the plot o...</td>\n",
       "      <td>The Lost Symbol (Robert Langdon, #3)</td>\n",
       "      <td>21569</td>\n",
       "      <td>[{'count': '9279', 'name': 'currently-reading'...</td>\n",
       "      <td>3.66</td>\n",
       "      <td>WHAT IS LOST...\\nWILL BE FOUND\\nIn this stunni...</td>\n",
       "      <td>630</td>\n",
       "      <td>Dan Brown</td>\n",
       "    </tr>\n",
       "    <tr>\n",
       "      <th>0b8368d5286c6ebf3a22a7ed3572b513</th>\n",
       "      <td>1939a0e8cacc2101a1f6d5446d91de78</td>\n",
       "      <td>6411961</td>\n",
       "      <td>4</td>\n",
       "      <td>Book two - loved it, couldn't put down until I...</td>\n",
       "      <td>The Lost Symbol (Robert Langdon, #3)</td>\n",
       "      <td>21569</td>\n",
       "      <td>[{'count': '9279', 'name': 'currently-reading'...</td>\n",
       "      <td>3.66</td>\n",
       "      <td>WHAT IS LOST...\\nWILL BE FOUND\\nIn this stunni...</td>\n",
       "      <td>630</td>\n",
       "      <td>Dan Brown</td>\n",
       "    </tr>\n",
       "  </tbody>\n",
       "</table>\n",
       "</div>"
      ],
      "text/plain": [
       "                                                           user_id  book_id  \\\n",
       "review_id                                                                     \n",
       "d44b6d28f456dbcc5b1537b4c5572400  8842281e1d1347389f2ab93d60773d4d  6411961   \n",
       "41e98a56ec0abd77d9191b4f1e2cd806  40b795551cd5b1dae85ff2f7b8ddee27  6411961   \n",
       "9ccb9f3b2719283bd8a6d24c297cd738  2193b39163317f53641d1f8539a4586c  6411961   \n",
       "a4f43a0a2703c9c46a18ba1b8a7a2b90  21e67f8f9a1679070e93ff8a152efde6  6411961   \n",
       "0b8368d5286c6ebf3a22a7ed3572b513  1939a0e8cacc2101a1f6d5446d91de78  6411961   \n",
       "\n",
       "                                  rating  \\\n",
       "review_id                                  \n",
       "d44b6d28f456dbcc5b1537b4c5572400       3   \n",
       "41e98a56ec0abd77d9191b4f1e2cd806       2   \n",
       "9ccb9f3b2719283bd8a6d24c297cd738       3   \n",
       "a4f43a0a2703c9c46a18ba1b8a7a2b90       3   \n",
       "0b8368d5286c6ebf3a22a7ed3572b513       4   \n",
       "\n",
       "                                                                        review_text  \\\n",
       "review_id                                                                             \n",
       "d44b6d28f456dbcc5b1537b4c5572400  ** spoiler alert ** \\n Critics aside, Dan Brow...   \n",
       "41e98a56ec0abd77d9191b4f1e2cd806  While the book is a page-turner, I found the p...   \n",
       "9ccb9f3b2719283bd8a6d24c297cd738  As always well written and you have to keep re...   \n",
       "a4f43a0a2703c9c46a18ba1b8a7a2b90  I am sorry to say this, but i found the plot o...   \n",
       "0b8368d5286c6ebf3a22a7ed3572b513  Book two - loved it, couldn't put down until I...   \n",
       "\n",
       "                                                                 title  \\\n",
       "review_id                                                                \n",
       "d44b6d28f456dbcc5b1537b4c5572400  The Lost Symbol (Robert Langdon, #3)   \n",
       "41e98a56ec0abd77d9191b4f1e2cd806  The Lost Symbol (Robert Langdon, #3)   \n",
       "9ccb9f3b2719283bd8a6d24c297cd738  The Lost Symbol (Robert Langdon, #3)   \n",
       "a4f43a0a2703c9c46a18ba1b8a7a2b90  The Lost Symbol (Robert Langdon, #3)   \n",
       "0b8368d5286c6ebf3a22a7ed3572b513  The Lost Symbol (Robert Langdon, #3)   \n",
       "\n",
       "                                  text_reviews_count  \\\n",
       "review_id                                              \n",
       "d44b6d28f456dbcc5b1537b4c5572400               21569   \n",
       "41e98a56ec0abd77d9191b4f1e2cd806               21569   \n",
       "9ccb9f3b2719283bd8a6d24c297cd738               21569   \n",
       "a4f43a0a2703c9c46a18ba1b8a7a2b90               21569   \n",
       "0b8368d5286c6ebf3a22a7ed3572b513               21569   \n",
       "\n",
       "                                                                    popular_shelves  \\\n",
       "review_id                                                                             \n",
       "d44b6d28f456dbcc5b1537b4c5572400  [{'count': '9279', 'name': 'currently-reading'...   \n",
       "41e98a56ec0abd77d9191b4f1e2cd806  [{'count': '9279', 'name': 'currently-reading'...   \n",
       "9ccb9f3b2719283bd8a6d24c297cd738  [{'count': '9279', 'name': 'currently-reading'...   \n",
       "a4f43a0a2703c9c46a18ba1b8a7a2b90  [{'count': '9279', 'name': 'currently-reading'...   \n",
       "0b8368d5286c6ebf3a22a7ed3572b513  [{'count': '9279', 'name': 'currently-reading'...   \n",
       "\n",
       "                                  average_rating  \\\n",
       "review_id                                          \n",
       "d44b6d28f456dbcc5b1537b4c5572400            3.66   \n",
       "41e98a56ec0abd77d9191b4f1e2cd806            3.66   \n",
       "9ccb9f3b2719283bd8a6d24c297cd738            3.66   \n",
       "a4f43a0a2703c9c46a18ba1b8a7a2b90            3.66   \n",
       "0b8368d5286c6ebf3a22a7ed3572b513            3.66   \n",
       "\n",
       "                                                                        description  \\\n",
       "review_id                                                                             \n",
       "d44b6d28f456dbcc5b1537b4c5572400  WHAT IS LOST...\\nWILL BE FOUND\\nIn this stunni...   \n",
       "41e98a56ec0abd77d9191b4f1e2cd806  WHAT IS LOST...\\nWILL BE FOUND\\nIn this stunni...   \n",
       "9ccb9f3b2719283bd8a6d24c297cd738  WHAT IS LOST...\\nWILL BE FOUND\\nIn this stunni...   \n",
       "a4f43a0a2703c9c46a18ba1b8a7a2b90  WHAT IS LOST...\\nWILL BE FOUND\\nIn this stunni...   \n",
       "0b8368d5286c6ebf3a22a7ed3572b513  WHAT IS LOST...\\nWILL BE FOUND\\nIn this stunni...   \n",
       "\n",
       "                                  author_id author_name  \n",
       "review_id                                                \n",
       "d44b6d28f456dbcc5b1537b4c5572400        630   Dan Brown  \n",
       "41e98a56ec0abd77d9191b4f1e2cd806        630   Dan Brown  \n",
       "9ccb9f3b2719283bd8a6d24c297cd738        630   Dan Brown  \n",
       "a4f43a0a2703c9c46a18ba1b8a7a2b90        630   Dan Brown  \n",
       "0b8368d5286c6ebf3a22a7ed3572b513        630   Dan Brown  "
      ]
     },
     "execution_count": 20,
     "metadata": {},
     "output_type": "execute_result"
    }
   ],
   "source": [
    "df_join = pd.merge(df_reviews, df_books, left_on=\"book_id\", right_index=True)\n",
    "df_join.head()"
   ]
  },
  {
   "cell_type": "code",
   "execution_count": 34,
   "metadata": {},
   "outputs": [
    {
     "data": {
      "text/html": [
       "<div>\n",
       "<style scoped>\n",
       "    .dataframe tbody tr th:only-of-type {\n",
       "        vertical-align: middle;\n",
       "    }\n",
       "\n",
       "    .dataframe tbody tr th {\n",
       "        vertical-align: top;\n",
       "    }\n",
       "\n",
       "    .dataframe thead th {\n",
       "        text-align: right;\n",
       "    }\n",
       "</style>\n",
       "<table border=\"1\" class=\"dataframe\">\n",
       "  <thead>\n",
       "    <tr style=\"text-align: right;\">\n",
       "      <th></th>\n",
       "      <th>book_id</th>\n",
       "      <th>rating</th>\n",
       "      <th>text_reviews_count</th>\n",
       "      <th>average_rating</th>\n",
       "      <th>author_id</th>\n",
       "    </tr>\n",
       "  </thead>\n",
       "  <tbody>\n",
       "    <tr>\n",
       "      <th>count</th>\n",
       "      <td>4.272000e+03</td>\n",
       "      <td>4272.000000</td>\n",
       "      <td>4272.000000</td>\n",
       "      <td>4272.000000</td>\n",
       "      <td>4.272000e+03</td>\n",
       "    </tr>\n",
       "    <tr>\n",
       "      <th>mean</th>\n",
       "      <td>1.275792e+07</td>\n",
       "      <td>3.711376</td>\n",
       "      <td>1806.218633</td>\n",
       "      <td>3.861505</td>\n",
       "      <td>2.245762e+06</td>\n",
       "    </tr>\n",
       "    <tr>\n",
       "      <th>std</th>\n",
       "      <td>1.068043e+07</td>\n",
       "      <td>1.168053</td>\n",
       "      <td>4594.836138</td>\n",
       "      <td>0.280653</td>\n",
       "      <td>3.726043e+06</td>\n",
       "    </tr>\n",
       "    <tr>\n",
       "      <th>min</th>\n",
       "      <td>2.300000e+02</td>\n",
       "      <td>0.000000</td>\n",
       "      <td>1.000000</td>\n",
       "      <td>2.530000</td>\n",
       "      <td>1.310000e+02</td>\n",
       "    </tr>\n",
       "    <tr>\n",
       "      <th>25%</th>\n",
       "      <td>1.038334e+06</td>\n",
       "      <td>3.000000</td>\n",
       "      <td>33.000000</td>\n",
       "      <td>3.690000</td>\n",
       "      <td>1.375700e+04</td>\n",
       "    </tr>\n",
       "    <tr>\n",
       "      <th>50%</th>\n",
       "      <td>1.271421e+07</td>\n",
       "      <td>4.000000</td>\n",
       "      <td>193.000000</td>\n",
       "      <td>3.890000</td>\n",
       "      <td>1.448005e+05</td>\n",
       "    </tr>\n",
       "    <tr>\n",
       "      <th>75%</th>\n",
       "      <td>2.146169e+07</td>\n",
       "      <td>5.000000</td>\n",
       "      <td>1001.750000</td>\n",
       "      <td>4.050000</td>\n",
       "      <td>3.418028e+06</td>\n",
       "    </tr>\n",
       "    <tr>\n",
       "      <th>max</th>\n",
       "      <td>3.620798e+07</td>\n",
       "      <td>5.000000</td>\n",
       "      <td>24868.000000</td>\n",
       "      <td>4.750000</td>\n",
       "      <td>1.703360e+07</td>\n",
       "    </tr>\n",
       "  </tbody>\n",
       "</table>\n",
       "</div>"
      ],
      "text/plain": [
       "            book_id       rating  text_reviews_count  average_rating  \\\n",
       "count  4.272000e+03  4272.000000         4272.000000     4272.000000   \n",
       "mean   1.275792e+07     3.711376         1806.218633        3.861505   \n",
       "std    1.068043e+07     1.168053         4594.836138        0.280653   \n",
       "min    2.300000e+02     0.000000            1.000000        2.530000   \n",
       "25%    1.038334e+06     3.000000           33.000000        3.690000   \n",
       "50%    1.271421e+07     4.000000          193.000000        3.890000   \n",
       "75%    2.146169e+07     5.000000         1001.750000        4.050000   \n",
       "max    3.620798e+07     5.000000        24868.000000        4.750000   \n",
       "\n",
       "          author_id  \n",
       "count  4.272000e+03  \n",
       "mean   2.245762e+06  \n",
       "std    3.726043e+06  \n",
       "min    1.310000e+02  \n",
       "25%    1.375700e+04  \n",
       "50%    1.448005e+05  \n",
       "75%    3.418028e+06  \n",
       "max    1.703360e+07  "
      ]
     },
     "execution_count": 34,
     "metadata": {},
     "output_type": "execute_result"
    }
   ],
   "source": [
    "df_join.describe()"
   ]
  },
  {
   "cell_type": "code",
   "execution_count": 10,
   "metadata": {},
   "outputs": [
    {
     "name": "stdout",
     "output_type": "stream",
     "text": [
      "<class 'pandas.core.frame.DataFrame'>\n",
      "Int64Index: 30000 entries, 6066814 to 23960943\n",
      "Data columns (total 7 columns):\n",
      " #   Column              Non-Null Count  Dtype  \n",
      "---  ------              --------------  -----  \n",
      " 0   title               30000 non-null  object \n",
      " 1   text_reviews_count  30000 non-null  uint32 \n",
      " 2   popular_shelves     30000 non-null  object \n",
      " 3   average_rating      30000 non-null  float64\n",
      " 4   description         30000 non-null  object \n",
      " 5   author_id           30000 non-null  int64  \n",
      " 6   name                16228 non-null  object \n",
      "dtypes: float64(1), int64(1), object(4), uint32(1)\n",
      "memory usage: 1.7+ MB\n"
     ]
    }
   ],
   "source": [
    "df_books.info()"
   ]
  },
  {
   "cell_type": "markdown",
   "metadata": {},
   "source": [
    "### Join Reviews and Book Infos\n",
    "#### only 4272 book-review pairs are overlapping in total"
   ]
  },
  {
   "cell_type": "code",
   "execution_count": 11,
   "metadata": {},
   "outputs": [
    {
     "data": {
      "text/html": [
       "<div>\n",
       "<style scoped>\n",
       "    .dataframe tbody tr th:only-of-type {\n",
       "        vertical-align: middle;\n",
       "    }\n",
       "\n",
       "    .dataframe tbody tr th {\n",
       "        vertical-align: top;\n",
       "    }\n",
       "\n",
       "    .dataframe thead th {\n",
       "        text-align: right;\n",
       "    }\n",
       "</style>\n",
       "<table border=\"1\" class=\"dataframe\">\n",
       "  <thead>\n",
       "    <tr style=\"text-align: right;\">\n",
       "      <th></th>\n",
       "      <th>user_id</th>\n",
       "      <th>book_id</th>\n",
       "      <th>rating</th>\n",
       "      <th>review_text</th>\n",
       "      <th>title</th>\n",
       "      <th>text_reviews_count</th>\n",
       "      <th>popular_shelves</th>\n",
       "      <th>average_rating</th>\n",
       "      <th>description</th>\n",
       "      <th>author_id</th>\n",
       "      <th>name</th>\n",
       "    </tr>\n",
       "    <tr>\n",
       "      <th>review_id</th>\n",
       "      <th></th>\n",
       "      <th></th>\n",
       "      <th></th>\n",
       "      <th></th>\n",
       "      <th></th>\n",
       "      <th></th>\n",
       "      <th></th>\n",
       "      <th></th>\n",
       "      <th></th>\n",
       "      <th></th>\n",
       "      <th></th>\n",
       "    </tr>\n",
       "  </thead>\n",
       "  <tbody>\n",
       "    <tr>\n",
       "      <th>fe2b43f4dcacee1bd5e14433d19139f1</th>\n",
       "      <td>70eb5a06d5aa23ecc694850b980309a9</td>\n",
       "      <td>5060378</td>\n",
       "      <td>4</td>\n",
       "      <td>Really liked this book, though I can never fig...</td>\n",
       "      <td>The Girl Who Played with Fire (Millennium, #2)</td>\n",
       "      <td>24868</td>\n",
       "      <td>[{'count': '6613', 'name': 'fiction'}, {'count...</td>\n",
       "      <td>4.22</td>\n",
       "      <td>The Expose\\nMillenniumpublisher Mikael Blomkvi...</td>\n",
       "      <td>706255</td>\n",
       "      <td>Stieg Larsson</td>\n",
       "    </tr>\n",
       "    <tr>\n",
       "      <th>87f62eb9a9d4d41f57125463b62066e2</th>\n",
       "      <td>4067b56ccfa82b34e0ea0bfa2cc99cf1</td>\n",
       "      <td>5060378</td>\n",
       "      <td>5</td>\n",
       "      <td>I loved The Girl With The Dragon Tattoo and I ...</td>\n",
       "      <td>The Girl Who Played with Fire (Millennium, #2)</td>\n",
       "      <td>24868</td>\n",
       "      <td>[{'count': '6613', 'name': 'fiction'}, {'count...</td>\n",
       "      <td>4.22</td>\n",
       "      <td>The Expose\\nMillenniumpublisher Mikael Blomkvi...</td>\n",
       "      <td>706255</td>\n",
       "      <td>Stieg Larsson</td>\n",
       "    </tr>\n",
       "    <tr>\n",
       "      <th>7dc1dfe51c0e26d24d3d16fbe7c06c6d</th>\n",
       "      <td>d8c86e725d683042e9eec675f294d7d4</td>\n",
       "      <td>5060378</td>\n",
       "      <td>5</td>\n",
       "      <td>One of my favorite books. Ever. \\n This book i...</td>\n",
       "      <td>The Girl Who Played with Fire (Millennium, #2)</td>\n",
       "      <td>24868</td>\n",
       "      <td>[{'count': '6613', 'name': 'fiction'}, {'count...</td>\n",
       "      <td>4.22</td>\n",
       "      <td>The Expose\\nMillenniumpublisher Mikael Blomkvi...</td>\n",
       "      <td>706255</td>\n",
       "      <td>Stieg Larsson</td>\n",
       "    </tr>\n",
       "    <tr>\n",
       "      <th>4f8957565f264bbea508417dfeb0f793</th>\n",
       "      <td>ab2fadb5c7bbe55c80406d2b3692e969</td>\n",
       "      <td>5060378</td>\n",
       "      <td>3</td>\n",
       "      <td>Argh! This book kind of killed me. For a good ...</td>\n",
       "      <td>The Girl Who Played with Fire (Millennium, #2)</td>\n",
       "      <td>24868</td>\n",
       "      <td>[{'count': '6613', 'name': 'fiction'}, {'count...</td>\n",
       "      <td>4.22</td>\n",
       "      <td>The Expose\\nMillenniumpublisher Mikael Blomkvi...</td>\n",
       "      <td>706255</td>\n",
       "      <td>Stieg Larsson</td>\n",
       "    </tr>\n",
       "    <tr>\n",
       "      <th>8180c6416aa339537abbe5049c330128</th>\n",
       "      <td>246eac0ca4d02e73d8768a5acb9b89d7</td>\n",
       "      <td>5060378</td>\n",
       "      <td>3</td>\n",
       "      <td>This series remains a guilty pleasure, though ...</td>\n",
       "      <td>The Girl Who Played with Fire (Millennium, #2)</td>\n",
       "      <td>24868</td>\n",
       "      <td>[{'count': '6613', 'name': 'fiction'}, {'count...</td>\n",
       "      <td>4.22</td>\n",
       "      <td>The Expose\\nMillenniumpublisher Mikael Blomkvi...</td>\n",
       "      <td>706255</td>\n",
       "      <td>Stieg Larsson</td>\n",
       "    </tr>\n",
       "  </tbody>\n",
       "</table>\n",
       "</div>"
      ],
      "text/plain": [
       "                                                           user_id  book_id  \\\n",
       "review_id                                                                     \n",
       "fe2b43f4dcacee1bd5e14433d19139f1  70eb5a06d5aa23ecc694850b980309a9  5060378   \n",
       "87f62eb9a9d4d41f57125463b62066e2  4067b56ccfa82b34e0ea0bfa2cc99cf1  5060378   \n",
       "7dc1dfe51c0e26d24d3d16fbe7c06c6d  d8c86e725d683042e9eec675f294d7d4  5060378   \n",
       "4f8957565f264bbea508417dfeb0f793  ab2fadb5c7bbe55c80406d2b3692e969  5060378   \n",
       "8180c6416aa339537abbe5049c330128  246eac0ca4d02e73d8768a5acb9b89d7  5060378   \n",
       "\n",
       "                                  rating  \\\n",
       "review_id                                  \n",
       "fe2b43f4dcacee1bd5e14433d19139f1       4   \n",
       "87f62eb9a9d4d41f57125463b62066e2       5   \n",
       "7dc1dfe51c0e26d24d3d16fbe7c06c6d       5   \n",
       "4f8957565f264bbea508417dfeb0f793       3   \n",
       "8180c6416aa339537abbe5049c330128       3   \n",
       "\n",
       "                                                                        review_text  \\\n",
       "review_id                                                                             \n",
       "fe2b43f4dcacee1bd5e14433d19139f1  Really liked this book, though I can never fig...   \n",
       "87f62eb9a9d4d41f57125463b62066e2  I loved The Girl With The Dragon Tattoo and I ...   \n",
       "7dc1dfe51c0e26d24d3d16fbe7c06c6d  One of my favorite books. Ever. \\n This book i...   \n",
       "4f8957565f264bbea508417dfeb0f793  Argh! This book kind of killed me. For a good ...   \n",
       "8180c6416aa339537abbe5049c330128  This series remains a guilty pleasure, though ...   \n",
       "\n",
       "                                                                           title  \\\n",
       "review_id                                                                          \n",
       "fe2b43f4dcacee1bd5e14433d19139f1  The Girl Who Played with Fire (Millennium, #2)   \n",
       "87f62eb9a9d4d41f57125463b62066e2  The Girl Who Played with Fire (Millennium, #2)   \n",
       "7dc1dfe51c0e26d24d3d16fbe7c06c6d  The Girl Who Played with Fire (Millennium, #2)   \n",
       "4f8957565f264bbea508417dfeb0f793  The Girl Who Played with Fire (Millennium, #2)   \n",
       "8180c6416aa339537abbe5049c330128  The Girl Who Played with Fire (Millennium, #2)   \n",
       "\n",
       "                                  text_reviews_count  \\\n",
       "review_id                                              \n",
       "fe2b43f4dcacee1bd5e14433d19139f1               24868   \n",
       "87f62eb9a9d4d41f57125463b62066e2               24868   \n",
       "7dc1dfe51c0e26d24d3d16fbe7c06c6d               24868   \n",
       "4f8957565f264bbea508417dfeb0f793               24868   \n",
       "8180c6416aa339537abbe5049c330128               24868   \n",
       "\n",
       "                                                                    popular_shelves  \\\n",
       "review_id                                                                             \n",
       "fe2b43f4dcacee1bd5e14433d19139f1  [{'count': '6613', 'name': 'fiction'}, {'count...   \n",
       "87f62eb9a9d4d41f57125463b62066e2  [{'count': '6613', 'name': 'fiction'}, {'count...   \n",
       "7dc1dfe51c0e26d24d3d16fbe7c06c6d  [{'count': '6613', 'name': 'fiction'}, {'count...   \n",
       "4f8957565f264bbea508417dfeb0f793  [{'count': '6613', 'name': 'fiction'}, {'count...   \n",
       "8180c6416aa339537abbe5049c330128  [{'count': '6613', 'name': 'fiction'}, {'count...   \n",
       "\n",
       "                                  average_rating  \\\n",
       "review_id                                          \n",
       "fe2b43f4dcacee1bd5e14433d19139f1            4.22   \n",
       "87f62eb9a9d4d41f57125463b62066e2            4.22   \n",
       "7dc1dfe51c0e26d24d3d16fbe7c06c6d            4.22   \n",
       "4f8957565f264bbea508417dfeb0f793            4.22   \n",
       "8180c6416aa339537abbe5049c330128            4.22   \n",
       "\n",
       "                                                                        description  \\\n",
       "review_id                                                                             \n",
       "fe2b43f4dcacee1bd5e14433d19139f1  The Expose\\nMillenniumpublisher Mikael Blomkvi...   \n",
       "87f62eb9a9d4d41f57125463b62066e2  The Expose\\nMillenniumpublisher Mikael Blomkvi...   \n",
       "7dc1dfe51c0e26d24d3d16fbe7c06c6d  The Expose\\nMillenniumpublisher Mikael Blomkvi...   \n",
       "4f8957565f264bbea508417dfeb0f793  The Expose\\nMillenniumpublisher Mikael Blomkvi...   \n",
       "8180c6416aa339537abbe5049c330128  The Expose\\nMillenniumpublisher Mikael Blomkvi...   \n",
       "\n",
       "                                  author_id           name  \n",
       "review_id                                                   \n",
       "fe2b43f4dcacee1bd5e14433d19139f1     706255  Stieg Larsson  \n",
       "87f62eb9a9d4d41f57125463b62066e2     706255  Stieg Larsson  \n",
       "7dc1dfe51c0e26d24d3d16fbe7c06c6d     706255  Stieg Larsson  \n",
       "4f8957565f264bbea508417dfeb0f793     706255  Stieg Larsson  \n",
       "8180c6416aa339537abbe5049c330128     706255  Stieg Larsson  "
      ]
     },
     "execution_count": 11,
     "metadata": {},
     "output_type": "execute_result"
    }
   ],
   "source": [
    "df_join[100:105]"
   ]
  },
  {
   "cell_type": "code",
   "execution_count": 12,
   "metadata": {},
   "outputs": [
    {
     "name": "stdout",
     "output_type": "stream",
     "text": [
      "<class 'pandas.core.frame.DataFrame'>\n",
      "Index: 4272 entries, d44b6d28f456dbcc5b1537b4c5572400 to 041fa5ebdb3e1c8f70ff67b1ea689031\n",
      "Data columns (total 11 columns):\n",
      " #   Column              Non-Null Count  Dtype  \n",
      "---  ------              --------------  -----  \n",
      " 0   user_id             4272 non-null   object \n",
      " 1   book_id             4272 non-null   uint32 \n",
      " 2   rating              4272 non-null   uint8  \n",
      " 3   review_text         4272 non-null   object \n",
      " 4   title               4272 non-null   object \n",
      " 5   text_reviews_count  4272 non-null   uint32 \n",
      " 6   popular_shelves     4272 non-null   object \n",
      " 7   average_rating      4272 non-null   float64\n",
      " 8   description         4272 non-null   object \n",
      " 9   author_id           4272 non-null   int64  \n",
      " 10  name                2886 non-null   object \n",
      "dtypes: float64(1), int64(1), object(6), uint32(2), uint8(1)\n",
      "memory usage: 337.9+ KB\n"
     ]
    }
   ],
   "source": [
    "df_join.info()"
   ]
  },
  {
   "cell_type": "markdown",
   "metadata": {},
   "source": [
    "Reviews + Books joinen ? für Titel usw. ?"
   ]
  },
  {
   "cell_type": "code",
   "execution_count": 13,
   "metadata": {},
   "outputs": [],
   "source": [
    "book_title_lookup = tf.keras.layers.StringLookup()"
   ]
  },
  {
   "cell_type": "code",
   "execution_count": 14,
   "metadata": {},
   "outputs": [
    {
     "name": "stdout",
     "output_type": "stream",
     "text": [
      "Vocabulary: ['[UNK]', 'The Woman in White', 'The Adventures of Sherlock Holmes', 'Rebecca', 'A Study in Scarlet']\n"
     ]
    }
   ],
   "source": [
    "book_title_lookup.adapt(df_books['title'])\n",
    "print(f\"Vocabulary: {book_title_lookup.get_vocabulary()[:5]}\")"
   ]
  },
  {
   "cell_type": "markdown",
   "metadata": {},
   "source": [
    "now we can translate raw tokens (title) into embedding ids (here -> 1)"
   ]
  },
  {
   "cell_type": "code",
   "execution_count": 15,
   "metadata": {},
   "outputs": [
    {
     "data": {
      "text/plain": [
       "<tf.Tensor: shape=(), dtype=int64, numpy=1>"
      ]
     },
     "execution_count": 15,
     "metadata": {},
     "output_type": "execute_result"
    }
   ],
   "source": [
    "book_title_lookup(\"The Woman in White\")\n"
   ]
  },
  {
   "cell_type": "markdown",
   "metadata": {},
   "source": [
    "you have OOV (out of vocabulary) for unknown tokens. StringLookup can use multiple OOV indices. the more indices, the less likely two different feature values will hash to the same OOV index. To take it to the next level, let's _just_ use hashing"
   ]
  },
  {
   "cell_type": "code",
   "execution_count": 16,
   "metadata": {},
   "outputs": [],
   "source": [
    "# We set up a large number of bins to reduce the chance of hash collisions.\n",
    "num_hashing_bins = 200_000\n",
    "\n",
    "book_title_hashing = tf.keras.layers.Hashing(\n",
    "    num_bins=num_hashing_bins\n",
    ")\n"
   ]
  },
  {
   "cell_type": "code",
   "execution_count": 17,
   "metadata": {},
   "outputs": [
    {
     "data": {
      "text/plain": [
       "<tf.Tensor: shape=(1,), dtype=int64, numpy=array([145026], dtype=int64)>"
      ]
     },
     "execution_count": 17,
     "metadata": {},
     "output_type": "execute_result"
    }
   ],
   "source": [
    "book_title_hashing(['The Woman in White'])"
   ]
  },
  {
   "cell_type": "markdown",
   "metadata": {},
   "source": [
    "Now let's turn those integers into **Embeddings**\n",
    "> An embedding layer has two dimensions: the first dimension tells us how many distinct categories we can embed; the second tells us how large the vector representing each of them can be. When creating the embedding layer for movie titles, we are going to set the first value to the size of our title vocabulary (or the number of hashing bins). The second is up to us: the larger it is, the higher the capacity of the model, but the slower it is to fit and serve.\n"
   ]
  },
  {
   "cell_type": "code",
   "execution_count": 18,
   "metadata": {},
   "outputs": [],
   "source": [
    "book_title_embedding = tf.keras.layers.Embedding(\n",
    "    # Let's use the explicit vocabulary lookup. (for whatever reason..)\n",
    "    input_dim=book_title_lookup.vocabulary_size(),\n",
    "    output_dim=32\n",
    ")"
   ]
  },
  {
   "cell_type": "markdown",
   "metadata": {},
   "source": [
    "String -> Integer -> Embedding"
   ]
  },
  {
   "cell_type": "code",
   "execution_count": 40,
   "metadata": {},
   "outputs": [],
   "source": [
    "book_title_model = tf.keras.Sequential([tf.keras.Input(shape=(1,), dtype=tf.string), book_title_lookup, book_title_embedding])"
   ]
  },
  {
   "cell_type": "code",
   "execution_count": 43,
   "metadata": {},
   "outputs": [
    {
     "data": {
      "text/plain": [
       "array([[[-0.04795183,  0.04396185,  0.04338274,  0.01306342,\n",
       "         -0.0034074 , -0.02287626,  0.00849246,  0.0158684 ,\n",
       "          0.01486142,  0.01317045,  0.02869229,  0.03591696,\n",
       "         -0.01345669,  0.00844286,  0.0126904 , -0.04739565,\n",
       "          0.02517379,  0.01828475,  0.02442754,  0.02419094,\n",
       "         -0.03021648,  0.03639397,  0.03049425,  0.01627653,\n",
       "         -0.00817373, -0.01427885,  0.04532106, -0.03992269,\n",
       "         -0.0232616 ,  0.04623466,  0.00218357,  0.00812031]]],\n",
       "      dtype=float32)"
      ]
     },
     "execution_count": 43,
     "metadata": {},
     "output_type": "execute_result"
    }
   ],
   "source": [
    "book_title_model.predict(['The Woman in White'])"
   ]
  },
  {
   "cell_type": "markdown",
   "metadata": {},
   "source": [
    "Jetzt das gleiche mit User IDs \n",
    "--> nicht nötig, da sie schon pure ints sind."
   ]
  },
  {
   "cell_type": "markdown",
   "metadata": {},
   "source": [
    "### Normalize Ratings\n",
    "not sure if necessary, but hey, doesn't hurt.\n",
    "not sure if min/max rescaling (0 - 1) or normalization is better..."
   ]
  },
  {
   "cell_type": "code",
   "execution_count": 72,
   "metadata": {},
   "outputs": [],
   "source": [
    "rating_scaling = tf.keras.layers.Rescaling(scale=1/5.)"
   ]
  },
  {
   "cell_type": "code",
   "execution_count": 74,
   "metadata": {},
   "outputs": [
    {
     "name": "stdout",
     "output_type": "stream",
     "text": [
      "normalized rating: [[0.26640868]], was 4\n",
      "normalized rating: [[1.1069033]], was 5\n",
      "normalized rating: [[-0.57408595]], was 3\n",
      "normalized rating: [[-0.57408595]], was 3\n",
      "normalized rating: [[-0.57408595]], was 3\n"
     ]
    }
   ],
   "source": [
    "rating_normalization = tf.keras.layers.Normalization()\n",
    "rating_normalization.adapt(df_reviews['rating'])\n",
    "for x in df_reviews['rating'].sample(5):\n",
    "    print(f\"normalized rating: {rating_normalization(x)}, was {x}\")"
   ]
  },
  {
   "cell_type": "markdown",
   "metadata": {},
   "source": [
    "jetzt hab ich halt Kontinuerliche Werte aus Diskreten gemacht. das ist eigentlich dumm."
   ]
  },
  {
   "cell_type": "code",
   "execution_count": 75,
   "metadata": {},
   "outputs": [
    {
     "data": {
      "text/plain": [
       "<tf.Tensor: shape=(1,), dtype=float32, numpy=array([0.8], dtype=float32)>"
      ]
     },
     "execution_count": 75,
     "metadata": {},
     "output_type": "execute_result"
    }
   ],
   "source": [
    "rating_scaling(df_reviews['rating'].sample())"
   ]
  },
  {
   "cell_type": "markdown",
   "metadata": {},
   "source": [
    "Ich bleib bei den rescaled Ratings. ist dann schön 0 - 1 aber auch nicht kategorisch, weil ja durchaus ein linearer Zusammenhang besteht."
   ]
  },
  {
   "cell_type": "markdown",
   "metadata": {},
   "source": [
    "### Processing text features"
   ]
  },
  {
   "cell_type": "markdown",
   "metadata": {},
   "source": [
    "## TODO: nur englische Bücher verwenden!"
   ]
  },
  {
   "cell_type": "code",
   "execution_count": 46,
   "metadata": {},
   "outputs": [],
   "source": [
    "description_text = tf.keras.layers.TextVectorization()\n",
    "description_text.adapt(df_books['description'])\n"
   ]
  },
  {
   "cell_type": "code",
   "execution_count": 54,
   "metadata": {},
   "outputs": [
    {
     "data": {
      "text/plain": [
       "book_id\n",
       "18070389    When the trail of America's most wanted terror...\n",
       "Name: description, dtype: object"
      ]
     },
     "execution_count": 54,
     "metadata": {},
     "output_type": "execute_result"
    }
   ],
   "source": [
    "sample = df_books['description'].sample()\n",
    "sample"
   ]
  },
  {
   "cell_type": "code",
   "execution_count": 55,
   "metadata": {},
   "outputs": [
    {
     "data": {
      "text/plain": [
       "<tf.Tensor: shape=(1, 71), dtype=int64, numpy=\n",
       "array([[   22,     2,   391,     5,  1260,    64,   781,  1079,   318,\n",
       "          424,     7, 34950,     4, 35886,    21,     3,  2108,  7365,\n",
       "            8, 38497,     7,   702,  5642,    27,    55,    20,     3,\n",
       "         9129,     2,  2076,  1079,     4,     2, 42729,    29,  1333,\n",
       "            4,    36,  1532,  2675,    46,     7,     2,   284,   236,\n",
       "         1291,  4454,   672,    14,   141,    98,    11,   236,     8,\n",
       "            2,    52,   546,     8,   903,    14,    54,    62,    70,\n",
       "          185,     7,    68,     6,  1510,    19,  2966,  4091]],\n",
       "      dtype=int64)>"
      ]
     },
     "execution_count": 55,
     "metadata": {},
     "output_type": "execute_result"
    }
   ],
   "source": [
    "description_text(sample)"
   ]
  },
  {
   "cell_type": "code",
   "execution_count": 57,
   "metadata": {},
   "outputs": [
    {
     "data": {
      "text/plain": [
       "['into', 'will', 'they', 'him', 'have', 'life', 'e', 'all', 'out', 'its']"
      ]
     },
     "execution_count": 57,
     "metadata": {},
     "output_type": "execute_result"
    }
   ],
   "source": [
    "description_text.get_vocabulary()[35:45]\n"
   ]
  },
  {
   "cell_type": "markdown",
   "metadata": {},
   "source": [
    "> To finish the processing, we now need to embed the text. Because each title contains multiple words, we will get multiple embeddings for each title. For use in a donwstream model these are usually compressed into a single embedding. Models like RNNs or Transformers are useful here, but averaging all the words' embeddings together is a good starting point."
   ]
  },
  {
   "cell_type": "markdown",
   "metadata": {},
   "source": [
    "## User Model"
   ]
  },
  {
   "cell_type": "code",
   "execution_count": 80,
   "metadata": {},
   "outputs": [],
   "source": [
    "user_id_lookup = tf.keras.layers.StringLookup()\n",
    "user_id_lookup.adapt(df_reviews[\"user_id\"])\n",
    "\n",
    "user_id_embedding = tf.keras.layers.Embedding(user_id_lookup.vocabulary_size(), 32)\n",
    "\n",
    "user_id_model = tf.keras.Sequential([tf.keras.Input(shape=(1,), dtype=tf.string), user_id_lookup, user_id_embedding])\n"
   ]
  },
  {
   "cell_type": "markdown",
   "metadata": {},
   "source": [
    "außer ID hab ich keine Infos zum User. könnte noch die Timestamps hinzufügen, ja. will ich aber erstmal nicht."
   ]
  },
  {
   "cell_type": "code",
   "execution_count": 84,
   "metadata": {},
   "outputs": [
    {
     "name": "stdout",
     "output_type": "stream",
     "text": [
      "Computed representations: [[[ 0.03838258  0.0334564   0.03454919  0.00372748  0.03165824\n",
      "    0.00075807  0.04269307 -0.04693964  0.01979567 -0.00531821\n",
      "   -0.02700326  0.02265919  0.01576631  0.02158827  0.02764842\n",
      "   -0.01916559 -0.03063707  0.02025689 -0.01541857  0.02078635\n",
      "    0.02063136 -0.02356881  0.02482804  0.01814339 -0.00089605\n",
      "   -0.0103486   0.00904109 -0.02392753  0.04720285  0.01891253\n",
      "    0.02500046 -0.04277949]]]\n",
      "Computed representations: [[[ 0.0410802   0.03618349 -0.00764035 -0.03487115  0.00224654\n",
      "    0.03541446  0.03207782  0.02575357  0.00630678 -0.04194795\n",
      "    0.04436341 -0.03732288  0.0157108  -0.01017121  0.03041244\n",
      "   -0.00320935  0.03131555 -0.00314027  0.03207007  0.03056103\n",
      "    0.02446505 -0.02898942  0.02729616 -0.03279417 -0.03488356\n",
      "   -0.0249534  -0.00356615  0.00310653  0.01982636  0.00428434\n",
      "   -0.01835685 -0.00186362]]]\n"
     ]
    }
   ],
   "source": [
    "for row in df_reviews['user_id'].sample(2):\n",
    "  print(f\"Computed representations: {user_id_model.predict([row])}\")\n"
   ]
  },
  {
   "cell_type": "markdown",
   "metadata": {},
   "source": [
    "## Book Model"
   ]
  },
  {
   "cell_type": "code",
   "execution_count": 50,
   "metadata": {},
   "outputs": [],
   "source": [
    "class BookModel(tf.keras.Model):\n",
    "\n",
    "  def __init__(self, title_vocabulary, description_vocabulary, author_vocabulary):\n",
    "    super().__init__()\n",
    "\n",
    "    max_tokens = 10_000\n",
    "    embedding_dim = 32\n",
    "\n",
    "    title_vectorization_layer = tf.keras.layers.TextVectorization(max_tokens=max_tokens)\n",
    "    title_vectorization_layer.adapt(title_vocabulary)\n",
    "    \n",
    "    self.title_embedding = tf.keras.Sequential([\n",
    "      title_vectorization_layer,\n",
    "      tf.keras.layers.Embedding(max_tokens, embedding_dim, mask_zero=True),\n",
    "      # We average the embedding of individual words to get one embedding vector\n",
    "      # per description.\n",
    "      tf.keras.layers.GlobalAveragePooling1D(),\n",
    "    ])\n",
    "\n",
    "    description_text_vectorization_layer = tf.keras.layers.TextVectorization(\n",
    "      max_tokens=max_tokens)\n",
    "    description_text_vectorization_layer.adapt(description_vocabulary)\n",
    "    \n",
    "    self.description_text_embedding = tf.keras.Sequential([\n",
    "      description_text_vectorization_layer,\n",
    "      tf.keras.layers.Embedding(max_tokens, embedding_dim, mask_zero=True),\n",
    "      # We average the embedding of individual words to get one embedding vector\n",
    "      # per description.\n",
    "      tf.keras.layers.GlobalAveragePooling1D(),\n",
    "    ])\n",
    "\n",
    "    # author IDs are numerical\n",
    "    #from sample list of author ids create a continous range\n",
    "    # train an embedding representation of this range\n",
    "    author_id_lookup = tf.keras.layers.IntegerLookup()\n",
    "    author_id_lookup.adapt(author_vocabulary)\n",
    "\n",
    "    self.author_id_embedding = tf.keras.Sequential([\n",
    "      tf.keras.Input(shape=(1,), dtype=tf.string), \n",
    "      author_id_lookup,\n",
    "      tf.keras.layers.Embedding(author_id_lookup.vocabulary_size(), embedding_dim)\n",
    "      ])\n",
    "\n",
    "\n",
    "  def call(self, inputs):\n",
    "    #TODO\n",
    "    return tf.concat([\n",
    "        self.title_embedding(inputs[\"title\"]),\n",
    "        self.description_text_embedding(inputs[\"description\"]),\n",
    "        self.author_id_embedding(inputs[\"author_id\"]),\n",
    "    ], axis=1)\n"
   ]
  },
  {
   "cell_type": "code",
   "execution_count": 51,
   "metadata": {},
   "outputs": [],
   "source": [
    "book_model = BookModel(\n",
    "    title_vocabulary = df_books['title'],\n",
    "    description_vocabulary = df_books['description'],\n",
    "    author_vocabulary=df_books['author_id'])"
   ]
  },
  {
   "cell_type": "code",
   "execution_count": 67,
   "metadata": {},
   "outputs": [
    {
     "data": {
      "text/html": [
       "<div>\n",
       "<style scoped>\n",
       "    .dataframe tbody tr th:only-of-type {\n",
       "        vertical-align: middle;\n",
       "    }\n",
       "\n",
       "    .dataframe tbody tr th {\n",
       "        vertical-align: top;\n",
       "    }\n",
       "\n",
       "    .dataframe thead th {\n",
       "        text-align: right;\n",
       "    }\n",
       "</style>\n",
       "<table border=\"1\" class=\"dataframe\">\n",
       "  <thead>\n",
       "    <tr style=\"text-align: right;\">\n",
       "      <th></th>\n",
       "      <th>title</th>\n",
       "      <th>description</th>\n",
       "      <th>author_id</th>\n",
       "    </tr>\n",
       "    <tr>\n",
       "      <th>book_id</th>\n",
       "      <th></th>\n",
       "      <th></th>\n",
       "      <th></th>\n",
       "    </tr>\n",
       "  </thead>\n",
       "  <tbody>\n",
       "    <tr>\n",
       "      <th>23472496</th>\n",
       "      <td>Mansion Mayhem (Shannon Porter Mystery, #2)</td>\n",
       "      <td>Shannon Porter has always loved a good ghost s...</td>\n",
       "      <td>9811235</td>\n",
       "    </tr>\n",
       "  </tbody>\n",
       "</table>\n",
       "</div>"
      ],
      "text/plain": [
       "                                                title  \\\n",
       "book_id                                                 \n",
       "23472496  Mansion Mayhem (Shannon Porter Mystery, #2)   \n",
       "\n",
       "                                                description  author_id  \n",
       "book_id                                                                 \n",
       "23472496  Shannon Porter has always loved a good ghost s...    9811235  "
      ]
     },
     "execution_count": 67,
     "metadata": {},
     "output_type": "execute_result"
    }
   ],
   "source": [
    "sample = df_books[['title', 'description', 'author_id']].sample(1)\n",
    "sample"
   ]
  },
  {
   "cell_type": "code",
   "execution_count": 68,
   "metadata": {},
   "outputs": [
    {
     "data": {
      "text/plain": [
       "<tf.Tensor: shape=(1, 96), dtype=float32, numpy=\n",
       "array([[ 0.01112771, -0.02709219, -0.01553751, -0.0068041 , -0.01099528,\n",
       "         0.02012353, -0.01005515, -0.00724117, -0.01050504,  0.00671815,\n",
       "         0.00914775, -0.00264367, -0.00535824, -0.00324484,  0.00817143,\n",
       "        -0.0174779 ,  0.01963048,  0.00199371, -0.01798421,  0.00387764,\n",
       "         0.00444162, -0.02078277,  0.01504769,  0.00630839,  0.01237988,\n",
       "        -0.00411349,  0.0026515 ,  0.01585814,  0.00269544, -0.01237703,\n",
       "         0.00661305,  0.00057801, -0.00974381,  0.00555293,  0.00236249,\n",
       "         0.00274014,  0.00246889, -0.00261118, -0.00493944,  0.00274934,\n",
       "        -0.00255168, -0.00225754,  0.0011858 , -0.00278818, -0.00554439,\n",
       "         0.00172749,  0.0024313 , -0.0013643 , -0.00522135,  0.00293299,\n",
       "        -0.00129832,  0.00034169, -0.0032865 ,  0.00673993,  0.00232636,\n",
       "         0.00624023, -0.00477741, -0.00309413, -0.00058002,  0.00196072,\n",
       "         0.00385022,  0.00727834, -0.00454859,  0.00194733,  0.00169499,\n",
       "         0.00242601,  0.02775531, -0.0036814 ,  0.00823923,  0.01852268,\n",
       "         0.00142963,  0.02652712, -0.0077937 ,  0.02191082, -0.02746527,\n",
       "         0.03714759, -0.0016703 , -0.02344222,  0.02105707, -0.01950026,\n",
       "        -0.03469387,  0.02270087,  0.0052258 ,  0.01290485,  0.01056614,\n",
       "        -0.00553747,  0.03706275, -0.03900272,  0.03158275, -0.00160885,\n",
       "         0.02506436, -0.04060014, -0.01605738, -0.01696751, -0.03704185,\n",
       "        -0.02884164]], dtype=float32)>"
      ]
     },
     "execution_count": 68,
     "metadata": {},
     "output_type": "execute_result"
    }
   ],
   "source": [
    "book_model(sample)"
   ]
  },
  {
   "cell_type": "markdown",
   "metadata": {},
   "source": [
    "## Review Model"
   ]
  },
  {
   "cell_type": "code",
   "execution_count": 74,
   "metadata": {},
   "outputs": [],
   "source": [
    "class ReviewModel(tf.keras.Model):\n",
    "\n",
    "  def __init__(self, user_ids, review_ids, book_ids):\n",
    "    super().__init__()\n",
    "\n",
    "    max_tokens = 10_000\n",
    "    embedding_dim = 32\n",
    "\n",
    "    # Book IDs are numerical\n",
    "    #from sample list of book ids create a continous range\n",
    "    # train an embedding representation of this range\n",
    "    book_id_lookup = tf.keras.layers.IntegerLookup()\n",
    "    book_id_lookup.adapt(book_ids)\n",
    "\n",
    "    self.book_id_embedding = tf.keras.Sequential([\n",
    "      tf.keras.Input(shape=(1,), dtype=tf.string), \n",
    "      book_id_lookup,\n",
    "      tf.keras.layers.Embedding(book_id_lookup.vocabulary_size(), embedding_dim)\n",
    "      ])\n",
    "\n",
    "    # Review and User IDs are alphanumerical\n",
    "    \n",
    "    review_id_vectorization_layer = tf.keras.layers.TextVectorization(\n",
    "      max_tokens=max_tokens)\n",
    "    review_id_vectorization_layer.adapt(review_ids)\n",
    "\n",
    "    self.review_id_embedding = tf.keras.Sequential([\n",
    "      review_id_vectorization_layer,\n",
    "      tf.keras.layers.Embedding(review_id_vectorization_layer.vocabulary_size(), embedding_dim, mask_zero=True),\n",
    "      # We average the embedding of individual words to get one embedding vector\n",
    "      # per description.\n",
    "      tf.keras.layers.GlobalAveragePooling1D(),\n",
    "    ])\n",
    "\n",
    "    user_id_vectorization_layer = tf.keras.layers.TextVectorization(\n",
    "      max_tokens=max_tokens)\n",
    "    user_id_vectorization_layer.adapt(user_ids)\n",
    "\n",
    "    self.user_id_embedding = tf.keras.Sequential([\n",
    "      user_id_vectorization_layer,\n",
    "      tf.keras.layers.Embedding(user_id_vectorization_layer.vocabulary_size(), embedding_dim, mask_zero=True),\n",
    "      # We average the embedding of individual words to get one embedding vector\n",
    "      # per description.\n",
    "      tf.keras.layers.GlobalAveragePooling1D(),\n",
    "    ])\n",
    "\n",
    "\n",
    "  def call(self, inputs: pd.DataFrame):\n",
    "    #TODO\n",
    "    if 'review_id' in inputs.keys():\n",
    "      review_input = inputs['review_id']\n",
    "    elif inputs.index.name == 'review_id':\n",
    "      review_input = inputs.index\n",
    "    else:\n",
    "      raise ValueError(\"'review_id' neither index nor column\")\n",
    "    return tf.concat([\n",
    "        self.book_id_embedding(inputs[\"book_id\"]),\n",
    "        self.review_id_embedding(review_input),\n",
    "        self.user_id_embedding(inputs[\"user_id\"]),\n",
    "    ], axis=1)\n"
   ]
  },
  {
   "cell_type": "code",
   "execution_count": 75,
   "metadata": {},
   "outputs": [
    {
     "name": "stdout",
     "output_type": "stream",
     "text": [
      "WARNING:tensorflow:Keras is training/fitting/evaluating on array-like data. Keras may not be optimized for this format, so if your input data format is supported by TensorFlow I/O (https://github.com/tensorflow/io) we recommend using that to load a Dataset instead.\n"
     ]
    }
   ],
   "source": [
    "review_model = ReviewModel(\n",
    "    user_ids = df_reviews['user_id'],\n",
    "    review_ids = df_reviews.index,\n",
    "    book_ids=df_reviews['book_id'])"
   ]
  },
  {
   "cell_type": "code",
   "execution_count": 76,
   "metadata": {},
   "outputs": [
    {
     "data": {
      "text/html": [
       "<div>\n",
       "<style scoped>\n",
       "    .dataframe tbody tr th:only-of-type {\n",
       "        vertical-align: middle;\n",
       "    }\n",
       "\n",
       "    .dataframe tbody tr th {\n",
       "        vertical-align: top;\n",
       "    }\n",
       "\n",
       "    .dataframe thead th {\n",
       "        text-align: right;\n",
       "    }\n",
       "</style>\n",
       "<table border=\"1\" class=\"dataframe\">\n",
       "  <thead>\n",
       "    <tr style=\"text-align: right;\">\n",
       "      <th></th>\n",
       "      <th>user_id</th>\n",
       "      <th>book_id</th>\n",
       "      <th>rating</th>\n",
       "      <th>review_text</th>\n",
       "    </tr>\n",
       "    <tr>\n",
       "      <th>review_id</th>\n",
       "      <th></th>\n",
       "      <th></th>\n",
       "      <th></th>\n",
       "      <th></th>\n",
       "    </tr>\n",
       "  </thead>\n",
       "  <tbody>\n",
       "    <tr>\n",
       "      <th>70da2109e9ba3003890d695be97ac100</th>\n",
       "      <td>30856098a61476bee91b3a8c41c49be4</td>\n",
       "      <td>11351241</td>\n",
       "      <td>4</td>\n",
       "      <td>Dead of Winter: A Kate Jones Thriller - A Book...</td>\n",
       "    </tr>\n",
       "  </tbody>\n",
       "</table>\n",
       "</div>"
      ],
      "text/plain": [
       "                                                           user_id   book_id  \\\n",
       "review_id                                                                      \n",
       "70da2109e9ba3003890d695be97ac100  30856098a61476bee91b3a8c41c49be4  11351241   \n",
       "\n",
       "                                  rating  \\\n",
       "review_id                                  \n",
       "70da2109e9ba3003890d695be97ac100       4   \n",
       "\n",
       "                                                                        review_text  \n",
       "review_id                                                                            \n",
       "70da2109e9ba3003890d695be97ac100  Dead of Winter: A Kate Jones Thriller - A Book...  "
      ]
     },
     "execution_count": 76,
     "metadata": {},
     "output_type": "execute_result"
    }
   ],
   "source": [
    "sample = df_reviews.sample(1)\n",
    "sample"
   ]
  },
  {
   "cell_type": "code",
   "execution_count": 77,
   "metadata": {},
   "outputs": [
    {
     "data": {
      "text/plain": [
       "<tf.Tensor: shape=(1, 96), dtype=float32, numpy=\n",
       "array([[ 0.00607531,  0.03227402, -0.0362423 ,  0.04253658, -0.04894707,\n",
       "         0.00664612,  0.04461039, -0.03653277,  0.03647492,  0.01883667,\n",
       "         0.00467142,  0.03029758,  0.03740216, -0.00269256, -0.0109259 ,\n",
       "        -0.03355049, -0.04445238, -0.01009589, -0.03650501,  0.01309821,\n",
       "         0.02085717, -0.0121031 , -0.00135223,  0.02748163, -0.00403132,\n",
       "        -0.01134054,  0.02568194, -0.00377088,  0.01700332, -0.02662518,\n",
       "        -0.04688637,  0.01247954,  0.03484925,  0.01412565, -0.04374253,\n",
       "        -0.0138613 , -0.0367738 , -0.00228997, -0.04909359, -0.02015574,\n",
       "        -0.011106  ,  0.03455187, -0.03977926, -0.0223038 , -0.01922525,\n",
       "        -0.01144892,  0.04210733,  0.02345494, -0.00821276,  0.045091  ,\n",
       "        -0.03539561, -0.00963514,  0.00915825,  0.00831991,  0.03260373,\n",
       "         0.04554411,  0.02585772, -0.03348044,  0.00241506,  0.0387742 ,\n",
       "        -0.0401826 , -0.01237367, -0.03643153, -0.04797146,  0.01347378,\n",
       "        -0.02826873, -0.03554962, -0.01222743,  0.01271125,  0.04154915,\n",
       "         0.01604272,  0.04356002,  0.00531406,  0.02811999,  0.03707924,\n",
       "        -0.01835687,  0.03815247,  0.03802171, -0.00205517,  0.0450269 ,\n",
       "         0.04279372,  0.02148748, -0.00081378,  0.0384604 , -0.03550507,\n",
       "         0.02572126, -0.03308371, -0.04858624, -0.00967375,  0.02378099,\n",
       "        -0.01687404, -0.04512146,  0.01259191,  0.02461796,  0.02778009,\n",
       "        -0.00962793]], dtype=float32)>"
      ]
     },
     "execution_count": 77,
     "metadata": {},
     "output_type": "execute_result"
    }
   ],
   "source": [
    "review_model(sample)"
   ]
  },
  {
   "cell_type": "markdown",
   "metadata": {},
   "source": [
    "## TODO: Review ID kann vermutlich weg?\n",
    "### bzw. brauch ich das ReviewModel *überhaupt*?"
   ]
  },
  {
   "cell_type": "markdown",
   "metadata": {},
   "source": []
  }
 ],
 "metadata": {
  "interpreter": {
   "hash": "48bc9e598fcbf8a93b8170aeed7972c61fdd84b24baf2eff9e2683f5bf1d2fdd"
  },
  "kernelspec": {
   "display_name": "Python 3.8.5 64-bit ('ds-project': conda)",
   "language": "python",
   "name": "python3"
  },
  "language_info": {
   "codemirror_mode": {
    "name": "ipython",
    "version": 3
   },
   "file_extension": ".py",
   "mimetype": "text/x-python",
   "name": "python",
   "nbconvert_exporter": "python",
   "pygments_lexer": "ipython3",
   "version": "3.8.5"
  },
  "orig_nbformat": 4
 },
 "nbformat": 4,
 "nbformat_minor": 2
}
