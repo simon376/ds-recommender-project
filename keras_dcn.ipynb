{
 "cells": [
  {
   "cell_type": "markdown",
   "metadata": {},
   "source": [
    "# DCN Goodreads Recommendation System"
   ]
  },
  {
   "cell_type": "markdown",
   "metadata": {},
   "source": [
    "---\n",
    "## Prepare the data"
   ]
  },
  {
   "cell_type": "markdown",
   "metadata": {},
   "source": [
    "Setup"
   ]
  },
  {
   "cell_type": "code",
   "execution_count": 1,
   "metadata": {},
   "outputs": [],
   "source": [
    "import os\n",
    "os.environ[\"TF_ENABLE_ONEDNN_OPTS\"] = '1'"
   ]
  },
  {
   "cell_type": "code",
   "execution_count": 2,
   "metadata": {},
   "outputs": [
    {
     "name": "stderr",
     "output_type": "stream",
     "text": [
      "2022-02-17 14:34:17.829942: I tensorflow/core/util/util.cc:159] Experimental oneDNN custom operations are on. To turn them off, set the environment variable `TF_ENABLE_ONEDNN_OPTS=0`.\n",
      "2022-02-17 14:34:17.836152: W tensorflow/stream_executor/platform/default/dso_loader.cc:64] Could not load dynamic library 'libcudart.so.11.0'; dlerror: libcudart.so.11.0: cannot open shared object file: No such file or directory\n",
      "2022-02-17 14:34:17.836169: I tensorflow/stream_executor/cuda/cudart_stub.cc:29] Ignore above cudart dlerror if you do not have a GPU set up on your machine.\n"
     ]
    },
    {
     "name": "stdout",
     "output_type": "stream",
     "text": [
      "We are using Tensorflow version 2.8.0\n",
      "MKL enabled : True\n"
     ]
    }
   ],
   "source": [
    "import tensorflow as tf\n",
    "\n",
    "import os\n",
    "\n",
    "def get_mkl_enabled_flag():\n",
    "\n",
    "    mkl_enabled = False\n",
    "    major_version = int(tf.__version__.split(\".\")[0])\n",
    "    minor_version = int(tf.__version__.split(\".\")[1])\n",
    "    if major_version >= 2:\n",
    "        if minor_version < 5:\n",
    "            from tensorflow.python import _pywrap_util_port\n",
    "        else:\n",
    "            from tensorflow.python.util import _pywrap_util_port\n",
    "            onednn_enabled = int(os.environ.get('TF_ENABLE_ONEDNN_OPTS', '0'))\n",
    "        mkl_enabled = _pywrap_util_port.IsMklEnabled() or (onednn_enabled == 1)\n",
    "    else:\n",
    "        mkl_enabled = tf.pywrap_tensorflow.IsMklEnabled()\n",
    "    return mkl_enabled\n",
    "\n",
    "print (\"We are using Tensorflow version\", tf.__version__)\n",
    "print(\"MKL enabled :\", get_mkl_enabled_flag())\n",
    "\n"
   ]
  },
  {
   "cell_type": "code",
   "execution_count": 3,
   "metadata": {},
   "outputs": [],
   "source": [
    "import os\n",
    "import numpy as np\n",
    "import pandas as pd\n",
    "import tensorflow as tf\n",
    "from tensorflow import keras\n",
    "from tensorflow.keras import layers\n",
    "import datetime"
   ]
  },
  {
   "cell_type": "code",
   "execution_count": 4,
   "metadata": {},
   "outputs": [
    {
     "name": "stdout",
     "output_type": "stream",
     "text": [
      "Num GPUs Available:  0\n"
     ]
    },
    {
     "name": "stderr",
     "output_type": "stream",
     "text": [
      "2022-02-17 14:34:27.083515: W tensorflow/stream_executor/platform/default/dso_loader.cc:64] Could not load dynamic library 'libcudart.so.11.0'; dlerror: libcudart.so.11.0: cannot open shared object file: No such file or directory\n",
      "2022-02-17 14:34:27.083689: W tensorflow/stream_executor/platform/default/dso_loader.cc:64] Could not load dynamic library 'libcublas.so.11'; dlerror: libcublas.so.11: cannot open shared object file: No such file or directory\n",
      "2022-02-17 14:34:27.083829: W tensorflow/stream_executor/platform/default/dso_loader.cc:64] Could not load dynamic library 'libcublasLt.so.11'; dlerror: libcublasLt.so.11: cannot open shared object file: No such file or directory\n",
      "2022-02-17 14:34:27.087114: W tensorflow/stream_executor/platform/default/dso_loader.cc:64] Could not load dynamic library 'libcusolver.so.11'; dlerror: libcusolver.so.11: cannot open shared object file: No such file or directory\n",
      "2022-02-17 14:34:27.087265: W tensorflow/stream_executor/platform/default/dso_loader.cc:64] Could not load dynamic library 'libcusparse.so.11'; dlerror: libcusparse.so.11: cannot open shared object file: No such file or directory\n",
      "2022-02-17 14:34:27.087416: W tensorflow/stream_executor/platform/default/dso_loader.cc:64] Could not load dynamic library 'libcudnn.so.8'; dlerror: libcudnn.so.8: cannot open shared object file: No such file or directory\n",
      "2022-02-17 14:34:27.087444: W tensorflow/core/common_runtime/gpu/gpu_device.cc:1850] Cannot dlopen some GPU libraries. Please make sure the missing libraries mentioned above are installed properly if you would like to use GPU. Follow the guide at https://www.tensorflow.org/install/gpu for how to download and setup the required libraries for your platform.\n",
      "Skipping registering GPU devices...\n"
     ]
    }
   ],
   "source": [
    "print(\"Num GPUs Available: \", len(tf.config.list_physical_devices('GPU')))"
   ]
  },
  {
   "cell_type": "markdown",
   "metadata": {},
   "source": [
    "Dataset Directory"
   ]
  },
  {
   "cell_type": "code",
   "execution_count": 5,
   "metadata": {},
   "outputs": [],
   "source": [
    "MODEL_DIR = './models/'\n",
    "if not os.path.exists(MODEL_DIR):\n",
    "    os.mkdir(MODEL_DIR)\n",
    "DIR = './data/cleaned/'"
   ]
  },
  {
   "cell_type": "code",
   "execution_count": 6,
   "metadata": {},
   "outputs": [],
   "source": [
    "data = pd.read_pickle(os.path.join(DIR, \"joined_df.pkl\"))"
   ]
  },
  {
   "cell_type": "code",
   "execution_count": 7,
   "metadata": {},
   "outputs": [
    {
     "name": "stdout",
     "output_type": "stream",
     "text": [
      "<class 'pandas.core.frame.DataFrame'>\n",
      "Index: 981705 entries, 5e212a62bced17b4dbe41150e5bb9037 to e25d87abdb0bddcda1193034e54f819e\n",
      "Data columns (total 9 columns):\n",
      " #   Column              Non-Null Count   Dtype  \n",
      "---  ------              --------------   -----  \n",
      " 0   user_id             981705 non-null  object \n",
      " 1   book_id             981705 non-null  uint32 \n",
      " 2   rating              981705 non-null  uint8  \n",
      " 3   review_text         981705 non-null  string \n",
      " 4   title               981705 non-null  string \n",
      " 5   text_reviews_count  981705 non-null  uint64 \n",
      " 6   average_rating      981705 non-null  float64\n",
      " 7   description         981705 non-null  string \n",
      " 8   author_id           981705 non-null  int64  \n",
      "dtypes: float64(1), int64(1), object(1), string(3), uint32(1), uint64(1), uint8(1)\n",
      "memory usage: 64.6+ MB\n"
     ]
    }
   ],
   "source": [
    "data.info()"
   ]
  },
  {
   "cell_type": "code",
   "execution_count": 8,
   "metadata": {},
   "outputs": [],
   "source": [
    "# only use small subset for test\n",
    "data = data.iloc[:100000, :]"
   ]
  },
  {
   "cell_type": "code",
   "execution_count": 9,
   "metadata": {},
   "outputs": [
    {
     "name": "stdout",
     "output_type": "stream",
     "text": [
      "<class 'pandas.core.frame.DataFrame'>\n",
      "Index: 100000 entries, 5e212a62bced17b4dbe41150e5bb9037 to e77d4ff5fb4bb5c03f97912e834f75a8\n",
      "Data columns (total 9 columns):\n",
      " #   Column              Non-Null Count   Dtype  \n",
      "---  ------              --------------   -----  \n",
      " 0   user_id             100000 non-null  object \n",
      " 1   book_id             100000 non-null  uint32 \n",
      " 2   rating              100000 non-null  uint8  \n",
      " 3   review_text         100000 non-null  string \n",
      " 4   title               100000 non-null  string \n",
      " 5   text_reviews_count  100000 non-null  uint64 \n",
      " 6   average_rating      100000 non-null  float64\n",
      " 7   description         100000 non-null  string \n",
      " 8   author_id           100000 non-null  int64  \n",
      "dtypes: float64(1), int64(1), object(1), string(3), uint32(1), uint64(1), uint8(1)\n",
      "memory usage: 6.6+ MB\n"
     ]
    }
   ],
   "source": [
    "data.info()"
   ]
  },
  {
   "cell_type": "code",
   "execution_count": 10,
   "metadata": {},
   "outputs": [],
   "source": [
    "# train_data_file = \"train_data.csv\"\n",
    "# test_data_file = \"test_data.csv\"\n",
    "# alternatively, read the separated train/test files for repeatability\n",
    "# train_data.to_csv(os.path.join(DIR, train_data_file), index=False)\n",
    "# test_data.to_csv(os.path.join(DIR, test_data_file), index=False)"
   ]
  },
  {
   "cell_type": "markdown",
   "metadata": {},
   "source": [
    "Let's split the data into training (70%), validation (15%) and test (15%) sets."
   ]
  },
  {
   "cell_type": "code",
   "execution_count": 11,
   "metadata": {},
   "outputs": [],
   "source": [
    "TARGET_FEATURE_NAME = \"rating\"  # individual rating\n",
    "train_split = 0.7\n",
    "test_val_split = 0.15 \n",
    "seed = 42\n",
    "np.random.seed(seed)"
   ]
  },
  {
   "cell_type": "code",
   "execution_count": 12,
   "metadata": {},
   "outputs": [
    {
     "name": "stdout",
     "output_type": "stream",
     "text": [
      "Train split size: 70000\n",
      "Validation split size: 15000\n",
      "Test split size: 15000\n"
     ]
    }
   ],
   "source": [
    "train_data, val_data, test_data = np.split(data.sample(frac=1, random_state=seed), \n",
    "                       [int(train_split*len(data)), int((1-test_val_split)*len(data))])\n",
    "# splits into data[:train_split], data[train_split:test_split], data[test_split:]\n",
    "print(f\"Train split size: {len(train_data.index)}\")\n",
    "print(f\"Validation split size: {len(val_data.index)}\")\n",
    "print(f\"Test split size: {len(test_data.index)}\")"
   ]
  },
  {
   "cell_type": "markdown",
   "metadata": {},
   "source": [
    "Now about 980k in Total, Train: 687k, Validation, Test: 147k :)"
   ]
  },
  {
   "cell_type": "code",
   "execution_count": 13,
   "metadata": {},
   "outputs": [],
   "source": [
    "CSV_HEADER = list(train_data.columns)"
   ]
  },
  {
   "cell_type": "markdown",
   "metadata": {},
   "source": [
    "---\n",
    "## Define dataset metadata\n",
    "Here, we define the metadata of the dataset that will be useful for reading and parsing the data into input features, and encoding the input features with respect to their types.\n",
    "\n"
   ]
  },
  {
   "cell_type": "code",
   "execution_count": 14,
   "metadata": {},
   "outputs": [],
   "source": [
    "TARGET_FEATURE_LABELS = [i for i in range(6)]\n",
    "# normalization\n",
    "NUMERIC_FEATURE_NAMES = [\n",
    "    \"text_reviews_count\",   # popularity\n",
    "    \"average_rating\"\n",
    "]\n",
    "# text vectorization + embedding\n",
    "TEXT_FEATURE_NAMES = [\n",
    "    \"review_text\",\n",
    "    \"title\",\n",
    "    \"description\",\n",
    "]\n",
    "# integer lookup\n",
    "CATEGORICAL_INT_FEATURE_NAMES = [\n",
    "    \"book_id\",\n",
    "    \"author_id\",\n",
    "]\n",
    "# string lookup\n",
    "CATEGORICAL_STR_FEATURE_NAMES = [\n",
    "    \"user_id\",\n",
    "]\n",
    "CATEGORICAL_FEATURES_WITH_VOCABULARY = {\n",
    "    \"user_id\": list(data[\"user_id\"].unique()),\n",
    "    \"author_id\": list(data[\"author_id\"].unique()),\n",
    "    \"book_id\": list(data[\"book_id\"].unique()),\n",
    "}\n",
    "\n",
    "\n",
    "FEATURE_NAMES = CATEGORICAL_STR_FEATURE_NAMES + \\\n",
    "                CATEGORICAL_INT_FEATURE_NAMES + \\\n",
    "                TEXT_FEATURE_NAMES\n",
    "# FEATURE_NAMES = NUMERIC_FEATURE_NAMES + \\\n",
    "#                 TEXT_FEATURE_NAMES + \\\n",
    "#                 CATEGORICAL_INT_FEATURE_NAMES\n",
    "\n",
    "COLUMN_DEFAULTS = [\n",
    "    [0] if feature_name in NUMERIC_FEATURE_NAMES + [TARGET_FEATURE_NAME] else [\"NA\"]\n",
    "    for feature_name in CSV_HEADER\n",
    "]\n",
    "\n",
    "\n",
    "NUM_CLASSES = len(TARGET_FEATURE_LABELS)"
   ]
  },
  {
   "cell_type": "markdown",
   "metadata": {},
   "source": [
    "Adapt Text Vectorization Layers to the vocabular of the input dataset"
   ]
  },
  {
   "cell_type": "code",
   "execution_count": 15,
   "metadata": {},
   "outputs": [
    {
     "name": "stdout",
     "output_type": "stream",
     "text": [
      " unique users:  40969\n",
      " unique books:  691\n"
     ]
    }
   ],
   "source": [
    "print(\" unique users: \", len(CATEGORICAL_FEATURES_WITH_VOCABULARY[\"user_id\"]))\n",
    "print(\" unique books: \", len(CATEGORICAL_FEATURES_WITH_VOCABULARY[\"book_id\"]))"
   ]
  },
  {
   "cell_type": "markdown",
   "metadata": {},
   "source": [
    "---\n",
    "## Experiment setup\n",
    "Next, let's define an input function that reads and parses the file, then converts features and labels into a `tf.data.Dataset` for training or evaluation.\n",
    "\n"
   ]
  },
  {
   "cell_type": "code",
   "execution_count": 16,
   "metadata": {},
   "outputs": [],
   "source": [
    "def get_dataset_from_pandas(dataframe, label_name, batch_size, shuffle=False):\n",
    "    df = dataframe.copy()\n",
    "    labels = df.pop(label_name)\n",
    "    ds = tf.data.Dataset.from_tensor_slices((dict(df), labels))\n",
    "    if shuffle:\n",
    "        ds = ds.shuffle(buffer_size=len(dataframe))\n",
    "    ds = ds.batch(batch_size)\n",
    "    ds = ds.cache()\n",
    "    ds = ds.prefetch(tf.data.AUTOTUNE)\n",
    "    return ds"
   ]
  },
  {
   "cell_type": "code",
   "execution_count": 17,
   "metadata": {},
   "outputs": [
    {
     "name": "stdout",
     "output_type": "stream",
     "text": [
      "setting up yagmail...\n"
     ]
    }
   ],
   "source": [
    "from email_callback import EmailCallback\n",
    "dropout_rate = 0.1\n",
    "\n",
    "hidden_units = [32, 32]\n",
    "EmailCallback()\n",
    "\n",
    "def run_experiment(model, loss=None, metrics=None, learning_rate=0.001, batch_size=128, num_epochs=20):\n",
    "    import datetime\n",
    "    _loss = loss if loss is not None else [keras.losses.SparseCategoricalCrossentropy()]\n",
    "    _metrics = metrics if metrics is not None else [keras.metrics.SparseCategoricalAccuracy(), keras.metrics.SparseCategoricalCrossentropy()]\n",
    "    model.compile(\n",
    "        optimizer=keras.optimizers.Adam(learning_rate=learning_rate),\n",
    "        loss=_loss,\n",
    "        metrics=_metrics,\n",
    "    )\n",
    "\n",
    "    train_dataset = get_dataset_from_pandas(train_data, TARGET_FEATURE_NAME, batch_size, shuffle=True)\n",
    "    validation_dataset = get_dataset_from_pandas(val_data, TARGET_FEATURE_NAME, batch_size)\n",
    "\n",
    "    log_dir = \"logs/fit/\" + model.name + datetime.datetime.now().strftime(\"%Y%m%d-%H%M%S\")\n",
    "    email = EmailCallback(train_size=len(train_data), val_size=len(val_data))\n",
    "    callbacks_train = [\n",
    "        tf.keras.callbacks.TensorBoard(log_dir=log_dir),\n",
    "        tf.keras.callbacks.EarlyStopping(monitor=\"loss\",patience=5),\n",
    "        tf.keras.callbacks.BackupAndRestore(backup_dir=\"./models/backup\"+ datetime.datetime.now().strftime(\"%Y%m%d-%H%M%S\")),\n",
    "        email\n",
    "    ]\n",
    "\n",
    "    print(\"Start training the model...\")\n",
    "    history = model.fit(\n",
    "        train_dataset, \n",
    "        epochs=num_epochs, \n",
    "        callbacks=callbacks_train,\n",
    "        validation_data=validation_dataset)\n",
    "    print(\"Model training finished\")\n",
    "\n",
    "    print(metrics)\n",
    "\n",
    "    return history, metrics\n"
   ]
  },
  {
   "cell_type": "code",
   "execution_count": 18,
   "metadata": {},
   "outputs": [],
   "source": [
    "def get_dataset_from_csv(csv_file_path, batch_size, shuffle=False):\n",
    "    dataset = tf.data.experimental.make_csv_dataset(\n",
    "        csv_file_path,\n",
    "        batch_size=batch_size,\n",
    "        column_names=CSV_HEADER,\n",
    "        column_defaults=COLUMN_DEFAULTS,\n",
    "        label_name=TARGET_FEATURE_NAME,\n",
    "        num_epochs=1,\n",
    "        header=True,\n",
    "        shuffle=shuffle,\n",
    "    )\n",
    "    return dataset.cache()\n"
   ]
  },
  {
   "cell_type": "markdown",
   "metadata": {},
   "source": [
    "---\n",
    "## Create model inputs\n",
    "Now, define the inputs for the models as a dictionary, where the key is the feature name, and the value is a `keras.layers.Input` tensor with the corresponding feature shape and data type.\n",
    "\n"
   ]
  },
  {
   "cell_type": "code",
   "execution_count": 19,
   "metadata": {},
   "outputs": [],
   "source": [
    "def create_model_inputs():\n",
    "    inputs = {}\n",
    "    for feature_name in FEATURE_NAMES:\n",
    "        if feature_name in [*TEXT_FEATURE_NAMES, *CATEGORICAL_STR_FEATURE_NAMES]:\n",
    "            inputs[feature_name] = layers.Input(\n",
    "                name=feature_name, shape=(), dtype=tf.string\n",
    "            )\n",
    "        else:\n",
    "            inputs[feature_name] = layers.Input(\n",
    "                name=feature_name, shape=(), dtype=tf.float32\n",
    "            )\n",
    "    return inputs"
   ]
  },
  {
   "cell_type": "markdown",
   "metadata": {},
   "source": [
    "---\n",
    "## Encode features\n",
    "\n",
    "We create two representations of our input features: sparse and dense: 1. In the *sparse* representation, the categorical features are encoded with one-hot encoding using the `CategoryEncoding` layer. This representation can be useful for the model to memorize particular feature values to make certain predictions. 2. In the *dense* representation, the categorical features are encoded with low-dimensional embeddings using the ``Embedding`` layer. This representation helps the model to generalize well to unseen feature combinations.\n",
    "\n"
   ]
  },
  {
   "cell_type": "code",
   "execution_count": 20,
   "metadata": {},
   "outputs": [],
   "source": [
    "# Model constants.\n",
    "max_features = 20000\n",
    "embedding_dim = 128\n",
    "sequence_length = 500"
   ]
  },
  {
   "cell_type": "code",
   "execution_count": 21,
   "metadata": {},
   "outputs": [],
   "source": [
    "from tensorflow.keras.layers import StringLookup, IntegerLookup\n",
    "\n",
    "call = 1\n",
    "def encode_inputs(inputs, use_embedding=False):\n",
    "    global call\n",
    "    call += 1\n",
    "    encoded_features = []\n",
    "    for feature_name in inputs:\n",
    "        if feature_name in [*CATEGORICAL_STR_FEATURE_NAMES, *CATEGORICAL_INT_FEATURE_NAMES]:\n",
    "            is_string = (feature_name in CATEGORICAL_STR_FEATURE_NAMES)\n",
    "            lookup_class = StringLookup if is_string else IntegerLookup\n",
    "            lookup_name = \"string_lookup\" if is_string else \"integer_lookup\"\n",
    "            vocabulary = CATEGORICAL_FEATURES_WITH_VOCABULARY[feature_name]\n",
    "            lookup = lookup_class(\n",
    "                vocabulary=vocabulary,\n",
    "                output_mode=\"int\" if use_embedding else \"multi_hot\",\n",
    "                name=f\"{lookup_name}_{feature_name}_{call}\",\n",
    "            )\n",
    "            if use_embedding:\n",
    "                # Convert the string input values into integer indices.\n",
    "                encoded_feature = lookup(inputs[feature_name])\n",
    "                embedding_dims = 32 #int(math.sqrt(len(vocabulary)))\n",
    "                # Create an embedding layer with the specified dimensions.\n",
    "                embedding = layers.Embedding(\n",
    "                    input_dim=len(vocabulary)+1, output_dim=embedding_dims,\n",
    "                    name=f\"{lookup_name}_embedding_{feature_name}_{call}\",\n",
    "                )\n",
    "                \n",
    "                # Convert the index values to embedding representations.\n",
    "                encoded_feature = embedding(encoded_feature)\n",
    "            else:\n",
    "                # Convert the string input values into a one hot encoding.\n",
    "                encoded_feature = lookup(tf.expand_dims(inputs[feature_name], -1))\n",
    "        elif feature_name in TEXT_FEATURE_NAMES:\n",
    "            vectorize_layer = tf.keras.layers.TextVectorization(max_tokens=max_features, \n",
    "            output_sequence_length=sequence_length if use_embedding else None, output_mode=\"int\" if use_embedding else \"multi_hot\",\n",
    "            name=f\"textvectorization_{feature_name}_{call}\",\n",
    "            )\n",
    "            vectorize_layer.adapt(data[feature_name])\n",
    "            if use_embedding:\n",
    "                # Convert the string input values into integer indices.\n",
    "                encoded_feature = vectorize_layer(inputs[feature_name])\n",
    "                embedding_dims = 32 #int(math.sqrt(len(vocabulary)))\n",
    "                # Create an embedding layer with the specified dimensions.\n",
    "                embedding = layers.Embedding(\n",
    "                    input_dim=vectorize_layer.vocabulary_size()+1, output_dim=embedding_dims,\n",
    "                    name=f\"tv_embedding_{feature_name}_{call}\",\n",
    "                )\n",
    "                # average the embedding from sequence_length x batch to 1x32\n",
    "                averaging = tf.keras.layers.GlobalAveragePooling1D();\n",
    "\n",
    "                # Convert the index values to embedding representations.\n",
    "                encoded_feature = averaging(embedding(encoded_feature))\n",
    "            else:\n",
    "                # Convert the string input values into a one hot encoding.\n",
    "                encoded_feature = vectorize_layer(tf.expand_dims(inputs[feature_name], -1))\n",
    "        else:\n",
    "            # Use the numerical features as-is.\n",
    "            encoded_feature = tf.expand_dims(inputs[feature_name], -1)\n",
    "\n",
    "        encoded_features.append(encoded_feature)\n",
    "        \n",
    "    all_features = layers.concatenate(encoded_features)\n",
    "    return all_features\n"
   ]
  },
  {
   "cell_type": "markdown",
   "metadata": {},
   "source": [
    "---\n",
    "Pre-Compute Input (Embeddings)"
   ]
  },
  {
   "cell_type": "code",
   "execution_count": 22,
   "metadata": {},
   "outputs": [],
   "source": [
    "# model_inputs = create_model_inputs()\n",
    "# model_features = encode_inputs(model_inputs)\n",
    "# embedded_features = encode_inputs(model_inputs, use_embedding=True)"
   ]
  },
  {
   "cell_type": "markdown",
   "metadata": {},
   "source": [
    "---\n",
    "## create query and candidate models"
   ]
  },
  {
   "cell_type": "code",
   "execution_count": 23,
   "metadata": {},
   "outputs": [],
   "source": [
    "from tensorflow.keras import Sequential\n",
    "from tensorflow.keras.layers import Embedding"
   ]
  },
  {
   "cell_type": "markdown",
   "metadata": {},
   "source": [
    "BookModel / CandidateModel"
   ]
  },
  {
   "cell_type": "code",
   "execution_count": 24,
   "metadata": {},
   "outputs": [],
   "source": [
    "class BookModel(tf.keras.Model):\n",
    "    def __init__(self, use_embeddings = False):\n",
    "        super().__init__()\n",
    "        self.encoding = encode_inputs\n",
    "        self.use_embeddings = use_embeddings\n",
    "    def call(self, inputs):\n",
    "        return self.encoding(inputs, use_embedding=self.use_embeddings)\n"
   ]
  },
  {
   "cell_type": "markdown",
   "metadata": {},
   "source": [
    "UserModel / QueryModel"
   ]
  },
  {
   "cell_type": "code",
   "execution_count": 25,
   "metadata": {},
   "outputs": [],
   "source": [
    "class UserModel(tf.keras.Model):\n",
    "    def __init__(self, vocabulary, use_embeddings=False, embedding_dims=32):\n",
    "        super().__init__()\n",
    "        self.use_embeddings = use_embeddings\n",
    "        lookup = StringLookup(\n",
    "            vocabulary=vocabulary,\n",
    "            output_mode=\"int\" if self.use_embeddings else \"multi_hot\",\n",
    "            name=f\"string_lookup_user_id\",\n",
    "        )\n",
    "        if self.use_embeddings:\n",
    "            self.user_embedding = Sequential([\n",
    "                lookup,\n",
    "                Embedding(\n",
    "                input_dim=len(vocabulary)+1, output_dim=embedding_dims,\n",
    "                name=f\"string_lookup_embedding_user_id\",)\n",
    "            ])\n",
    "        else:\n",
    "            self.user_embeddings = lookup\n",
    "\n",
    "    def call(self, inputs):\n",
    "        if not self.use_embeddings:\n",
    "            # Convert the string input values into a one hot encoding.\n",
    "            return self.user_embedding(tf.expand_dims(inputs['user_id'], -1))\n",
    "        return self.user_embedding(inputs['user_id'])\n"
   ]
  },
  {
   "cell_type": "markdown",
   "metadata": {},
   "source": [
    "Instantiate Models and save them"
   ]
  },
  {
   "cell_type": "code",
   "execution_count": 46,
   "metadata": {},
   "outputs": [],
   "source": [
    "user_model = UserModel(CATEGORICAL_FEATURES_WITH_VOCABULARY['user_id'], use_embeddings=True)\n",
    "book_model = BookModel(use_embeddings=True)"
   ]
  },
  {
   "cell_type": "code",
   "execution_count": null,
   "metadata": {},
   "outputs": [],
   "source": [
    "user_model.save(os.path.join(MODEL_DIR, \"user_model\" + datetime.datetime.now().strftime(\"%Y%m%d\")))\n",
    "book_model.save(os.path.join(MODEL_DIR, \"book_model\" + datetime.datetime.now().strftime(\"%Y%m%d\")))"
   ]
  },
  {
   "cell_type": "markdown",
   "metadata": {},
   "source": [
    "---\n",
    "## TFRS Model"
   ]
  },
  {
   "cell_type": "markdown",
   "metadata": {},
   "source": [
    "### HP Tuning"
   ]
  },
  {
   "cell_type": "code",
   "execution_count": null,
   "metadata": {},
   "outputs": [],
   "source": [
    "# Initialize the `HyperParameters` and set the values.\n",
    "hp = kt.HyperParameters()\n",
    "hp.values[\"model_type\"] = \"cnn\"\n",
    "# Build the model using the `HyperParameters`.\n",
    "model = build_model(hp)\n",
    "# Test if the model runs with our data.\n",
    "model(train_data[:100])\n",
    "# Print a summary of the model.\n",
    "model.summary()\n"
   ]
  },
  {
   "cell_type": "code",
   "execution_count": 42,
   "metadata": {},
   "outputs": [
    {
     "ename": "AttributeError",
     "evalue": "module 'tensorboard.plugins.hparams.api' has no attribute 'Int'",
     "output_type": "error",
     "traceback": [
      "\u001b[0;31m---------------------------------------------------------------------------\u001b[0m",
      "\u001b[0;31mAttributeError\u001b[0m                            Traceback (most recent call last)",
      "\u001b[1;32m/home/simon95/ds-recommender-project/keras_dcn.ipynb Cell 45'\u001b[0m in \u001b[0;36m<module>\u001b[0;34m\u001b[0m\n\u001b[1;32m      <a href='vscode-notebook-cell://ssh-remote%2Bdaenerys.multimedia.hs-augsburg.de/home/simon95/ds-recommender-project/keras_dcn.ipynb#ch0000078vscode-remote?line=0'>1</a>\u001b[0m \u001b[39mfrom\u001b[39;00m \u001b[39mtensorboard\u001b[39;00m\u001b[39m.\u001b[39;00m\u001b[39mplugins\u001b[39;00m\u001b[39m.\u001b[39;00m\u001b[39mhparams\u001b[39;00m \u001b[39mimport\u001b[39;00m api \u001b[39mas\u001b[39;00m hp\n\u001b[0;32m----> <a href='vscode-notebook-cell://ssh-remote%2Bdaenerys.multimedia.hs-augsburg.de/home/simon95/ds-recommender-project/keras_dcn.ipynb#ch0000078vscode-remote?line=2'>3</a>\u001b[0m HP_NUM_HIDDEN \u001b[39m=\u001b[39m hp\u001b[39m.\u001b[39mHParam(\u001b[39m'\u001b[39m\u001b[39mnum_units\u001b[39m\u001b[39m'\u001b[39m, hp\u001b[39m.\u001b[39;49mInt(\u001b[39m\"\u001b[39m\u001b[39munits\u001b[39m\u001b[39m\"\u001b[39m, min_value\u001b[39m=\u001b[39m\u001b[39m1\u001b[39m, max_value\u001b[39m=\u001b[39m\u001b[39m4\u001b[39m, step\u001b[39m=\u001b[39m\u001b[39m1\u001b[39m)\n\u001b[1;32m      <a href='vscode-notebook-cell://ssh-remote%2Bdaenerys.multimedia.hs-augsburg.de/home/simon95/ds-recommender-project/keras_dcn.ipynb#ch0000078vscode-remote?line=3'>4</a>\u001b[0m )\n\u001b[1;32m      <a href='vscode-notebook-cell://ssh-remote%2Bdaenerys.multimedia.hs-augsburg.de/home/simon95/ds-recommender-project/keras_dcn.ipynb#ch0000078vscode-remote?line=4'>5</a>\u001b[0m HP_HIDDEN_SIZE \u001b[39m=\u001b[39m hp\u001b[39m.\u001b[39mHPARAM(\u001b[39m'\u001b[39m\u001b[39mhidden_size\u001b[39m\u001b[39m'\u001b[39m, hp\u001b[39m.\u001b[39mhp\u001b[39m.\u001b[39mDiscrete([\u001b[39m32\u001b[39m, \u001b[39m128\u001b[39m, \u001b[39m256\u001b[39m, \u001b[39m512\u001b[39m])\n\u001b[1;32m      <a href='vscode-notebook-cell://ssh-remote%2Bdaenerys.multimedia.hs-augsburg.de/home/simon95/ds-recommender-project/keras_dcn.ipynb#ch0000078vscode-remote?line=5'>6</a>\u001b[0m )\n\u001b[1;32m      <a href='vscode-notebook-cell://ssh-remote%2Bdaenerys.multimedia.hs-augsburg.de/home/simon95/ds-recommender-project/keras_dcn.ipynb#ch0000078vscode-remote?line=6'>7</a>\u001b[0m HP_LR \u001b[39m=\u001b[39m hp\u001b[39m.\u001b[39mHParam(\u001b[39m'\u001b[39m\u001b[39mlearning_rate\u001b[39m\u001b[39m'\u001b[39m, hp\u001b[39m.\u001b[39mFloat(\u001b[39m\"\u001b[39m\u001b[39mlr\u001b[39m\u001b[39m\"\u001b[39m, min_value\u001b[39m=\u001b[39m\u001b[39m1e-4\u001b[39m, max_value\u001b[39m=\u001b[39m\u001b[39m1e-2\u001b[39m, sampling\u001b[39m=\u001b[39m\u001b[39m\"\u001b[39m\u001b[39mlog\u001b[39m\u001b[39m\"\u001b[39m))\n",
      "\u001b[0;31mAttributeError\u001b[0m: module 'tensorboard.plugins.hparams.api' has no attribute 'Int'"
     ]
    }
   ],
   "source": [
    "import keras_tuner as kt\n",
    "\n",
    "HP_NUM_HIDDEN = hp.Int(\"units\", min_value=1, max_value=4, step=1)\n",
    "HP_HIDDEN_SIZE = hp.Discrete([32, 128, 256, 512])\n",
    ")\n",
    "HP_LR = hp.Float(\"lr\", min_value=1e-4, max_value=1e-2, sampling=\"log\")\n",
    "METRIC_ACCURACY = 'accuracy'\n"
   ]
  },
  {
   "cell_type": "code",
   "execution_count": 58,
   "metadata": {},
   "outputs": [
    {
     "name": "stdout",
     "output_type": "stream",
     "text": [
      "adapting text vectorizations to vocabulary data...\n"
     ]
    },
    {
     "data": {
      "application/vnd.jupyter.widget-view+json": {
       "model_id": "6431ca3cc9404d748e43ebb852c5d37c",
       "version_major": 2,
       "version_minor": 0
      },
      "text/plain": [
       "  0%|          | 0/3 [00:00<?, ?it/s]"
      ]
     },
     "metadata": {},
     "output_type": "display_data"
    }
   ],
   "source": [
    "from tqdm.notebook import tqdm\n",
    "max_text_tokens=20_000\n",
    "max_len = {\n",
    "    \"description\": 100,\n",
    "    \"review_text\": 200,\n",
    "    \"title\": 10,\n",
    "}\n",
    "TEXT_FEATURE_VECTORIZATIONS = dict()\n",
    "print(\"adapting text vectorizations to vocabulary data...\")\n",
    "for feature_name in tqdm(TEXT_FEATURE_NAMES):\n",
    "    vectorize_layer = tf.keras.layers.TextVectorization(max_tokens=max_text_tokens, output_sequence_length=max_len[feature_name], name=f\"textvectorization_{feature_name}\")\n",
    "    vectorize_layer.adapt(data[feature_name])\n",
    "    TEXT_FEATURE_VECTORIZATIONS[feature_name] = vectorize_layer"
   ]
  },
  {
   "cell_type": "code",
   "execution_count": 67,
   "metadata": {},
   "outputs": [],
   "source": [
    "import tensorflow_recommenders as tfrs\n",
    "\n",
    "\n",
    "class GoodreadsDCNModel(tfrs.models.Model):\n",
    "\n",
    "    def __init__(self, use_cross_layer, deep_layer_sizes, projection_dim=None, embedding_dim=32, max_text_tokens=20_000):\n",
    "        super().__init__()\n",
    "        self.embedding_dimension = embedding_dim\n",
    "\n",
    "        self._all_features = FEATURE_NAMES\n",
    "        self._embeddings = {}\n",
    "\n",
    "        # Compute embeddings for string features.\n",
    "        for i, feature_name in enumerate(CATEGORICAL_STR_FEATURE_NAMES):\n",
    "            vocabulary = CATEGORICAL_FEATURES_WITH_VOCABULARY[feature_name]\n",
    "            self._embeddings[feature_name] = tf.keras.Sequential(\n",
    "                [tf.keras.layers.StringLookup(\n",
    "                    vocabulary=vocabulary, mask_token=None, name=f\"str_lookup_{feature_name}_{i}\"),\n",
    "                 tf.keras.layers.Embedding(len(vocabulary) + 1,\n",
    "                                           self.embedding_dimension, name=f\"embedding_{feature_name}_{i}\")\n",
    "                 ])\n",
    "        # Compute embeddings for complex text features.\n",
    "        for i, feature_name in enumerate(TEXT_FEATURE_NAMES):\n",
    "            self._embeddings[feature_name] = tf.keras.Sequential([\n",
    "                tf.keras.layers.TextVectorization(max_tokens=max_text_tokens, name=f\"textvectorization_{feature_name}_{i}\"),\n",
    "                 tf.keras.layers.Embedding(max_text_tokens, self.embedding_dimension,  mask_zero=True, name=f\"embedding_{feature_name}_{i}\"),\n",
    "                 tf.keras.layers.GlobalAveragePooling1D(),\n",
    "                 ])\n",
    "\n",
    "        # Compute embeddings for int features.\n",
    "        for i, feature_name in enumerate(CATEGORICAL_INT_FEATURE_NAMES):\n",
    "            vocabulary = CATEGORICAL_FEATURES_WITH_VOCABULARY[feature_name]\n",
    "            self._embeddings[feature_name] = tf.keras.Sequential(\n",
    "                [tf.keras.layers.IntegerLookup(\n",
    "                    vocabulary=vocabulary, mask_token=None, name=f\"int_lookup_{feature_name}_{i}\"),\n",
    "                 tf.keras.layers.Embedding(len(vocabulary) + 1,\n",
    "                                           self.embedding_dimension, name=f\"embedding_{feature_name}_{i}\")\n",
    "                 ])\n",
    "\n",
    "        # TODO use continuous numerical features\n",
    "\n",
    "        if use_cross_layer:\n",
    "            self._cross_layer = tfrs.layers.dcn.Cross(\n",
    "                projection_dim=projection_dim,\n",
    "                kernel_initializer=\"glorot_uniform\")\n",
    "        else:\n",
    "            self._cross_layer = None\n",
    "\n",
    "        self._deep_layers = [tf.keras.layers.Dense(layer_size, activation=\"relu\")\n",
    "                             for layer_size in deep_layer_sizes]\n",
    "\n",
    "        self._logit_layer = tf.keras.layers.Dense(1)\n",
    "\n",
    "        self.task = tfrs.tasks.Ranking(\n",
    "            loss=tf.keras.losses.MeanSquaredError(),\n",
    "            metrics=[tf.keras.metrics.RootMeanSquaredError()]\n",
    "        )\n",
    "\n",
    "    def adapt_text_vec(self, feature_name:str, data):\n",
    "        self._embeddings[feature_name].layers[0].adapt(data)\n",
    "\n",
    "    def call(self, features):\n",
    "        # Concatenate embeddings\n",
    "        embeddings = []\n",
    "        for feature_name in self._all_features:\n",
    "            embedding_fn = self._embeddings[feature_name]\n",
    "            embeddings.append(embedding_fn(features[feature_name]))\n",
    "\n",
    "        x = tf.concat(embeddings, axis=1)\n",
    "\n",
    "        # Build Cross Network\n",
    "        if self._cross_layer is not None:\n",
    "            x = self._cross_layer(x)\n",
    "\n",
    "        # Build Deep Network\n",
    "        for deep_layer in self._deep_layers:\n",
    "            x = deep_layer(x)\n",
    "\n",
    "        return self._logit_layer(x)\n",
    "\n",
    "    def compute_loss(self, features, training=False):\n",
    "        labels = features.pop(TARGET_FEATURE_NAME)\n",
    "        scores = self(features)\n",
    "        return self.task(\n",
    "            labels=labels,\n",
    "            predictions=scores,\n",
    "        )\n"
   ]
  },
  {
   "cell_type": "code",
   "execution_count": 68,
   "metadata": {},
   "outputs": [],
   "source": [
    "def setup_model(use_cross_layer, deep_layer_sizes, no_dl, projection_dim=None):\n",
    "  import datetime\n",
    "  import tensorflow_addons as tfa\n",
    "  from tqdm.notebook import tqdm\n",
    "\n",
    "  deep_layers = np.repeat(deep_layer_sizes, no_dl)\n",
    "  model = GoodreadsDCNModel(use_cross_layer=use_cross_layer,\n",
    "              deep_layer_sizes=deep_layers,\n",
    "              projection_dim=projection_dim)\n",
    "  print(\"adapting text vectorization layers to vocabulary..\")\n",
    "  for feature_name in tqdm(TEXT_FEATURE_NAMES):\n",
    "    model.adapt_text_vec(feature_name, data[feature_name])\n",
    "\n",
    "  return model"
   ]
  },
  {
   "cell_type": "code",
   "execution_count": 69,
   "metadata": {},
   "outputs": [],
   "source": [
    "def run_model(model, lr, epochs, batch_size, optimizer=tf.keras.optimizers.Adam):\n",
    "  import datetime\n",
    "  import tensorflow_addons as tfa\n",
    "\n",
    "  model.compile(\n",
    "      optimizer=optimizer(learning_rate=lr),\n",
    "  )\n",
    "\n",
    "  train_dataset = get_dataset_from_pandas(train_data, TARGET_FEATURE_NAME, batch_size, shuffle=True).map(lambda x, y: {\n",
    "    \"book_id\": x[\"book_id\"],\n",
    "    \"author_id\": x[\"author_id\"],\n",
    "    \"user_id\": x[\"user_id\"],\n",
    "    \"review_text\": x[\"review_text\"],\n",
    "    \"title\": x[\"title\"],\n",
    "    \"description\": x[\"description\"],\n",
    "    \"rating\": y,\n",
    "  })\n",
    "  validation_dataset = get_dataset_from_pandas(val_data, TARGET_FEATURE_NAME, batch_size).map(lambda x, y: {\n",
    "    \"book_id\": x[\"book_id\"],\n",
    "    \"author_id\": x[\"author_id\"],\n",
    "    \"user_id\": x[\"user_id\"],\n",
    "    \"review_text\": x[\"review_text\"],\n",
    "    \"title\": x[\"title\"],\n",
    "    \"description\": x[\"description\"],\n",
    "    \"rating\": y,\n",
    "  })\n",
    "  test_dataset = get_dataset_from_pandas(test_data, TARGET_FEATURE_NAME, batch_size).map(lambda x, y: {\n",
    "    \"book_id\": x[\"book_id\"],\n",
    "    \"author_id\": x[\"author_id\"],\n",
    "    \"user_id\": x[\"user_id\"],\n",
    "    \"review_text\": x[\"review_text\"],\n",
    "    \"title\": x[\"title\"],\n",
    "    \"description\": x[\"description\"],\n",
    "    \"rating\": y,\n",
    "  })\n",
    "\n",
    "  log_dir = \"logs/fit/\" + model.name + datetime.datetime.now().strftime(\"%Y%m%d-%H%M%S\")\n",
    "  email = EmailCallback(train_size=len(train_data), val_size=len(val_data))\n",
    "  tqdm_callback = tfa.callbacks.TQDMProgressBar()\n",
    "  callbacks_train = [\n",
    "      tf.keras.callbacks.TensorBoard(log_dir=log_dir),\n",
    "      tf.keras.callbacks.EarlyStopping(patience=3),\n",
    "      tf.keras.callbacks.BackupAndRestore(backup_dir=\"./models/backup\"+ datetime.datetime.now().strftime(\"%Y%m%d-%H%M%S\")),\n",
    "      tqdm_callback\n",
    "      # email\n",
    "  ]\n",
    "\n",
    "  print(\"Start training the model...\")\n",
    "  \n",
    "  \n",
    "  history = model.fit(\n",
    "      train_dataset, \n",
    "      epochs=epochs, \n",
    "      callbacks=callbacks_train,\n",
    "      validation_data=validation_dataset, verbose=0)\n",
    "  print(\"Model training finished\")\n",
    "  metrics = model.evaluate(test_dataset, return_dict=True, callbacks=[tqdm_callback], verbose=0)\n",
    "\n",
    "  print(metrics)\n",
    "  return\n",
    "\n"
   ]
  },
  {
   "cell_type": "code",
   "execution_count": 70,
   "metadata": {},
   "outputs": [
    {
     "name": "stdout",
     "output_type": "stream",
     "text": [
      "adapting text vectorization layers to vocabulary..\n"
     ]
    },
    {
     "data": {
      "application/vnd.jupyter.widget-view+json": {
       "model_id": "520d2ddf395d4c009a0c35f46da67a5b",
       "version_major": 2,
       "version_minor": 0
      },
      "text/plain": [
       "  0%|          | 0/3 [00:00<?, ?it/s]"
      ]
     },
     "metadata": {},
     "output_type": "display_data"
    },
    {
     "name": "stdout",
     "output_type": "stream",
     "text": [
      "setting up yagmail...\n",
      "Start training the model...\n"
     ]
    },
    {
     "data": {
      "application/vnd.jupyter.widget-view+json": {
       "model_id": "af2f9a95616442448d5fdf8f78157362",
       "version_major": 2,
       "version_minor": 0
      },
      "text/plain": [
       "Training:   0%|           0/50 ETA: ?s,  ?epochs/s"
      ]
     },
     "metadata": {},
     "output_type": "display_data"
    },
    {
     "name": "stdout",
     "output_type": "stream",
     "text": [
      "Epoch 1/50\n"
     ]
    },
    {
     "data": {
      "application/vnd.jupyter.widget-view+json": {
       "model_id": "2ebd64cca81a4d0a9bf338a118a70686",
       "version_major": 2,
       "version_minor": 0
      },
      "text/plain": [
       "0/137           ETA: ?s - "
      ]
     },
     "metadata": {},
     "output_type": "display_data"
    },
    {
     "name": "stdout",
     "output_type": "stream",
     "text": [
      "Epoch 2/50\n"
     ]
    },
    {
     "data": {
      "application/vnd.jupyter.widget-view+json": {
       "model_id": "7da9bebdb9c448a3921a16c51f417124",
       "version_major": 2,
       "version_minor": 0
      },
      "text/plain": [
       "0/137           ETA: ?s - "
      ]
     },
     "metadata": {},
     "output_type": "display_data"
    },
    {
     "name": "stdout",
     "output_type": "stream",
     "text": [
      "Epoch 3/50\n"
     ]
    },
    {
     "data": {
      "application/vnd.jupyter.widget-view+json": {
       "model_id": "4d4508a575574c9d9d622bf0f7d0aaf7",
       "version_major": 2,
       "version_minor": 0
      },
      "text/plain": [
       "0/137           ETA: ?s - "
      ]
     },
     "metadata": {},
     "output_type": "display_data"
    },
    {
     "name": "stdout",
     "output_type": "stream",
     "text": [
      "Epoch 4/50\n"
     ]
    },
    {
     "data": {
      "application/vnd.jupyter.widget-view+json": {
       "model_id": "5e4d5fdac15a45b790309d2648b49698",
       "version_major": 2,
       "version_minor": 0
      },
      "text/plain": [
       "0/137           ETA: ?s - "
      ]
     },
     "metadata": {},
     "output_type": "display_data"
    },
    {
     "name": "stdout",
     "output_type": "stream",
     "text": [
      "Epoch 5/50\n"
     ]
    },
    {
     "data": {
      "application/vnd.jupyter.widget-view+json": {
       "model_id": "74ab04c8575c4f72a557d8df2bf6ea1d",
       "version_major": 2,
       "version_minor": 0
      },
      "text/plain": [
       "0/137           ETA: ?s - "
      ]
     },
     "metadata": {},
     "output_type": "display_data"
    },
    {
     "name": "stdout",
     "output_type": "stream",
     "text": [
      "Epoch 6/50\n"
     ]
    },
    {
     "data": {
      "application/vnd.jupyter.widget-view+json": {
       "model_id": "427c5fcc0eb147e6b33e133395528002",
       "version_major": 2,
       "version_minor": 0
      },
      "text/plain": [
       "0/137           ETA: ?s - "
      ]
     },
     "metadata": {},
     "output_type": "display_data"
    },
    {
     "name": "stdout",
     "output_type": "stream",
     "text": [
      "Epoch 7/50\n"
     ]
    },
    {
     "data": {
      "application/vnd.jupyter.widget-view+json": {
       "model_id": "0172df82813c44c59dc8f8a150aad618",
       "version_major": 2,
       "version_minor": 0
      },
      "text/plain": [
       "0/137           ETA: ?s - "
      ]
     },
     "metadata": {},
     "output_type": "display_data"
    },
    {
     "name": "stdout",
     "output_type": "stream",
     "text": [
      "Epoch 8/50\n"
     ]
    },
    {
     "data": {
      "application/vnd.jupyter.widget-view+json": {
       "model_id": "304fe0ca0cc14ddd8767daedca2d1868",
       "version_major": 2,
       "version_minor": 0
      },
      "text/plain": [
       "0/137           ETA: ?s - "
      ]
     },
     "metadata": {},
     "output_type": "display_data"
    },
    {
     "name": "stdout",
     "output_type": "stream",
     "text": [
      "Epoch 9/50\n"
     ]
    },
    {
     "data": {
      "application/vnd.jupyter.widget-view+json": {
       "model_id": "693c27bd65d24b15b93298b86ee8971c",
       "version_major": 2,
       "version_minor": 0
      },
      "text/plain": [
       "0/137           ETA: ?s - "
      ]
     },
     "metadata": {},
     "output_type": "display_data"
    },
    {
     "name": "stdout",
     "output_type": "stream",
     "text": [
      "Epoch 10/50\n"
     ]
    },
    {
     "data": {
      "application/vnd.jupyter.widget-view+json": {
       "model_id": "01d9d59e5b63469c90461e320dca74c3",
       "version_major": 2,
       "version_minor": 0
      },
      "text/plain": [
       "0/137           ETA: ?s - "
      ]
     },
     "metadata": {},
     "output_type": "display_data"
    },
    {
     "name": "stdout",
     "output_type": "stream",
     "text": [
      "Epoch 11/50\n"
     ]
    },
    {
     "data": {
      "application/vnd.jupyter.widget-view+json": {
       "model_id": "14382477ac974c488c705b953c1ae273",
       "version_major": 2,
       "version_minor": 0
      },
      "text/plain": [
       "0/137           ETA: ?s - "
      ]
     },
     "metadata": {},
     "output_type": "display_data"
    },
    {
     "name": "stdout",
     "output_type": "stream",
     "text": [
      "Epoch 12/50\n"
     ]
    },
    {
     "data": {
      "application/vnd.jupyter.widget-view+json": {
       "model_id": "53a8e0528b0343c8848464bf7852269a",
       "version_major": 2,
       "version_minor": 0
      },
      "text/plain": [
       "0/137           ETA: ?s - "
      ]
     },
     "metadata": {},
     "output_type": "display_data"
    },
    {
     "name": "stdout",
     "output_type": "stream",
     "text": [
      "Epoch 13/50\n"
     ]
    },
    {
     "data": {
      "application/vnd.jupyter.widget-view+json": {
       "model_id": "b65c02118488498b86417b9798297038",
       "version_major": 2,
       "version_minor": 0
      },
      "text/plain": [
       "0/137           ETA: ?s - "
      ]
     },
     "metadata": {},
     "output_type": "display_data"
    },
    {
     "name": "stdout",
     "output_type": "stream",
     "text": [
      "Epoch 14/50\n"
     ]
    },
    {
     "data": {
      "application/vnd.jupyter.widget-view+json": {
       "model_id": "73bc5c03e3c245e7b1686026f2d8947b",
       "version_major": 2,
       "version_minor": 0
      },
      "text/plain": [
       "0/137           ETA: ?s - "
      ]
     },
     "metadata": {},
     "output_type": "display_data"
    },
    {
     "name": "stdout",
     "output_type": "stream",
     "text": [
      "Epoch 15/50\n"
     ]
    },
    {
     "data": {
      "application/vnd.jupyter.widget-view+json": {
       "model_id": "0df819912e434daabb4c535dcbb77fd7",
       "version_major": 2,
       "version_minor": 0
      },
      "text/plain": [
       "0/137           ETA: ?s - "
      ]
     },
     "metadata": {},
     "output_type": "display_data"
    },
    {
     "name": "stdout",
     "output_type": "stream",
     "text": [
      "Model training finished\n"
     ]
    },
    {
     "data": {
      "application/vnd.jupyter.widget-view+json": {
       "model_id": "804107c088ac4f28a20421b45646db08",
       "version_major": 2,
       "version_minor": 0
      },
      "text/plain": [
       "0/30           ETA: ?s - Evaluating"
      ]
     },
     "metadata": {},
     "output_type": "display_data"
    },
    {
     "name": "stdout",
     "output_type": "stream",
     "text": [
      "{'root_mean_squared_error': 1.190354585647583, 'loss': 1.4162453413009644, 'regularization_loss': 0, 'total_loss': 1.4162453413009644}\n"
     ]
    }
   ],
   "source": [
    "learning_rate = 0.001\n",
    "model = setup_model(use_cross_layer=True, deep_layer_sizes=[192], no_dl=2, projection_dim=20)\n",
    "dcn_result = run_model(model, lr=learning_rate, epochs=50, batch_size=512)"
   ]
  },
  {
   "cell_type": "code",
   "execution_count": 71,
   "metadata": {},
   "outputs": [
    {
     "name": "stdout",
     "output_type": "stream",
     "text": [
      "adapting text vectorization layers to vocabulary..\n"
     ]
    },
    {
     "data": {
      "application/vnd.jupyter.widget-view+json": {
       "model_id": "f1dc76bf89e343d4860e4cbd26f895f4",
       "version_major": 2,
       "version_minor": 0
      },
      "text/plain": [
       "  0%|          | 0/3 [00:00<?, ?it/s]"
      ]
     },
     "metadata": {},
     "output_type": "display_data"
    },
    {
     "name": "stdout",
     "output_type": "stream",
     "text": [
      "setting up yagmail...\n",
      "Start training the model...\n"
     ]
    },
    {
     "data": {
      "application/vnd.jupyter.widget-view+json": {
       "model_id": "c67e821e150a444f8a6bd4d55e6ea778",
       "version_major": 2,
       "version_minor": 0
      },
      "text/plain": [
       "Training:   0%|           0/50 ETA: ?s,  ?epochs/s"
      ]
     },
     "metadata": {},
     "output_type": "display_data"
    },
    {
     "name": "stdout",
     "output_type": "stream",
     "text": [
      "Epoch 1/50\n"
     ]
    },
    {
     "data": {
      "application/vnd.jupyter.widget-view+json": {
       "model_id": "385c79b4ab19460e9b702f45ef2ae378",
       "version_major": 2,
       "version_minor": 0
      },
      "text/plain": [
       "0/137           ETA: ?s - "
      ]
     },
     "metadata": {},
     "output_type": "display_data"
    },
    {
     "name": "stdout",
     "output_type": "stream",
     "text": [
      "Epoch 2/50\n"
     ]
    },
    {
     "data": {
      "application/vnd.jupyter.widget-view+json": {
       "model_id": "8355efaa0c744c0e9e916e5c39857c19",
       "version_major": 2,
       "version_minor": 0
      },
      "text/plain": [
       "0/137           ETA: ?s - "
      ]
     },
     "metadata": {},
     "output_type": "display_data"
    },
    {
     "name": "stdout",
     "output_type": "stream",
     "text": [
      "Epoch 3/50\n"
     ]
    },
    {
     "data": {
      "application/vnd.jupyter.widget-view+json": {
       "model_id": "7024322f433843299d7bdb5e9eda6ebb",
       "version_major": 2,
       "version_minor": 0
      },
      "text/plain": [
       "0/137           ETA: ?s - "
      ]
     },
     "metadata": {},
     "output_type": "display_data"
    },
    {
     "name": "stdout",
     "output_type": "stream",
     "text": [
      "Epoch 4/50\n"
     ]
    },
    {
     "data": {
      "application/vnd.jupyter.widget-view+json": {
       "model_id": "f45804e7209649c681184c6b439541bf",
       "version_major": 2,
       "version_minor": 0
      },
      "text/plain": [
       "0/137           ETA: ?s - "
      ]
     },
     "metadata": {},
     "output_type": "display_data"
    },
    {
     "name": "stdout",
     "output_type": "stream",
     "text": [
      "Epoch 5/50\n"
     ]
    },
    {
     "data": {
      "application/vnd.jupyter.widget-view+json": {
       "model_id": "c74b02e3a55347ec86d31c362eb0b636",
       "version_major": 2,
       "version_minor": 0
      },
      "text/plain": [
       "0/137           ETA: ?s - "
      ]
     },
     "metadata": {},
     "output_type": "display_data"
    },
    {
     "name": "stdout",
     "output_type": "stream",
     "text": [
      "Epoch 6/50\n"
     ]
    },
    {
     "data": {
      "application/vnd.jupyter.widget-view+json": {
       "model_id": "1b119c17b8f1441783f509701d10d042",
       "version_major": 2,
       "version_minor": 0
      },
      "text/plain": [
       "0/137           ETA: ?s - "
      ]
     },
     "metadata": {},
     "output_type": "display_data"
    },
    {
     "name": "stdout",
     "output_type": "stream",
     "text": [
      "Epoch 7/50\n"
     ]
    },
    {
     "data": {
      "application/vnd.jupyter.widget-view+json": {
       "model_id": "a783d06c7ca74d5eadcdb2b1702bb037",
       "version_major": 2,
       "version_minor": 0
      },
      "text/plain": [
       "0/137           ETA: ?s - "
      ]
     },
     "metadata": {},
     "output_type": "display_data"
    },
    {
     "name": "stdout",
     "output_type": "stream",
     "text": [
      "Epoch 8/50\n"
     ]
    },
    {
     "data": {
      "application/vnd.jupyter.widget-view+json": {
       "model_id": "f0b5ae16b7d842cdae146478639c2ab4",
       "version_major": 2,
       "version_minor": 0
      },
      "text/plain": [
       "0/137           ETA: ?s - "
      ]
     },
     "metadata": {},
     "output_type": "display_data"
    },
    {
     "name": "stdout",
     "output_type": "stream",
     "text": [
      "Epoch 9/50\n"
     ]
    },
    {
     "data": {
      "application/vnd.jupyter.widget-view+json": {
       "model_id": "987913e8fb8a4229a4eeee6e86d8955a",
       "version_major": 2,
       "version_minor": 0
      },
      "text/plain": [
       "0/137           ETA: ?s - "
      ]
     },
     "metadata": {},
     "output_type": "display_data"
    },
    {
     "name": "stdout",
     "output_type": "stream",
     "text": [
      "Epoch 10/50\n"
     ]
    },
    {
     "data": {
      "application/vnd.jupyter.widget-view+json": {
       "model_id": "e645cea0129b4911930306170dd049a8",
       "version_major": 2,
       "version_minor": 0
      },
      "text/plain": [
       "0/137           ETA: ?s - "
      ]
     },
     "metadata": {},
     "output_type": "display_data"
    },
    {
     "name": "stdout",
     "output_type": "stream",
     "text": [
      "Epoch 11/50\n"
     ]
    },
    {
     "data": {
      "application/vnd.jupyter.widget-view+json": {
       "model_id": "403a09f7301341bfa470381e823cc6b6",
       "version_major": 2,
       "version_minor": 0
      },
      "text/plain": [
       "0/137           ETA: ?s - "
      ]
     },
     "metadata": {},
     "output_type": "display_data"
    },
    {
     "name": "stdout",
     "output_type": "stream",
     "text": [
      "Epoch 12/50\n"
     ]
    },
    {
     "data": {
      "application/vnd.jupyter.widget-view+json": {
       "model_id": "631db8e9b0d74bc78e89fc9e5f65dd70",
       "version_major": 2,
       "version_minor": 0
      },
      "text/plain": [
       "0/137           ETA: ?s - "
      ]
     },
     "metadata": {},
     "output_type": "display_data"
    },
    {
     "name": "stdout",
     "output_type": "stream",
     "text": [
      "Epoch 13/50\n"
     ]
    },
    {
     "data": {
      "application/vnd.jupyter.widget-view+json": {
       "model_id": "131127340a8744dcb2a3ca242c80a95f",
       "version_major": 2,
       "version_minor": 0
      },
      "text/plain": [
       "0/137           ETA: ?s - "
      ]
     },
     "metadata": {},
     "output_type": "display_data"
    },
    {
     "name": "stdout",
     "output_type": "stream",
     "text": [
      "Epoch 14/50\n"
     ]
    },
    {
     "data": {
      "application/vnd.jupyter.widget-view+json": {
       "model_id": "25553f23f3214f01a0ab182c868b172b",
       "version_major": 2,
       "version_minor": 0
      },
      "text/plain": [
       "0/137           ETA: ?s - "
      ]
     },
     "metadata": {},
     "output_type": "display_data"
    },
    {
     "name": "stdout",
     "output_type": "stream",
     "text": [
      "Epoch 15/50\n"
     ]
    },
    {
     "data": {
      "application/vnd.jupyter.widget-view+json": {
       "model_id": "5d596a4fe1ad4708ad1b1ef7a7446d57",
       "version_major": 2,
       "version_minor": 0
      },
      "text/plain": [
       "0/137           ETA: ?s - "
      ]
     },
     "metadata": {},
     "output_type": "display_data"
    },
    {
     "name": "stdout",
     "output_type": "stream",
     "text": [
      "Epoch 16/50\n"
     ]
    },
    {
     "data": {
      "application/vnd.jupyter.widget-view+json": {
       "model_id": "3e98f242b7534874949f0f96b437de22",
       "version_major": 2,
       "version_minor": 0
      },
      "text/plain": [
       "0/137           ETA: ?s - "
      ]
     },
     "metadata": {},
     "output_type": "display_data"
    },
    {
     "name": "stdout",
     "output_type": "stream",
     "text": [
      "Epoch 17/50\n"
     ]
    },
    {
     "data": {
      "application/vnd.jupyter.widget-view+json": {
       "model_id": "8fc353d92c304632951c3439619d671d",
       "version_major": 2,
       "version_minor": 0
      },
      "text/plain": [
       "0/137           ETA: ?s - "
      ]
     },
     "metadata": {},
     "output_type": "display_data"
    },
    {
     "name": "stdout",
     "output_type": "stream",
     "text": [
      "Epoch 18/50\n"
     ]
    },
    {
     "data": {
      "application/vnd.jupyter.widget-view+json": {
       "model_id": "129effcb7ae04d33bc448ff33f0cea55",
       "version_major": 2,
       "version_minor": 0
      },
      "text/plain": [
       "0/137           ETA: ?s - "
      ]
     },
     "metadata": {},
     "output_type": "display_data"
    },
    {
     "name": "stdout",
     "output_type": "stream",
     "text": [
      "Model training finished\n"
     ]
    },
    {
     "data": {
      "application/vnd.jupyter.widget-view+json": {
       "model_id": "c335a12d7fe74d179e9129a9fb938ae6",
       "version_major": 2,
       "version_minor": 0
      },
      "text/plain": [
       "0/30           ETA: ?s - Evaluating"
      ]
     },
     "metadata": {},
     "output_type": "display_data"
    },
    {
     "name": "stdout",
     "output_type": "stream",
     "text": [
      "{'root_mean_squared_error': 1.190405011177063, 'loss': 1.4162696599960327, 'regularization_loss': 0, 'total_loss': 1.4162696599960327}\n"
     ]
    }
   ],
   "source": [
    "model = setup_model(use_cross_layer=True, deep_layer_sizes=[192], no_dl=2, projection_dim=20)\n",
    "\n",
    "dcn_result_0_0001 = run_model(model, lr=0.0001, epochs=50, batch_size=512)"
   ]
  },
  {
   "cell_type": "code",
   "execution_count": 72,
   "metadata": {},
   "outputs": [
    {
     "name": "stdout",
     "output_type": "stream",
     "text": [
      "adapting text vectorization layers to vocabulary..\n"
     ]
    },
    {
     "data": {
      "application/vnd.jupyter.widget-view+json": {
       "model_id": "cb55b78b9a3f4b97927e8a07408fddd6",
       "version_major": 2,
       "version_minor": 0
      },
      "text/plain": [
       "  0%|          | 0/3 [00:00<?, ?it/s]"
      ]
     },
     "metadata": {},
     "output_type": "display_data"
    },
    {
     "name": "stdout",
     "output_type": "stream",
     "text": [
      "setting up yagmail...\n",
      "Start training the model...\n"
     ]
    },
    {
     "data": {
      "application/vnd.jupyter.widget-view+json": {
       "model_id": "02bd9b9797604cea92d6b823812614b7",
       "version_major": 2,
       "version_minor": 0
      },
      "text/plain": [
       "Training:   0%|           0/50 ETA: ?s,  ?epochs/s"
      ]
     },
     "metadata": {},
     "output_type": "display_data"
    },
    {
     "name": "stdout",
     "output_type": "stream",
     "text": [
      "Epoch 1/50\n"
     ]
    },
    {
     "data": {
      "application/vnd.jupyter.widget-view+json": {
       "model_id": "7baedbbae5df48a9a453d31ac55f0584",
       "version_major": 2,
       "version_minor": 0
      },
      "text/plain": [
       "0/137           ETA: ?s - "
      ]
     },
     "metadata": {},
     "output_type": "display_data"
    },
    {
     "name": "stderr",
     "output_type": "stream",
     "text": [
      "2022-02-17 15:15:02.481238: W tensorflow/core/kernels/data/cache_dataset_ops.cc:768] The calling iterator did not fully read the dataset being cached. In order to avoid unexpected truncation of the dataset, the partially cached contents of the dataset  will be discarded. This can happen if you have an input pipeline similar to `dataset.cache().take(k).repeat()`. You should use `dataset.take(k).cache().repeat()` instead.\n"
     ]
    },
    {
     "name": "stdout",
     "output_type": "stream",
     "text": [
      "Epoch 2/50\n"
     ]
    },
    {
     "data": {
      "application/vnd.jupyter.widget-view+json": {
       "model_id": "2e4086788c244819a3313a43e1de025f",
       "version_major": 2,
       "version_minor": 0
      },
      "text/plain": [
       "0/137           ETA: ?s - "
      ]
     },
     "metadata": {},
     "output_type": "display_data"
    },
    {
     "name": "stdout",
     "output_type": "stream",
     "text": [
      "Epoch 3/50\n"
     ]
    },
    {
     "data": {
      "application/vnd.jupyter.widget-view+json": {
       "model_id": "410592fa83034a58900a175935c52d5b",
       "version_major": 2,
       "version_minor": 0
      },
      "text/plain": [
       "0/137           ETA: ?s - "
      ]
     },
     "metadata": {},
     "output_type": "display_data"
    },
    {
     "name": "stdout",
     "output_type": "stream",
     "text": [
      "Epoch 4/50\n"
     ]
    },
    {
     "data": {
      "application/vnd.jupyter.widget-view+json": {
       "model_id": "7d181881f2a84682968d9fa71285b940",
       "version_major": 2,
       "version_minor": 0
      },
      "text/plain": [
       "0/137           ETA: ?s - "
      ]
     },
     "metadata": {},
     "output_type": "display_data"
    },
    {
     "name": "stdout",
     "output_type": "stream",
     "text": [
      "Epoch 5/50\n"
     ]
    },
    {
     "data": {
      "application/vnd.jupyter.widget-view+json": {
       "model_id": "3b26ab985a764c5a91df0f8af4c12b07",
       "version_major": 2,
       "version_minor": 0
      },
      "text/plain": [
       "0/137           ETA: ?s - "
      ]
     },
     "metadata": {},
     "output_type": "display_data"
    },
    {
     "name": "stdout",
     "output_type": "stream",
     "text": [
      "Epoch 6/50\n"
     ]
    },
    {
     "data": {
      "application/vnd.jupyter.widget-view+json": {
       "model_id": "dfa43b9f01a745238f9830c6b3e015a9",
       "version_major": 2,
       "version_minor": 0
      },
      "text/plain": [
       "0/137           ETA: ?s - "
      ]
     },
     "metadata": {},
     "output_type": "display_data"
    },
    {
     "name": "stdout",
     "output_type": "stream",
     "text": [
      "Epoch 7/50\n"
     ]
    },
    {
     "data": {
      "application/vnd.jupyter.widget-view+json": {
       "model_id": "2903f513ce1a488a9c35197b51f4a1a6",
       "version_major": 2,
       "version_minor": 0
      },
      "text/plain": [
       "0/137           ETA: ?s - "
      ]
     },
     "metadata": {},
     "output_type": "display_data"
    },
    {
     "name": "stdout",
     "output_type": "stream",
     "text": [
      "Epoch 8/50\n"
     ]
    },
    {
     "data": {
      "application/vnd.jupyter.widget-view+json": {
       "model_id": "d8509a9764bf46799c0b138545511fa2",
       "version_major": 2,
       "version_minor": 0
      },
      "text/plain": [
       "0/137           ETA: ?s - "
      ]
     },
     "metadata": {},
     "output_type": "display_data"
    },
    {
     "name": "stdout",
     "output_type": "stream",
     "text": [
      "Epoch 9/50\n"
     ]
    },
    {
     "data": {
      "application/vnd.jupyter.widget-view+json": {
       "model_id": "56c2fc3b0c3e414a9bdeeb5d4548caf2",
       "version_major": 2,
       "version_minor": 0
      },
      "text/plain": [
       "0/137           ETA: ?s - "
      ]
     },
     "metadata": {},
     "output_type": "display_data"
    },
    {
     "name": "stdout",
     "output_type": "stream",
     "text": [
      "Epoch 10/50\n"
     ]
    },
    {
     "data": {
      "application/vnd.jupyter.widget-view+json": {
       "model_id": "2d691b7f9599407d92f1c960488f3b73",
       "version_major": 2,
       "version_minor": 0
      },
      "text/plain": [
       "0/137           ETA: ?s - "
      ]
     },
     "metadata": {},
     "output_type": "display_data"
    },
    {
     "name": "stdout",
     "output_type": "stream",
     "text": [
      "Epoch 11/50\n"
     ]
    },
    {
     "data": {
      "application/vnd.jupyter.widget-view+json": {
       "model_id": "c8159abaf4544e2e8ebc307485db66f7",
       "version_major": 2,
       "version_minor": 0
      },
      "text/plain": [
       "0/137           ETA: ?s - "
      ]
     },
     "metadata": {},
     "output_type": "display_data"
    },
    {
     "name": "stdout",
     "output_type": "stream",
     "text": [
      "Epoch 12/50\n"
     ]
    },
    {
     "data": {
      "application/vnd.jupyter.widget-view+json": {
       "model_id": "f7b1d505c7b745c3818a2a8fb81dbe8e",
       "version_major": 2,
       "version_minor": 0
      },
      "text/plain": [
       "0/137           ETA: ?s - "
      ]
     },
     "metadata": {},
     "output_type": "display_data"
    },
    {
     "name": "stdout",
     "output_type": "stream",
     "text": [
      "Epoch 13/50\n"
     ]
    },
    {
     "data": {
      "application/vnd.jupyter.widget-view+json": {
       "model_id": "eaf0c23f92464e0ea5f17320915b0648",
       "version_major": 2,
       "version_minor": 0
      },
      "text/plain": [
       "0/137           ETA: ?s - "
      ]
     },
     "metadata": {},
     "output_type": "display_data"
    },
    {
     "name": "stdout",
     "output_type": "stream",
     "text": [
      "Epoch 14/50\n"
     ]
    },
    {
     "data": {
      "application/vnd.jupyter.widget-view+json": {
       "model_id": "629e887339b94214bd7243b2f8264d04",
       "version_major": 2,
       "version_minor": 0
      },
      "text/plain": [
       "0/137           ETA: ?s - "
      ]
     },
     "metadata": {},
     "output_type": "display_data"
    },
    {
     "name": "stdout",
     "output_type": "stream",
     "text": [
      "Epoch 15/50\n"
     ]
    },
    {
     "data": {
      "application/vnd.jupyter.widget-view+json": {
       "model_id": "9fc7ca42f8e246f19c791977c928587f",
       "version_major": 2,
       "version_minor": 0
      },
      "text/plain": [
       "0/137           ETA: ?s - "
      ]
     },
     "metadata": {},
     "output_type": "display_data"
    },
    {
     "name": "stdout",
     "output_type": "stream",
     "text": [
      "Epoch 16/50\n"
     ]
    },
    {
     "data": {
      "application/vnd.jupyter.widget-view+json": {
       "model_id": "ae89756de0404331beef4dac3abb6f64",
       "version_major": 2,
       "version_minor": 0
      },
      "text/plain": [
       "0/137           ETA: ?s - "
      ]
     },
     "metadata": {},
     "output_type": "display_data"
    },
    {
     "name": "stdout",
     "output_type": "stream",
     "text": [
      "Epoch 17/50\n"
     ]
    },
    {
     "data": {
      "application/vnd.jupyter.widget-view+json": {
       "model_id": "858dae20f55e4a8591c0622548e51d33",
       "version_major": 2,
       "version_minor": 0
      },
      "text/plain": [
       "0/137           ETA: ?s - "
      ]
     },
     "metadata": {},
     "output_type": "display_data"
    },
    {
     "name": "stdout",
     "output_type": "stream",
     "text": [
      "Epoch 18/50\n"
     ]
    },
    {
     "data": {
      "application/vnd.jupyter.widget-view+json": {
       "model_id": "cddecd2a888b4b64a12da7ba0d9e3b10",
       "version_major": 2,
       "version_minor": 0
      },
      "text/plain": [
       "0/137           ETA: ?s - "
      ]
     },
     "metadata": {},
     "output_type": "display_data"
    },
    {
     "name": "stdout",
     "output_type": "stream",
     "text": [
      "Epoch 19/50\n"
     ]
    },
    {
     "data": {
      "application/vnd.jupyter.widget-view+json": {
       "model_id": "17a5bc5cfded4b2bb3bdebb542274918",
       "version_major": 2,
       "version_minor": 0
      },
      "text/plain": [
       "0/137           ETA: ?s - "
      ]
     },
     "metadata": {},
     "output_type": "display_data"
    },
    {
     "name": "stdout",
     "output_type": "stream",
     "text": [
      "Epoch 20/50\n"
     ]
    },
    {
     "data": {
      "application/vnd.jupyter.widget-view+json": {
       "model_id": "fe580f5a2f9347d78ae325c9c662e343",
       "version_major": 2,
       "version_minor": 0
      },
      "text/plain": [
       "0/137           ETA: ?s - "
      ]
     },
     "metadata": {},
     "output_type": "display_data"
    },
    {
     "name": "stdout",
     "output_type": "stream",
     "text": [
      "Epoch 21/50\n"
     ]
    },
    {
     "data": {
      "application/vnd.jupyter.widget-view+json": {
       "model_id": "70a40c8328704823b7756ddbadbdb6a6",
       "version_major": 2,
       "version_minor": 0
      },
      "text/plain": [
       "0/137           ETA: ?s - "
      ]
     },
     "metadata": {},
     "output_type": "display_data"
    },
    {
     "name": "stdout",
     "output_type": "stream",
     "text": [
      "Epoch 22/50\n"
     ]
    },
    {
     "data": {
      "application/vnd.jupyter.widget-view+json": {
       "model_id": "c53e2d39558e4ad2b4acb6b3e7ef836c",
       "version_major": 2,
       "version_minor": 0
      },
      "text/plain": [
       "0/137           ETA: ?s - "
      ]
     },
     "metadata": {},
     "output_type": "display_data"
    },
    {
     "name": "stdout",
     "output_type": "stream",
     "text": [
      "Epoch 23/50\n"
     ]
    },
    {
     "data": {
      "application/vnd.jupyter.widget-view+json": {
       "model_id": "f702325694854adbaee2f0d24fec7174",
       "version_major": 2,
       "version_minor": 0
      },
      "text/plain": [
       "0/137           ETA: ?s - "
      ]
     },
     "metadata": {},
     "output_type": "display_data"
    },
    {
     "name": "stdout",
     "output_type": "stream",
     "text": [
      "Epoch 24/50\n"
     ]
    },
    {
     "data": {
      "application/vnd.jupyter.widget-view+json": {
       "model_id": "a55f8fb7f99b40af9570b051ea31515d",
       "version_major": 2,
       "version_minor": 0
      },
      "text/plain": [
       "0/137           ETA: ?s - "
      ]
     },
     "metadata": {},
     "output_type": "display_data"
    },
    {
     "name": "stdout",
     "output_type": "stream",
     "text": [
      "Epoch 25/50\n"
     ]
    },
    {
     "data": {
      "application/vnd.jupyter.widget-view+json": {
       "model_id": "a200963ba85849a29064edd873c02f7b",
       "version_major": 2,
       "version_minor": 0
      },
      "text/plain": [
       "0/137           ETA: ?s - "
      ]
     },
     "metadata": {},
     "output_type": "display_data"
    },
    {
     "name": "stdout",
     "output_type": "stream",
     "text": [
      "Epoch 26/50\n"
     ]
    },
    {
     "data": {
      "application/vnd.jupyter.widget-view+json": {
       "model_id": "e4ca5f63a29e418fa4c2f5eb703a4f8d",
       "version_major": 2,
       "version_minor": 0
      },
      "text/plain": [
       "0/137           ETA: ?s - "
      ]
     },
     "metadata": {},
     "output_type": "display_data"
    },
    {
     "name": "stdout",
     "output_type": "stream",
     "text": [
      "Epoch 27/50\n"
     ]
    },
    {
     "data": {
      "application/vnd.jupyter.widget-view+json": {
       "model_id": "4eebfdf9211f475d836c2b26c9b3b76c",
       "version_major": 2,
       "version_minor": 0
      },
      "text/plain": [
       "0/137           ETA: ?s - "
      ]
     },
     "metadata": {},
     "output_type": "display_data"
    },
    {
     "name": "stdout",
     "output_type": "stream",
     "text": [
      "Epoch 28/50\n"
     ]
    },
    {
     "data": {
      "application/vnd.jupyter.widget-view+json": {
       "model_id": "8b2867ed59294f94851f93b0ffd1f4c8",
       "version_major": 2,
       "version_minor": 0
      },
      "text/plain": [
       "0/137           ETA: ?s - "
      ]
     },
     "metadata": {},
     "output_type": "display_data"
    },
    {
     "name": "stdout",
     "output_type": "stream",
     "text": [
      "Epoch 29/50\n"
     ]
    },
    {
     "data": {
      "application/vnd.jupyter.widget-view+json": {
       "model_id": "ae1e5178dd684f4094112823d25f73a0",
       "version_major": 2,
       "version_minor": 0
      },
      "text/plain": [
       "0/137           ETA: ?s - "
      ]
     },
     "metadata": {},
     "output_type": "display_data"
    },
    {
     "name": "stdout",
     "output_type": "stream",
     "text": [
      "Epoch 30/50\n"
     ]
    },
    {
     "data": {
      "application/vnd.jupyter.widget-view+json": {
       "model_id": "16b3aef5921c4743b9c071fb62601677",
       "version_major": 2,
       "version_minor": 0
      },
      "text/plain": [
       "0/137           ETA: ?s - "
      ]
     },
     "metadata": {},
     "output_type": "display_data"
    },
    {
     "name": "stdout",
     "output_type": "stream",
     "text": [
      "Epoch 31/50\n"
     ]
    },
    {
     "data": {
      "application/vnd.jupyter.widget-view+json": {
       "model_id": "eaecdafb9a9b48778d7bafc2d600c47f",
       "version_major": 2,
       "version_minor": 0
      },
      "text/plain": [
       "0/137           ETA: ?s - "
      ]
     },
     "metadata": {},
     "output_type": "display_data"
    },
    {
     "name": "stdout",
     "output_type": "stream",
     "text": [
      "Epoch 32/50\n"
     ]
    },
    {
     "data": {
      "application/vnd.jupyter.widget-view+json": {
       "model_id": "768a8df3b5bc44bf94a5dcb6d3aca45b",
       "version_major": 2,
       "version_minor": 0
      },
      "text/plain": [
       "0/137           ETA: ?s - "
      ]
     },
     "metadata": {},
     "output_type": "display_data"
    },
    {
     "name": "stdout",
     "output_type": "stream",
     "text": [
      "Epoch 33/50\n"
     ]
    },
    {
     "data": {
      "application/vnd.jupyter.widget-view+json": {
       "model_id": "0d37d8c583f248898c343b97f7342c67",
       "version_major": 2,
       "version_minor": 0
      },
      "text/plain": [
       "0/137           ETA: ?s - "
      ]
     },
     "metadata": {},
     "output_type": "display_data"
    },
    {
     "name": "stdout",
     "output_type": "stream",
     "text": [
      "Epoch 34/50\n"
     ]
    },
    {
     "data": {
      "application/vnd.jupyter.widget-view+json": {
       "model_id": "d1b844f386fb4c98a055eb23b41c16cb",
       "version_major": 2,
       "version_minor": 0
      },
      "text/plain": [
       "0/137           ETA: ?s - "
      ]
     },
     "metadata": {},
     "output_type": "display_data"
    },
    {
     "name": "stdout",
     "output_type": "stream",
     "text": [
      "Epoch 35/50\n"
     ]
    },
    {
     "data": {
      "application/vnd.jupyter.widget-view+json": {
       "model_id": "d5b21b6f66184e0792099e53e7a7aa0f",
       "version_major": 2,
       "version_minor": 0
      },
      "text/plain": [
       "0/137           ETA: ?s - "
      ]
     },
     "metadata": {},
     "output_type": "display_data"
    },
    {
     "name": "stdout",
     "output_type": "stream",
     "text": [
      "Epoch 36/50\n"
     ]
    },
    {
     "data": {
      "application/vnd.jupyter.widget-view+json": {
       "model_id": "6393e35f6f99459581859eae881205fc",
       "version_major": 2,
       "version_minor": 0
      },
      "text/plain": [
       "0/137           ETA: ?s - "
      ]
     },
     "metadata": {},
     "output_type": "display_data"
    },
    {
     "name": "stdout",
     "output_type": "stream",
     "text": [
      "Epoch 37/50\n"
     ]
    },
    {
     "data": {
      "application/vnd.jupyter.widget-view+json": {
       "model_id": "0b4233889ce742d699f0474f48854271",
       "version_major": 2,
       "version_minor": 0
      },
      "text/plain": [
       "0/137           ETA: ?s - "
      ]
     },
     "metadata": {},
     "output_type": "display_data"
    },
    {
     "name": "stdout",
     "output_type": "stream",
     "text": [
      "Epoch 38/50\n"
     ]
    },
    {
     "data": {
      "application/vnd.jupyter.widget-view+json": {
       "model_id": "9c72ad7946b342b6bcee7ef545ea85eb",
       "version_major": 2,
       "version_minor": 0
      },
      "text/plain": [
       "0/137           ETA: ?s - "
      ]
     },
     "metadata": {},
     "output_type": "display_data"
    },
    {
     "name": "stdout",
     "output_type": "stream",
     "text": [
      "Epoch 39/50\n"
     ]
    },
    {
     "data": {
      "application/vnd.jupyter.widget-view+json": {
       "model_id": "42c6d3678350440790511c35774586b8",
       "version_major": 2,
       "version_minor": 0
      },
      "text/plain": [
       "0/137           ETA: ?s - "
      ]
     },
     "metadata": {},
     "output_type": "display_data"
    },
    {
     "name": "stdout",
     "output_type": "stream",
     "text": [
      "Epoch 40/50\n"
     ]
    },
    {
     "data": {
      "application/vnd.jupyter.widget-view+json": {
       "model_id": "97410f71b5bb46d1b4e8c972ab22d570",
       "version_major": 2,
       "version_minor": 0
      },
      "text/plain": [
       "0/137           ETA: ?s - "
      ]
     },
     "metadata": {},
     "output_type": "display_data"
    },
    {
     "name": "stdout",
     "output_type": "stream",
     "text": [
      "Epoch 41/50\n"
     ]
    },
    {
     "data": {
      "application/vnd.jupyter.widget-view+json": {
       "model_id": "9962a59deea24c63bc5019e251ca98a6",
       "version_major": 2,
       "version_minor": 0
      },
      "text/plain": [
       "0/137           ETA: ?s - "
      ]
     },
     "metadata": {},
     "output_type": "display_data"
    },
    {
     "name": "stdout",
     "output_type": "stream",
     "text": [
      "Epoch 42/50\n"
     ]
    },
    {
     "data": {
      "application/vnd.jupyter.widget-view+json": {
       "model_id": "733e1a0b52004b929767bd02caf6387e",
       "version_major": 2,
       "version_minor": 0
      },
      "text/plain": [
       "0/137           ETA: ?s - "
      ]
     },
     "metadata": {},
     "output_type": "display_data"
    },
    {
     "name": "stdout",
     "output_type": "stream",
     "text": [
      "Epoch 43/50\n"
     ]
    },
    {
     "data": {
      "application/vnd.jupyter.widget-view+json": {
       "model_id": "09ed39cf50824049994053fb8e43a1ed",
       "version_major": 2,
       "version_minor": 0
      },
      "text/plain": [
       "0/137           ETA: ?s - "
      ]
     },
     "metadata": {},
     "output_type": "display_data"
    },
    {
     "name": "stdout",
     "output_type": "stream",
     "text": [
      "Epoch 44/50\n"
     ]
    },
    {
     "data": {
      "application/vnd.jupyter.widget-view+json": {
       "model_id": "54e4b86f273d417786dbe21df7c3409b",
       "version_major": 2,
       "version_minor": 0
      },
      "text/plain": [
       "0/137           ETA: ?s - "
      ]
     },
     "metadata": {},
     "output_type": "display_data"
    },
    {
     "name": "stdout",
     "output_type": "stream",
     "text": [
      "Epoch 45/50\n"
     ]
    },
    {
     "data": {
      "application/vnd.jupyter.widget-view+json": {
       "model_id": "8abee909176a4aef9fb49e12599165d2",
       "version_major": 2,
       "version_minor": 0
      },
      "text/plain": [
       "0/137           ETA: ?s - "
      ]
     },
     "metadata": {},
     "output_type": "display_data"
    },
    {
     "name": "stdout",
     "output_type": "stream",
     "text": [
      "Epoch 46/50\n"
     ]
    },
    {
     "data": {
      "application/vnd.jupyter.widget-view+json": {
       "model_id": "c761a883f21847839073be95972c0fc1",
       "version_major": 2,
       "version_minor": 0
      },
      "text/plain": [
       "0/137           ETA: ?s - "
      ]
     },
     "metadata": {},
     "output_type": "display_data"
    },
    {
     "name": "stdout",
     "output_type": "stream",
     "text": [
      "Epoch 47/50\n"
     ]
    },
    {
     "data": {
      "application/vnd.jupyter.widget-view+json": {
       "model_id": "d3ea8f3220bf475c91be07987a1edf20",
       "version_major": 2,
       "version_minor": 0
      },
      "text/plain": [
       "0/137           ETA: ?s - "
      ]
     },
     "metadata": {},
     "output_type": "display_data"
    },
    {
     "name": "stdout",
     "output_type": "stream",
     "text": [
      "Epoch 48/50\n"
     ]
    },
    {
     "data": {
      "application/vnd.jupyter.widget-view+json": {
       "model_id": "ef050d9797ba44fdadde0ed6d6a17e99",
       "version_major": 2,
       "version_minor": 0
      },
      "text/plain": [
       "0/137           ETA: ?s - "
      ]
     },
     "metadata": {},
     "output_type": "display_data"
    },
    {
     "name": "stdout",
     "output_type": "stream",
     "text": [
      "Epoch 49/50\n"
     ]
    },
    {
     "data": {
      "application/vnd.jupyter.widget-view+json": {
       "model_id": "1be1ec7e2422448da4a0b694ab98fe43",
       "version_major": 2,
       "version_minor": 0
      },
      "text/plain": [
       "0/137           ETA: ?s - "
      ]
     },
     "metadata": {},
     "output_type": "display_data"
    },
    {
     "name": "stdout",
     "output_type": "stream",
     "text": [
      "Epoch 50/50\n"
     ]
    },
    {
     "data": {
      "application/vnd.jupyter.widget-view+json": {
       "model_id": "9ff3f50cb36e497fb24f939052c3af55",
       "version_major": 2,
       "version_minor": 0
      },
      "text/plain": [
       "0/137           ETA: ?s - "
      ]
     },
     "metadata": {},
     "output_type": "display_data"
    },
    {
     "name": "stdout",
     "output_type": "stream",
     "text": [
      "Model training finished\n"
     ]
    },
    {
     "data": {
      "application/vnd.jupyter.widget-view+json": {
       "model_id": "74ff8e23bef241769e884c8df7e0f5e6",
       "version_major": 2,
       "version_minor": 0
      },
      "text/plain": [
       "0/30           ETA: ?s - Evaluating"
      ]
     },
     "metadata": {},
     "output_type": "display_data"
    },
    {
     "name": "stdout",
     "output_type": "stream",
     "text": [
      "{'root_mean_squared_error': 3.6896660327911377, 'loss': 13.636150360107422, 'regularization_loss': 0, 'total_loss': 13.636150360107422}\n"
     ]
    }
   ],
   "source": [
    "model = setup_model(use_cross_layer=True, deep_layer_sizes=[192], no_dl=2, projection_dim=20)\n",
    "\n",
    "dcn_result_0_0001_adagrad = run_model(model, lr=0.0001, epochs=50, batch_size=512, optimizer=tf.keras.optimizers.Adagrad)"
   ]
  },
  {
   "cell_type": "code",
   "execution_count": 73,
   "metadata": {},
   "outputs": [
    {
     "name": "stdout",
     "output_type": "stream",
     "text": [
      "adapting text vectorization layers to vocabulary..\n"
     ]
    },
    {
     "data": {
      "application/vnd.jupyter.widget-view+json": {
       "model_id": "acd6f8442f89442c973e53a07338fd7c",
       "version_major": 2,
       "version_minor": 0
      },
      "text/plain": [
       "  0%|          | 0/3 [00:00<?, ?it/s]"
      ]
     },
     "metadata": {},
     "output_type": "display_data"
    },
    {
     "name": "stdout",
     "output_type": "stream",
     "text": [
      "setting up yagmail...\n",
      "Start training the model...\n"
     ]
    },
    {
     "data": {
      "application/vnd.jupyter.widget-view+json": {
       "model_id": "1c13efca737b452384f036ead77f3948",
       "version_major": 2,
       "version_minor": 0
      },
      "text/plain": [
       "Training:   0%|           0/50 ETA: ?s,  ?epochs/s"
      ]
     },
     "metadata": {},
     "output_type": "display_data"
    },
    {
     "name": "stdout",
     "output_type": "stream",
     "text": [
      "Epoch 1/50\n"
     ]
    },
    {
     "data": {
      "application/vnd.jupyter.widget-view+json": {
       "model_id": "3a01cc81308248608bad733183cdabe8",
       "version_major": 2,
       "version_minor": 0
      },
      "text/plain": [
       "0/137           ETA: ?s - "
      ]
     },
     "metadata": {},
     "output_type": "display_data"
    },
    {
     "name": "stdout",
     "output_type": "stream",
     "text": [
      "Epoch 2/50\n"
     ]
    },
    {
     "data": {
      "application/vnd.jupyter.widget-view+json": {
       "model_id": "89dbedd46f2e4c5c80422940ef267aca",
       "version_major": 2,
       "version_minor": 0
      },
      "text/plain": [
       "0/137           ETA: ?s - "
      ]
     },
     "metadata": {},
     "output_type": "display_data"
    },
    {
     "name": "stdout",
     "output_type": "stream",
     "text": [
      "Epoch 3/50\n"
     ]
    },
    {
     "data": {
      "application/vnd.jupyter.widget-view+json": {
       "model_id": "3367a9e7972e4981b527e610744fb40c",
       "version_major": 2,
       "version_minor": 0
      },
      "text/plain": [
       "0/137           ETA: ?s - "
      ]
     },
     "metadata": {},
     "output_type": "display_data"
    },
    {
     "name": "stdout",
     "output_type": "stream",
     "text": [
      "Epoch 4/50\n"
     ]
    },
    {
     "data": {
      "application/vnd.jupyter.widget-view+json": {
       "model_id": "bcb34f5d491544b9912e8f399cffcc4e",
       "version_major": 2,
       "version_minor": 0
      },
      "text/plain": [
       "0/137           ETA: ?s - "
      ]
     },
     "metadata": {},
     "output_type": "display_data"
    },
    {
     "name": "stdout",
     "output_type": "stream",
     "text": [
      "Epoch 5/50\n"
     ]
    },
    {
     "data": {
      "application/vnd.jupyter.widget-view+json": {
       "model_id": "738183038fb04971a1efdb140671f88a",
       "version_major": 2,
       "version_minor": 0
      },
      "text/plain": [
       "0/137           ETA: ?s - "
      ]
     },
     "metadata": {},
     "output_type": "display_data"
    },
    {
     "name": "stdout",
     "output_type": "stream",
     "text": [
      "Epoch 6/50\n"
     ]
    },
    {
     "data": {
      "application/vnd.jupyter.widget-view+json": {
       "model_id": "4bbf9b8011c44196b018891ac11cff98",
       "version_major": 2,
       "version_minor": 0
      },
      "text/plain": [
       "0/137           ETA: ?s - "
      ]
     },
     "metadata": {},
     "output_type": "display_data"
    },
    {
     "name": "stdout",
     "output_type": "stream",
     "text": [
      "Epoch 7/50\n"
     ]
    },
    {
     "data": {
      "application/vnd.jupyter.widget-view+json": {
       "model_id": "3de7ef969b12470694fcc38a0a1e36b5",
       "version_major": 2,
       "version_minor": 0
      },
      "text/plain": [
       "0/137           ETA: ?s - "
      ]
     },
     "metadata": {},
     "output_type": "display_data"
    },
    {
     "name": "stdout",
     "output_type": "stream",
     "text": [
      "Epoch 8/50\n"
     ]
    },
    {
     "data": {
      "application/vnd.jupyter.widget-view+json": {
       "model_id": "fbcd6e1926f342e9a50eb340287035a8",
       "version_major": 2,
       "version_minor": 0
      },
      "text/plain": [
       "0/137           ETA: ?s - "
      ]
     },
     "metadata": {},
     "output_type": "display_data"
    },
    {
     "name": "stdout",
     "output_type": "stream",
     "text": [
      "Epoch 9/50\n"
     ]
    },
    {
     "data": {
      "application/vnd.jupyter.widget-view+json": {
       "model_id": "07e3d829bc544257a59e95642532ca73",
       "version_major": 2,
       "version_minor": 0
      },
      "text/plain": [
       "0/137           ETA: ?s - "
      ]
     },
     "metadata": {},
     "output_type": "display_data"
    },
    {
     "name": "stdout",
     "output_type": "stream",
     "text": [
      "Epoch 10/50\n"
     ]
    },
    {
     "data": {
      "application/vnd.jupyter.widget-view+json": {
       "model_id": "10c36d5c116346d7b6b5ce11c0f82957",
       "version_major": 2,
       "version_minor": 0
      },
      "text/plain": [
       "0/137           ETA: ?s - "
      ]
     },
     "metadata": {},
     "output_type": "display_data"
    },
    {
     "name": "stdout",
     "output_type": "stream",
     "text": [
      "Epoch 11/50\n"
     ]
    },
    {
     "data": {
      "application/vnd.jupyter.widget-view+json": {
       "model_id": "cb84be69340f4373939c1d77a971ed1b",
       "version_major": 2,
       "version_minor": 0
      },
      "text/plain": [
       "0/137           ETA: ?s - "
      ]
     },
     "metadata": {},
     "output_type": "display_data"
    },
    {
     "name": "stdout",
     "output_type": "stream",
     "text": [
      "Epoch 12/50\n"
     ]
    },
    {
     "data": {
      "application/vnd.jupyter.widget-view+json": {
       "model_id": "82c6583e27f44bf0a39cc646b945bd2b",
       "version_major": 2,
       "version_minor": 0
      },
      "text/plain": [
       "0/137           ETA: ?s - "
      ]
     },
     "metadata": {},
     "output_type": "display_data"
    },
    {
     "name": "stdout",
     "output_type": "stream",
     "text": [
      "Epoch 13/50\n"
     ]
    },
    {
     "data": {
      "application/vnd.jupyter.widget-view+json": {
       "model_id": "4f7b6ffb23fd44d29f752cf5f7d617fb",
       "version_major": 2,
       "version_minor": 0
      },
      "text/plain": [
       "0/137           ETA: ?s - "
      ]
     },
     "metadata": {},
     "output_type": "display_data"
    },
    {
     "name": "stdout",
     "output_type": "stream",
     "text": [
      "Epoch 14/50\n"
     ]
    },
    {
     "data": {
      "application/vnd.jupyter.widget-view+json": {
       "model_id": "9733e90b29454ad2854bd91b60873d82",
       "version_major": 2,
       "version_minor": 0
      },
      "text/plain": [
       "0/137           ETA: ?s - "
      ]
     },
     "metadata": {},
     "output_type": "display_data"
    },
    {
     "name": "stdout",
     "output_type": "stream",
     "text": [
      "Epoch 15/50\n"
     ]
    },
    {
     "data": {
      "application/vnd.jupyter.widget-view+json": {
       "model_id": "77c1e60f083e418eb24972bdd261d33c",
       "version_major": 2,
       "version_minor": 0
      },
      "text/plain": [
       "0/137           ETA: ?s - "
      ]
     },
     "metadata": {},
     "output_type": "display_data"
    },
    {
     "name": "stdout",
     "output_type": "stream",
     "text": [
      "Epoch 16/50\n"
     ]
    },
    {
     "data": {
      "application/vnd.jupyter.widget-view+json": {
       "model_id": "78ec295315a744618292975b1dbea56f",
       "version_major": 2,
       "version_minor": 0
      },
      "text/plain": [
       "0/137           ETA: ?s - "
      ]
     },
     "metadata": {},
     "output_type": "display_data"
    },
    {
     "name": "stdout",
     "output_type": "stream",
     "text": [
      "Epoch 17/50\n"
     ]
    },
    {
     "data": {
      "application/vnd.jupyter.widget-view+json": {
       "model_id": "a27a4da3c18248d99a4cf0dabbecec35",
       "version_major": 2,
       "version_minor": 0
      },
      "text/plain": [
       "0/137           ETA: ?s - "
      ]
     },
     "metadata": {},
     "output_type": "display_data"
    },
    {
     "name": "stdout",
     "output_type": "stream",
     "text": [
      "Epoch 18/50\n"
     ]
    },
    {
     "data": {
      "application/vnd.jupyter.widget-view+json": {
       "model_id": "c3e0c76e69884b77b61fe6b6b69a5847",
       "version_major": 2,
       "version_minor": 0
      },
      "text/plain": [
       "0/137           ETA: ?s - "
      ]
     },
     "metadata": {},
     "output_type": "display_data"
    },
    {
     "name": "stdout",
     "output_type": "stream",
     "text": [
      "Epoch 19/50\n"
     ]
    },
    {
     "data": {
      "application/vnd.jupyter.widget-view+json": {
       "model_id": "fdf9692e2147402b9ac42ec4deefc1e2",
       "version_major": 2,
       "version_minor": 0
      },
      "text/plain": [
       "0/137           ETA: ?s - "
      ]
     },
     "metadata": {},
     "output_type": "display_data"
    },
    {
     "name": "stdout",
     "output_type": "stream",
     "text": [
      "Epoch 20/50\n"
     ]
    },
    {
     "data": {
      "application/vnd.jupyter.widget-view+json": {
       "model_id": "f624cc865a674708960035643bc0213f",
       "version_major": 2,
       "version_minor": 0
      },
      "text/plain": [
       "0/137           ETA: ?s - "
      ]
     },
     "metadata": {},
     "output_type": "display_data"
    },
    {
     "name": "stdout",
     "output_type": "stream",
     "text": [
      "Epoch 21/50\n"
     ]
    },
    {
     "data": {
      "application/vnd.jupyter.widget-view+json": {
       "model_id": "70bc1fcf221947c2b93a7dd1acd6fbb3",
       "version_major": 2,
       "version_minor": 0
      },
      "text/plain": [
       "0/137           ETA: ?s - "
      ]
     },
     "metadata": {},
     "output_type": "display_data"
    },
    {
     "name": "stdout",
     "output_type": "stream",
     "text": [
      "Epoch 22/50\n"
     ]
    },
    {
     "data": {
      "application/vnd.jupyter.widget-view+json": {
       "model_id": "8e3807a37b02406b8d73b5afa6003baa",
       "version_major": 2,
       "version_minor": 0
      },
      "text/plain": [
       "0/137           ETA: ?s - "
      ]
     },
     "metadata": {},
     "output_type": "display_data"
    },
    {
     "name": "stdout",
     "output_type": "stream",
     "text": [
      "Epoch 23/50\n"
     ]
    },
    {
     "data": {
      "application/vnd.jupyter.widget-view+json": {
       "model_id": "ab0567da668540d893c6423aca28343d",
       "version_major": 2,
       "version_minor": 0
      },
      "text/plain": [
       "0/137           ETA: ?s - "
      ]
     },
     "metadata": {},
     "output_type": "display_data"
    },
    {
     "name": "stdout",
     "output_type": "stream",
     "text": [
      "Epoch 24/50\n"
     ]
    },
    {
     "data": {
      "application/vnd.jupyter.widget-view+json": {
       "model_id": "0acf50c27dfa4f38b4ac5d5a0fdf636c",
       "version_major": 2,
       "version_minor": 0
      },
      "text/plain": [
       "0/137           ETA: ?s - "
      ]
     },
     "metadata": {},
     "output_type": "display_data"
    },
    {
     "name": "stdout",
     "output_type": "stream",
     "text": [
      "Epoch 25/50\n"
     ]
    },
    {
     "data": {
      "application/vnd.jupyter.widget-view+json": {
       "model_id": "c2c6f9210b7f4f6daa7cae8229e2af10",
       "version_major": 2,
       "version_minor": 0
      },
      "text/plain": [
       "0/137           ETA: ?s - "
      ]
     },
     "metadata": {},
     "output_type": "display_data"
    },
    {
     "name": "stdout",
     "output_type": "stream",
     "text": [
      "Epoch 26/50\n"
     ]
    },
    {
     "data": {
      "application/vnd.jupyter.widget-view+json": {
       "model_id": "3f9d01a91b3643b3b7014b4ef382d28d",
       "version_major": 2,
       "version_minor": 0
      },
      "text/plain": [
       "0/137           ETA: ?s - "
      ]
     },
     "metadata": {},
     "output_type": "display_data"
    },
    {
     "name": "stdout",
     "output_type": "stream",
     "text": [
      "Epoch 27/50\n"
     ]
    },
    {
     "data": {
      "application/vnd.jupyter.widget-view+json": {
       "model_id": "e87b68f4035543138b85b9d0a2f7637b",
       "version_major": 2,
       "version_minor": 0
      },
      "text/plain": [
       "0/137           ETA: ?s - "
      ]
     },
     "metadata": {},
     "output_type": "display_data"
    },
    {
     "name": "stdout",
     "output_type": "stream",
     "text": [
      "Epoch 28/50\n"
     ]
    },
    {
     "data": {
      "application/vnd.jupyter.widget-view+json": {
       "model_id": "825b2da2dc6642aaba05adfa4ecbbc0f",
       "version_major": 2,
       "version_minor": 0
      },
      "text/plain": [
       "0/137           ETA: ?s - "
      ]
     },
     "metadata": {},
     "output_type": "display_data"
    },
    {
     "name": "stdout",
     "output_type": "stream",
     "text": [
      "Epoch 29/50\n"
     ]
    },
    {
     "data": {
      "application/vnd.jupyter.widget-view+json": {
       "model_id": "e71f75fcf61a4497ae5a51a3d1ec1d5f",
       "version_major": 2,
       "version_minor": 0
      },
      "text/plain": [
       "0/137           ETA: ?s - "
      ]
     },
     "metadata": {},
     "output_type": "display_data"
    },
    {
     "name": "stdout",
     "output_type": "stream",
     "text": [
      "Epoch 30/50\n"
     ]
    },
    {
     "data": {
      "application/vnd.jupyter.widget-view+json": {
       "model_id": "90688f706c6246dcb549ce5a85905e1d",
       "version_major": 2,
       "version_minor": 0
      },
      "text/plain": [
       "0/137           ETA: ?s - "
      ]
     },
     "metadata": {},
     "output_type": "display_data"
    },
    {
     "name": "stdout",
     "output_type": "stream",
     "text": [
      "Epoch 31/50\n"
     ]
    },
    {
     "data": {
      "application/vnd.jupyter.widget-view+json": {
       "model_id": "ba2ed2c40adb4603b0328c46ce23cb44",
       "version_major": 2,
       "version_minor": 0
      },
      "text/plain": [
       "0/137           ETA: ?s - "
      ]
     },
     "metadata": {},
     "output_type": "display_data"
    },
    {
     "name": "stdout",
     "output_type": "stream",
     "text": [
      "Epoch 32/50\n"
     ]
    },
    {
     "data": {
      "application/vnd.jupyter.widget-view+json": {
       "model_id": "c6fc8a80926d465086417c79a5a173bc",
       "version_major": 2,
       "version_minor": 0
      },
      "text/plain": [
       "0/137           ETA: ?s - "
      ]
     },
     "metadata": {},
     "output_type": "display_data"
    },
    {
     "name": "stdout",
     "output_type": "stream",
     "text": [
      "Epoch 33/50\n"
     ]
    },
    {
     "data": {
      "application/vnd.jupyter.widget-view+json": {
       "model_id": "3f5e98b80f124c1684e5247f70432d62",
       "version_major": 2,
       "version_minor": 0
      },
      "text/plain": [
       "0/137           ETA: ?s - "
      ]
     },
     "metadata": {},
     "output_type": "display_data"
    },
    {
     "name": "stdout",
     "output_type": "stream",
     "text": [
      "Epoch 34/50\n"
     ]
    },
    {
     "data": {
      "application/vnd.jupyter.widget-view+json": {
       "model_id": "05df3e2fff1e4f8492a6720786a1d898",
       "version_major": 2,
       "version_minor": 0
      },
      "text/plain": [
       "0/137           ETA: ?s - "
      ]
     },
     "metadata": {},
     "output_type": "display_data"
    },
    {
     "name": "stdout",
     "output_type": "stream",
     "text": [
      "Epoch 35/50\n"
     ]
    },
    {
     "data": {
      "application/vnd.jupyter.widget-view+json": {
       "model_id": "fd42f5fd3bd8499a88395235d8ccd991",
       "version_major": 2,
       "version_minor": 0
      },
      "text/plain": [
       "0/137           ETA: ?s - "
      ]
     },
     "metadata": {},
     "output_type": "display_data"
    },
    {
     "name": "stdout",
     "output_type": "stream",
     "text": [
      "Epoch 36/50\n"
     ]
    },
    {
     "data": {
      "application/vnd.jupyter.widget-view+json": {
       "model_id": "83c4e4aaef9649af9bc3f2ac70ac517f",
       "version_major": 2,
       "version_minor": 0
      },
      "text/plain": [
       "0/137           ETA: ?s - "
      ]
     },
     "metadata": {},
     "output_type": "display_data"
    },
    {
     "name": "stdout",
     "output_type": "stream",
     "text": [
      "Epoch 37/50\n"
     ]
    },
    {
     "data": {
      "application/vnd.jupyter.widget-view+json": {
       "model_id": "d87253aed73846ce95faa3bbfae1d7d2",
       "version_major": 2,
       "version_minor": 0
      },
      "text/plain": [
       "0/137           ETA: ?s - "
      ]
     },
     "metadata": {},
     "output_type": "display_data"
    },
    {
     "name": "stdout",
     "output_type": "stream",
     "text": [
      "Epoch 38/50\n"
     ]
    },
    {
     "data": {
      "application/vnd.jupyter.widget-view+json": {
       "model_id": "1eb55056950e44de82d3ffd9165b0c9e",
       "version_major": 2,
       "version_minor": 0
      },
      "text/plain": [
       "0/137           ETA: ?s - "
      ]
     },
     "metadata": {},
     "output_type": "display_data"
    },
    {
     "name": "stdout",
     "output_type": "stream",
     "text": [
      "Epoch 39/50\n"
     ]
    },
    {
     "data": {
      "application/vnd.jupyter.widget-view+json": {
       "model_id": "7b2d0de5398545b58e143b52fc6320e9",
       "version_major": 2,
       "version_minor": 0
      },
      "text/plain": [
       "0/137           ETA: ?s - "
      ]
     },
     "metadata": {},
     "output_type": "display_data"
    },
    {
     "name": "stdout",
     "output_type": "stream",
     "text": [
      "Epoch 40/50\n"
     ]
    },
    {
     "data": {
      "application/vnd.jupyter.widget-view+json": {
       "model_id": "611ad93ff6034c78a6fe8c5e39319e3c",
       "version_major": 2,
       "version_minor": 0
      },
      "text/plain": [
       "0/137           ETA: ?s - "
      ]
     },
     "metadata": {},
     "output_type": "display_data"
    },
    {
     "name": "stdout",
     "output_type": "stream",
     "text": [
      "Epoch 41/50\n"
     ]
    },
    {
     "data": {
      "application/vnd.jupyter.widget-view+json": {
       "model_id": "b43cb2f646334c81b9eb9e1a63c07d91",
       "version_major": 2,
       "version_minor": 0
      },
      "text/plain": [
       "0/137           ETA: ?s - "
      ]
     },
     "metadata": {},
     "output_type": "display_data"
    },
    {
     "name": "stdout",
     "output_type": "stream",
     "text": [
      "Epoch 42/50\n"
     ]
    },
    {
     "data": {
      "application/vnd.jupyter.widget-view+json": {
       "model_id": "fb412e436b7c41258675119e97c496bf",
       "version_major": 2,
       "version_minor": 0
      },
      "text/plain": [
       "0/137           ETA: ?s - "
      ]
     },
     "metadata": {},
     "output_type": "display_data"
    },
    {
     "name": "stdout",
     "output_type": "stream",
     "text": [
      "Epoch 43/50\n"
     ]
    },
    {
     "data": {
      "application/vnd.jupyter.widget-view+json": {
       "model_id": "9e421edac5f843c48c0611357cda5518",
       "version_major": 2,
       "version_minor": 0
      },
      "text/plain": [
       "0/137           ETA: ?s - "
      ]
     },
     "metadata": {},
     "output_type": "display_data"
    },
    {
     "name": "stdout",
     "output_type": "stream",
     "text": [
      "Epoch 44/50\n"
     ]
    },
    {
     "data": {
      "application/vnd.jupyter.widget-view+json": {
       "model_id": "7d42ba4b334b40fab550e864621203fd",
       "version_major": 2,
       "version_minor": 0
      },
      "text/plain": [
       "0/137           ETA: ?s - "
      ]
     },
     "metadata": {},
     "output_type": "display_data"
    },
    {
     "name": "stdout",
     "output_type": "stream",
     "text": [
      "Epoch 45/50\n"
     ]
    },
    {
     "data": {
      "application/vnd.jupyter.widget-view+json": {
       "model_id": "c6da1fa35acd45a09b85db987c4658e2",
       "version_major": 2,
       "version_minor": 0
      },
      "text/plain": [
       "0/137           ETA: ?s - "
      ]
     },
     "metadata": {},
     "output_type": "display_data"
    },
    {
     "name": "stdout",
     "output_type": "stream",
     "text": [
      "Epoch 46/50\n"
     ]
    },
    {
     "data": {
      "application/vnd.jupyter.widget-view+json": {
       "model_id": "24704f7683fc4f679c1a1012167de892",
       "version_major": 2,
       "version_minor": 0
      },
      "text/plain": [
       "0/137           ETA: ?s - "
      ]
     },
     "metadata": {},
     "output_type": "display_data"
    },
    {
     "name": "stdout",
     "output_type": "stream",
     "text": [
      "Epoch 47/50\n"
     ]
    },
    {
     "data": {
      "application/vnd.jupyter.widget-view+json": {
       "model_id": "b2ed21be8c604eea8412a6d9a577b292",
       "version_major": 2,
       "version_minor": 0
      },
      "text/plain": [
       "0/137           ETA: ?s - "
      ]
     },
     "metadata": {},
     "output_type": "display_data"
    },
    {
     "name": "stdout",
     "output_type": "stream",
     "text": [
      "Epoch 48/50\n"
     ]
    },
    {
     "data": {
      "application/vnd.jupyter.widget-view+json": {
       "model_id": "60eb3a96ab1a457da4a2468839c8e1aa",
       "version_major": 2,
       "version_minor": 0
      },
      "text/plain": [
       "0/137           ETA: ?s - "
      ]
     },
     "metadata": {},
     "output_type": "display_data"
    },
    {
     "name": "stdout",
     "output_type": "stream",
     "text": [
      "Epoch 49/50\n"
     ]
    },
    {
     "data": {
      "application/vnd.jupyter.widget-view+json": {
       "model_id": "98a1cf0c25f541e0963c20dad09c4e18",
       "version_major": 2,
       "version_minor": 0
      },
      "text/plain": [
       "0/137           ETA: ?s - "
      ]
     },
     "metadata": {},
     "output_type": "display_data"
    },
    {
     "name": "stdout",
     "output_type": "stream",
     "text": [
      "Epoch 50/50\n"
     ]
    },
    {
     "data": {
      "application/vnd.jupyter.widget-view+json": {
       "model_id": "437d07e1d349432394eaccc90a8b95ea",
       "version_major": 2,
       "version_minor": 0
      },
      "text/plain": [
       "0/137           ETA: ?s - "
      ]
     },
     "metadata": {},
     "output_type": "display_data"
    },
    {
     "name": "stdout",
     "output_type": "stream",
     "text": [
      "Model training finished\n"
     ]
    },
    {
     "data": {
      "application/vnd.jupyter.widget-view+json": {
       "model_id": "de010fa4326c4fd58839f22c833d5d6b",
       "version_major": 2,
       "version_minor": 0
      },
      "text/plain": [
       "0/30           ETA: ?s - Evaluating"
      ]
     },
     "metadata": {},
     "output_type": "display_data"
    },
    {
     "name": "stdout",
     "output_type": "stream",
     "text": [
      "{'root_mean_squared_error': 1.2105259895324707, 'loss': 1.4661188125610352, 'regularization_loss': 0, 'total_loss': 1.4661188125610352}\n"
     ]
    }
   ],
   "source": [
    "model = setup_model(use_cross_layer=True, deep_layer_sizes=[192], no_dl=2, projection_dim=20)\n",
    "\n",
    "dcn_result_0_001_adagrad = run_model(model, lr=0.001, epochs=50, batch_size=512, optimizer=tf.keras.optimizers.Adagrad)"
   ]
  },
  {
   "cell_type": "code",
   "execution_count": 74,
   "metadata": {},
   "outputs": [
    {
     "name": "stdout",
     "output_type": "stream",
     "text": [
      "adapting text vectorization layers to vocabulary..\n"
     ]
    },
    {
     "data": {
      "application/vnd.jupyter.widget-view+json": {
       "model_id": "92c896490ba94145b97e46ff1ed88f45",
       "version_major": 2,
       "version_minor": 0
      },
      "text/plain": [
       "  0%|          | 0/3 [00:00<?, ?it/s]"
      ]
     },
     "metadata": {},
     "output_type": "display_data"
    },
    {
     "name": "stdout",
     "output_type": "stream",
     "text": [
      "setting up yagmail...\n",
      "Start training the model...\n"
     ]
    },
    {
     "data": {
      "application/vnd.jupyter.widget-view+json": {
       "model_id": "aebc714fe6154a0d9b96311dde06f041",
       "version_major": 2,
       "version_minor": 0
      },
      "text/plain": [
       "Training:   0%|           0/50 ETA: ?s,  ?epochs/s"
      ]
     },
     "metadata": {},
     "output_type": "display_data"
    },
    {
     "name": "stdout",
     "output_type": "stream",
     "text": [
      "Epoch 1/50\n"
     ]
    },
    {
     "data": {
      "application/vnd.jupyter.widget-view+json": {
       "model_id": "336f3f9b759c4ea4be508d27c78083cd",
       "version_major": 2,
       "version_minor": 0
      },
      "text/plain": [
       "0/137           ETA: ?s - "
      ]
     },
     "metadata": {},
     "output_type": "display_data"
    },
    {
     "name": "stdout",
     "output_type": "stream",
     "text": [
      "Epoch 2/50\n"
     ]
    },
    {
     "data": {
      "application/vnd.jupyter.widget-view+json": {
       "model_id": "52bd69f91dd44e408c58c596296d0661",
       "version_major": 2,
       "version_minor": 0
      },
      "text/plain": [
       "0/137           ETA: ?s - "
      ]
     },
     "metadata": {},
     "output_type": "display_data"
    },
    {
     "name": "stdout",
     "output_type": "stream",
     "text": [
      "Epoch 3/50\n"
     ]
    },
    {
     "data": {
      "application/vnd.jupyter.widget-view+json": {
       "model_id": "d9215e58e70e49ea971e99938f543635",
       "version_major": 2,
       "version_minor": 0
      },
      "text/plain": [
       "0/137           ETA: ?s - "
      ]
     },
     "metadata": {},
     "output_type": "display_data"
    },
    {
     "name": "stdout",
     "output_type": "stream",
     "text": [
      "Epoch 4/50\n"
     ]
    },
    {
     "data": {
      "application/vnd.jupyter.widget-view+json": {
       "model_id": "c1597b1e5d5e4da6ba19f74c5554854d",
       "version_major": 2,
       "version_minor": 0
      },
      "text/plain": [
       "0/137           ETA: ?s - "
      ]
     },
     "metadata": {},
     "output_type": "display_data"
    },
    {
     "name": "stdout",
     "output_type": "stream",
     "text": [
      "Epoch 5/50\n"
     ]
    },
    {
     "data": {
      "application/vnd.jupyter.widget-view+json": {
       "model_id": "c3d49ecf5eda41009b47f5ca1cc67170",
       "version_major": 2,
       "version_minor": 0
      },
      "text/plain": [
       "0/137           ETA: ?s - "
      ]
     },
     "metadata": {},
     "output_type": "display_data"
    },
    {
     "name": "stdout",
     "output_type": "stream",
     "text": [
      "Model training finished\n"
     ]
    },
    {
     "data": {
      "application/vnd.jupyter.widget-view+json": {
       "model_id": "bfa0459b1c7341958b545e17c9a41301",
       "version_major": 2,
       "version_minor": 0
      },
      "text/plain": [
       "0/30           ETA: ?s - Evaluating"
      ]
     },
     "metadata": {},
     "output_type": "display_data"
    },
    {
     "name": "stdout",
     "output_type": "stream",
     "text": [
      "{'root_mean_squared_error': 1.190410852432251, 'loss': 1.4162794351577759, 'regularization_loss': 0, 'total_loss': 1.4162794351577759}\n"
     ]
    }
   ],
   "source": [
    "model = setup_model(use_cross_layer=True, deep_layer_sizes=[192], no_dl=2, projection_dim=20)\n",
    "\n",
    "dcn_result_0_001_adagrad = run_model(model, lr=0.01, epochs=50, batch_size=512, optimizer=tf.keras.optimizers.Adagrad)"
   ]
  },
  {
   "cell_type": "code",
   "execution_count": null,
   "metadata": {},
   "outputs": [],
   "source": [
    "import datetime\n",
    "dcn_result['model'][0].save(os.path.join(MODEL_DIR, \"dcn_gr_simple_model\" + datetime.datetime.now().strftime(\"%Y%m%d\")))\n"
   ]
  },
  {
   "cell_type": "markdown",
   "metadata": {},
   "source": [
    "---"
   ]
  },
  {
   "cell_type": "code",
   "execution_count": 52,
   "metadata": {},
   "outputs": [],
   "source": [
    "import tensorflow_recommenders as tfrs\n",
    "\n",
    "class GoodreadsModel(tfrs.models.Model):\n",
    "\n",
    "  def __init__(self, dataset):\n",
    "    super().__init__(name=\"goodreads_retrieval_model\")\n",
    "    self.query_model = tf.keras.Sequential([\n",
    "      user_model,\n",
    "      tf.keras.layers.Dense(32)\n",
    "    ])\n",
    "    self.candidate_model = tf.keras.Sequential([\n",
    "      book_model,\n",
    "      tf.keras.layers.Dense(32)\n",
    "    ])\n",
    "    self.task = tfrs.tasks.Retrieval(\n",
    "        metrics=tfrs.metrics.FactorizedTopK(\n",
    "            candidates=dataset.map(self.candidate_model),\n",
    "        ),\n",
    "    )\n",
    "\n",
    "  def compute_loss(self, features, training=False):\n",
    "    # We only pass the user id features into the query model. This\n",
    "    # is to ensure that the training inputs would have the same keys as the\n",
    "    # query inputs. Otherwise the discrepancy in input structure would cause an\n",
    "    # error when loading the query model after saving it.\n",
    "    query_embeddings = self.query_model({\n",
    "        \"user_id\": features[\"user_id\"],\n",
    "    })\n",
    "    candidate_features = {k: features[k] for k in FEATURE_NAMES}\n",
    "    candidate_embeddings = self.candidate_model(candidate_features)\n",
    "\n",
    "    return self.task(query_embeddings, candidate_embeddings)\n"
   ]
  },
  {
   "cell_type": "markdown",
   "metadata": {},
   "source": [
    "---\n",
    "## Experiment A: Baseline Goodreads Retrieval Model"
   ]
  },
  {
   "cell_type": "code",
   "execution_count": null,
   "metadata": {},
   "outputs": [],
   "source": [
    "def create_gr_model():\n",
    "    inputs = model_inputs\n",
    "    query_model = tf.keras.Sequential([\n",
    "      user_model,\n",
    "      tf.keras.layers.Dense(32)\n",
    "    ])\n",
    "    candidate_model = tf.keras.Sequential([\n",
    "      book_model,\n",
    "      tf.keras.layers.Dense(32)\n",
    "    ])\n",
    "    task = tfrs.tasks.Retrieval(\n",
    "        metrics=tfrs.metrics.FactorizedTopK(\n",
    "            candidates=dataset.map(self.candidate_model),\n",
    "        ),\n",
    "    )\n",
    "\n",
    "    for units in hidden_units:\n",
    "        features = layers.Dense(units)(features)\n",
    "        features = layers.BatchNormalization()(features)\n",
    "        features = layers.ReLU()(features)\n",
    "        features = layers.Dropout(dropout_rate)(features)\n",
    "\n",
    "    outputs = layers.Dense(units=NUM_CLASSES, activation=\"softmax\")(features)\n",
    "    model = keras.Model(inputs=inputs, outputs=outputs, name=\"baseline_model\")\n",
    "    return model\n",
    "\n",
    "\n",
    "baseline_model = create_baseline_model()\n",
    "plot_fn = os.path.join(\"./logs/model_plots/\", \"baseline_model_\" + datetime.datetime.now().strftime(\"%Y%m%d-%H%M%S\") + \".png\")\n",
    "keras.utils.plot_model(baseline_model, to_file=plot_fn, show_shapes=True, rankdir=\"LR\")\n"
   ]
  },
  {
   "cell_type": "code",
   "execution_count": 53,
   "metadata": {},
   "outputs": [
    {
     "name": "stdout",
     "output_type": "stream",
     "text": [
      "WARNING:tensorflow:Layers in a Sequential model should only have a single input tensor. Received: inputs={'user_id': <tf.Tensor 'args_7:0' shape=(None,) dtype=string>, 'book_id': <tf.Tensor 'args_2:0' shape=(None,) dtype=uint32>, 'review_text': <tf.Tensor 'args_4:0' shape=(None,) dtype=string>, 'title': <tf.Tensor 'args_6:0' shape=(None,) dtype=string>, 'text_reviews_count': <tf.Tensor 'args_5:0' shape=(None,) dtype=uint64>, 'average_rating': <tf.Tensor 'args_1:0' shape=(None,) dtype=float64>, 'description': <tf.Tensor 'args_3:0' shape=(None,) dtype=string>, 'author_id': <tf.Tensor 'args_0:0' shape=(None,) dtype=int64>}. Consider rewriting this model with the Functional API.\n"
     ]
    },
    {
     "ename": "RuntimeError",
     "evalue": "Exception encountered when calling layer \"book_model_1\" (type BookModel).\n\nin user code:\n\n    File \"/tmp/ipykernel_31166/103625248.py\", line 7, in call  *\n        return self.encoding(inputs, use_embedding=self.use_embeddings)\n    File \"/tmp/ipykernel_31166/450850033.py\", line 39, in encode_inputs  *\n        vectorize_layer.adapt(data[feature_name])\n    File \"/home/simon95/ds-recommender-project/venv/lib/python3.9/site-packages/keras/layers/preprocessing/text_vectorization.py\", line 428, in adapt  **\n        super().adapt(data, batch_size=batch_size, steps=steps)\n    File \"/home/simon95/ds-recommender-project/venv/lib/python3.9/site-packages/keras/engine/base_preprocessing_layer.py\", line 231, in adapt\n        _disallow_inside_tf_function('adapt')\n    File \"/home/simon95/ds-recommender-project/venv/lib/python3.9/site-packages/keras/engine/base_preprocessing_layer.py\", line 301, in _disallow_inside_tf_function\n        raise RuntimeError(error_msg)\n\n    RuntimeError: Detected a call to `PreprocessingLayer.adapt` inside a `tf.function`. `PreprocessingLayer.adapt is a high-level endpoint that manages its own `tf.function`. Please move the call to `PreprocessingLayer.adapt` outside of all enclosing `tf.function`s. Note that you can call a `PreprocessingLayer` directly on `Tensor`s inside a `tf.function` like: `layer(x)`, or update its state like: `layer.update_state(x)`.\n\n\nCall arguments received:\n  • inputs={'user_id': 'tf.Tensor(shape=(None,), dtype=string)', 'book_id': 'tf.Tensor(shape=(None,), dtype=uint32)', 'review_text': 'tf.Tensor(shape=(None,), dtype=string)', 'title': 'tf.Tensor(shape=(None,), dtype=string)', 'text_reviews_count': 'tf.Tensor(shape=(None,), dtype=uint64)', 'average_rating': 'tf.Tensor(shape=(None,), dtype=float32)', 'description': 'tf.Tensor(shape=(None,), dtype=string)', 'author_id': 'tf.Tensor(shape=(None,), dtype=int64)'}",
     "output_type": "error",
     "traceback": [
      "\u001b[0;31m---------------------------------------------------------------------------\u001b[0m",
      "\u001b[0;31mRuntimeError\u001b[0m                              Traceback (most recent call last)",
      "Input \u001b[0;32mIn [53]\u001b[0m, in \u001b[0;36m<module>\u001b[0;34m\u001b[0m\n\u001b[1;32m      3\u001b[0m train_dataset \u001b[38;5;241m=\u001b[39m get_dataset_from_pandas(train_data, TARGET_FEATURE_NAME, batch_size, shuffle\u001b[38;5;241m=\u001b[39m\u001b[38;5;28;01mTrue\u001b[39;00m)\n\u001b[1;32m      4\u001b[0m validation_dataset \u001b[38;5;241m=\u001b[39m get_dataset_from_pandas(val_data, TARGET_FEATURE_NAME, batch_size)\n\u001b[0;32m----> 6\u001b[0m model \u001b[38;5;241m=\u001b[39m \u001b[43mGoodreadsModel\u001b[49m\u001b[43m(\u001b[49m\u001b[43mmodel_inputs\u001b[49m\u001b[43m,\u001b[49m\u001b[43m \u001b[49m\u001b[43mdataset\u001b[49m\u001b[43m)\u001b[49m\n\u001b[1;32m      7\u001b[0m \u001b[38;5;28;01mimport\u001b[39;00m \u001b[38;5;21;01mdatetime\u001b[39;00m\n\u001b[1;32m      8\u001b[0m model\u001b[38;5;241m.\u001b[39mcompile(optimizer\u001b[38;5;241m=\u001b[39mtf\u001b[38;5;241m.\u001b[39mkeras\u001b[38;5;241m.\u001b[39moptimizers\u001b[38;5;241m.\u001b[39mAdagrad(\u001b[38;5;241m0.1\u001b[39m))\n",
      "Input \u001b[0;32mIn [52]\u001b[0m, in \u001b[0;36mGoodreadsModel.__init__\u001b[0;34m(self, inputs, dataset)\u001b[0m\n\u001b[1;32m      8\u001b[0m \u001b[38;5;28mself\u001b[39m\u001b[38;5;241m.\u001b[39mquery_model \u001b[38;5;241m=\u001b[39m tf\u001b[38;5;241m.\u001b[39mkeras\u001b[38;5;241m.\u001b[39mSequential([\n\u001b[1;32m      9\u001b[0m   user_model,\n\u001b[1;32m     10\u001b[0m   tf\u001b[38;5;241m.\u001b[39mkeras\u001b[38;5;241m.\u001b[39mlayers\u001b[38;5;241m.\u001b[39mDense(\u001b[38;5;241m32\u001b[39m)\n\u001b[1;32m     11\u001b[0m ])\n\u001b[1;32m     12\u001b[0m \u001b[38;5;28mself\u001b[39m\u001b[38;5;241m.\u001b[39mcandidate_model \u001b[38;5;241m=\u001b[39m tf\u001b[38;5;241m.\u001b[39mkeras\u001b[38;5;241m.\u001b[39mSequential([\n\u001b[1;32m     13\u001b[0m   book_model,\n\u001b[1;32m     14\u001b[0m   tf\u001b[38;5;241m.\u001b[39mkeras\u001b[38;5;241m.\u001b[39mlayers\u001b[38;5;241m.\u001b[39mDense(\u001b[38;5;241m32\u001b[39m)\n\u001b[1;32m     15\u001b[0m ])\n\u001b[1;32m     16\u001b[0m \u001b[38;5;28mself\u001b[39m\u001b[38;5;241m.\u001b[39mtask \u001b[38;5;241m=\u001b[39m tfrs\u001b[38;5;241m.\u001b[39mtasks\u001b[38;5;241m.\u001b[39mRetrieval(\n\u001b[1;32m     17\u001b[0m     metrics\u001b[38;5;241m=\u001b[39mtfrs\u001b[38;5;241m.\u001b[39mmetrics\u001b[38;5;241m.\u001b[39mFactorizedTopK(\n\u001b[0;32m---> 18\u001b[0m         candidates\u001b[38;5;241m=\u001b[39m\u001b[43mdataset\u001b[49m\u001b[38;5;241;43m.\u001b[39;49m\u001b[43mmap\u001b[49m\u001b[43m(\u001b[49m\u001b[38;5;28;43mself\u001b[39;49m\u001b[38;5;241;43m.\u001b[39;49m\u001b[43mcandidate_model\u001b[49m\u001b[43m)\u001b[49m,\n\u001b[1;32m     19\u001b[0m     ),\n\u001b[1;32m     20\u001b[0m )\n",
      "File \u001b[0;32m~/ds-recommender-project/venv/lib/python3.9/site-packages/tensorflow/python/data/ops/dataset_ops.py:2016\u001b[0m, in \u001b[0;36mDatasetV2.map\u001b[0;34m(self, map_func, num_parallel_calls, deterministic, name)\u001b[0m\n\u001b[1;32m   2013\u001b[0m   \u001b[38;5;28;01mif\u001b[39;00m deterministic \u001b[38;5;129;01mis\u001b[39;00m \u001b[38;5;129;01mnot\u001b[39;00m \u001b[38;5;28;01mNone\u001b[39;00m \u001b[38;5;129;01mand\u001b[39;00m \u001b[38;5;129;01mnot\u001b[39;00m DEBUG_MODE:\n\u001b[1;32m   2014\u001b[0m     warnings\u001b[38;5;241m.\u001b[39mwarn(\u001b[38;5;124m\"\u001b[39m\u001b[38;5;124mThe `deterministic` argument has no effect unless the \u001b[39m\u001b[38;5;124m\"\u001b[39m\n\u001b[1;32m   2015\u001b[0m                   \u001b[38;5;124m\"\u001b[39m\u001b[38;5;124m`num_parallel_calls` argument is specified.\u001b[39m\u001b[38;5;124m\"\u001b[39m)\n\u001b[0;32m-> 2016\u001b[0m   \u001b[38;5;28;01mreturn\u001b[39;00m \u001b[43mMapDataset\u001b[49m\u001b[43m(\u001b[49m\u001b[38;5;28;43mself\u001b[39;49m\u001b[43m,\u001b[49m\u001b[43m \u001b[49m\u001b[43mmap_func\u001b[49m\u001b[43m,\u001b[49m\u001b[43m \u001b[49m\u001b[43mpreserve_cardinality\u001b[49m\u001b[38;5;241;43m=\u001b[39;49m\u001b[38;5;28;43;01mTrue\u001b[39;49;00m\u001b[43m,\u001b[49m\u001b[43m \u001b[49m\u001b[43mname\u001b[49m\u001b[38;5;241;43m=\u001b[39;49m\u001b[43mname\u001b[49m\u001b[43m)\u001b[49m\n\u001b[1;32m   2017\u001b[0m \u001b[38;5;28;01melse\u001b[39;00m:\n\u001b[1;32m   2018\u001b[0m   \u001b[38;5;28;01mreturn\u001b[39;00m ParallelMapDataset(\n\u001b[1;32m   2019\u001b[0m       \u001b[38;5;28mself\u001b[39m,\n\u001b[1;32m   2020\u001b[0m       map_func,\n\u001b[0;32m   (...)\u001b[0m\n\u001b[1;32m   2023\u001b[0m       preserve_cardinality\u001b[38;5;241m=\u001b[39m\u001b[38;5;28;01mTrue\u001b[39;00m,\n\u001b[1;32m   2024\u001b[0m       name\u001b[38;5;241m=\u001b[39mname)\n",
      "File \u001b[0;32m~/ds-recommender-project/venv/lib/python3.9/site-packages/tensorflow/python/data/ops/dataset_ops.py:5191\u001b[0m, in \u001b[0;36mMapDataset.__init__\u001b[0;34m(self, input_dataset, map_func, use_inter_op_parallelism, preserve_cardinality, use_legacy_function, name)\u001b[0m\n\u001b[1;32m   5189\u001b[0m \u001b[38;5;28mself\u001b[39m\u001b[38;5;241m.\u001b[39m_use_inter_op_parallelism \u001b[38;5;241m=\u001b[39m use_inter_op_parallelism\n\u001b[1;32m   5190\u001b[0m \u001b[38;5;28mself\u001b[39m\u001b[38;5;241m.\u001b[39m_preserve_cardinality \u001b[38;5;241m=\u001b[39m preserve_cardinality\n\u001b[0;32m-> 5191\u001b[0m \u001b[38;5;28mself\u001b[39m\u001b[38;5;241m.\u001b[39m_map_func \u001b[38;5;241m=\u001b[39m \u001b[43mstructured_function\u001b[49m\u001b[38;5;241;43m.\u001b[39;49m\u001b[43mStructuredFunctionWrapper\u001b[49m\u001b[43m(\u001b[49m\n\u001b[1;32m   5192\u001b[0m \u001b[43m    \u001b[49m\u001b[43mmap_func\u001b[49m\u001b[43m,\u001b[49m\n\u001b[1;32m   5193\u001b[0m \u001b[43m    \u001b[49m\u001b[38;5;28;43mself\u001b[39;49m\u001b[38;5;241;43m.\u001b[39;49m\u001b[43m_transformation_name\u001b[49m\u001b[43m(\u001b[49m\u001b[43m)\u001b[49m\u001b[43m,\u001b[49m\n\u001b[1;32m   5194\u001b[0m \u001b[43m    \u001b[49m\u001b[43mdataset\u001b[49m\u001b[38;5;241;43m=\u001b[39;49m\u001b[43minput_dataset\u001b[49m\u001b[43m,\u001b[49m\n\u001b[1;32m   5195\u001b[0m \u001b[43m    \u001b[49m\u001b[43muse_legacy_function\u001b[49m\u001b[38;5;241;43m=\u001b[39;49m\u001b[43muse_legacy_function\u001b[49m\u001b[43m)\u001b[49m\n\u001b[1;32m   5196\u001b[0m \u001b[38;5;28mself\u001b[39m\u001b[38;5;241m.\u001b[39m_metadata \u001b[38;5;241m=\u001b[39m dataset_metadata_pb2\u001b[38;5;241m.\u001b[39mMetadata()\n\u001b[1;32m   5197\u001b[0m \u001b[38;5;28;01mif\u001b[39;00m name:\n",
      "File \u001b[0;32m~/ds-recommender-project/venv/lib/python3.9/site-packages/tensorflow/python/data/ops/structured_function.py:271\u001b[0m, in \u001b[0;36mStructuredFunctionWrapper.__init__\u001b[0;34m(self, func, transformation_name, dataset, input_classes, input_shapes, input_types, input_structure, add_to_graph, use_legacy_function, defun_kwargs)\u001b[0m\n\u001b[1;32m    264\u001b[0m       warnings\u001b[38;5;241m.\u001b[39mwarn(\n\u001b[1;32m    265\u001b[0m           \u001b[38;5;124m\"\u001b[39m\u001b[38;5;124mEven though the `tf.config.experimental_run_functions_eagerly` \u001b[39m\u001b[38;5;124m\"\u001b[39m\n\u001b[1;32m    266\u001b[0m           \u001b[38;5;124m\"\u001b[39m\u001b[38;5;124moption is set, this option does not apply to tf.data functions. \u001b[39m\u001b[38;5;124m\"\u001b[39m\n\u001b[1;32m    267\u001b[0m           \u001b[38;5;124m\"\u001b[39m\u001b[38;5;124mTo force eager execution of tf.data functions, please use \u001b[39m\u001b[38;5;124m\"\u001b[39m\n\u001b[1;32m    268\u001b[0m           \u001b[38;5;124m\"\u001b[39m\u001b[38;5;124m`tf.data.experimental.enable_debug_mode()`.\u001b[39m\u001b[38;5;124m\"\u001b[39m)\n\u001b[1;32m    269\u001b[0m     fn_factory \u001b[38;5;241m=\u001b[39m trace_tf_function(defun_kwargs)\n\u001b[0;32m--> 271\u001b[0m \u001b[38;5;28mself\u001b[39m\u001b[38;5;241m.\u001b[39m_function \u001b[38;5;241m=\u001b[39m \u001b[43mfn_factory\u001b[49m\u001b[43m(\u001b[49m\u001b[43m)\u001b[49m\n\u001b[1;32m    272\u001b[0m \u001b[38;5;66;03m# There is no graph to add in eager mode.\u001b[39;00m\n\u001b[1;32m    273\u001b[0m add_to_graph \u001b[38;5;241m&\u001b[39m\u001b[38;5;241m=\u001b[39m \u001b[38;5;129;01mnot\u001b[39;00m context\u001b[38;5;241m.\u001b[39mexecuting_eagerly()\n",
      "File \u001b[0;32m~/ds-recommender-project/venv/lib/python3.9/site-packages/tensorflow/python/eager/function.py:3070\u001b[0m, in \u001b[0;36mFunction.get_concrete_function\u001b[0;34m(self, *args, **kwargs)\u001b[0m\n\u001b[1;32m   3061\u001b[0m \u001b[38;5;28;01mdef\u001b[39;00m \u001b[38;5;21mget_concrete_function\u001b[39m(\u001b[38;5;28mself\u001b[39m, \u001b[38;5;241m*\u001b[39margs, \u001b[38;5;241m*\u001b[39m\u001b[38;5;241m*\u001b[39mkwargs):\n\u001b[1;32m   3062\u001b[0m   \u001b[38;5;124;03m\"\"\"Returns a `ConcreteFunction` specialized to inputs and execution context.\u001b[39;00m\n\u001b[1;32m   3063\u001b[0m \n\u001b[1;32m   3064\u001b[0m \u001b[38;5;124;03m  Args:\u001b[39;00m\n\u001b[0;32m   (...)\u001b[0m\n\u001b[1;32m   3068\u001b[0m \u001b[38;5;124;03m       or `tf.Tensor` or `tf.TensorSpec`.\u001b[39;00m\n\u001b[1;32m   3069\u001b[0m \u001b[38;5;124;03m  \"\"\"\u001b[39;00m\n\u001b[0;32m-> 3070\u001b[0m   graph_function \u001b[38;5;241m=\u001b[39m \u001b[38;5;28;43mself\u001b[39;49m\u001b[38;5;241;43m.\u001b[39;49m\u001b[43m_get_concrete_function_garbage_collected\u001b[49m\u001b[43m(\u001b[49m\n\u001b[1;32m   3071\u001b[0m \u001b[43m      \u001b[49m\u001b[38;5;241;43m*\u001b[39;49m\u001b[43margs\u001b[49m\u001b[43m,\u001b[49m\u001b[43m \u001b[49m\u001b[38;5;241;43m*\u001b[39;49m\u001b[38;5;241;43m*\u001b[39;49m\u001b[43mkwargs\u001b[49m\u001b[43m)\u001b[49m\n\u001b[1;32m   3072\u001b[0m   graph_function\u001b[38;5;241m.\u001b[39m_garbage_collector\u001b[38;5;241m.\u001b[39mrelease()  \u001b[38;5;66;03m# pylint: disable=protected-access\u001b[39;00m\n\u001b[1;32m   3073\u001b[0m   \u001b[38;5;28;01mreturn\u001b[39;00m graph_function\n",
      "File \u001b[0;32m~/ds-recommender-project/venv/lib/python3.9/site-packages/tensorflow/python/eager/function.py:3036\u001b[0m, in \u001b[0;36mFunction._get_concrete_function_garbage_collected\u001b[0;34m(self, *args, **kwargs)\u001b[0m\n\u001b[1;32m   3034\u001b[0m   args, kwargs \u001b[38;5;241m=\u001b[39m \u001b[38;5;28;01mNone\u001b[39;00m, \u001b[38;5;28;01mNone\u001b[39;00m\n\u001b[1;32m   3035\u001b[0m \u001b[38;5;28;01mwith\u001b[39;00m \u001b[38;5;28mself\u001b[39m\u001b[38;5;241m.\u001b[39m_lock:\n\u001b[0;32m-> 3036\u001b[0m   graph_function, _ \u001b[38;5;241m=\u001b[39m \u001b[38;5;28;43mself\u001b[39;49m\u001b[38;5;241;43m.\u001b[39;49m\u001b[43m_maybe_define_function\u001b[49m\u001b[43m(\u001b[49m\u001b[43margs\u001b[49m\u001b[43m,\u001b[49m\u001b[43m \u001b[49m\u001b[43mkwargs\u001b[49m\u001b[43m)\u001b[49m\n\u001b[1;32m   3037\u001b[0m   seen_names \u001b[38;5;241m=\u001b[39m \u001b[38;5;28mset\u001b[39m()\n\u001b[1;32m   3038\u001b[0m   captured \u001b[38;5;241m=\u001b[39m object_identity\u001b[38;5;241m.\u001b[39mObjectIdentitySet(\n\u001b[1;32m   3039\u001b[0m       graph_function\u001b[38;5;241m.\u001b[39mgraph\u001b[38;5;241m.\u001b[39minternal_captures)\n",
      "File \u001b[0;32m~/ds-recommender-project/venv/lib/python3.9/site-packages/tensorflow/python/eager/function.py:3292\u001b[0m, in \u001b[0;36mFunction._maybe_define_function\u001b[0;34m(self, args, kwargs)\u001b[0m\n\u001b[1;32m   3288\u001b[0m   \u001b[38;5;28;01mreturn\u001b[39;00m \u001b[38;5;28mself\u001b[39m\u001b[38;5;241m.\u001b[39m_define_function_with_shape_relaxation(\n\u001b[1;32m   3289\u001b[0m       args, kwargs, flat_args, filtered_flat_args)\n\u001b[1;32m   3291\u001b[0m \u001b[38;5;28mself\u001b[39m\u001b[38;5;241m.\u001b[39m_function_cache\u001b[38;5;241m.\u001b[39madd_call_context(cache_key\u001b[38;5;241m.\u001b[39mcall_context)\n\u001b[0;32m-> 3292\u001b[0m graph_function \u001b[38;5;241m=\u001b[39m \u001b[38;5;28;43mself\u001b[39;49m\u001b[38;5;241;43m.\u001b[39;49m\u001b[43m_create_graph_function\u001b[49m\u001b[43m(\u001b[49m\u001b[43margs\u001b[49m\u001b[43m,\u001b[49m\u001b[43m \u001b[49m\u001b[43mkwargs\u001b[49m\u001b[43m)\u001b[49m\n\u001b[1;32m   3293\u001b[0m \u001b[38;5;28mself\u001b[39m\u001b[38;5;241m.\u001b[39m_function_cache\u001b[38;5;241m.\u001b[39madd(cache_key, cache_key_deletion_observer,\n\u001b[1;32m   3294\u001b[0m                          graph_function)\n\u001b[1;32m   3296\u001b[0m \u001b[38;5;28;01mreturn\u001b[39;00m graph_function, filtered_flat_args\n",
      "File \u001b[0;32m~/ds-recommender-project/venv/lib/python3.9/site-packages/tensorflow/python/eager/function.py:3130\u001b[0m, in \u001b[0;36mFunction._create_graph_function\u001b[0;34m(self, args, kwargs, override_flat_arg_shapes)\u001b[0m\n\u001b[1;32m   3125\u001b[0m missing_arg_names \u001b[38;5;241m=\u001b[39m [\n\u001b[1;32m   3126\u001b[0m     \u001b[38;5;124m\"\u001b[39m\u001b[38;5;132;01m%s\u001b[39;00m\u001b[38;5;124m_\u001b[39m\u001b[38;5;132;01m%d\u001b[39;00m\u001b[38;5;124m\"\u001b[39m \u001b[38;5;241m%\u001b[39m (arg, i) \u001b[38;5;28;01mfor\u001b[39;00m i, arg \u001b[38;5;129;01min\u001b[39;00m \u001b[38;5;28menumerate\u001b[39m(missing_arg_names)\n\u001b[1;32m   3127\u001b[0m ]\n\u001b[1;32m   3128\u001b[0m arg_names \u001b[38;5;241m=\u001b[39m base_arg_names \u001b[38;5;241m+\u001b[39m missing_arg_names\n\u001b[1;32m   3129\u001b[0m graph_function \u001b[38;5;241m=\u001b[39m ConcreteFunction(\n\u001b[0;32m-> 3130\u001b[0m     \u001b[43mfunc_graph_module\u001b[49m\u001b[38;5;241;43m.\u001b[39;49m\u001b[43mfunc_graph_from_py_func\u001b[49m\u001b[43m(\u001b[49m\n\u001b[1;32m   3131\u001b[0m \u001b[43m        \u001b[49m\u001b[38;5;28;43mself\u001b[39;49m\u001b[38;5;241;43m.\u001b[39;49m\u001b[43m_name\u001b[49m\u001b[43m,\u001b[49m\n\u001b[1;32m   3132\u001b[0m \u001b[43m        \u001b[49m\u001b[38;5;28;43mself\u001b[39;49m\u001b[38;5;241;43m.\u001b[39;49m\u001b[43m_python_function\u001b[49m\u001b[43m,\u001b[49m\n\u001b[1;32m   3133\u001b[0m \u001b[43m        \u001b[49m\u001b[43margs\u001b[49m\u001b[43m,\u001b[49m\n\u001b[1;32m   3134\u001b[0m \u001b[43m        \u001b[49m\u001b[43mkwargs\u001b[49m\u001b[43m,\u001b[49m\n\u001b[1;32m   3135\u001b[0m \u001b[43m        \u001b[49m\u001b[38;5;28;43mself\u001b[39;49m\u001b[38;5;241;43m.\u001b[39;49m\u001b[43minput_signature\u001b[49m\u001b[43m,\u001b[49m\n\u001b[1;32m   3136\u001b[0m \u001b[43m        \u001b[49m\u001b[43mautograph\u001b[49m\u001b[38;5;241;43m=\u001b[39;49m\u001b[38;5;28;43mself\u001b[39;49m\u001b[38;5;241;43m.\u001b[39;49m\u001b[43m_autograph\u001b[49m\u001b[43m,\u001b[49m\n\u001b[1;32m   3137\u001b[0m \u001b[43m        \u001b[49m\u001b[43mautograph_options\u001b[49m\u001b[38;5;241;43m=\u001b[39;49m\u001b[38;5;28;43mself\u001b[39;49m\u001b[38;5;241;43m.\u001b[39;49m\u001b[43m_autograph_options\u001b[49m\u001b[43m,\u001b[49m\n\u001b[1;32m   3138\u001b[0m \u001b[43m        \u001b[49m\u001b[43marg_names\u001b[49m\u001b[38;5;241;43m=\u001b[39;49m\u001b[43marg_names\u001b[49m\u001b[43m,\u001b[49m\n\u001b[1;32m   3139\u001b[0m \u001b[43m        \u001b[49m\u001b[43moverride_flat_arg_shapes\u001b[49m\u001b[38;5;241;43m=\u001b[39;49m\u001b[43moverride_flat_arg_shapes\u001b[49m\u001b[43m,\u001b[49m\n\u001b[1;32m   3140\u001b[0m \u001b[43m        \u001b[49m\u001b[43mcapture_by_value\u001b[49m\u001b[38;5;241;43m=\u001b[39;49m\u001b[38;5;28;43mself\u001b[39;49m\u001b[38;5;241;43m.\u001b[39;49m\u001b[43m_capture_by_value\u001b[49m\u001b[43m)\u001b[49m,\n\u001b[1;32m   3141\u001b[0m     \u001b[38;5;28mself\u001b[39m\u001b[38;5;241m.\u001b[39m_function_attributes,\n\u001b[1;32m   3142\u001b[0m     function_spec\u001b[38;5;241m=\u001b[39m\u001b[38;5;28mself\u001b[39m\u001b[38;5;241m.\u001b[39mfunction_spec,\n\u001b[1;32m   3143\u001b[0m     \u001b[38;5;66;03m# Tell the ConcreteFunction to clean up its graph once it goes out of\u001b[39;00m\n\u001b[1;32m   3144\u001b[0m     \u001b[38;5;66;03m# scope. This is not the default behavior since it gets used in some\u001b[39;00m\n\u001b[1;32m   3145\u001b[0m     \u001b[38;5;66;03m# places (like Keras) where the FuncGraph lives longer than the\u001b[39;00m\n\u001b[1;32m   3146\u001b[0m     \u001b[38;5;66;03m# ConcreteFunction.\u001b[39;00m\n\u001b[1;32m   3147\u001b[0m     shared_func_graph\u001b[38;5;241m=\u001b[39m\u001b[38;5;28;01mFalse\u001b[39;00m)\n\u001b[1;32m   3148\u001b[0m \u001b[38;5;28;01mreturn\u001b[39;00m graph_function\n",
      "File \u001b[0;32m~/ds-recommender-project/venv/lib/python3.9/site-packages/tensorflow/python/framework/func_graph.py:1161\u001b[0m, in \u001b[0;36mfunc_graph_from_py_func\u001b[0;34m(name, python_func, args, kwargs, signature, func_graph, autograph, autograph_options, add_control_dependencies, arg_names, op_return_value, collections, capture_by_value, override_flat_arg_shapes, acd_record_initial_resource_uses)\u001b[0m\n\u001b[1;32m   1158\u001b[0m \u001b[38;5;28;01melse\u001b[39;00m:\n\u001b[1;32m   1159\u001b[0m   _, original_func \u001b[38;5;241m=\u001b[39m tf_decorator\u001b[38;5;241m.\u001b[39munwrap(python_func)\n\u001b[0;32m-> 1161\u001b[0m func_outputs \u001b[38;5;241m=\u001b[39m \u001b[43mpython_func\u001b[49m\u001b[43m(\u001b[49m\u001b[38;5;241;43m*\u001b[39;49m\u001b[43mfunc_args\u001b[49m\u001b[43m,\u001b[49m\u001b[43m \u001b[49m\u001b[38;5;241;43m*\u001b[39;49m\u001b[38;5;241;43m*\u001b[39;49m\u001b[43mfunc_kwargs\u001b[49m\u001b[43m)\u001b[49m\n\u001b[1;32m   1163\u001b[0m \u001b[38;5;66;03m# invariant: `func_outputs` contains only Tensors, CompositeTensors,\u001b[39;00m\n\u001b[1;32m   1164\u001b[0m \u001b[38;5;66;03m# TensorArrays and `None`s.\u001b[39;00m\n\u001b[1;32m   1165\u001b[0m func_outputs \u001b[38;5;241m=\u001b[39m nest\u001b[38;5;241m.\u001b[39mmap_structure(convert, func_outputs,\n\u001b[1;32m   1166\u001b[0m                                   expand_composites\u001b[38;5;241m=\u001b[39m\u001b[38;5;28;01mTrue\u001b[39;00m)\n",
      "File \u001b[0;32m~/ds-recommender-project/venv/lib/python3.9/site-packages/tensorflow/python/data/ops/structured_function.py:248\u001b[0m, in \u001b[0;36mStructuredFunctionWrapper.__init__.<locals>.trace_tf_function.<locals>.wrapped_fn\u001b[0;34m(*args)\u001b[0m\n\u001b[1;32m    242\u001b[0m \u001b[38;5;129m@eager_function\u001b[39m\u001b[38;5;241m.\u001b[39mdefun_with_attributes(\n\u001b[1;32m    243\u001b[0m     input_signature\u001b[38;5;241m=\u001b[39mstructure\u001b[38;5;241m.\u001b[39mget_flat_tensor_specs(\n\u001b[1;32m    244\u001b[0m         \u001b[38;5;28mself\u001b[39m\u001b[38;5;241m.\u001b[39m_input_structure),\n\u001b[1;32m    245\u001b[0m     autograph\u001b[38;5;241m=\u001b[39m\u001b[38;5;28;01mFalse\u001b[39;00m,\n\u001b[1;32m    246\u001b[0m     attributes\u001b[38;5;241m=\u001b[39mdefun_kwargs)\n\u001b[1;32m    247\u001b[0m \u001b[38;5;28;01mdef\u001b[39;00m \u001b[38;5;21mwrapped_fn\u001b[39m(\u001b[38;5;241m*\u001b[39margs):  \u001b[38;5;66;03m# pylint: disable=missing-docstring\u001b[39;00m\n\u001b[0;32m--> 248\u001b[0m   ret \u001b[38;5;241m=\u001b[39m \u001b[43mwrapper_helper\u001b[49m\u001b[43m(\u001b[49m\u001b[38;5;241;43m*\u001b[39;49m\u001b[43margs\u001b[49m\u001b[43m)\u001b[49m\n\u001b[1;32m    249\u001b[0m   ret \u001b[38;5;241m=\u001b[39m structure\u001b[38;5;241m.\u001b[39mto_tensor_list(\u001b[38;5;28mself\u001b[39m\u001b[38;5;241m.\u001b[39m_output_structure, ret)\n\u001b[1;32m    250\u001b[0m   \u001b[38;5;28;01mreturn\u001b[39;00m [ops\u001b[38;5;241m.\u001b[39mconvert_to_tensor(t) \u001b[38;5;28;01mfor\u001b[39;00m t \u001b[38;5;129;01min\u001b[39;00m ret]\n",
      "File \u001b[0;32m~/ds-recommender-project/venv/lib/python3.9/site-packages/tensorflow/python/data/ops/structured_function.py:177\u001b[0m, in \u001b[0;36mStructuredFunctionWrapper.__init__.<locals>.wrapper_helper\u001b[0;34m(*args)\u001b[0m\n\u001b[1;32m    175\u001b[0m \u001b[38;5;28;01mif\u001b[39;00m \u001b[38;5;129;01mnot\u001b[39;00m _should_unpack(nested_args):\n\u001b[1;32m    176\u001b[0m   nested_args \u001b[38;5;241m=\u001b[39m (nested_args,)\n\u001b[0;32m--> 177\u001b[0m ret \u001b[38;5;241m=\u001b[39m \u001b[43mautograph\u001b[49m\u001b[38;5;241;43m.\u001b[39;49m\u001b[43mtf_convert\u001b[49m\u001b[43m(\u001b[49m\u001b[38;5;28;43mself\u001b[39;49m\u001b[38;5;241;43m.\u001b[39;49m\u001b[43m_func\u001b[49m\u001b[43m,\u001b[49m\u001b[43m \u001b[49m\u001b[43mag_ctx\u001b[49m\u001b[43m)\u001b[49m\u001b[43m(\u001b[49m\u001b[38;5;241;43m*\u001b[39;49m\u001b[43mnested_args\u001b[49m\u001b[43m)\u001b[49m\n\u001b[1;32m    178\u001b[0m \u001b[38;5;28;01mif\u001b[39;00m _should_pack(ret):\n\u001b[1;32m    179\u001b[0m   ret \u001b[38;5;241m=\u001b[39m \u001b[38;5;28mtuple\u001b[39m(ret)\n",
      "File \u001b[0;32m~/ds-recommender-project/venv/lib/python3.9/site-packages/tensorflow/python/autograph/impl/api.py:689\u001b[0m, in \u001b[0;36mconvert.<locals>.decorator.<locals>.wrapper\u001b[0;34m(*args, **kwargs)\u001b[0m\n\u001b[1;32m    687\u001b[0m \u001b[38;5;28;01mtry\u001b[39;00m:\n\u001b[1;32m    688\u001b[0m   \u001b[38;5;28;01mwith\u001b[39;00m conversion_ctx:\n\u001b[0;32m--> 689\u001b[0m     \u001b[38;5;28;01mreturn\u001b[39;00m \u001b[43mconverted_call\u001b[49m\u001b[43m(\u001b[49m\u001b[43mf\u001b[49m\u001b[43m,\u001b[49m\u001b[43m \u001b[49m\u001b[43margs\u001b[49m\u001b[43m,\u001b[49m\u001b[43m \u001b[49m\u001b[43mkwargs\u001b[49m\u001b[43m,\u001b[49m\u001b[43m \u001b[49m\u001b[43moptions\u001b[49m\u001b[38;5;241;43m=\u001b[39;49m\u001b[43moptions\u001b[49m\u001b[43m)\u001b[49m\n\u001b[1;32m    690\u001b[0m \u001b[38;5;28;01mexcept\u001b[39;00m \u001b[38;5;167;01mException\u001b[39;00m \u001b[38;5;28;01mas\u001b[39;00m e:  \u001b[38;5;66;03m# pylint:disable=broad-except\u001b[39;00m\n\u001b[1;32m    691\u001b[0m   \u001b[38;5;28;01mif\u001b[39;00m \u001b[38;5;28mhasattr\u001b[39m(e, \u001b[38;5;124m'\u001b[39m\u001b[38;5;124mag_error_metadata\u001b[39m\u001b[38;5;124m'\u001b[39m):\n",
      "File \u001b[0;32m~/ds-recommender-project/venv/lib/python3.9/site-packages/tensorflow/python/autograph/impl/api.py:377\u001b[0m, in \u001b[0;36mconverted_call\u001b[0;34m(f, args, kwargs, caller_fn_scope, options)\u001b[0m\n\u001b[1;32m    374\u001b[0m   \u001b[38;5;28;01mreturn\u001b[39;00m _call_unconverted(f, args, kwargs, options)\n\u001b[1;32m    376\u001b[0m \u001b[38;5;28;01mif\u001b[39;00m \u001b[38;5;129;01mnot\u001b[39;00m options\u001b[38;5;241m.\u001b[39muser_requested \u001b[38;5;129;01mand\u001b[39;00m conversion\u001b[38;5;241m.\u001b[39mis_allowlisted(f):\n\u001b[0;32m--> 377\u001b[0m   \u001b[38;5;28;01mreturn\u001b[39;00m \u001b[43m_call_unconverted\u001b[49m\u001b[43m(\u001b[49m\u001b[43mf\u001b[49m\u001b[43m,\u001b[49m\u001b[43m \u001b[49m\u001b[43margs\u001b[49m\u001b[43m,\u001b[49m\u001b[43m \u001b[49m\u001b[43mkwargs\u001b[49m\u001b[43m,\u001b[49m\u001b[43m \u001b[49m\u001b[43moptions\u001b[49m\u001b[43m)\u001b[49m\n\u001b[1;32m    379\u001b[0m \u001b[38;5;66;03m# internal_convert_user_code is for example turned off when issuing a dynamic\u001b[39;00m\n\u001b[1;32m    380\u001b[0m \u001b[38;5;66;03m# call conversion from generated code while in nonrecursive mode. In that\u001b[39;00m\n\u001b[1;32m    381\u001b[0m \u001b[38;5;66;03m# case we evidently don't want to recurse, but we still have to convert\u001b[39;00m\n\u001b[1;32m    382\u001b[0m \u001b[38;5;66;03m# things like builtins.\u001b[39;00m\n\u001b[1;32m    383\u001b[0m \u001b[38;5;28;01mif\u001b[39;00m \u001b[38;5;129;01mnot\u001b[39;00m options\u001b[38;5;241m.\u001b[39minternal_convert_user_code:\n",
      "File \u001b[0;32m~/ds-recommender-project/venv/lib/python3.9/site-packages/tensorflow/python/autograph/impl/api.py:458\u001b[0m, in \u001b[0;36m_call_unconverted\u001b[0;34m(f, args, kwargs, options, update_cache)\u001b[0m\n\u001b[1;32m    455\u001b[0m   \u001b[38;5;28;01mreturn\u001b[39;00m f\u001b[38;5;241m.\u001b[39m\u001b[38;5;18m__self__\u001b[39m\u001b[38;5;241m.\u001b[39mcall(args, kwargs)\n\u001b[1;32m    457\u001b[0m \u001b[38;5;28;01mif\u001b[39;00m kwargs \u001b[38;5;129;01mis\u001b[39;00m \u001b[38;5;129;01mnot\u001b[39;00m \u001b[38;5;28;01mNone\u001b[39;00m:\n\u001b[0;32m--> 458\u001b[0m   \u001b[38;5;28;01mreturn\u001b[39;00m \u001b[43mf\u001b[49m\u001b[43m(\u001b[49m\u001b[38;5;241;43m*\u001b[39;49m\u001b[43margs\u001b[49m\u001b[43m,\u001b[49m\u001b[43m \u001b[49m\u001b[38;5;241;43m*\u001b[39;49m\u001b[38;5;241;43m*\u001b[39;49m\u001b[43mkwargs\u001b[49m\u001b[43m)\u001b[49m\n\u001b[1;32m    459\u001b[0m \u001b[38;5;28;01mreturn\u001b[39;00m f(\u001b[38;5;241m*\u001b[39margs)\n",
      "File \u001b[0;32m~/ds-recommender-project/venv/lib/python3.9/site-packages/keras/utils/traceback_utils.py:67\u001b[0m, in \u001b[0;36mfilter_traceback.<locals>.error_handler\u001b[0;34m(*args, **kwargs)\u001b[0m\n\u001b[1;32m     65\u001b[0m \u001b[38;5;28;01mexcept\u001b[39;00m \u001b[38;5;167;01mException\u001b[39;00m \u001b[38;5;28;01mas\u001b[39;00m e:  \u001b[38;5;66;03m# pylint: disable=broad-except\u001b[39;00m\n\u001b[1;32m     66\u001b[0m   filtered_tb \u001b[38;5;241m=\u001b[39m _process_traceback_frames(e\u001b[38;5;241m.\u001b[39m__traceback__)\n\u001b[0;32m---> 67\u001b[0m   \u001b[38;5;28;01mraise\u001b[39;00m e\u001b[38;5;241m.\u001b[39mwith_traceback(filtered_tb) \u001b[38;5;28;01mfrom\u001b[39;00m \u001b[38;5;28mNone\u001b[39m\n\u001b[1;32m     68\u001b[0m \u001b[38;5;28;01mfinally\u001b[39;00m:\n\u001b[1;32m     69\u001b[0m   \u001b[38;5;28;01mdel\u001b[39;00m filtered_tb\n",
      "File \u001b[0;32m~/ds-recommender-project/venv/lib/python3.9/site-packages/tensorflow/python/autograph/impl/api.py:692\u001b[0m, in \u001b[0;36mconvert.<locals>.decorator.<locals>.wrapper\u001b[0;34m(*args, **kwargs)\u001b[0m\n\u001b[1;32m    690\u001b[0m \u001b[38;5;28;01mexcept\u001b[39;00m \u001b[38;5;167;01mException\u001b[39;00m \u001b[38;5;28;01mas\u001b[39;00m e:  \u001b[38;5;66;03m# pylint:disable=broad-except\u001b[39;00m\n\u001b[1;32m    691\u001b[0m   \u001b[38;5;28;01mif\u001b[39;00m \u001b[38;5;28mhasattr\u001b[39m(e, \u001b[38;5;124m'\u001b[39m\u001b[38;5;124mag_error_metadata\u001b[39m\u001b[38;5;124m'\u001b[39m):\n\u001b[0;32m--> 692\u001b[0m     \u001b[38;5;28;01mraise\u001b[39;00m e\u001b[38;5;241m.\u001b[39mag_error_metadata\u001b[38;5;241m.\u001b[39mto_exception(e)\n\u001b[1;32m    693\u001b[0m   \u001b[38;5;28;01melse\u001b[39;00m:\n\u001b[1;32m    694\u001b[0m     \u001b[38;5;28;01mraise\u001b[39;00m\n",
      "\u001b[0;31mRuntimeError\u001b[0m: Exception encountered when calling layer \"book_model_1\" (type BookModel).\n\nin user code:\n\n    File \"/tmp/ipykernel_31166/103625248.py\", line 7, in call  *\n        return self.encoding(inputs, use_embedding=self.use_embeddings)\n    File \"/tmp/ipykernel_31166/450850033.py\", line 39, in encode_inputs  *\n        vectorize_layer.adapt(data[feature_name])\n    File \"/home/simon95/ds-recommender-project/venv/lib/python3.9/site-packages/keras/layers/preprocessing/text_vectorization.py\", line 428, in adapt  **\n        super().adapt(data, batch_size=batch_size, steps=steps)\n    File \"/home/simon95/ds-recommender-project/venv/lib/python3.9/site-packages/keras/engine/base_preprocessing_layer.py\", line 231, in adapt\n        _disallow_inside_tf_function('adapt')\n    File \"/home/simon95/ds-recommender-project/venv/lib/python3.9/site-packages/keras/engine/base_preprocessing_layer.py\", line 301, in _disallow_inside_tf_function\n        raise RuntimeError(error_msg)\n\n    RuntimeError: Detected a call to `PreprocessingLayer.adapt` inside a `tf.function`. `PreprocessingLayer.adapt is a high-level endpoint that manages its own `tf.function`. Please move the call to `PreprocessingLayer.adapt` outside of all enclosing `tf.function`s. Note that you can call a `PreprocessingLayer` directly on `Tensor`s inside a `tf.function` like: `layer(x)`, or update its state like: `layer.update_state(x)`.\n\n\nCall arguments received:\n  • inputs={'user_id': 'tf.Tensor(shape=(None,), dtype=string)', 'book_id': 'tf.Tensor(shape=(None,), dtype=uint32)', 'review_text': 'tf.Tensor(shape=(None,), dtype=string)', 'title': 'tf.Tensor(shape=(None,), dtype=string)', 'text_reviews_count': 'tf.Tensor(shape=(None,), dtype=uint64)', 'average_rating': 'tf.Tensor(shape=(None,), dtype=float32)', 'description': 'tf.Tensor(shape=(None,), dtype=string)', 'author_id': 'tf.Tensor(shape=(None,), dtype=int64)'}"
     ]
    }
   ],
   "source": [
    "batch_size = 128\n",
    "dataset = get_dataset_from_pandas(data, TARGET_FEATURE_NAME, batch_size)\n",
    "train_dataset = get_dataset_from_pandas(train_data, TARGET_FEATURE_NAME, batch_size, shuffle=True)\n",
    "validation_dataset = get_dataset_from_pandas(val_data, TARGET_FEATURE_NAME, batch_size)\n",
    "\n",
    "model = GoodreadsModel(model_inputs, dataset)\n",
    "import datetime\n",
    "model.compile(optimizer=tf.keras.optimizers.Adagrad(0.1))\n"
   ]
  },
  {
   "cell_type": "code",
   "execution_count": null,
   "metadata": {},
   "outputs": [],
   "source": [
    "\n",
    "log_dir = \"logs/fit/\" + model.name + datetime.datetime.now().strftime(\"%Y%m%d-%H%M%S\")\n",
    "email = EmailCallback(train_size=len(train_data), val_size=len(val_data))\n",
    "callbacks_train = [\n",
    "    tf.keras.callbacks.TensorBoard(log_dir=log_dir),\n",
    "    tf.keras.callbacks.EarlyStopping(monitor=\"loss\",patience=5),\n",
    "    tf.keras.callbacks.BackupAndRestore(backup_dir=\"./models/backup\"+ datetime.datetime.now().strftime(\"%Y%m%d-%H%M%S\")),\n",
    "    email\n",
    "]\n",
    "\n",
    "print(\"Start training the model...\")\n",
    "history = model.fit(\n",
    "    train_dataset, \n",
    "    epochs=10, \n",
    "    callbacks=callbacks_train,\n",
    "    validation_data=validation_dataset)\n",
    "print(\"Model training finished\")\n",
    "print(history)\n",
    "\n",
    "train_accuracy = model.evaluate(\n",
    "    train_dataset, return_dict=True)[\"factorized_top_k/top_100_categorical_accuracy\"]\n",
    "val_accuracy = model.evaluate(\n",
    "    validation_dataset, return_dict=True)[\"factorized_top_k/top_100_categorical_accuracy\"]\n",
    "\n",
    "print(f\"Top-100 accuracy (train): {train_accuracy:.2f}.\")\n",
    "print(f\"Top-100 accuracy (val): {val_accuracy:.2f}.\")\n"
   ]
  },
  {
   "cell_type": "markdown",
   "metadata": {},
   "source": [
    "---\n",
    "## Experiment 1: a baseline model\n",
    "In the first experiment, let's create a multi-layer feed-forward network, where the categorical features are one-hot encoded.\n"
   ]
  },
  {
   "cell_type": "code",
   "execution_count": null,
   "metadata": {},
   "outputs": [
    {
     "data": {
      "image/png": "[encoded data removed]",
      "text/plain": [
       "<IPython.core.display.Image object>"
      ]
     },
     "execution_count": 23,
     "metadata": {},
     "output_type": "execute_result"
    }
   ],
   "source": [
    "def create_baseline_model():\n",
    "    inputs = model_inputs\n",
    "    features = model_features\n",
    "\n",
    "    for units in hidden_units:\n",
    "        features = layers.Dense(units)(features)\n",
    "        features = layers.BatchNormalization()(features)\n",
    "        features = layers.ReLU()(features)\n",
    "        features = layers.Dropout(dropout_rate)(features)\n",
    "\n",
    "    outputs = layers.Dense(units=NUM_CLASSES, activation=\"softmax\")(features)\n",
    "    model = keras.Model(inputs=inputs, outputs=outputs, name=\"baseline_model\")\n",
    "    return model\n",
    "\n",
    "\n",
    "baseline_model = create_baseline_model()\n",
    "plot_fn = os.path.join(\"./logs/model_plots/\", \"baseline_model_\" + datetime.datetime.now().strftime(\"%Y%m%d-%H%M%S\") + \".png\")\n",
    "keras.utils.plot_model(baseline_model, to_file=plot_fn, show_shapes=True, rankdir=\"LR\")\n"
   ]
  },
  {
   "cell_type": "code",
   "execution_count": null,
   "metadata": {},
   "outputs": [
    {
     "name": "stdout",
     "output_type": "stream",
     "text": [
      "setting up yagmail...\n",
      "Start training the model...\n",
      "Start Training with Model...\n",
      "Starting training; got log keys: []\n",
      "[]\n",
      "Epoch 1/20\n",
      "  6/313 [..............................] - ETA: 1:25 - loss: 1.9589 - sparse_categorical_accuracy: 0.2565 - sparse_categorical_crossentropy: 1.9589WARNING:tensorflow:Callback method `on_train_batch_end` is slow compared to the batch time (batch time: 0.0577s vs `on_train_batch_end` time: 0.4963s). Check your callbacks.\n",
      "313/313 [==============================] - 79s 189ms/step - loss: 1.5790 - sparse_categorical_accuracy: 0.3095 - sparse_categorical_crossentropy: 1.5790\n",
      "Epoch 2/20\n",
      "313/313 [==============================] - 53s 170ms/step - loss: 1.4918 - sparse_categorical_accuracy: 0.3342 - sparse_categorical_crossentropy: 1.491821s - loss: 1.4935 - sparse_categ\n",
      "Epoch 3/20\n",
      "313/313 [==============================] - 50s 161ms/step - loss: 1.4779 - sparse_categorical_accuracy: 0.3487 - sparse_categorical_crossentropy: 1.4779\n",
      "Epoch 4/20\n",
      "313/313 [==============================] - 70s 224ms/step - loss: 1.4712 - sparse_categorical_accuracy: 0.3506 - sparse_categorical_crossentropy: 1.4712: 4s - loss: 1.4699 - sparse_categorical_accuracy: 0.3515 - sparse_categorical\n",
      "Epoch 5/20\n",
      "313/313 [==============================] - 69s 220ms/step - loss: 1.4661 - sparse_categorical_accuracy: 0.3509 - sparse_categorical_crossentropy: 1.4661\n",
      "Epoch 6/20\n",
      "313/313 [==============================] - 47s 150ms/step - loss: 1.4642 - sparse_categorical_accuracy: 0.3529 - sparse_categorical_crossentropy: 1.4642\n",
      "Epoch 7/20\n",
      "313/313 [==============================] - 45s 143ms/step - loss: 1.4690 - sparse_categorical_accuracy: 0.3539 - sparse_categorical_crossentropy: 1.4690\n",
      "Epoch 8/20\n",
      "313/313 [==============================] - 53s 170ms/step - loss: 1.4647 - sparse_categorical_accuracy: 0.3557 - sparse_categorical_crossentropy: 1.4647\n",
      "Epoch 9/20\n",
      "313/313 [==============================] - 48s 152ms/step - loss: 1.4634 - sparse_categorical_accuracy: 0.3561 - sparse_categorical_crossentropy: 1.4634\n",
      "Epoch 10/20\n",
      "313/313 [==============================] - 46s 147ms/step - loss: 1.4621 - sparse_categorical_accuracy: 0.3573 - sparse_categorical_crossentropy: 1.462110s - loss: 1.4589 - sparse_categorical_accuracy: 0.3588 - sparse_categorical_crossen - ETA: 8s - loss: 1.4606 - sparse_categorical_accuracy: 0.3579 - sparse_categorical_crossentropy: 1.460 - ETA: 8s - loss: 1.4607 - sparse_categori\n",
      "Epoch 11/20\n",
      "313/313 [==============================] - 40s 128ms/step - loss: 1.4612 - sparse_categorical_accuracy: 0.3581 - sparse_categorical_crossentropy: 1.4612\n",
      "Epoch 12/20\n",
      "313/313 [==============================] - 35s 113ms/step - loss: 1.4621 - sparse_categorical_accuracy: 0.3575 - sparse_categorical_crossentropy: 1.46210s - loss: 1.4619 - sparse_categorical_accuracy: 0.3575 - sparse_categorical_crossentropy: 1.46\n",
      "Epoch 13/20\n",
      "313/313 [==============================] - 30s 96ms/step - loss: 1.4608 - sparse_categorical_accuracy: 0.3574 - sparse_categorical_crossentropy: 1.4608\n",
      "Epoch 14/20\n",
      "313/313 [==============================] - 30s 97ms/step - loss: 1.4613 - sparse_categorical_accuracy: 0.3576 - sparse_categorical_crossentropy: 1.4613\n",
      "Epoch 15/20\n",
      "313/313 [==============================] - 29s 94ms/step - loss: 1.4600 - sparse_categorical_accuracy: 0.3579 - sparse_categorical_crossentropy: 1.4600\n",
      "Epoch 16/20\n",
      "313/313 [==============================] - 20s 64ms/step - loss: 1.4595 - sparse_categorical_accuracy: 0.3584 - sparse_categorical_crossentropy: 1.4595\n",
      "Epoch 17/20\n",
      "313/313 [==============================] - 25s 79ms/step - loss: 1.4594 - sparse_categorical_accuracy: 0.3570 - sparse_categorical_crossentropy: 1.4594\n",
      "Epoch 18/20\n",
      "313/313 [==============================] - 22s 69ms/step - loss: 1.4593 - sparse_categorical_accuracy: 0.3572 - sparse_categorical_crossentropy: 1.4593\n",
      "Epoch 19/20\n",
      "313/313 [==============================] - 19s 62ms/step - loss: 1.4588 - sparse_categorical_accuracy: 0.3573 - sparse_categorical_crossentropy: 1.4588\n",
      "Epoch 20/20\n",
      "313/313 [==============================] - 21s 66ms/step - loss: 1.4596 - sparse_categorical_accuracy: 0.3571 - sparse_categorical_crossentropy: 1.4596\n",
      "Stop training; got log keys: ['loss', 'sparse_categorical_accuracy', 'sparse_categorical_crossentropy']\n",
      "['loss: 1.4595966339111328', 'sparse_categorical_accuracy: 0.3570803105831146', 'sparse_categorical_crossentropy: 1.4595966339111328']\n",
      "Model training finished\n",
      "Starting testing; got log keys: []\n",
      "[]\n",
      "stop testing; got log keys: ['loss', 'sparse_categorical_accuracy', 'sparse_categorical_crossentropy']\n",
      "['loss: 1.4472064971923828', 'sparse_categorical_accuracy: 0.36775416135787964', 'sparse_categorical_crossentropy: 1.4472064971923828']\n",
      "sending e-mail..\n",
      "e-mail sent.\n",
      "{}\n",
      "[1.4472064971923828, 0.36775416135787964, 1.4472064971923828]\n"
     ]
    },
    {
     "data": {
      "text/plain": [
       "(<keras.callbacks.History at 0x2679815d7f0>,\n",
       " [1.4472064971923828, 0.36775416135787964, 1.4472064971923828])"
      ]
     },
     "execution_count": 45,
     "metadata": {},
     "output_type": "execute_result"
    }
   ],
   "source": [
    "run_experiment(baseline_model)"
   ]
  },
  {
   "cell_type": "code",
   "execution_count": null,
   "metadata": {},
   "outputs": [
    {
     "name": "stdout",
     "output_type": "stream",
     "text": [
      "INFO:tensorflow:Assets written to: ./models/baseline_model_20220127-202128\\assets\n"
     ]
    }
   ],
   "source": [
    "baseline_model.save(os.path.join(MODEL_DIR, \"baseline_model_\" + datetime.datetime.now().strftime(\"%Y%m%d-%H%M%S\")))"
   ]
  },
  {
   "cell_type": "markdown",
   "metadata": {},
   "source": [
    "\n",
    "Epoch 50/50\n",
    "33/33 [==============================] - 3s 96ms/step - loss: 13.9775 - sparse_categorical_accuracy: 0.1705 - sparse_categorical_crossentropy: 1.7928\n",
    "\n",
    "---\n",
    "\n",
    "mit MAE funktionierts *überhaupt nicht*:\n",
    "\n",
    "33/33 [==============================] - 6s 173ms/step - loss: 3.5591 - sparse_categorical_accuracy: 0.2904 - sparse_categorical_crossentropy: 1.8936\n",
    "\n",
    "Model training finished\n",
    "\n",
    "Test accuracy: 356.12. Test CategoricalCrossEntropy: 0.23%\n",
    "(vermutlich werte umgekehrt)\n",
    "\n",
    "Epoch 6/50\n",
    "33/33 [==============================] - 15s 440ms/step - loss: 3.5591 - sparse_categorical_accuracy: 0.3038 - sparse_categorical_crossentropy: 1.8952\n",
    "\n",
    "Model training finished\n",
    "[3.561164140701294, 0.3306415379047394, 1.8279825448989868]"
   ]
  },
  {
   "cell_type": "markdown",
   "metadata": {},
   "source": [
    "Epoch 43/50\n",
    "33/33 [==============================] - 5s 143ms/step - loss: 0.4164 - sparse_categorical_accuracy: 0.8359\n",
    "Model training finished\n",
    "Test accuracy: 43.11%"
   ]
  },
  {
   "cell_type": "markdown",
   "metadata": {},
   "source": [
    "Results w/ 8670 pieces of train data and baseline_model @ 15 epochs:\n",
    "- loss: 0.7961 \n",
    "- sparse_categorical_accuracy: 0.7035\n",
    "- Test accuracy: 38.67 %"
   ]
  },
  {
   "cell_type": "markdown",
   "metadata": {},
   "source": [
    "TODO: Datensatz fetching fixen, er hört sonst nach 16 epochs schon auf :o 8670/265er batches müsste für 32 reichen"
   ]
  },
  {
   "cell_type": "markdown",
   "metadata": {},
   "source": [
    "## TODO andere Metrics, output ist ja nicht kategorisch, darf gern Regression sein, oder?"
   ]
  },
  {
   "cell_type": "markdown",
   "metadata": {},
   "source": [
    "Learnings:\n",
    "- eigentlich Klassifiziere ich gerade folgendes:\n",
    "  - Gegeben Review mit Title, Beschreibung, Text, UserID, Author, etc. --> prädiziere die Bewertung von 0-5\n",
    "  - (eigentlich recht easy)\n",
    "\n",
    "- was ich für eine Recommendation bräuchte (-> Ranking)\n",
    "- wäre eine prädizierte Bewertung **auf Basis der UserID** und Anhand der Buchfeatures Beschreibung, Titel, Author, etc.\n",
    "- Dann \"einfach\" für alle Bücher prädizieren und top K Ergebnisse liefern --> MAP@k, Precision@k\n",
    "  "
   ]
  },
  {
   "cell_type": "markdown",
   "metadata": {},
   "source": [
    "wie im TF Tutorial beschrieben:\n",
    "1. Candidate Model: --> Bücher --> Features\n",
    "2. Query Model: --> Suchanfrage --> UserModel --> UserID\n",
    "   - nicht ganz klar, wo die user-bewertungen jetzt konkret rein sollten.."
   ]
  },
  {
   "cell_type": "markdown",
   "metadata": {},
   "source": [
    "RS-Tasks:\n",
    "- *item rating prediction (regression)* [42]\n",
    "- click-through rate prediction (binary classification) [11, 16]\n",
    "- user behavior prediction (multi-class classification) [59], and\n",
    "- *item retrieval (clustering)* [10]."
   ]
  },
  {
   "cell_type": "code",
   "execution_count": null,
   "metadata": {},
   "outputs": [
    {
     "name": "stderr",
     "output_type": "stream",
     "text": [
      "UsageError: Line magic function `%tensorboard` not found.\n"
     ]
    }
   ],
   "source": [
    "%tensorboard --logdir log_dir"
   ]
  },
  {
   "cell_type": "markdown",
   "metadata": {},
   "source": [
    "---\n",
    "## Experiment 2: Wide & Deep model\n",
    "In the second experiment, we create a Wide & Deep model. The wide part of the model a linear model, while the deep part of the model is a multi-layer feed-forward network.\n",
    "\n",
    "Use the sparse representation of the input features in the wide part of the model and the dense representation of the input features for the deep part of the model.\n",
    "\n",
    "Note that every input features contributes to both parts of the model with different representations.\n",
    "\n"
   ]
  },
  {
   "cell_type": "code",
   "execution_count": null,
   "metadata": {},
   "outputs": [
    {
     "data": {
      "image/png": "[encoded data removed]",
      "text/plain": [
       "<IPython.core.display.Image object>"
      ]
     },
     "execution_count": 48,
     "metadata": {},
     "output_type": "execute_result"
    }
   ],
   "source": [
    "def create_wide_and_deep_model():\n",
    "\n",
    "    inputs = model_inputs\n",
    "    wide = model_features\n",
    "    wide = layers.BatchNormalization()(wide)\n",
    "\n",
    "    deep = embedded_features\n",
    "    for units in hidden_units:\n",
    "        deep = layers.Dense(units)(deep)\n",
    "        deep = layers.BatchNormalization()(deep)\n",
    "        deep = layers.ReLU()(deep)\n",
    "        deep = layers.Dropout(dropout_rate)(deep)\n",
    "\n",
    "    merged = layers.concatenate([wide, deep])\n",
    "    outputs = layers.Dense(units=NUM_CLASSES, activation=\"softmax\")(merged)\n",
    "    model = keras.Model(inputs=inputs, outputs=outputs, name=\"wide_and_deep_model\")\n",
    "    return model\n",
    "\n",
    "\n",
    "wide_and_deep_model = create_wide_and_deep_model()\n",
    "plot_fn = os.path.join(\"./logs/model_plots/\", \"wide_and_deep_model_\" + datetime.datetime.now().strftime(\"%Y%m%d-%H%M%S\") + \".png\")\n",
    "\n",
    "keras.utils.plot_model(wide_and_deep_model, to_file=plot_fn, show_shapes=True, rankdir=\"LR\")\n"
   ]
  },
  {
   "cell_type": "code",
   "execution_count": null,
   "metadata": {},
   "outputs": [
    {
     "name": "stdout",
     "output_type": "stream",
     "text": [
      "setting up yagmail...\n",
      "Start training the model...\n",
      "Start Training with Model...\n",
      "Starting training; got log keys: []\n",
      "[]\n",
      "Epoch 1/20\n"
     ]
    },
    {
     "name": "stderr",
     "output_type": "stream",
     "text": [
      "C:\\Users\\simon\\anaconda3\\envs\\ds-project\\lib\\site-packages\\keras\\engine\\functional.py:559: UserWarning: Input dict contained keys ['review_text', 'title', 'description'] which did not match any model input. They will be ignored by the model.\n",
      "  inputs = self._flatten_to_reference_inputs(inputs)\n"
     ]
    },
    {
     "name": "stdout",
     "output_type": "stream",
     "text": [
      "  6/313 [..............................] - ETA: 42s - loss: 1.6427 - sparse_categorical_accuracy: 0.3190 - sparse_categorical_crossentropy: 1.6427WARNING:tensorflow:Callback method `on_train_batch_end` is slow compared to the batch time (batch time: 0.0538s vs `on_train_batch_end` time: 0.2343s). Check your callbacks.\n",
      "313/313 [==============================] - 38s 101ms/step - loss: 1.4260 - sparse_categorical_accuracy: 0.3799 - sparse_categorical_crossentropy: 1.4260\n",
      "Epoch 2/20\n",
      "313/313 [==============================] - 33s 104ms/step - loss: 1.2619 - sparse_categorical_accuracy: 0.4937 - sparse_categorical_crossentropy: 1.2619\n",
      "Epoch 3/20\n",
      "313/313 [==============================] - 31s 98ms/step - loss: 1.1284 - sparse_categorical_accuracy: 0.5741 - sparse_categorical_crossentropy: 1.1284\n",
      "Epoch 4/20\n",
      "313/313 [==============================] - 36s 114ms/step - loss: 1.0114 - sparse_categorical_accuracy: 0.6335 - sparse_categorical_crossentropy: 1.0114\n",
      "Epoch 5/20\n",
      "313/313 [==============================] - 33s 107ms/step - loss: 0.9125 - sparse_categorical_accuracy: 0.6750 - sparse_categorical_crossentropy: 0.9125\n",
      "Epoch 6/20\n",
      "313/313 [==============================] - 33s 106ms/step - loss: 0.8321 - sparse_categorical_accuracy: 0.7000 - sparse_categorical_crossentropy: 0.8321\n",
      "Epoch 7/20\n",
      "313/313 [==============================] - 34s 107ms/step - loss: 0.7675 - sparse_categorical_accuracy: 0.7165 - sparse_categorical_crossentropy: 0.7675\n",
      "Epoch 8/20\n",
      "313/313 [==============================] - 47s 150ms/step - loss: 0.7155 - sparse_categorical_accuracy: 0.7266 - sparse_categorical_crossentropy: 0.7155\n",
      "Epoch 9/20\n",
      "313/313 [==============================] - 51s 165ms/step - loss: 0.6741 - sparse_categorical_accuracy: 0.7329 - sparse_categorical_crossentropy: 0.6741\n",
      "Epoch 10/20\n",
      "313/313 [==============================] - 36s 115ms/step - loss: 0.6412 - sparse_categorical_accuracy: 0.7373 - sparse_categorical_crossentropy: 0.6412\n",
      "Epoch 11/20\n",
      "313/313 [==============================] - 31s 100ms/step - loss: 0.6153 - sparse_categorical_accuracy: 0.7407 - sparse_categorical_crossentropy: 0.6153\n",
      "Epoch 12/20\n",
      "313/313 [==============================] - 32s 102ms/step - loss: 0.5947 - sparse_categorical_accuracy: 0.7439 - sparse_categorical_crossentropy: 0.5947\n",
      "Epoch 13/20\n",
      "313/313 [==============================] - 33s 107ms/step - loss: 0.5786 - sparse_categorical_accuracy: 0.7458 - sparse_categorical_crossentropy: 0.5786\n",
      "Epoch 14/20\n",
      "313/313 [==============================] - 36s 114ms/step - loss: 0.5671 - sparse_categorical_accuracy: 0.7479 - sparse_categorical_crossentropy: 0.5671\n",
      "Epoch 15/20\n",
      "313/313 [==============================] - 32s 103ms/step - loss: 0.5634 - sparse_categorical_accuracy: 0.7472 - sparse_categorical_crossentropy: 0.5634\n",
      "Epoch 16/20\n",
      "313/313 [==============================] - 31s 98ms/step - loss: 0.5772 - sparse_categorical_accuracy: 0.7416 - sparse_categorical_crossentropy: 0.5772\n",
      "Epoch 17/20\n",
      "313/313 [==============================] - 36s 114ms/step - loss: 0.6074 - sparse_categorical_accuracy: 0.7339 - sparse_categorical_crossentropy: 0.6074\n",
      "Epoch 18/20\n",
      "313/313 [==============================] - 39s 125ms/step - loss: 0.5975 - sparse_categorical_accuracy: 0.7375 - sparse_categorical_crossentropy: 0.5975\n",
      "Epoch 19/20\n",
      "313/313 [==============================] - 32s 102ms/step - loss: 0.5848 - sparse_categorical_accuracy: 0.7415 - sparse_categorical_crossentropy: 0.5848\n",
      "Epoch 20/20\n",
      "313/313 [==============================] - 32s 102ms/step - loss: 0.5920 - sparse_categorical_accuracy: 0.7403 - sparse_categorical_crossentropy: 0.5920\n",
      "Stop training; got log keys: ['loss', 'sparse_categorical_accuracy', 'sparse_categorical_crossentropy']\n",
      "['loss: 0.5919879674911499', 'sparse_categorical_accuracy: 0.7403256893157959', 'sparse_categorical_crossentropy: 0.5919879674911499']\n",
      "Model training finished\n",
      "Starting testing; got log keys: []\n",
      "[]\n",
      "stop testing; got log keys: ['loss', 'sparse_categorical_accuracy', 'sparse_categorical_crossentropy']\n",
      "['loss: 4.644235610961914', 'sparse_categorical_accuracy: 0.2708769738674164', 'sparse_categorical_crossentropy: 4.644235610961914']\n",
      "sending e-mail..\n",
      "e-mail sent.\n",
      "{}\n",
      "[4.644235610961914, 0.2708769738674164, 4.644235610961914]\n"
     ]
    },
    {
     "data": {
      "text/plain": [
       "(<keras.callbacks.History at 0x267b48fa6d0>,\n",
       " [4.644235610961914, 0.2708769738674164, 4.644235610961914])"
      ]
     },
     "execution_count": 49,
     "metadata": {},
     "output_type": "execute_result"
    }
   ],
   "source": [
    "run_experiment(wide_and_deep_model)"
   ]
  },
  {
   "cell_type": "code",
   "execution_count": null,
   "metadata": {},
   "outputs": [
    {
     "name": "stdout",
     "output_type": "stream",
     "text": [
      "INFO:tensorflow:Assets written to: ./models/wide_and_deep_model_20220127-203343\\assets\n"
     ]
    }
   ],
   "source": [
    "wide_and_deep_model.save(os.path.join(MODEL_DIR, \"wide_and_deep_model_\" + datetime.datetime.now().strftime(\"%Y%m%d-%H%M%S\")))"
   ]
  },
  {
   "cell_type": "markdown",
   "metadata": {},
   "source": [
    "---\n",
    "## Experiment 3: Deep & Cross model\n",
    "In the third experiment, we create a Deep & Cross model. The deep part of this model is the same as the deep part created in the previous experiment. The key idea of the cross part is to apply explicit feature crossing in an efficient way, where the degree of cross features grows with layer depth."
   ]
  },
  {
   "cell_type": "code",
   "execution_count": null,
   "metadata": {},
   "outputs": [
    {
     "data": {
      "image/png": "[encoded data removed]",
      "text/plain": [
       "<IPython.core.display.Image object>"
      ]
     },
     "execution_count": 51,
     "metadata": {},
     "output_type": "execute_result"
    }
   ],
   "source": [
    "def create_deep_and_cross_model():\n",
    "\n",
    "    inputs = model_inputs\n",
    "    x0 = embedded_features\n",
    "\n",
    "    cross = x0\n",
    "    for _ in hidden_units:\n",
    "        units = cross.shape[-1]\n",
    "        x = layers.Dense(units)(cross)\n",
    "        cross = x0 * x + cross\n",
    "    cross = layers.BatchNormalization()(cross)\n",
    "\n",
    "    deep = x0\n",
    "    for units in hidden_units:\n",
    "        deep = layers.Dense(units)(deep)\n",
    "        deep = layers.BatchNormalization()(deep)\n",
    "        deep = layers.ReLU()(deep)\n",
    "        deep = layers.Dropout(dropout_rate)(deep)\n",
    "\n",
    "    merged = layers.concatenate([cross, deep])\n",
    "    outputs = layers.Dense(units=NUM_CLASSES, activation=\"softmax\")(merged)\n",
    "    model = keras.Model(inputs=inputs, outputs=outputs, name=\"deep_and_cross_model\")\n",
    "    return model\n",
    "\n",
    "\n",
    "deep_and_cross_model = create_deep_and_cross_model()\n",
    "plot_fn = os.path.join(\"./logs/model_plots/\", \"deep_and_cross_model_\" + datetime.datetime.now().strftime(\"%Y%m%d-%H%M%S\") + \".png\")\n",
    "\n",
    "keras.utils.plot_model(deep_and_cross_model, to_file=plot_fn, show_shapes=True, rankdir=\"LR\")\n"
   ]
  },
  {
   "cell_type": "code",
   "execution_count": null,
   "metadata": {},
   "outputs": [
    {
     "name": "stdout",
     "output_type": "stream",
     "text": [
      "setting up yagmail...\n",
      "Start training the model...\n",
      "Start Training with Model...\n",
      "Starting training; got log keys: []\n",
      "[]\n",
      "Epoch 1/20\n"
     ]
    },
    {
     "name": "stderr",
     "output_type": "stream",
     "text": [
      "C:\\Users\\simon\\anaconda3\\envs\\ds-project\\lib\\site-packages\\keras\\engine\\functional.py:559: UserWarning: Input dict contained keys ['review_text', 'title', 'description'] which did not match any model input. They will be ignored by the model.\n",
      "  inputs = self._flatten_to_reference_inputs(inputs)\n"
     ]
    },
    {
     "name": "stdout",
     "output_type": "stream",
     "text": [
      "  6/313 [..............................] - ETA: 24s - loss: 2.2002 - sparse_categorical_accuracy: 0.2005 - sparse_categorical_crossentropy: 2.2002WARNING:tensorflow:Callback method `on_train_batch_end` is slow compared to the batch time (batch time: 0.0186s vs `on_train_batch_end` time: 0.2609s). Check your callbacks.\n",
      "313/313 [==============================] - 20s 41ms/step - loss: 1.5633 - sparse_categorical_accuracy: 0.3415 - sparse_categorical_crossentropy: 1.5633\n",
      "Epoch 2/20\n",
      "313/313 [==============================] - 11s 37ms/step - loss: 1.3368 - sparse_categorical_accuracy: 0.4466 - sparse_categorical_crossentropy: 1.3368\n",
      "Epoch 3/20\n",
      "313/313 [==============================] - 13s 41ms/step - loss: 1.1510 - sparse_categorical_accuracy: 0.5423 - sparse_categorical_crossentropy: 1.1510\n",
      "Epoch 4/20\n",
      "313/313 [==============================] - 13s 42ms/step - loss: 0.8754 - sparse_categorical_accuracy: 0.6516 - sparse_categorical_crossentropy: 0.8754\n",
      "Epoch 5/20\n",
      "313/313 [==============================] - 13s 42ms/step - loss: 0.7155 - sparse_categorical_accuracy: 0.7006 - sparse_categorical_crossentropy: 0.7155\n",
      "Epoch 6/20\n",
      "313/313 [==============================] - 18s 58ms/step - loss: 0.6057 - sparse_categorical_accuracy: 0.7385 - sparse_categorical_crossentropy: 0.6057\n",
      "Epoch 7/20\n",
      "313/313 [==============================] - 18s 58ms/step - loss: 0.5422 - sparse_categorical_accuracy: 0.7689 - sparse_categorical_crossentropy: 0.5422\n",
      "Epoch 8/20\n",
      "313/313 [==============================] - 24s 76ms/step - loss: 0.5053 - sparse_categorical_accuracy: 0.7855 - sparse_categorical_crossentropy: 0.5053\n",
      "Epoch 9/20\n",
      "313/313 [==============================] - 21s 69ms/step - loss: 0.4561 - sparse_categorical_accuracy: 0.8114 - sparse_categorical_crossentropy: 0.4561\n",
      "Epoch 10/20\n",
      "313/313 [==============================] - 20s 62ms/step - loss: 0.4504 - sparse_categorical_accuracy: 0.8135 - sparse_categorical_crossentropy: 0.4504 1s - loss: 0.4534 - sparse_categorical_accuracy: 0.8125 - sparse_categorical_crossentropy: 0 - ETA: 0s - loss: 0.4525 - sparse_categorical_accuracy: 0.8126 - sparse_categorical_crossentropy\n",
      "Epoch 11/20\n",
      "313/313 [==============================] - 17s 53ms/step - loss: 0.3884 - sparse_categorical_accuracy: 0.8414 - sparse_categorical_crossentropy: 0.3884\n",
      "Epoch 12/20\n",
      "313/313 [==============================] - 16s 50ms/step - loss: 0.3426 - sparse_categorical_accuracy: 0.8602 - sparse_categorical_crossentropy: 0.3426\n",
      "Epoch 13/20\n",
      "313/313 [==============================] - 18s 58ms/step - loss: 0.3165 - sparse_categorical_accuracy: 0.8732 - sparse_categorical_crossentropy: 0.3165\n",
      "Epoch 14/20\n",
      "313/313 [==============================] - 16s 53ms/step - loss: 0.2833 - sparse_categorical_accuracy: 0.8893 - sparse_categorical_crossentropy: 0.2833\n",
      "Epoch 15/20\n",
      "313/313 [==============================] - 19s 60ms/step - loss: 0.2552 - sparse_categorical_accuracy: 0.9023 - sparse_categorical_crossentropy: 0.2552\n",
      "Epoch 16/20\n",
      "313/313 [==============================] - 18s 59ms/step - loss: 0.2137 - sparse_categorical_accuracy: 0.9191 - sparse_categorical_crossentropy: 0.2137\n",
      "Epoch 17/20\n",
      "313/313 [==============================] - 26s 84ms/step - loss: 0.1937 - sparse_categorical_accuracy: 0.9277 - sparse_categorical_crossentropy: 0.1937\n",
      "Epoch 18/20\n",
      "313/313 [==============================] - 18s 57ms/step - loss: 0.1646 - sparse_categorical_accuracy: 0.9392 - sparse_categorical_crossentropy: 0.1646 1s - loss: 0.1614 - sparse_categorical_accuracy: 0.9405 - sparse_categorical_crossentro - ETA: 0s - loss: 0.1638 - sparse_categorical_accuracy: 0.9397 - sparse_categorical_crossentropy: 0.1\n",
      "Epoch 19/20\n",
      "313/313 [==============================] - 23s 75ms/step - loss: 0.1407 - sparse_categorical_accuracy: 0.9479 - sparse_categorical_crossentropy: 0.1407\n",
      "Epoch 20/20\n",
      "313/313 [==============================] - 22s 69ms/step - loss: 0.1246 - sparse_categorical_accuracy: 0.9565 - sparse_categorical_crossentropy: 0.1246\n",
      "Stop training; got log keys: ['loss', 'sparse_categorical_accuracy', 'sparse_categorical_crossentropy']\n",
      "['loss: 0.1246122196316719', 'sparse_categorical_accuracy: 0.9565250277519226', 'sparse_categorical_crossentropy: 0.1246122196316719']\n",
      "Model training finished\n",
      "Starting testing; got log keys: []\n",
      "[]\n",
      "stop testing; got log keys: ['loss', 'sparse_categorical_accuracy', 'sparse_categorical_crossentropy']\n",
      "['loss: 5.4389495849609375', 'sparse_categorical_accuracy: 0.384116530418396', 'sparse_categorical_crossentropy: 5.4389495849609375']\n",
      "sending e-mail..\n",
      "e-mail sent.\n",
      "{}\n",
      "[5.4389495849609375, 0.384116530418396, 5.4389495849609375]\n"
     ]
    },
    {
     "data": {
      "text/plain": [
       "(<keras.callbacks.History at 0x267c5fd4460>,\n",
       " [5.4389495849609375, 0.384116530418396, 5.4389495849609375])"
      ]
     },
     "execution_count": 52,
     "metadata": {},
     "output_type": "execute_result"
    }
   ],
   "source": [
    "run_experiment(deep_and_cross_model)"
   ]
  },
  {
   "cell_type": "code",
   "execution_count": null,
   "metadata": {},
   "outputs": [
    {
     "name": "stdout",
     "output_type": "stream",
     "text": [
      "INFO:tensorflow:Assets written to: ./models/deep_and_cross_model_20220127-204018\\assets\n"
     ]
    }
   ],
   "source": [
    "deep_and_cross_model.save(os.path.join(MODEL_DIR, \"deep_and_cross_model_\" + datetime.datetime.now().strftime(\"%Y%m%d-%H%M%S\")))"
   ]
  }
 ],
 "metadata": {
  "interpreter": {
   "hash": "48bc9e598fcbf8a93b8170aeed7972c61fdd84b24baf2eff9e2683f5bf1d2fdd"
  },
  "kernelspec": {
   "display_name": "Python 3.8.5 64-bit ('ds-project': conda)",
   "language": "python",
   "name": "python3"
  },
  "language_info": {
   "codemirror_mode": {
    "name": "ipython",
    "version": 3
   },
   "file_extension": ".py",
   "mimetype": "text/x-python",
   "name": "python",
   "nbconvert_exporter": "python",
   "pygments_lexer": "ipython3",
   "version": "3.9.7"
  },
  "orig_nbformat": 4
 },
 "nbformat": 4,
 "nbformat_minor": 2
}
