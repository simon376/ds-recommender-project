{
  "nbformat": 4,
  "nbformat_minor": 0,
  "metadata": {
    "interpreter": {
      "hash": "9e76b0d5cb60aeac2c7766501f29d5609454392808f9093eb23d5adb0737949e"
    },
    "kernelspec": {
      "display_name": "Python 3.9.7 64-bit ('data-science': conda)",
      "language": "python",
      "name": "python3"
    },
    "language_info": {
      "codemirror_mode": {
        "name": "ipython",
        "version": 3
      },
      "file_extension": ".py",
      "mimetype": "text/x-python",
      "name": "python",
      "nbconvert_exporter": "python",
      "pygments_lexer": "ipython3",
      "version": "3.8.5"
    },
    "orig_nbformat": 4,
    "colab": {
      "name": "goodreads.ipynb",
      "provenance": []
    }
  },
  "cells": [
    {
      "cell_type": "code",
      "metadata": {
        "id": "b_YCeFQgbmjz"
      },
      "source": [
        "import gzip\n",
        "import json\n",
        "import re\n",
        "import os\n",
        "import sys\n",
        "import numpy as np\n",
        "import pandas as pd"
      ],
      "execution_count": 1,
      "outputs": []
    },
    {
      "cell_type": "markdown",
      "metadata": {
        "id": "K7v6YnzIcEgm"
      },
      "source": [
        "## Colab Data Download"
      ]
    },
    {
      "cell_type": "code",
      "metadata": {
        "id": "q6V9ms9QcDq1",
        "outputId": "5379b627-3e60-4c90-b968-d91be70fb86e",
        "colab": {
          "base_uri": "https://localhost:8080/"
        }
      },
      "source": [
        "! pip install gdown"
      ],
      "execution_count": 6,
      "outputs": [
        {
          "output_type": "stream",
          "name": "stdout",
          "text": [
            "Requirement already satisfied: gdown in /usr/local/lib/python3.7/dist-packages (3.6.4)\n",
            "Requirement already satisfied: six in /usr/local/lib/python3.7/dist-packages (from gdown) (1.15.0)\n",
            "Requirement already satisfied: requests in /usr/local/lib/python3.7/dist-packages (from gdown) (2.23.0)\n",
            "Requirement already satisfied: tqdm in /usr/local/lib/python3.7/dist-packages (from gdown) (4.62.3)\n",
            "Requirement already satisfied: certifi>=2017.4.17 in /usr/local/lib/python3.7/dist-packages (from requests->gdown) (2021.10.8)\n",
            "Requirement already satisfied: idna<3,>=2.5 in /usr/local/lib/python3.7/dist-packages (from requests->gdown) (2.10)\n",
            "Requirement already satisfied: chardet<4,>=3.0.2 in /usr/local/lib/python3.7/dist-packages (from requests->gdown) (3.0.4)\n",
            "Requirement already satisfied: urllib3!=1.25.0,!=1.25.1,<1.26,>=1.21.1 in /usr/local/lib/python3.7/dist-packages (from requests->gdown) (1.24.3)\n"
          ]
        }
      ]
    },
    {
      "cell_type": "code",
      "metadata": {
        "id": "EN0q66A1cKyP",
        "outputId": "63dfdc0a-9d48-42c0-b0bc-50df43f411a7",
        "colab": {
          "base_uri": "https://localhost:8080/"
        }
      },
      "source": [
        "! gdown 'https://drive.google.com/uc?id=1ACGrQS0sX4-26D358G2i5pja1Y6CsGtz'\n",
        "! gdown 'https://drive.google.com/uc?id=1ONpyuv0vrtd6iUEp0-zzkKqwpm3njEqi'"
      ],
      "execution_count": 7,
      "outputs": [
        {
          "output_type": "stream",
          "name": "stdout",
          "text": [
            "Downloading...\n",
            "From: https://drive.google.com/uc?id=1ACGrQS0sX4-26D358G2i5pja1Y6CsGtz\n",
            "To: /content/goodreads_books_mystery_thriller_crime.json.gz\n",
            "100% 231M/231M [00:04<00:00, 51.5MB/s]\n",
            "Downloading...\n",
            "From: https://drive.google.com/uc?id=1ONpyuv0vrtd6iUEp0-zzkKqwpm3njEqi\n",
            "To: /content/goodreads_reviews_mystery_thriller_crime.json.gz\n",
            "100% 610M/610M [00:14<00:00, 41.7MB/s]\n"
          ]
        }
      ]
    },
    {
      "cell_type": "markdown",
      "metadata": {
        "id": "Rv8Ae1lybmka"
      },
      "source": [
        "Datasets Directory"
      ]
    },
    {
      "cell_type": "code",
      "metadata": {
        "id": "xaoEcUW1bmkj"
      },
      "source": [
        "DIR = './'"
      ],
      "execution_count": 2,
      "outputs": []
    },
    {
      "cell_type": "markdown",
      "metadata": {
        "id": "fKk0KU4pbmkn"
      },
      "source": [
        "Function to load zipped datasets"
      ]
    },
    {
      "cell_type": "code",
      "metadata": {
        "id": "AIuba-IXbmkt"
      },
      "source": [
        "def load_data(file_name, head = 500):\n",
        "    count = 0\n",
        "    data = []\n",
        "    with gzip.open(file_name) as fin:\n",
        "        for l in fin:\n",
        "            d = json.loads(l)\n",
        "            count += 1\n",
        "            data.append(d)\n",
        "            \n",
        "            # break if reaches the 100th line\n",
        "            if (head is not None) and (count > head):\n",
        "                break\n",
        "    return data"
      ],
      "execution_count": 3,
      "outputs": []
    },
    {
      "cell_type": "markdown",
      "metadata": {
        "id": "izSzkHGcbmkz"
      },
      "source": [
        "Load and display sample records of books ~/authors/works/series~"
      ]
    },
    {
      "cell_type": "markdown",
      "metadata": {
        "id": "p8gEoNIzmm58"
      },
      "source": [
        "## Lieber Pandas Funktion verwenden!"
      ]
    },
    {
      "cell_type": "code",
      "metadata": {
        "id": "4NkH5OxGmp_G"
      },
      "source": [
        "df_books = pd.read_json(os.path.join(DIR, 'goodreads_books_mystery_thriller_crime.json.gz'), lines=True, nrows=20000)"
      ],
      "execution_count": 4,
      "outputs": []
    },
    {
      "cell_type": "code",
      "metadata": {
        "id": "0DZrLpcvqLR8"
      },
      "source": [
        "df_reviews = pd.read_json(os.path.join(DIR, 'goodreads_reviews_mystery_thriller_crime.json.gz'), lines=True, nrows=10000)"
      ],
      "execution_count": 5,
      "outputs": []
    },
    {
      "cell_type": "code",
      "metadata": {
        "id": "8G-ozcagbmk2"
      },
      "source": [
        "# books = load_data(os.path.join(DIR, 'goodreads_books_mystery_thriller_crime.json.gz'), 9999999)\n",
        "# reviews = load_data(os.path.join(DIR, 'goodreads_reviews_mystery_thriller_crime.json.gz'), 9999999)"
      ],
      "execution_count": 5,
      "outputs": []
    },
    {
      "cell_type": "code",
      "metadata": {
        "id": "XyZlktftbmk8",
        "outputId": "536c6d84-312c-4ca1-b6be-ae45e5f5e3b3",
        "colab": {
          "base_uri": "https://localhost:8080/",
          "height": 232
        }
      },
      "source": [
        "print(' == sample record (books) ==')\n",
        "np.random.choice(books)"
      ],
      "execution_count": 6,
      "outputs": [
        {
          "output_type": "stream",
          "name": "stdout",
          "text": [
            " == sample record (books) ==\n"
          ]
        },
        {
          "output_type": "error",
          "ename": "ValueError",
          "evalue": "ignored",
          "traceback": [
            "\u001b[0;31m---------------------------------------------------------------------------\u001b[0m",
            "\u001b[0;31mValueError\u001b[0m                                Traceback (most recent call last)",
            "\u001b[0;32m<ipython-input-6-7eb54d3ae7c2>\u001b[0m in \u001b[0;36m<module>\u001b[0;34m()\u001b[0m\n\u001b[1;32m      1\u001b[0m \u001b[0mprint\u001b[0m\u001b[0;34m(\u001b[0m\u001b[0;34m' == sample record (books) =='\u001b[0m\u001b[0;34m)\u001b[0m\u001b[0;34m\u001b[0m\u001b[0;34m\u001b[0m\u001b[0m\n\u001b[0;32m----> 2\u001b[0;31m \u001b[0mnp\u001b[0m\u001b[0;34m.\u001b[0m\u001b[0mrandom\u001b[0m\u001b[0;34m.\u001b[0m\u001b[0mchoice\u001b[0m\u001b[0;34m(\u001b[0m\u001b[0mbooks\u001b[0m\u001b[0;34m)\u001b[0m\u001b[0;34m\u001b[0m\u001b[0;34m\u001b[0m\u001b[0m\n\u001b[0m",
            "\u001b[0;32mmtrand.pyx\u001b[0m in \u001b[0;36mnumpy.random.mtrand.RandomState.choice\u001b[0;34m()\u001b[0m\n",
            "\u001b[0;31mValueError\u001b[0m: a must be 1-dimensional"
          ]
        }
      ]
    },
    {
      "cell_type": "markdown",
      "metadata": {
        "id": "fusJccJZbmlE"
      },
      "source": [
        "> {'count': '1', 'name': 'لمعرض-الكتاب-2018'},\n",
        "> \n",
        "> 'title': 'Човекът, който знаеше всичко',\n",
        "\n",
        "auch nicht lateinische Buchstaben! Übersetzen? löschen?"
      ]
    },
    {
      "cell_type": "code",
      "metadata": {
        "id": "yHlst2d5bmlL",
        "outputId": "01ddecf6-2d9e-4fdc-b136-2fc5a9ff05bb",
        "colab": {
          "base_uri": "https://localhost:8080/",
          "height": 51
        }
      },
      "source": [
        "display(type(books[0]))\n",
        "display(len(books[0]))"
      ],
      "execution_count": 16,
      "outputs": [
        {
          "output_type": "display_data",
          "data": {
            "text/plain": [
              "dict"
            ]
          },
          "metadata": {}
        },
        {
          "output_type": "display_data",
          "data": {
            "text/plain": [
              "29"
            ]
          },
          "metadata": {}
        }
      ]
    },
    {
      "cell_type": "code",
      "metadata": {
        "id": "gXyhE-ISbmlP",
        "outputId": "d8c21d2e-d3a6-41bb-eb60-6c3b7f91db3e",
        "colab": {
          "base_uri": "https://localhost:8080/"
        }
      },
      "source": [
        "len(books)"
      ],
      "execution_count": 17,
      "outputs": [
        {
          "output_type": "execute_result",
          "data": {
            "text/plain": [
              "5001"
            ]
          },
          "metadata": {},
          "execution_count": 17
        }
      ]
    },
    {
      "cell_type": "code",
      "metadata": {
        "id": "tdMPfz2pnRMr"
      },
      "source": [
        "df_books = books\n",
        "df_reviews = reviews"
      ],
      "execution_count": 7,
      "outputs": []
    },
    {
      "cell_type": "code",
      "metadata": {
        "id": "1y5LKhxObmlS"
      },
      "source": [
        "# df_books = pd.DataFrame(books)\n",
        "# df_reviews = pd.DataFrame(reviews)"
      ],
      "execution_count": 8,
      "outputs": []
    },
    {
      "cell_type": "code",
      "metadata": {
        "id": "T296qW2ObmlU",
        "outputId": "5bdc4f4f-bfec-4093-dfb0-a56110c1c995",
        "colab": {
          "base_uri": "https://localhost:8080/",
          "height": 530
        }
      },
      "source": [
        "df_books.head()"
      ],
      "execution_count": 6,
      "outputs": [
        {
          "output_type": "execute_result",
          "data": {
            "text/html": [
              "<div>\n",
              "<style scoped>\n",
              "    .dataframe tbody tr th:only-of-type {\n",
              "        vertical-align: middle;\n",
              "    }\n",
              "\n",
              "    .dataframe tbody tr th {\n",
              "        vertical-align: top;\n",
              "    }\n",
              "\n",
              "    .dataframe thead th {\n",
              "        text-align: right;\n",
              "    }\n",
              "</style>\n",
              "<table border=\"1\" class=\"dataframe\">\n",
              "  <thead>\n",
              "    <tr style=\"text-align: right;\">\n",
              "      <th></th>\n",
              "      <th>isbn</th>\n",
              "      <th>text_reviews_count</th>\n",
              "      <th>series</th>\n",
              "      <th>country_code</th>\n",
              "      <th>language_code</th>\n",
              "      <th>popular_shelves</th>\n",
              "      <th>asin</th>\n",
              "      <th>is_ebook</th>\n",
              "      <th>average_rating</th>\n",
              "      <th>kindle_asin</th>\n",
              "      <th>similar_books</th>\n",
              "      <th>description</th>\n",
              "      <th>format</th>\n",
              "      <th>link</th>\n",
              "      <th>authors</th>\n",
              "      <th>publisher</th>\n",
              "      <th>num_pages</th>\n",
              "      <th>publication_day</th>\n",
              "      <th>isbn13</th>\n",
              "      <th>publication_month</th>\n",
              "      <th>edition_information</th>\n",
              "      <th>publication_year</th>\n",
              "      <th>url</th>\n",
              "      <th>image_url</th>\n",
              "      <th>book_id</th>\n",
              "      <th>ratings_count</th>\n",
              "      <th>work_id</th>\n",
              "      <th>title</th>\n",
              "      <th>title_without_series</th>\n",
              "    </tr>\n",
              "  </thead>\n",
              "  <tbody>\n",
              "    <tr>\n",
              "      <th>0</th>\n",
              "      <td>184737297X</td>\n",
              "      <td>15</td>\n",
              "      <td>[169353]</td>\n",
              "      <td>US</td>\n",
              "      <td></td>\n",
              "      <td>[{'count': '159', 'name': 'to-read'}, {'count'...</td>\n",
              "      <td></td>\n",
              "      <td>false</td>\n",
              "      <td>3.93</td>\n",
              "      <td>B007YLTG5I</td>\n",
              "      <td>[439108, 522621, 116770, 1275927, 6202655, 840...</td>\n",
              "      <td>London, 1196. At the command of Richard the Li...</td>\n",
              "      <td>Hardcover</td>\n",
              "      <td>https://www.goodreads.com/book/show/6066814-cr...</td>\n",
              "      <td>[{'author_id': '37778', 'role': ''}]</td>\n",
              "      <td>Simon &amp; Schuster UK</td>\n",
              "      <td>400</td>\n",
              "      <td>6</td>\n",
              "      <td>9781847372970</td>\n",
              "      <td>4</td>\n",
              "      <td></td>\n",
              "      <td>2009</td>\n",
              "      <td>https://www.goodreads.com/book/show/6066814-cr...</td>\n",
              "      <td>https://images.gr-assets.com/books/1328724803m...</td>\n",
              "      <td>6066814</td>\n",
              "      <td>186</td>\n",
              "      <td>6243149</td>\n",
              "      <td>Crowner Royal (Crowner John Mystery, #13)</td>\n",
              "      <td>Crowner Royal (Crowner John Mystery, #13)</td>\n",
              "    </tr>\n",
              "    <tr>\n",
              "      <th>1</th>\n",
              "      <td></td>\n",
              "      <td>60</td>\n",
              "      <td>[1052227]</td>\n",
              "      <td>US</td>\n",
              "      <td>eng</td>\n",
              "      <td>[{'count': '54', 'name': 'currently-reading'},...</td>\n",
              "      <td>B01NCIKAQX</td>\n",
              "      <td>true</td>\n",
              "      <td>4.33</td>\n",
              "      <td>B01NCIKAQX</td>\n",
              "      <td>[]</td>\n",
              "      <td></td>\n",
              "      <td></td>\n",
              "      <td>https://www.goodreads.com/book/show/33394837-t...</td>\n",
              "      <td>[{'author_id': '242185', 'role': ''}]</td>\n",
              "      <td></td>\n",
              "      <td>318</td>\n",
              "      <td></td>\n",
              "      <td></td>\n",
              "      <td></td>\n",
              "      <td></td>\n",
              "      <td></td>\n",
              "      <td>https://www.goodreads.com/book/show/33394837-t...</td>\n",
              "      <td>https://images.gr-assets.com/books/1493114742m...</td>\n",
              "      <td>33394837</td>\n",
              "      <td>269</td>\n",
              "      <td>54143148</td>\n",
              "      <td>The House of Memory (Pluto's Snitch #2)</td>\n",
              "      <td>The House of Memory (Pluto's Snitch #2)</td>\n",
              "    </tr>\n",
              "    <tr>\n",
              "      <th>2</th>\n",
              "      <td></td>\n",
              "      <td>23</td>\n",
              "      <td>[953679]</td>\n",
              "      <td>US</td>\n",
              "      <td>eng</td>\n",
              "      <td>[{'count': '90', 'name': 'to-read'}, {'count':...</td>\n",
              "      <td>B01ALOWJN0</td>\n",
              "      <td>true</td>\n",
              "      <td>3.49</td>\n",
              "      <td>B01ALOWJN0</td>\n",
              "      <td>[]</td>\n",
              "      <td>BATHS, BANKS AND ROMAN INSURRECTION\\nDetective...</td>\n",
              "      <td></td>\n",
              "      <td>https://www.goodreads.com/book/show/29074697-t...</td>\n",
              "      <td>[{'author_id': '15104629', 'role': ''}, {'auth...</td>\n",
              "      <td>Amazon Digital Services</td>\n",
              "      <td></td>\n",
              "      <td></td>\n",
              "      <td></td>\n",
              "      <td></td>\n",
              "      <td></td>\n",
              "      <td></td>\n",
              "      <td>https://www.goodreads.com/book/show/29074697-t...</td>\n",
              "      <td>https://s.gr-assets.com/assets/nophoto/book/11...</td>\n",
              "      <td>29074697</td>\n",
              "      <td>192</td>\n",
              "      <td>49305010</td>\n",
              "      <td>The Slaughtered Virgin of Zenopolis (Inspector...</td>\n",
              "      <td>The Slaughtered Virgin of Zenopolis (Inspector...</td>\n",
              "    </tr>\n",
              "    <tr>\n",
              "      <th>3</th>\n",
              "      <td>0854563903</td>\n",
              "      <td>8</td>\n",
              "      <td>[408775]</td>\n",
              "      <td>US</td>\n",
              "      <td></td>\n",
              "      <td>[{'count': '51', 'name': 'to-read'}, {'count':...</td>\n",
              "      <td></td>\n",
              "      <td>false</td>\n",
              "      <td>3.30</td>\n",
              "      <td></td>\n",
              "      <td>[]</td>\n",
              "      <td>Gerald breezily introduced his wife, Helen, to...</td>\n",
              "      <td>Hardcover</td>\n",
              "      <td>https://www.goodreads.com/book/show/1902202.De...</td>\n",
              "      <td>[{'author_id': '190988', 'role': ''}]</td>\n",
              "      <td>Ulverscroft</td>\n",
              "      <td></td>\n",
              "      <td>1</td>\n",
              "      <td>9780854563906</td>\n",
              "      <td>12</td>\n",
              "      <td>Large Print</td>\n",
              "      <td>1975</td>\n",
              "      <td>https://www.goodreads.com/book/show/1902202.De...</td>\n",
              "      <td>https://s.gr-assets.com/assets/nophoto/book/11...</td>\n",
              "      <td>1902202</td>\n",
              "      <td>52</td>\n",
              "      <td>1903897</td>\n",
              "      <td>Dead in the Morning (Patrick Grant, #1)</td>\n",
              "      <td>Dead in the Morning (Patrick Grant, #1)</td>\n",
              "    </tr>\n",
              "    <tr>\n",
              "      <th>4</th>\n",
              "      <td>8838920931</td>\n",
              "      <td>3</td>\n",
              "      <td>[274410]</td>\n",
              "      <td>US</td>\n",
              "      <td>ita</td>\n",
              "      <td>[{'count': '48', 'name': 'to-read'}, {'count':...</td>\n",
              "      <td></td>\n",
              "      <td>false</td>\n",
              "      <td>3.54</td>\n",
              "      <td></td>\n",
              "      <td>[]</td>\n",
              "      <td>\"I misteri di Eleusi\" e il quinto romanzo di A...</td>\n",
              "      <td>Paperback</td>\n",
              "      <td>https://www.goodreads.com/book/show/9671977-ar...</td>\n",
              "      <td>[{'author_id': '337108', 'role': ''}, {'author...</td>\n",
              "      <td>Sellerio</td>\n",
              "      <td>659</td>\n",
              "      <td></td>\n",
              "      <td>9788838920936</td>\n",
              "      <td></td>\n",
              "      <td></td>\n",
              "      <td>2006</td>\n",
              "      <td>https://www.goodreads.com/book/show/9671977-ar...</td>\n",
              "      <td>https://images.gr-assets.com/books/1474788304m...</td>\n",
              "      <td>9671977</td>\n",
              "      <td>22</td>\n",
              "      <td>2152906</td>\n",
              "      <td>Aristotele e i misteri di Eleusi</td>\n",
              "      <td>Aristotele e i misteri di Eleusi</td>\n",
              "    </tr>\n",
              "  </tbody>\n",
              "</table>\n",
              "</div>"
            ],
            "text/plain": [
              "         isbn  ...                               title_without_series\n",
              "0  184737297X  ...          Crowner Royal (Crowner John Mystery, #13)\n",
              "1              ...            The House of Memory (Pluto's Snitch #2)\n",
              "2              ...  The Slaughtered Virgin of Zenopolis (Inspector...\n",
              "3  0854563903  ...            Dead in the Morning (Patrick Grant, #1)\n",
              "4  8838920931  ...                   Aristotele e i misteri di Eleusi\n",
              "\n",
              "[5 rows x 29 columns]"
            ]
          },
          "metadata": {},
          "execution_count": 6
        }
      ]
    },
    {
      "cell_type": "code",
      "metadata": {
        "id": "nOz2BWOxbmlX",
        "outputId": "57c3ab93-add2-4756-c877-6dbf3649c56b",
        "colab": {
          "base_uri": "https://localhost:8080/"
        }
      },
      "source": [
        "df_books.info()"
      ],
      "execution_count": 7,
      "outputs": [
        {
          "output_type": "stream",
          "name": "stdout",
          "text": [
            "<class 'pandas.core.frame.DataFrame'>\n",
            "RangeIndex: 20000 entries, 0 to 19999\n",
            "Data columns (total 29 columns):\n",
            " #   Column                Non-Null Count  Dtype  \n",
            "---  ------                --------------  -----  \n",
            " 0   isbn                  20000 non-null  object \n",
            " 1   text_reviews_count    20000 non-null  int64  \n",
            " 2   series                20000 non-null  object \n",
            " 3   country_code          20000 non-null  object \n",
            " 4   language_code         20000 non-null  object \n",
            " 5   popular_shelves       20000 non-null  object \n",
            " 6   asin                  20000 non-null  object \n",
            " 7   is_ebook              20000 non-null  object \n",
            " 8   average_rating        20000 non-null  float64\n",
            " 9   kindle_asin           20000 non-null  object \n",
            " 10  similar_books         20000 non-null  object \n",
            " 11  description           20000 non-null  object \n",
            " 12  format                20000 non-null  object \n",
            " 13  link                  20000 non-null  object \n",
            " 14  authors               20000 non-null  object \n",
            " 15  publisher             20000 non-null  object \n",
            " 16  num_pages             20000 non-null  object \n",
            " 17  publication_day       20000 non-null  object \n",
            " 18  isbn13                20000 non-null  object \n",
            " 19  publication_month     20000 non-null  object \n",
            " 20  edition_information   20000 non-null  object \n",
            " 21  publication_year      20000 non-null  object \n",
            " 22  url                   20000 non-null  object \n",
            " 23  image_url             20000 non-null  object \n",
            " 24  book_id               20000 non-null  int64  \n",
            " 25  ratings_count         20000 non-null  int64  \n",
            " 26  work_id               20000 non-null  int64  \n",
            " 27  title                 20000 non-null  object \n",
            " 28  title_without_series  20000 non-null  object \n",
            "dtypes: float64(1), int64(4), object(24)\n",
            "memory usage: 4.4+ MB\n"
          ]
        }
      ]
    },
    {
      "cell_type": "code",
      "metadata": {
        "id": "qIoaJ6IHbmlc",
        "outputId": "51c53ebb-0948-4426-9b5b-6408a7a80b91",
        "colab": {
          "base_uri": "https://localhost:8080/",
          "height": 530
        }
      },
      "source": [
        "df_reviews.head()"
      ],
      "execution_count": 8,
      "outputs": [
        {
          "output_type": "execute_result",
          "data": {
            "text/html": [
              "<div>\n",
              "<style scoped>\n",
              "    .dataframe tbody tr th:only-of-type {\n",
              "        vertical-align: middle;\n",
              "    }\n",
              "\n",
              "    .dataframe tbody tr th {\n",
              "        vertical-align: top;\n",
              "    }\n",
              "\n",
              "    .dataframe thead th {\n",
              "        text-align: right;\n",
              "    }\n",
              "</style>\n",
              "<table border=\"1\" class=\"dataframe\">\n",
              "  <thead>\n",
              "    <tr style=\"text-align: right;\">\n",
              "      <th></th>\n",
              "      <th>user_id</th>\n",
              "      <th>book_id</th>\n",
              "      <th>review_id</th>\n",
              "      <th>rating</th>\n",
              "      <th>review_text</th>\n",
              "      <th>date_added</th>\n",
              "      <th>date_updated</th>\n",
              "      <th>read_at</th>\n",
              "      <th>started_at</th>\n",
              "      <th>n_votes</th>\n",
              "      <th>n_comments</th>\n",
              "    </tr>\n",
              "  </thead>\n",
              "  <tbody>\n",
              "    <tr>\n",
              "      <th>0</th>\n",
              "      <td>8842281e1d1347389f2ab93d60773d4d</td>\n",
              "      <td>6392944</td>\n",
              "      <td>5e212a62bced17b4dbe41150e5bb9037</td>\n",
              "      <td>3</td>\n",
              "      <td>I haven't read a fun mystery book in a while a...</td>\n",
              "      <td>Mon Jul 24 02:48:17 -0700 2017</td>\n",
              "      <td>Sun Jul 30 09:28:03 -0700 2017</td>\n",
              "      <td>Tue Jul 25 00:00:00 -0700 2017</td>\n",
              "      <td>Mon Jul 24 00:00:00 -0700 2017</td>\n",
              "      <td>6</td>\n",
              "      <td>0</td>\n",
              "    </tr>\n",
              "    <tr>\n",
              "      <th>1</th>\n",
              "      <td>8842281e1d1347389f2ab93d60773d4d</td>\n",
              "      <td>28684704</td>\n",
              "      <td>2ede853b14dc4583f96cf5d120af636f</td>\n",
              "      <td>3</td>\n",
              "      <td>A fun, fast paced science fiction thriller. I ...</td>\n",
              "      <td>Tue Nov 15 11:29:22 -0800 2016</td>\n",
              "      <td>Mon Mar 20 23:40:27 -0700 2017</td>\n",
              "      <td>Sat Mar 18 23:22:42 -0700 2017</td>\n",
              "      <td>Fri Mar 17 23:45:40 -0700 2017</td>\n",
              "      <td>22</td>\n",
              "      <td>0</td>\n",
              "    </tr>\n",
              "    <tr>\n",
              "      <th>2</th>\n",
              "      <td>8842281e1d1347389f2ab93d60773d4d</td>\n",
              "      <td>32283133</td>\n",
              "      <td>8e4d61801907e591018bdc3442a9cf2b</td>\n",
              "      <td>0</td>\n",
              "      <td>http://www.telegraph.co.uk/culture/10...</td>\n",
              "      <td>Tue Nov 01 11:09:18 -0700 2016</td>\n",
              "      <td>Tue Nov 01 11:09:44 -0700 2016</td>\n",
              "      <td></td>\n",
              "      <td></td>\n",
              "      <td>9</td>\n",
              "      <td>0</td>\n",
              "    </tr>\n",
              "    <tr>\n",
              "      <th>3</th>\n",
              "      <td>8842281e1d1347389f2ab93d60773d4d</td>\n",
              "      <td>17860739</td>\n",
              "      <td>022bb6daffa49adc27f6b20b6ebeb37d</td>\n",
              "      <td>4</td>\n",
              "      <td>An amazing and unique creation: JJ Abrams and ...</td>\n",
              "      <td>Wed Mar 26 13:51:30 -0700 2014</td>\n",
              "      <td>Tue Sep 23 01:44:36 -0700 2014</td>\n",
              "      <td>Sun Sep 21 00:00:00 -0700 2014</td>\n",
              "      <td>Sat Jul 26 00:00:00 -0700 2014</td>\n",
              "      <td>7</td>\n",
              "      <td>0</td>\n",
              "    </tr>\n",
              "    <tr>\n",
              "      <th>4</th>\n",
              "      <td>8842281e1d1347389f2ab93d60773d4d</td>\n",
              "      <td>8694005</td>\n",
              "      <td>0e317947e1fd341f573192111bb2921d</td>\n",
              "      <td>3</td>\n",
              "      <td>The Name of the Rose is a thrilling Dan Brown-...</td>\n",
              "      <td>Wed Sep 08 01:22:27 -0700 2010</td>\n",
              "      <td>Wed Dec 14 12:30:43 -0800 2016</td>\n",
              "      <td>Mon Aug 10 00:00:00 -0700 2015</td>\n",
              "      <td>Mon Jul 20 00:00:00 -0700 2015</td>\n",
              "      <td>17</td>\n",
              "      <td>6</td>\n",
              "    </tr>\n",
              "  </tbody>\n",
              "</table>\n",
              "</div>"
            ],
            "text/plain": [
              "                            user_id   book_id  ... n_votes  n_comments\n",
              "0  8842281e1d1347389f2ab93d60773d4d   6392944  ...       6           0\n",
              "1  8842281e1d1347389f2ab93d60773d4d  28684704  ...      22           0\n",
              "2  8842281e1d1347389f2ab93d60773d4d  32283133  ...       9           0\n",
              "3  8842281e1d1347389f2ab93d60773d4d  17860739  ...       7           0\n",
              "4  8842281e1d1347389f2ab93d60773d4d   8694005  ...      17           6\n",
              "\n",
              "[5 rows x 11 columns]"
            ]
          },
          "metadata": {},
          "execution_count": 8
        }
      ]
    },
    {
      "cell_type": "code",
      "metadata": {
        "id": "vG05IO-fbmle",
        "outputId": "2958e1f7-1eb3-45c8-df13-fec4b6f164da",
        "colab": {
          "base_uri": "https://localhost:8080/",
          "height": 297
        }
      },
      "source": [
        "df_books.describe()"
      ],
      "execution_count": 9,
      "outputs": [
        {
          "output_type": "execute_result",
          "data": {
            "text/html": [
              "<div>\n",
              "<style scoped>\n",
              "    .dataframe tbody tr th:only-of-type {\n",
              "        vertical-align: middle;\n",
              "    }\n",
              "\n",
              "    .dataframe tbody tr th {\n",
              "        vertical-align: top;\n",
              "    }\n",
              "\n",
              "    .dataframe thead th {\n",
              "        text-align: right;\n",
              "    }\n",
              "</style>\n",
              "<table border=\"1\" class=\"dataframe\">\n",
              "  <thead>\n",
              "    <tr style=\"text-align: right;\">\n",
              "      <th></th>\n",
              "      <th>text_reviews_count</th>\n",
              "      <th>average_rating</th>\n",
              "      <th>book_id</th>\n",
              "      <th>ratings_count</th>\n",
              "      <th>work_id</th>\n",
              "    </tr>\n",
              "  </thead>\n",
              "  <tbody>\n",
              "    <tr>\n",
              "      <th>count</th>\n",
              "      <td>20000.000000</td>\n",
              "      <td>20000.000000</td>\n",
              "      <td>2.000000e+04</td>\n",
              "      <td>20000.000000</td>\n",
              "      <td>2.000000e+04</td>\n",
              "    </tr>\n",
              "    <tr>\n",
              "      <th>mean</th>\n",
              "      <td>37.546800</td>\n",
              "      <td>3.831713</td>\n",
              "      <td>1.506877e+07</td>\n",
              "      <td>507.123300</td>\n",
              "      <td>1.790644e+07</td>\n",
              "    </tr>\n",
              "    <tr>\n",
              "      <th>std</th>\n",
              "      <td>327.306738</td>\n",
              "      <td>0.328335</td>\n",
              "      <td>1.060470e+07</td>\n",
              "      <td>6196.510554</td>\n",
              "      <td>1.832299e+07</td>\n",
              "    </tr>\n",
              "    <tr>\n",
              "      <th>min</th>\n",
              "      <td>0.000000</td>\n",
              "      <td>0.000000</td>\n",
              "      <td>2.240000e+02</td>\n",
              "      <td>0.000000</td>\n",
              "      <td>4.340000e+02</td>\n",
              "    </tr>\n",
              "    <tr>\n",
              "      <th>25%</th>\n",
              "      <td>2.000000</td>\n",
              "      <td>3.650000</td>\n",
              "      <td>6.129640e+06</td>\n",
              "      <td>11.000000</td>\n",
              "      <td>1.724756e+06</td>\n",
              "    </tr>\n",
              "    <tr>\n",
              "      <th>50%</th>\n",
              "      <td>6.000000</td>\n",
              "      <td>3.850000</td>\n",
              "      <td>1.572291e+07</td>\n",
              "      <td>36.000000</td>\n",
              "      <td>1.311646e+07</td>\n",
              "    </tr>\n",
              "    <tr>\n",
              "      <th>75%</th>\n",
              "      <td>18.000000</td>\n",
              "      <td>4.040000</td>\n",
              "      <td>2.356296e+07</td>\n",
              "      <td>138.000000</td>\n",
              "      <td>2.702767e+07</td>\n",
              "    </tr>\n",
              "    <tr>\n",
              "      <th>max</th>\n",
              "      <td>24868.000000</td>\n",
              "      <td>5.000000</td>\n",
              "      <td>3.645861e+07</td>\n",
              "      <td>575163.000000</td>\n",
              "      <td>5.815831e+07</td>\n",
              "    </tr>\n",
              "  </tbody>\n",
              "</table>\n",
              "</div>"
            ],
            "text/plain": [
              "       text_reviews_count  average_rating  ...  ratings_count       work_id\n",
              "count        20000.000000    20000.000000  ...   20000.000000  2.000000e+04\n",
              "mean            37.546800        3.831713  ...     507.123300  1.790644e+07\n",
              "std            327.306738        0.328335  ...    6196.510554  1.832299e+07\n",
              "min              0.000000        0.000000  ...       0.000000  4.340000e+02\n",
              "25%              2.000000        3.650000  ...      11.000000  1.724756e+06\n",
              "50%              6.000000        3.850000  ...      36.000000  1.311646e+07\n",
              "75%             18.000000        4.040000  ...     138.000000  2.702767e+07\n",
              "max          24868.000000        5.000000  ...  575163.000000  5.815831e+07\n",
              "\n",
              "[8 rows x 5 columns]"
            ]
          },
          "metadata": {},
          "execution_count": 9
        }
      ]
    },
    {
      "cell_type": "code",
      "metadata": {
        "id": "DXwGYqfNq37p",
        "outputId": "b67e0fa2-9580-4a62-c023-5d5384bdd65f",
        "colab": {
          "base_uri": "https://localhost:8080/"
        }
      },
      "source": [
        "df_books.info()"
      ],
      "execution_count": 10,
      "outputs": [
        {
          "output_type": "stream",
          "name": "stdout",
          "text": [
            "<class 'pandas.core.frame.DataFrame'>\n",
            "RangeIndex: 20000 entries, 0 to 19999\n",
            "Data columns (total 29 columns):\n",
            " #   Column                Non-Null Count  Dtype  \n",
            "---  ------                --------------  -----  \n",
            " 0   isbn                  20000 non-null  object \n",
            " 1   text_reviews_count    20000 non-null  int64  \n",
            " 2   series                20000 non-null  object \n",
            " 3   country_code          20000 non-null  object \n",
            " 4   language_code         20000 non-null  object \n",
            " 5   popular_shelves       20000 non-null  object \n",
            " 6   asin                  20000 non-null  object \n",
            " 7   is_ebook              20000 non-null  object \n",
            " 8   average_rating        20000 non-null  float64\n",
            " 9   kindle_asin           20000 non-null  object \n",
            " 10  similar_books         20000 non-null  object \n",
            " 11  description           20000 non-null  object \n",
            " 12  format                20000 non-null  object \n",
            " 13  link                  20000 non-null  object \n",
            " 14  authors               20000 non-null  object \n",
            " 15  publisher             20000 non-null  object \n",
            " 16  num_pages             20000 non-null  object \n",
            " 17  publication_day       20000 non-null  object \n",
            " 18  isbn13                20000 non-null  object \n",
            " 19  publication_month     20000 non-null  object \n",
            " 20  edition_information   20000 non-null  object \n",
            " 21  publication_year      20000 non-null  object \n",
            " 22  url                   20000 non-null  object \n",
            " 23  image_url             20000 non-null  object \n",
            " 24  book_id               20000 non-null  int64  \n",
            " 25  ratings_count         20000 non-null  int64  \n",
            " 26  work_id               20000 non-null  int64  \n",
            " 27  title                 20000 non-null  object \n",
            " 28  title_without_series  20000 non-null  object \n",
            "dtypes: float64(1), int64(4), object(24)\n",
            "memory usage: 4.4+ MB\n"
          ]
        }
      ]
    },
    {
      "cell_type": "markdown",
      "metadata": {
        "id": "OVUfwcqIbmlh"
      },
      "source": [
        "nur 275 unique ISBNs, 123 ASIN... hm. ISBN sollte eigentlich schon überall gesetzt sein.."
      ]
    },
    {
      "cell_type": "code",
      "metadata": {
        "id": "YFYlcqmCbmli"
      },
      "source": [
        "import warnings\n",
        "warnings.filterwarnings(\"ignore\")\n",
        "import seaborn as sns"
      ],
      "execution_count": 11,
      "outputs": []
    },
    {
      "cell_type": "code",
      "metadata": {
        "id": "JVgFoJFgbmlk",
        "outputId": "79385776-a3b0-46c1-eb0b-978cf602754b",
        "colab": {
          "base_uri": "https://localhost:8080/",
          "height": 386
        }
      },
      "source": [
        "sns.displot(df_books[\"average_rating\"].astype(float))"
      ],
      "execution_count": 12,
      "outputs": [
        {
          "output_type": "execute_result",
          "data": {
            "text/plain": [
              "<seaborn.axisgrid.FacetGrid at 0x7fccc09d9250>"
            ]
          },
          "metadata": {},
          "execution_count": 12
        },
        {
          "output_type": "display_data",
          "data": {
            "image/png": "[encoded data removed]",
            "text/plain": [
              "<Figure size 360x360 with 1 Axes>"
            ]
          },
          "metadata": {
            "needs_background": "light"
          }
        }
      ]
    },
    {
      "cell_type": "code",
      "metadata": {
        "id": "rFvlly3_bmlm",
        "outputId": "2d25dd9c-4737-46a1-f40a-3fc690109999",
        "colab": {
          "base_uri": "https://localhost:8080/",
          "height": 530
        }
      },
      "source": [
        "df_books.style.highlight_max(axis=1)\n",
        "df_books.head()"
      ],
      "execution_count": 13,
      "outputs": [
        {
          "output_type": "execute_result",
          "data": {
            "text/html": [
              "<div>\n",
              "<style scoped>\n",
              "    .dataframe tbody tr th:only-of-type {\n",
              "        vertical-align: middle;\n",
              "    }\n",
              "\n",
              "    .dataframe tbody tr th {\n",
              "        vertical-align: top;\n",
              "    }\n",
              "\n",
              "    .dataframe thead th {\n",
              "        text-align: right;\n",
              "    }\n",
              "</style>\n",
              "<table border=\"1\" class=\"dataframe\">\n",
              "  <thead>\n",
              "    <tr style=\"text-align: right;\">\n",
              "      <th></th>\n",
              "      <th>isbn</th>\n",
              "      <th>text_reviews_count</th>\n",
              "      <th>series</th>\n",
              "      <th>country_code</th>\n",
              "      <th>language_code</th>\n",
              "      <th>popular_shelves</th>\n",
              "      <th>asin</th>\n",
              "      <th>is_ebook</th>\n",
              "      <th>average_rating</th>\n",
              "      <th>kindle_asin</th>\n",
              "      <th>similar_books</th>\n",
              "      <th>description</th>\n",
              "      <th>format</th>\n",
              "      <th>link</th>\n",
              "      <th>authors</th>\n",
              "      <th>publisher</th>\n",
              "      <th>num_pages</th>\n",
              "      <th>publication_day</th>\n",
              "      <th>isbn13</th>\n",
              "      <th>publication_month</th>\n",
              "      <th>edition_information</th>\n",
              "      <th>publication_year</th>\n",
              "      <th>url</th>\n",
              "      <th>image_url</th>\n",
              "      <th>book_id</th>\n",
              "      <th>ratings_count</th>\n",
              "      <th>work_id</th>\n",
              "      <th>title</th>\n",
              "      <th>title_without_series</th>\n",
              "    </tr>\n",
              "  </thead>\n",
              "  <tbody>\n",
              "    <tr>\n",
              "      <th>0</th>\n",
              "      <td>184737297X</td>\n",
              "      <td>15</td>\n",
              "      <td>[169353]</td>\n",
              "      <td>US</td>\n",
              "      <td></td>\n",
              "      <td>[{'count': '159', 'name': 'to-read'}, {'count'...</td>\n",
              "      <td></td>\n",
              "      <td>false</td>\n",
              "      <td>3.93</td>\n",
              "      <td>B007YLTG5I</td>\n",
              "      <td>[439108, 522621, 116770, 1275927, 6202655, 840...</td>\n",
              "      <td>London, 1196. At the command of Richard the Li...</td>\n",
              "      <td>Hardcover</td>\n",
              "      <td>https://www.goodreads.com/book/show/6066814-cr...</td>\n",
              "      <td>[{'author_id': '37778', 'role': ''}]</td>\n",
              "      <td>Simon &amp; Schuster UK</td>\n",
              "      <td>400</td>\n",
              "      <td>6</td>\n",
              "      <td>9781847372970</td>\n",
              "      <td>4</td>\n",
              "      <td></td>\n",
              "      <td>2009</td>\n",
              "      <td>https://www.goodreads.com/book/show/6066814-cr...</td>\n",
              "      <td>https://images.gr-assets.com/books/1328724803m...</td>\n",
              "      <td>6066814</td>\n",
              "      <td>186</td>\n",
              "      <td>6243149</td>\n",
              "      <td>Crowner Royal (Crowner John Mystery, #13)</td>\n",
              "      <td>Crowner Royal (Crowner John Mystery, #13)</td>\n",
              "    </tr>\n",
              "    <tr>\n",
              "      <th>1</th>\n",
              "      <td></td>\n",
              "      <td>60</td>\n",
              "      <td>[1052227]</td>\n",
              "      <td>US</td>\n",
              "      <td>eng</td>\n",
              "      <td>[{'count': '54', 'name': 'currently-reading'},...</td>\n",
              "      <td>B01NCIKAQX</td>\n",
              "      <td>true</td>\n",
              "      <td>4.33</td>\n",
              "      <td>B01NCIKAQX</td>\n",
              "      <td>[]</td>\n",
              "      <td></td>\n",
              "      <td></td>\n",
              "      <td>https://www.goodreads.com/book/show/33394837-t...</td>\n",
              "      <td>[{'author_id': '242185', 'role': ''}]</td>\n",
              "      <td></td>\n",
              "      <td>318</td>\n",
              "      <td></td>\n",
              "      <td></td>\n",
              "      <td></td>\n",
              "      <td></td>\n",
              "      <td></td>\n",
              "      <td>https://www.goodreads.com/book/show/33394837-t...</td>\n",
              "      <td>https://images.gr-assets.com/books/1493114742m...</td>\n",
              "      <td>33394837</td>\n",
              "      <td>269</td>\n",
              "      <td>54143148</td>\n",
              "      <td>The House of Memory (Pluto's Snitch #2)</td>\n",
              "      <td>The House of Memory (Pluto's Snitch #2)</td>\n",
              "    </tr>\n",
              "    <tr>\n",
              "      <th>2</th>\n",
              "      <td></td>\n",
              "      <td>23</td>\n",
              "      <td>[953679]</td>\n",
              "      <td>US</td>\n",
              "      <td>eng</td>\n",
              "      <td>[{'count': '90', 'name': 'to-read'}, {'count':...</td>\n",
              "      <td>B01ALOWJN0</td>\n",
              "      <td>true</td>\n",
              "      <td>3.49</td>\n",
              "      <td>B01ALOWJN0</td>\n",
              "      <td>[]</td>\n",
              "      <td>BATHS, BANKS AND ROMAN INSURRECTION\\nDetective...</td>\n",
              "      <td></td>\n",
              "      <td>https://www.goodreads.com/book/show/29074697-t...</td>\n",
              "      <td>[{'author_id': '15104629', 'role': ''}, {'auth...</td>\n",
              "      <td>Amazon Digital Services</td>\n",
              "      <td></td>\n",
              "      <td></td>\n",
              "      <td></td>\n",
              "      <td></td>\n",
              "      <td></td>\n",
              "      <td></td>\n",
              "      <td>https://www.goodreads.com/book/show/29074697-t...</td>\n",
              "      <td>https://s.gr-assets.com/assets/nophoto/book/11...</td>\n",
              "      <td>29074697</td>\n",
              "      <td>192</td>\n",
              "      <td>49305010</td>\n",
              "      <td>The Slaughtered Virgin of Zenopolis (Inspector...</td>\n",
              "      <td>The Slaughtered Virgin of Zenopolis (Inspector...</td>\n",
              "    </tr>\n",
              "    <tr>\n",
              "      <th>3</th>\n",
              "      <td>0854563903</td>\n",
              "      <td>8</td>\n",
              "      <td>[408775]</td>\n",
              "      <td>US</td>\n",
              "      <td></td>\n",
              "      <td>[{'count': '51', 'name': 'to-read'}, {'count':...</td>\n",
              "      <td></td>\n",
              "      <td>false</td>\n",
              "      <td>3.30</td>\n",
              "      <td></td>\n",
              "      <td>[]</td>\n",
              "      <td>Gerald breezily introduced his wife, Helen, to...</td>\n",
              "      <td>Hardcover</td>\n",
              "      <td>https://www.goodreads.com/book/show/1902202.De...</td>\n",
              "      <td>[{'author_id': '190988', 'role': ''}]</td>\n",
              "      <td>Ulverscroft</td>\n",
              "      <td></td>\n",
              "      <td>1</td>\n",
              "      <td>9780854563906</td>\n",
              "      <td>12</td>\n",
              "      <td>Large Print</td>\n",
              "      <td>1975</td>\n",
              "      <td>https://www.goodreads.com/book/show/1902202.De...</td>\n",
              "      <td>https://s.gr-assets.com/assets/nophoto/book/11...</td>\n",
              "      <td>1902202</td>\n",
              "      <td>52</td>\n",
              "      <td>1903897</td>\n",
              "      <td>Dead in the Morning (Patrick Grant, #1)</td>\n",
              "      <td>Dead in the Morning (Patrick Grant, #1)</td>\n",
              "    </tr>\n",
              "    <tr>\n",
              "      <th>4</th>\n",
              "      <td>8838920931</td>\n",
              "      <td>3</td>\n",
              "      <td>[274410]</td>\n",
              "      <td>US</td>\n",
              "      <td>ita</td>\n",
              "      <td>[{'count': '48', 'name': 'to-read'}, {'count':...</td>\n",
              "      <td></td>\n",
              "      <td>false</td>\n",
              "      <td>3.54</td>\n",
              "      <td></td>\n",
              "      <td>[]</td>\n",
              "      <td>\"I misteri di Eleusi\" e il quinto romanzo di A...</td>\n",
              "      <td>Paperback</td>\n",
              "      <td>https://www.goodreads.com/book/show/9671977-ar...</td>\n",
              "      <td>[{'author_id': '337108', 'role': ''}, {'author...</td>\n",
              "      <td>Sellerio</td>\n",
              "      <td>659</td>\n",
              "      <td></td>\n",
              "      <td>9788838920936</td>\n",
              "      <td></td>\n",
              "      <td></td>\n",
              "      <td>2006</td>\n",
              "      <td>https://www.goodreads.com/book/show/9671977-ar...</td>\n",
              "      <td>https://images.gr-assets.com/books/1474788304m...</td>\n",
              "      <td>9671977</td>\n",
              "      <td>22</td>\n",
              "      <td>2152906</td>\n",
              "      <td>Aristotele e i misteri di Eleusi</td>\n",
              "      <td>Aristotele e i misteri di Eleusi</td>\n",
              "    </tr>\n",
              "  </tbody>\n",
              "</table>\n",
              "</div>"
            ],
            "text/plain": [
              "         isbn  ...                               title_without_series\n",
              "0  184737297X  ...          Crowner Royal (Crowner John Mystery, #13)\n",
              "1              ...            The House of Memory (Pluto's Snitch #2)\n",
              "2              ...  The Slaughtered Virgin of Zenopolis (Inspector...\n",
              "3  0854563903  ...            Dead in the Morning (Patrick Grant, #1)\n",
              "4  8838920931  ...                   Aristotele e i misteri di Eleusi\n",
              "\n",
              "[5 rows x 29 columns]"
            ]
          },
          "metadata": {},
          "execution_count": 13
        }
      ]
    },
    {
      "cell_type": "code",
      "metadata": {
        "id": "d_HDY2PTbmlq"
      },
      "source": [
        "# b = a['popular_shelves'].apply(pd.Series).merge(a, left_index = True, right_index = True).drop(['popular_shelves',0], axis = 1)\n",
        "# b.head()\n"
      ],
      "execution_count": 14,
      "outputs": []
    },
    {
      "cell_type": "code",
      "metadata": {
        "id": "nKdls7dFbmlt"
      },
      "source": [
        "# b.info()"
      ],
      "execution_count": 15,
      "outputs": []
    },
    {
      "cell_type": "markdown",
      "metadata": {
        "id": "vfwn9aPmbmlv"
      },
      "source": [
        "duplicates definitely need to be removed beforehand.\n",
        "- how to find all of them?\n",
        "- [ ] same title\n",
        "- [ ] same kindle_asin\n",
        "- [ ] very close title (how?)\n",
        "- [ ] how to combine them? reviews? create an extra index? so the review don't get lost?"
      ]
    },
    {
      "cell_type": "code",
      "metadata": {
        "id": "R8NdedNFbmlx"
      },
      "source": [
        "# pd.concat(g for _, g in df_books.groupby(\"title\") if len(g) > 1)\n"
      ],
      "execution_count": 16,
      "outputs": []
    },
    {
      "cell_type": "code",
      "metadata": {
        "id": "Lpc36n5Gbmlz"
      },
      "source": [
        "df_books.set_index(\"book_id\", inplace=True)\n",
        "df_reviews.set_index(\"review_id\", inplace=True)"
      ],
      "execution_count": 17,
      "outputs": []
    },
    {
      "cell_type": "code",
      "metadata": {
        "id": "oOLNOZicbml0",
        "outputId": "1ebf4a0c-1add-47ee-cc55-5503f888f5c6",
        "colab": {
          "base_uri": "https://localhost:8080/",
          "height": 1000
        }
      },
      "source": [
        "df_reviews"
      ],
      "execution_count": 18,
      "outputs": [
        {
          "output_type": "execute_result",
          "data": {
            "text/html": [
              "<div>\n",
              "<style scoped>\n",
              "    .dataframe tbody tr th:only-of-type {\n",
              "        vertical-align: middle;\n",
              "    }\n",
              "\n",
              "    .dataframe tbody tr th {\n",
              "        vertical-align: top;\n",
              "    }\n",
              "\n",
              "    .dataframe thead th {\n",
              "        text-align: right;\n",
              "    }\n",
              "</style>\n",
              "<table border=\"1\" class=\"dataframe\">\n",
              "  <thead>\n",
              "    <tr style=\"text-align: right;\">\n",
              "      <th></th>\n",
              "      <th>user_id</th>\n",
              "      <th>book_id</th>\n",
              "      <th>rating</th>\n",
              "      <th>review_text</th>\n",
              "      <th>date_added</th>\n",
              "      <th>date_updated</th>\n",
              "      <th>read_at</th>\n",
              "      <th>started_at</th>\n",
              "      <th>n_votes</th>\n",
              "      <th>n_comments</th>\n",
              "    </tr>\n",
              "    <tr>\n",
              "      <th>review_id</th>\n",
              "      <th></th>\n",
              "      <th></th>\n",
              "      <th></th>\n",
              "      <th></th>\n",
              "      <th></th>\n",
              "      <th></th>\n",
              "      <th></th>\n",
              "      <th></th>\n",
              "      <th></th>\n",
              "      <th></th>\n",
              "    </tr>\n",
              "  </thead>\n",
              "  <tbody>\n",
              "    <tr>\n",
              "      <th>5e212a62bced17b4dbe41150e5bb9037</th>\n",
              "      <td>8842281e1d1347389f2ab93d60773d4d</td>\n",
              "      <td>6392944</td>\n",
              "      <td>3</td>\n",
              "      <td>I haven't read a fun mystery book in a while a...</td>\n",
              "      <td>Mon Jul 24 02:48:17 -0700 2017</td>\n",
              "      <td>Sun Jul 30 09:28:03 -0700 2017</td>\n",
              "      <td>Tue Jul 25 00:00:00 -0700 2017</td>\n",
              "      <td>Mon Jul 24 00:00:00 -0700 2017</td>\n",
              "      <td>6</td>\n",
              "      <td>0</td>\n",
              "    </tr>\n",
              "    <tr>\n",
              "      <th>2ede853b14dc4583f96cf5d120af636f</th>\n",
              "      <td>8842281e1d1347389f2ab93d60773d4d</td>\n",
              "      <td>28684704</td>\n",
              "      <td>3</td>\n",
              "      <td>A fun, fast paced science fiction thriller. I ...</td>\n",
              "      <td>Tue Nov 15 11:29:22 -0800 2016</td>\n",
              "      <td>Mon Mar 20 23:40:27 -0700 2017</td>\n",
              "      <td>Sat Mar 18 23:22:42 -0700 2017</td>\n",
              "      <td>Fri Mar 17 23:45:40 -0700 2017</td>\n",
              "      <td>22</td>\n",
              "      <td>0</td>\n",
              "    </tr>\n",
              "    <tr>\n",
              "      <th>8e4d61801907e591018bdc3442a9cf2b</th>\n",
              "      <td>8842281e1d1347389f2ab93d60773d4d</td>\n",
              "      <td>32283133</td>\n",
              "      <td>0</td>\n",
              "      <td>http://www.telegraph.co.uk/culture/10...</td>\n",
              "      <td>Tue Nov 01 11:09:18 -0700 2016</td>\n",
              "      <td>Tue Nov 01 11:09:44 -0700 2016</td>\n",
              "      <td></td>\n",
              "      <td></td>\n",
              "      <td>9</td>\n",
              "      <td>0</td>\n",
              "    </tr>\n",
              "    <tr>\n",
              "      <th>022bb6daffa49adc27f6b20b6ebeb37d</th>\n",
              "      <td>8842281e1d1347389f2ab93d60773d4d</td>\n",
              "      <td>17860739</td>\n",
              "      <td>4</td>\n",
              "      <td>An amazing and unique creation: JJ Abrams and ...</td>\n",
              "      <td>Wed Mar 26 13:51:30 -0700 2014</td>\n",
              "      <td>Tue Sep 23 01:44:36 -0700 2014</td>\n",
              "      <td>Sun Sep 21 00:00:00 -0700 2014</td>\n",
              "      <td>Sat Jul 26 00:00:00 -0700 2014</td>\n",
              "      <td>7</td>\n",
              "      <td>0</td>\n",
              "    </tr>\n",
              "    <tr>\n",
              "      <th>0e317947e1fd341f573192111bb2921d</th>\n",
              "      <td>8842281e1d1347389f2ab93d60773d4d</td>\n",
              "      <td>8694005</td>\n",
              "      <td>3</td>\n",
              "      <td>The Name of the Rose is a thrilling Dan Brown-...</td>\n",
              "      <td>Wed Sep 08 01:22:27 -0700 2010</td>\n",
              "      <td>Wed Dec 14 12:30:43 -0800 2016</td>\n",
              "      <td>Mon Aug 10 00:00:00 -0700 2015</td>\n",
              "      <td>Mon Jul 20 00:00:00 -0700 2015</td>\n",
              "      <td>17</td>\n",
              "      <td>6</td>\n",
              "    </tr>\n",
              "    <tr>\n",
              "      <th>...</th>\n",
              "      <td>...</td>\n",
              "      <td>...</td>\n",
              "      <td>...</td>\n",
              "      <td>...</td>\n",
              "      <td>...</td>\n",
              "      <td>...</td>\n",
              "      <td>...</td>\n",
              "      <td>...</td>\n",
              "      <td>...</td>\n",
              "      <td>...</td>\n",
              "    </tr>\n",
              "    <tr>\n",
              "      <th>162e9428cc714dc7454ef0a559ae4d55</th>\n",
              "      <td>8a8232f778ed15a62df87ccc4c398908</td>\n",
              "      <td>15776309</td>\n",
              "      <td>3</td>\n",
              "      <td>Told in alternating voices, what makes Reconst...</td>\n",
              "      <td>Thu Apr 25 06:18:45 -0700 2013</td>\n",
              "      <td>Sat Oct 25 14:35:24 -0700 2014</td>\n",
              "      <td>Thu Oct 23 00:00:00 -0700 2014</td>\n",
              "      <td>Tue Oct 21 00:00:00 -0700 2014</td>\n",
              "      <td>0</td>\n",
              "      <td>0</td>\n",
              "    </tr>\n",
              "    <tr>\n",
              "      <th>ad973faee87b80b8bfbfd6bb19a37b24</th>\n",
              "      <td>8a8232f778ed15a62df87ccc4c398908</td>\n",
              "      <td>162089</td>\n",
              "      <td>4</td>\n",
              "      <td>Flawless was just that..great plot, perfect am...</td>\n",
              "      <td>Sat Mar 23 19:55:57 -0700 2013</td>\n",
              "      <td>Sat Mar 23 20:02:24 -0700 2013</td>\n",
              "      <td>Sat Mar 23 00:00:00 -0700 2013</td>\n",
              "      <td>Fri Mar 22 00:00:00 -0700 2013</td>\n",
              "      <td>0</td>\n",
              "      <td>0</td>\n",
              "    </tr>\n",
              "    <tr>\n",
              "      <th>f16063c4d371f261be5886a728604b97</th>\n",
              "      <td>8a8232f778ed15a62df87ccc4c398908</td>\n",
              "      <td>162085</td>\n",
              "      <td>3</td>\n",
              "      <td>Sara Shepard has a knack for telling a good su...</td>\n",
              "      <td>Wed Mar 20 17:50:49 -0700 2013</td>\n",
              "      <td>Sat Mar 23 20:14:59 -0700 2013</td>\n",
              "      <td>Fri Mar 22 00:00:00 -0700 2013</td>\n",
              "      <td></td>\n",
              "      <td>0</td>\n",
              "      <td>0</td>\n",
              "    </tr>\n",
              "    <tr>\n",
              "      <th>b5081cac439dbfda1c421570ec8edb62</th>\n",
              "      <td>8a8232f778ed15a62df87ccc4c398908</td>\n",
              "      <td>15716154</td>\n",
              "      <td>4</td>\n",
              "      <td>This is one of my favorite run on series. Ever...</td>\n",
              "      <td>Mon Feb 18 18:16:06 -0800 2013</td>\n",
              "      <td>Sat Nov 16 17:57:47 -0800 2013</td>\n",
              "      <td>Tue Oct 22 00:00:00 -0700 2013</td>\n",
              "      <td></td>\n",
              "      <td>0</td>\n",
              "      <td>0</td>\n",
              "    </tr>\n",
              "    <tr>\n",
              "      <th>08613ff440399ee649ef2292e7148614</th>\n",
              "      <td>8a8232f778ed15a62df87ccc4c398908</td>\n",
              "      <td>13455542</td>\n",
              "      <td>4</td>\n",
              "      <td>Welcome young Lisbeth Salander and her little ...</td>\n",
              "      <td>Sun Nov 18 19:35:32 -0800 2012</td>\n",
              "      <td>Tue Sep 24 19:46:42 -0700 2013</td>\n",
              "      <td>Sun Nov 18 00:00:00 -0800 2012</td>\n",
              "      <td></td>\n",
              "      <td>1</td>\n",
              "      <td>0</td>\n",
              "    </tr>\n",
              "  </tbody>\n",
              "</table>\n",
              "<p>10000 rows × 10 columns</p>\n",
              "</div>"
            ],
            "text/plain": [
              "                                                           user_id  ...  n_comments\n",
              "review_id                                                           ...            \n",
              "5e212a62bced17b4dbe41150e5bb9037  8842281e1d1347389f2ab93d60773d4d  ...           0\n",
              "2ede853b14dc4583f96cf5d120af636f  8842281e1d1347389f2ab93d60773d4d  ...           0\n",
              "8e4d61801907e591018bdc3442a9cf2b  8842281e1d1347389f2ab93d60773d4d  ...           0\n",
              "022bb6daffa49adc27f6b20b6ebeb37d  8842281e1d1347389f2ab93d60773d4d  ...           0\n",
              "0e317947e1fd341f573192111bb2921d  8842281e1d1347389f2ab93d60773d4d  ...           6\n",
              "...                                                            ...  ...         ...\n",
              "162e9428cc714dc7454ef0a559ae4d55  8a8232f778ed15a62df87ccc4c398908  ...           0\n",
              "ad973faee87b80b8bfbfd6bb19a37b24  8a8232f778ed15a62df87ccc4c398908  ...           0\n",
              "f16063c4d371f261be5886a728604b97  8a8232f778ed15a62df87ccc4c398908  ...           0\n",
              "b5081cac439dbfda1c421570ec8edb62  8a8232f778ed15a62df87ccc4c398908  ...           0\n",
              "08613ff440399ee649ef2292e7148614  8a8232f778ed15a62df87ccc4c398908  ...           0\n",
              "\n",
              "[10000 rows x 10 columns]"
            ]
          },
          "metadata": {},
          "execution_count": 18
        }
      ]
    },
    {
      "cell_type": "code",
      "metadata": {
        "id": "EZ7pwaIGbml3",
        "outputId": "7d7078d3-6e53-4df1-f804-40c618fc631e",
        "colab": {
          "base_uri": "https://localhost:8080/",
          "height": 80
        }
      },
      "source": [
        "df_reviews.groupby(level=0).filter(lambda x: len(x) > 1).head()\n"
      ],
      "execution_count": 19,
      "outputs": [
        {
          "output_type": "execute_result",
          "data": {
            "text/html": [
              "<div>\n",
              "<style scoped>\n",
              "    .dataframe tbody tr th:only-of-type {\n",
              "        vertical-align: middle;\n",
              "    }\n",
              "\n",
              "    .dataframe tbody tr th {\n",
              "        vertical-align: top;\n",
              "    }\n",
              "\n",
              "    .dataframe thead th {\n",
              "        text-align: right;\n",
              "    }\n",
              "</style>\n",
              "<table border=\"1\" class=\"dataframe\">\n",
              "  <thead>\n",
              "    <tr style=\"text-align: right;\">\n",
              "      <th></th>\n",
              "      <th>user_id</th>\n",
              "      <th>book_id</th>\n",
              "      <th>rating</th>\n",
              "      <th>review_text</th>\n",
              "      <th>date_added</th>\n",
              "      <th>date_updated</th>\n",
              "      <th>read_at</th>\n",
              "      <th>started_at</th>\n",
              "      <th>n_votes</th>\n",
              "      <th>n_comments</th>\n",
              "    </tr>\n",
              "    <tr>\n",
              "      <th>review_id</th>\n",
              "      <th></th>\n",
              "      <th></th>\n",
              "      <th></th>\n",
              "      <th></th>\n",
              "      <th></th>\n",
              "      <th></th>\n",
              "      <th></th>\n",
              "      <th></th>\n",
              "      <th></th>\n",
              "      <th></th>\n",
              "    </tr>\n",
              "  </thead>\n",
              "  <tbody>\n",
              "  </tbody>\n",
              "</table>\n",
              "</div>"
            ],
            "text/plain": [
              "Empty DataFrame\n",
              "Columns: [user_id, book_id, rating, review_text, date_added, date_updated, read_at, started_at, n_votes, n_comments]\n",
              "Index: []"
            ]
          },
          "metadata": {},
          "execution_count": 19
        }
      ]
    },
    {
      "cell_type": "markdown",
      "metadata": {
        "id": "NhBl3HwHbml4"
      },
      "source": [
        "## Column cleaning"
      ]
    },
    {
      "cell_type": "code",
      "metadata": {
        "id": "CCWRNaFtbml5"
      },
      "source": [
        "df_reviews.drop(columns=['review_text', 'date_added', 'date_updated', 'read_at', 'started_at', 'n_votes', 'n_comments'], inplace=True)"
      ],
      "execution_count": 20,
      "outputs": []
    },
    {
      "cell_type": "code",
      "metadata": {
        "id": "l8gDa-dgbml6",
        "outputId": "29979bc8-fc2c-42ca-ecc2-b60c148d8027",
        "colab": {
          "base_uri": "https://localhost:8080/",
          "height": 235
        }
      },
      "source": [
        "df_reviews.head()"
      ],
      "execution_count": 21,
      "outputs": [
        {
          "output_type": "execute_result",
          "data": {
            "text/html": [
              "<div>\n",
              "<style scoped>\n",
              "    .dataframe tbody tr th:only-of-type {\n",
              "        vertical-align: middle;\n",
              "    }\n",
              "\n",
              "    .dataframe tbody tr th {\n",
              "        vertical-align: top;\n",
              "    }\n",
              "\n",
              "    .dataframe thead th {\n",
              "        text-align: right;\n",
              "    }\n",
              "</style>\n",
              "<table border=\"1\" class=\"dataframe\">\n",
              "  <thead>\n",
              "    <tr style=\"text-align: right;\">\n",
              "      <th></th>\n",
              "      <th>user_id</th>\n",
              "      <th>book_id</th>\n",
              "      <th>rating</th>\n",
              "    </tr>\n",
              "    <tr>\n",
              "      <th>review_id</th>\n",
              "      <th></th>\n",
              "      <th></th>\n",
              "      <th></th>\n",
              "    </tr>\n",
              "  </thead>\n",
              "  <tbody>\n",
              "    <tr>\n",
              "      <th>5e212a62bced17b4dbe41150e5bb9037</th>\n",
              "      <td>8842281e1d1347389f2ab93d60773d4d</td>\n",
              "      <td>6392944</td>\n",
              "      <td>3</td>\n",
              "    </tr>\n",
              "    <tr>\n",
              "      <th>2ede853b14dc4583f96cf5d120af636f</th>\n",
              "      <td>8842281e1d1347389f2ab93d60773d4d</td>\n",
              "      <td>28684704</td>\n",
              "      <td>3</td>\n",
              "    </tr>\n",
              "    <tr>\n",
              "      <th>8e4d61801907e591018bdc3442a9cf2b</th>\n",
              "      <td>8842281e1d1347389f2ab93d60773d4d</td>\n",
              "      <td>32283133</td>\n",
              "      <td>0</td>\n",
              "    </tr>\n",
              "    <tr>\n",
              "      <th>022bb6daffa49adc27f6b20b6ebeb37d</th>\n",
              "      <td>8842281e1d1347389f2ab93d60773d4d</td>\n",
              "      <td>17860739</td>\n",
              "      <td>4</td>\n",
              "    </tr>\n",
              "    <tr>\n",
              "      <th>0e317947e1fd341f573192111bb2921d</th>\n",
              "      <td>8842281e1d1347389f2ab93d60773d4d</td>\n",
              "      <td>8694005</td>\n",
              "      <td>3</td>\n",
              "    </tr>\n",
              "  </tbody>\n",
              "</table>\n",
              "</div>"
            ],
            "text/plain": [
              "                                                           user_id  ...  rating\n",
              "review_id                                                           ...        \n",
              "5e212a62bced17b4dbe41150e5bb9037  8842281e1d1347389f2ab93d60773d4d  ...       3\n",
              "2ede853b14dc4583f96cf5d120af636f  8842281e1d1347389f2ab93d60773d4d  ...       3\n",
              "8e4d61801907e591018bdc3442a9cf2b  8842281e1d1347389f2ab93d60773d4d  ...       0\n",
              "022bb6daffa49adc27f6b20b6ebeb37d  8842281e1d1347389f2ab93d60773d4d  ...       4\n",
              "0e317947e1fd341f573192111bb2921d  8842281e1d1347389f2ab93d60773d4d  ...       3\n",
              "\n",
              "[5 rows x 3 columns]"
            ]
          },
          "metadata": {},
          "execution_count": 21
        }
      ]
    },
    {
      "cell_type": "code",
      "metadata": {
        "id": "cfjm3d9wbml8",
        "outputId": "93730e26-a425-44ef-da03-77e78d953d90",
        "colab": {
          "base_uri": "https://localhost:8080/"
        }
      },
      "source": [
        "df_books.info()"
      ],
      "execution_count": 22,
      "outputs": [
        {
          "output_type": "stream",
          "name": "stdout",
          "text": [
            "<class 'pandas.core.frame.DataFrame'>\n",
            "Int64Index: 20000 entries, 6066814 to 25613187\n",
            "Data columns (total 28 columns):\n",
            " #   Column                Non-Null Count  Dtype  \n",
            "---  ------                --------------  -----  \n",
            " 0   isbn                  20000 non-null  object \n",
            " 1   text_reviews_count    20000 non-null  int64  \n",
            " 2   series                20000 non-null  object \n",
            " 3   country_code          20000 non-null  object \n",
            " 4   language_code         20000 non-null  object \n",
            " 5   popular_shelves       20000 non-null  object \n",
            " 6   asin                  20000 non-null  object \n",
            " 7   is_ebook              20000 non-null  object \n",
            " 8   average_rating        20000 non-null  float64\n",
            " 9   kindle_asin           20000 non-null  object \n",
            " 10  similar_books         20000 non-null  object \n",
            " 11  description           20000 non-null  object \n",
            " 12  format                20000 non-null  object \n",
            " 13  link                  20000 non-null  object \n",
            " 14  authors               20000 non-null  object \n",
            " 15  publisher             20000 non-null  object \n",
            " 16  num_pages             20000 non-null  object \n",
            " 17  publication_day       20000 non-null  object \n",
            " 18  isbn13                20000 non-null  object \n",
            " 19  publication_month     20000 non-null  object \n",
            " 20  edition_information   20000 non-null  object \n",
            " 21  publication_year      20000 non-null  object \n",
            " 22  url                   20000 non-null  object \n",
            " 23  image_url             20000 non-null  object \n",
            " 24  ratings_count         20000 non-null  int64  \n",
            " 25  work_id               20000 non-null  int64  \n",
            " 26  title                 20000 non-null  object \n",
            " 27  title_without_series  20000 non-null  object \n",
            "dtypes: float64(1), int64(3), object(24)\n",
            "memory usage: 4.4+ MB\n"
          ]
        }
      ]
    },
    {
      "cell_type": "code",
      "metadata": {
        "id": "Gvu-90xebml9",
        "outputId": "edaf2d2a-a1f1-4946-a1e0-a1fefd560087",
        "colab": {
          "base_uri": "https://localhost:8080/",
          "height": 561
        }
      },
      "source": [
        "df_books.head()"
      ],
      "execution_count": 23,
      "outputs": [
        {
          "output_type": "execute_result",
          "data": {
            "text/html": [
              "<div>\n",
              "<style scoped>\n",
              "    .dataframe tbody tr th:only-of-type {\n",
              "        vertical-align: middle;\n",
              "    }\n",
              "\n",
              "    .dataframe tbody tr th {\n",
              "        vertical-align: top;\n",
              "    }\n",
              "\n",
              "    .dataframe thead th {\n",
              "        text-align: right;\n",
              "    }\n",
              "</style>\n",
              "<table border=\"1\" class=\"dataframe\">\n",
              "  <thead>\n",
              "    <tr style=\"text-align: right;\">\n",
              "      <th></th>\n",
              "      <th>isbn</th>\n",
              "      <th>text_reviews_count</th>\n",
              "      <th>series</th>\n",
              "      <th>country_code</th>\n",
              "      <th>language_code</th>\n",
              "      <th>popular_shelves</th>\n",
              "      <th>asin</th>\n",
              "      <th>is_ebook</th>\n",
              "      <th>average_rating</th>\n",
              "      <th>kindle_asin</th>\n",
              "      <th>similar_books</th>\n",
              "      <th>description</th>\n",
              "      <th>format</th>\n",
              "      <th>link</th>\n",
              "      <th>authors</th>\n",
              "      <th>publisher</th>\n",
              "      <th>num_pages</th>\n",
              "      <th>publication_day</th>\n",
              "      <th>isbn13</th>\n",
              "      <th>publication_month</th>\n",
              "      <th>edition_information</th>\n",
              "      <th>publication_year</th>\n",
              "      <th>url</th>\n",
              "      <th>image_url</th>\n",
              "      <th>ratings_count</th>\n",
              "      <th>work_id</th>\n",
              "      <th>title</th>\n",
              "      <th>title_without_series</th>\n",
              "    </tr>\n",
              "    <tr>\n",
              "      <th>book_id</th>\n",
              "      <th></th>\n",
              "      <th></th>\n",
              "      <th></th>\n",
              "      <th></th>\n",
              "      <th></th>\n",
              "      <th></th>\n",
              "      <th></th>\n",
              "      <th></th>\n",
              "      <th></th>\n",
              "      <th></th>\n",
              "      <th></th>\n",
              "      <th></th>\n",
              "      <th></th>\n",
              "      <th></th>\n",
              "      <th></th>\n",
              "      <th></th>\n",
              "      <th></th>\n",
              "      <th></th>\n",
              "      <th></th>\n",
              "      <th></th>\n",
              "      <th></th>\n",
              "      <th></th>\n",
              "      <th></th>\n",
              "      <th></th>\n",
              "      <th></th>\n",
              "      <th></th>\n",
              "      <th></th>\n",
              "      <th></th>\n",
              "    </tr>\n",
              "  </thead>\n",
              "  <tbody>\n",
              "    <tr>\n",
              "      <th>6066814</th>\n",
              "      <td>184737297X</td>\n",
              "      <td>15</td>\n",
              "      <td>[169353]</td>\n",
              "      <td>US</td>\n",
              "      <td></td>\n",
              "      <td>[{'count': '159', 'name': 'to-read'}, {'count'...</td>\n",
              "      <td></td>\n",
              "      <td>false</td>\n",
              "      <td>3.93</td>\n",
              "      <td>B007YLTG5I</td>\n",
              "      <td>[439108, 522621, 116770, 1275927, 6202655, 840...</td>\n",
              "      <td>London, 1196. At the command of Richard the Li...</td>\n",
              "      <td>Hardcover</td>\n",
              "      <td>https://www.goodreads.com/book/show/6066814-cr...</td>\n",
              "      <td>[{'author_id': '37778', 'role': ''}]</td>\n",
              "      <td>Simon &amp; Schuster UK</td>\n",
              "      <td>400</td>\n",
              "      <td>6</td>\n",
              "      <td>9781847372970</td>\n",
              "      <td>4</td>\n",
              "      <td></td>\n",
              "      <td>2009</td>\n",
              "      <td>https://www.goodreads.com/book/show/6066814-cr...</td>\n",
              "      <td>https://images.gr-assets.com/books/1328724803m...</td>\n",
              "      <td>186</td>\n",
              "      <td>6243149</td>\n",
              "      <td>Crowner Royal (Crowner John Mystery, #13)</td>\n",
              "      <td>Crowner Royal (Crowner John Mystery, #13)</td>\n",
              "    </tr>\n",
              "    <tr>\n",
              "      <th>33394837</th>\n",
              "      <td></td>\n",
              "      <td>60</td>\n",
              "      <td>[1052227]</td>\n",
              "      <td>US</td>\n",
              "      <td>eng</td>\n",
              "      <td>[{'count': '54', 'name': 'currently-reading'},...</td>\n",
              "      <td>B01NCIKAQX</td>\n",
              "      <td>true</td>\n",
              "      <td>4.33</td>\n",
              "      <td>B01NCIKAQX</td>\n",
              "      <td>[]</td>\n",
              "      <td></td>\n",
              "      <td></td>\n",
              "      <td>https://www.goodreads.com/book/show/33394837-t...</td>\n",
              "      <td>[{'author_id': '242185', 'role': ''}]</td>\n",
              "      <td></td>\n",
              "      <td>318</td>\n",
              "      <td></td>\n",
              "      <td></td>\n",
              "      <td></td>\n",
              "      <td></td>\n",
              "      <td></td>\n",
              "      <td>https://www.goodreads.com/book/show/33394837-t...</td>\n",
              "      <td>https://images.gr-assets.com/books/1493114742m...</td>\n",
              "      <td>269</td>\n",
              "      <td>54143148</td>\n",
              "      <td>The House of Memory (Pluto's Snitch #2)</td>\n",
              "      <td>The House of Memory (Pluto's Snitch #2)</td>\n",
              "    </tr>\n",
              "    <tr>\n",
              "      <th>29074697</th>\n",
              "      <td></td>\n",
              "      <td>23</td>\n",
              "      <td>[953679]</td>\n",
              "      <td>US</td>\n",
              "      <td>eng</td>\n",
              "      <td>[{'count': '90', 'name': 'to-read'}, {'count':...</td>\n",
              "      <td>B01ALOWJN0</td>\n",
              "      <td>true</td>\n",
              "      <td>3.49</td>\n",
              "      <td>B01ALOWJN0</td>\n",
              "      <td>[]</td>\n",
              "      <td>BATHS, BANKS AND ROMAN INSURRECTION\\nDetective...</td>\n",
              "      <td></td>\n",
              "      <td>https://www.goodreads.com/book/show/29074697-t...</td>\n",
              "      <td>[{'author_id': '15104629', 'role': ''}, {'auth...</td>\n",
              "      <td>Amazon Digital Services</td>\n",
              "      <td></td>\n",
              "      <td></td>\n",
              "      <td></td>\n",
              "      <td></td>\n",
              "      <td></td>\n",
              "      <td></td>\n",
              "      <td>https://www.goodreads.com/book/show/29074697-t...</td>\n",
              "      <td>https://s.gr-assets.com/assets/nophoto/book/11...</td>\n",
              "      <td>192</td>\n",
              "      <td>49305010</td>\n",
              "      <td>The Slaughtered Virgin of Zenopolis (Inspector...</td>\n",
              "      <td>The Slaughtered Virgin of Zenopolis (Inspector...</td>\n",
              "    </tr>\n",
              "    <tr>\n",
              "      <th>1902202</th>\n",
              "      <td>0854563903</td>\n",
              "      <td>8</td>\n",
              "      <td>[408775]</td>\n",
              "      <td>US</td>\n",
              "      <td></td>\n",
              "      <td>[{'count': '51', 'name': 'to-read'}, {'count':...</td>\n",
              "      <td></td>\n",
              "      <td>false</td>\n",
              "      <td>3.30</td>\n",
              "      <td></td>\n",
              "      <td>[]</td>\n",
              "      <td>Gerald breezily introduced his wife, Helen, to...</td>\n",
              "      <td>Hardcover</td>\n",
              "      <td>https://www.goodreads.com/book/show/1902202.De...</td>\n",
              "      <td>[{'author_id': '190988', 'role': ''}]</td>\n",
              "      <td>Ulverscroft</td>\n",
              "      <td></td>\n",
              "      <td>1</td>\n",
              "      <td>9780854563906</td>\n",
              "      <td>12</td>\n",
              "      <td>Large Print</td>\n",
              "      <td>1975</td>\n",
              "      <td>https://www.goodreads.com/book/show/1902202.De...</td>\n",
              "      <td>https://s.gr-assets.com/assets/nophoto/book/11...</td>\n",
              "      <td>52</td>\n",
              "      <td>1903897</td>\n",
              "      <td>Dead in the Morning (Patrick Grant, #1)</td>\n",
              "      <td>Dead in the Morning (Patrick Grant, #1)</td>\n",
              "    </tr>\n",
              "    <tr>\n",
              "      <th>9671977</th>\n",
              "      <td>8838920931</td>\n",
              "      <td>3</td>\n",
              "      <td>[274410]</td>\n",
              "      <td>US</td>\n",
              "      <td>ita</td>\n",
              "      <td>[{'count': '48', 'name': 'to-read'}, {'count':...</td>\n",
              "      <td></td>\n",
              "      <td>false</td>\n",
              "      <td>3.54</td>\n",
              "      <td></td>\n",
              "      <td>[]</td>\n",
              "      <td>\"I misteri di Eleusi\" e il quinto romanzo di A...</td>\n",
              "      <td>Paperback</td>\n",
              "      <td>https://www.goodreads.com/book/show/9671977-ar...</td>\n",
              "      <td>[{'author_id': '337108', 'role': ''}, {'author...</td>\n",
              "      <td>Sellerio</td>\n",
              "      <td>659</td>\n",
              "      <td></td>\n",
              "      <td>9788838920936</td>\n",
              "      <td></td>\n",
              "      <td></td>\n",
              "      <td>2006</td>\n",
              "      <td>https://www.goodreads.com/book/show/9671977-ar...</td>\n",
              "      <td>https://images.gr-assets.com/books/1474788304m...</td>\n",
              "      <td>22</td>\n",
              "      <td>2152906</td>\n",
              "      <td>Aristotele e i misteri di Eleusi</td>\n",
              "      <td>Aristotele e i misteri di Eleusi</td>\n",
              "    </tr>\n",
              "  </tbody>\n",
              "</table>\n",
              "</div>"
            ],
            "text/plain": [
              "                isbn  ...                               title_without_series\n",
              "book_id               ...                                                   \n",
              "6066814   184737297X  ...          Crowner Royal (Crowner John Mystery, #13)\n",
              "33394837              ...            The House of Memory (Pluto's Snitch #2)\n",
              "29074697              ...  The Slaughtered Virgin of Zenopolis (Inspector...\n",
              "1902202   0854563903  ...            Dead in the Morning (Patrick Grant, #1)\n",
              "9671977   8838920931  ...                   Aristotele e i misteri di Eleusi\n",
              "\n",
              "[5 rows x 28 columns]"
            ]
          },
          "metadata": {},
          "execution_count": 23
        }
      ]
    },
    {
      "cell_type": "code",
      "metadata": {
        "id": "Y_OdqopKbml-",
        "outputId": "80456cfc-1ac4-4327-b7d5-341e2f55af93",
        "colab": {
          "base_uri": "https://localhost:8080/",
          "height": 100
        }
      },
      "source": [
        "df_books[df_books['country_code'].notna() == False]"
      ],
      "execution_count": 24,
      "outputs": [
        {
          "output_type": "execute_result",
          "data": {
            "text/html": [
              "<div>\n",
              "<style scoped>\n",
              "    .dataframe tbody tr th:only-of-type {\n",
              "        vertical-align: middle;\n",
              "    }\n",
              "\n",
              "    .dataframe tbody tr th {\n",
              "        vertical-align: top;\n",
              "    }\n",
              "\n",
              "    .dataframe thead th {\n",
              "        text-align: right;\n",
              "    }\n",
              "</style>\n",
              "<table border=\"1\" class=\"dataframe\">\n",
              "  <thead>\n",
              "    <tr style=\"text-align: right;\">\n",
              "      <th></th>\n",
              "      <th>isbn</th>\n",
              "      <th>text_reviews_count</th>\n",
              "      <th>series</th>\n",
              "      <th>country_code</th>\n",
              "      <th>language_code</th>\n",
              "      <th>popular_shelves</th>\n",
              "      <th>asin</th>\n",
              "      <th>is_ebook</th>\n",
              "      <th>average_rating</th>\n",
              "      <th>kindle_asin</th>\n",
              "      <th>similar_books</th>\n",
              "      <th>description</th>\n",
              "      <th>format</th>\n",
              "      <th>link</th>\n",
              "      <th>authors</th>\n",
              "      <th>publisher</th>\n",
              "      <th>num_pages</th>\n",
              "      <th>publication_day</th>\n",
              "      <th>isbn13</th>\n",
              "      <th>publication_month</th>\n",
              "      <th>edition_information</th>\n",
              "      <th>publication_year</th>\n",
              "      <th>url</th>\n",
              "      <th>image_url</th>\n",
              "      <th>ratings_count</th>\n",
              "      <th>work_id</th>\n",
              "      <th>title</th>\n",
              "      <th>title_without_series</th>\n",
              "    </tr>\n",
              "    <tr>\n",
              "      <th>book_id</th>\n",
              "      <th></th>\n",
              "      <th></th>\n",
              "      <th></th>\n",
              "      <th></th>\n",
              "      <th></th>\n",
              "      <th></th>\n",
              "      <th></th>\n",
              "      <th></th>\n",
              "      <th></th>\n",
              "      <th></th>\n",
              "      <th></th>\n",
              "      <th></th>\n",
              "      <th></th>\n",
              "      <th></th>\n",
              "      <th></th>\n",
              "      <th></th>\n",
              "      <th></th>\n",
              "      <th></th>\n",
              "      <th></th>\n",
              "      <th></th>\n",
              "      <th></th>\n",
              "      <th></th>\n",
              "      <th></th>\n",
              "      <th></th>\n",
              "      <th></th>\n",
              "      <th></th>\n",
              "      <th></th>\n",
              "      <th></th>\n",
              "    </tr>\n",
              "  </thead>\n",
              "  <tbody>\n",
              "  </tbody>\n",
              "</table>\n",
              "</div>"
            ],
            "text/plain": [
              "Empty DataFrame\n",
              "Columns: [isbn, text_reviews_count, series, country_code, language_code, popular_shelves, asin, is_ebook, average_rating, kindle_asin, similar_books, description, format, link, authors, publisher, num_pages, publication_day, isbn13, publication_month, edition_information, publication_year, url, image_url, ratings_count, work_id, title, title_without_series]\n",
              "Index: []"
            ]
          },
          "metadata": {},
          "execution_count": 24
        }
      ]
    },
    {
      "cell_type": "code",
      "metadata": {
        "id": "JUL9p3bEbml_",
        "outputId": "43672a36-e059-42b1-c698-9bae869a5b8e",
        "colab": {
          "base_uri": "https://localhost:8080/",
          "height": 320
        }
      },
      "source": [
        "df_books = df_books[['title', 'text_reviews_count', 'popular_shelves', 'average_rating']]\n",
        "df_books.head()"
      ],
      "execution_count": 25,
      "outputs": [
        {
          "output_type": "execute_result",
          "data": {
            "text/html": [
              "<div>\n",
              "<style scoped>\n",
              "    .dataframe tbody tr th:only-of-type {\n",
              "        vertical-align: middle;\n",
              "    }\n",
              "\n",
              "    .dataframe tbody tr th {\n",
              "        vertical-align: top;\n",
              "    }\n",
              "\n",
              "    .dataframe thead th {\n",
              "        text-align: right;\n",
              "    }\n",
              "</style>\n",
              "<table border=\"1\" class=\"dataframe\">\n",
              "  <thead>\n",
              "    <tr style=\"text-align: right;\">\n",
              "      <th></th>\n",
              "      <th>title</th>\n",
              "      <th>text_reviews_count</th>\n",
              "      <th>popular_shelves</th>\n",
              "      <th>average_rating</th>\n",
              "    </tr>\n",
              "    <tr>\n",
              "      <th>book_id</th>\n",
              "      <th></th>\n",
              "      <th></th>\n",
              "      <th></th>\n",
              "      <th></th>\n",
              "    </tr>\n",
              "  </thead>\n",
              "  <tbody>\n",
              "    <tr>\n",
              "      <th>6066814</th>\n",
              "      <td>Crowner Royal (Crowner John Mystery, #13)</td>\n",
              "      <td>15</td>\n",
              "      <td>[{'count': '159', 'name': 'to-read'}, {'count'...</td>\n",
              "      <td>3.93</td>\n",
              "    </tr>\n",
              "    <tr>\n",
              "      <th>33394837</th>\n",
              "      <td>The House of Memory (Pluto's Snitch #2)</td>\n",
              "      <td>60</td>\n",
              "      <td>[{'count': '54', 'name': 'currently-reading'},...</td>\n",
              "      <td>4.33</td>\n",
              "    </tr>\n",
              "    <tr>\n",
              "      <th>29074697</th>\n",
              "      <td>The Slaughtered Virgin of Zenopolis (Inspector...</td>\n",
              "      <td>23</td>\n",
              "      <td>[{'count': '90', 'name': 'to-read'}, {'count':...</td>\n",
              "      <td>3.49</td>\n",
              "    </tr>\n",
              "    <tr>\n",
              "      <th>1902202</th>\n",
              "      <td>Dead in the Morning (Patrick Grant, #1)</td>\n",
              "      <td>8</td>\n",
              "      <td>[{'count': '51', 'name': 'to-read'}, {'count':...</td>\n",
              "      <td>3.30</td>\n",
              "    </tr>\n",
              "    <tr>\n",
              "      <th>9671977</th>\n",
              "      <td>Aristotele e i misteri di Eleusi</td>\n",
              "      <td>3</td>\n",
              "      <td>[{'count': '48', 'name': 'to-read'}, {'count':...</td>\n",
              "      <td>3.54</td>\n",
              "    </tr>\n",
              "  </tbody>\n",
              "</table>\n",
              "</div>"
            ],
            "text/plain": [
              "                                                      title  ...  average_rating\n",
              "book_id                                                      ...                \n",
              "6066814           Crowner Royal (Crowner John Mystery, #13)  ...            3.93\n",
              "33394837            The House of Memory (Pluto's Snitch #2)  ...            4.33\n",
              "29074697  The Slaughtered Virgin of Zenopolis (Inspector...  ...            3.49\n",
              "1902202             Dead in the Morning (Patrick Grant, #1)  ...            3.30\n",
              "9671977                    Aristotele e i misteri di Eleusi  ...            3.54\n",
              "\n",
              "[5 rows x 4 columns]"
            ]
          },
          "metadata": {},
          "execution_count": 25
        }
      ]
    },
    {
      "cell_type": "code",
      "metadata": {
        "id": "1jADfwOibmmA"
      },
      "source": [
        "df_books = df_books.astype({\"title\": 'string', \"text_reviews_count\": np.uint, 'average_rating': np.float64})\n"
      ],
      "execution_count": 26,
      "outputs": []
    },
    {
      "cell_type": "code",
      "metadata": {
        "id": "f5He9SkabmmB",
        "outputId": "de17dc76-9374-4484-9333-5c25777e4f49",
        "colab": {
          "base_uri": "https://localhost:8080/",
          "height": 320
        }
      },
      "source": [
        "df_books.head()"
      ],
      "execution_count": 27,
      "outputs": [
        {
          "output_type": "execute_result",
          "data": {
            "text/html": [
              "<div>\n",
              "<style scoped>\n",
              "    .dataframe tbody tr th:only-of-type {\n",
              "        vertical-align: middle;\n",
              "    }\n",
              "\n",
              "    .dataframe tbody tr th {\n",
              "        vertical-align: top;\n",
              "    }\n",
              "\n",
              "    .dataframe thead th {\n",
              "        text-align: right;\n",
              "    }\n",
              "</style>\n",
              "<table border=\"1\" class=\"dataframe\">\n",
              "  <thead>\n",
              "    <tr style=\"text-align: right;\">\n",
              "      <th></th>\n",
              "      <th>title</th>\n",
              "      <th>text_reviews_count</th>\n",
              "      <th>popular_shelves</th>\n",
              "      <th>average_rating</th>\n",
              "    </tr>\n",
              "    <tr>\n",
              "      <th>book_id</th>\n",
              "      <th></th>\n",
              "      <th></th>\n",
              "      <th></th>\n",
              "      <th></th>\n",
              "    </tr>\n",
              "  </thead>\n",
              "  <tbody>\n",
              "    <tr>\n",
              "      <th>6066814</th>\n",
              "      <td>Crowner Royal (Crowner John Mystery, #13)</td>\n",
              "      <td>15</td>\n",
              "      <td>[{'count': '159', 'name': 'to-read'}, {'count'...</td>\n",
              "      <td>3.93</td>\n",
              "    </tr>\n",
              "    <tr>\n",
              "      <th>33394837</th>\n",
              "      <td>The House of Memory (Pluto's Snitch #2)</td>\n",
              "      <td>60</td>\n",
              "      <td>[{'count': '54', 'name': 'currently-reading'},...</td>\n",
              "      <td>4.33</td>\n",
              "    </tr>\n",
              "    <tr>\n",
              "      <th>29074697</th>\n",
              "      <td>The Slaughtered Virgin of Zenopolis (Inspector...</td>\n",
              "      <td>23</td>\n",
              "      <td>[{'count': '90', 'name': 'to-read'}, {'count':...</td>\n",
              "      <td>3.49</td>\n",
              "    </tr>\n",
              "    <tr>\n",
              "      <th>1902202</th>\n",
              "      <td>Dead in the Morning (Patrick Grant, #1)</td>\n",
              "      <td>8</td>\n",
              "      <td>[{'count': '51', 'name': 'to-read'}, {'count':...</td>\n",
              "      <td>3.30</td>\n",
              "    </tr>\n",
              "    <tr>\n",
              "      <th>9671977</th>\n",
              "      <td>Aristotele e i misteri di Eleusi</td>\n",
              "      <td>3</td>\n",
              "      <td>[{'count': '48', 'name': 'to-read'}, {'count':...</td>\n",
              "      <td>3.54</td>\n",
              "    </tr>\n",
              "  </tbody>\n",
              "</table>\n",
              "</div>"
            ],
            "text/plain": [
              "                                                      title  ...  average_rating\n",
              "book_id                                                      ...                \n",
              "6066814           Crowner Royal (Crowner John Mystery, #13)  ...            3.93\n",
              "33394837            The House of Memory (Pluto's Snitch #2)  ...            4.33\n",
              "29074697  The Slaughtered Virgin of Zenopolis (Inspector...  ...            3.49\n",
              "1902202             Dead in the Morning (Patrick Grant, #1)  ...            3.30\n",
              "9671977                    Aristotele e i misteri di Eleusi  ...            3.54\n",
              "\n",
              "[5 rows x 4 columns]"
            ]
          },
          "metadata": {},
          "execution_count": 27
        }
      ]
    },
    {
      "cell_type": "code",
      "metadata": {
        "id": "OmYr6KiqbmmC",
        "outputId": "bd8ae8c2-32a3-434f-d8c7-624cf25afd29",
        "colab": {
          "base_uri": "https://localhost:8080/"
        }
      },
      "source": [
        "df_books.dtypes"
      ],
      "execution_count": 28,
      "outputs": [
        {
          "output_type": "execute_result",
          "data": {
            "text/plain": [
              "title                  string\n",
              "text_reviews_count     uint64\n",
              "popular_shelves        object\n",
              "average_rating        float64\n",
              "dtype: object"
            ]
          },
          "metadata": {},
          "execution_count": 28
        }
      ]
    },
    {
      "cell_type": "markdown",
      "metadata": {
        "id": "X01o_T28bmmD"
      },
      "source": [
        "todo: für weitere untersuchungen (Genres) _popular shelves_ noch weiter exploden"
      ]
    },
    {
      "cell_type": "code",
      "metadata": {
        "id": "F5F-W1A-bmmD",
        "outputId": "e1e71dfb-4285-48a3-e81d-a207d6f15f3c",
        "colab": {
          "base_uri": "https://localhost:8080/",
          "height": 535
        }
      },
      "source": [
        "df_books.explode('popular_shelves')"
      ],
      "execution_count": 29,
      "outputs": [
        {
          "output_type": "execute_result",
          "data": {
            "text/html": [
              "<div>\n",
              "<style scoped>\n",
              "    .dataframe tbody tr th:only-of-type {\n",
              "        vertical-align: middle;\n",
              "    }\n",
              "\n",
              "    .dataframe tbody tr th {\n",
              "        vertical-align: top;\n",
              "    }\n",
              "\n",
              "    .dataframe thead th {\n",
              "        text-align: right;\n",
              "    }\n",
              "</style>\n",
              "<table border=\"1\" class=\"dataframe\">\n",
              "  <thead>\n",
              "    <tr style=\"text-align: right;\">\n",
              "      <th></th>\n",
              "      <th>title</th>\n",
              "      <th>text_reviews_count</th>\n",
              "      <th>popular_shelves</th>\n",
              "      <th>average_rating</th>\n",
              "    </tr>\n",
              "    <tr>\n",
              "      <th>book_id</th>\n",
              "      <th></th>\n",
              "      <th></th>\n",
              "      <th></th>\n",
              "      <th></th>\n",
              "    </tr>\n",
              "  </thead>\n",
              "  <tbody>\n",
              "    <tr>\n",
              "      <th>6066814</th>\n",
              "      <td>Crowner Royal (Crowner John Mystery, #13)</td>\n",
              "      <td>15</td>\n",
              "      <td>{'count': '159', 'name': 'to-read'}</td>\n",
              "      <td>3.93</td>\n",
              "    </tr>\n",
              "    <tr>\n",
              "      <th>6066814</th>\n",
              "      <td>Crowner Royal (Crowner John Mystery, #13)</td>\n",
              "      <td>15</td>\n",
              "      <td>{'count': '12', 'name': 'historical-fiction'}</td>\n",
              "      <td>3.93</td>\n",
              "    </tr>\n",
              "    <tr>\n",
              "      <th>6066814</th>\n",
              "      <td>Crowner Royal (Crowner John Mystery, #13)</td>\n",
              "      <td>15</td>\n",
              "      <td>{'count': '11', 'name': 'mystery'}</td>\n",
              "      <td>3.93</td>\n",
              "    </tr>\n",
              "    <tr>\n",
              "      <th>6066814</th>\n",
              "      <td>Crowner Royal (Crowner John Mystery, #13)</td>\n",
              "      <td>15</td>\n",
              "      <td>{'count': '10', 'name': 'historical-mystery'}</td>\n",
              "      <td>3.93</td>\n",
              "    </tr>\n",
              "    <tr>\n",
              "      <th>6066814</th>\n",
              "      <td>Crowner Royal (Crowner John Mystery, #13)</td>\n",
              "      <td>15</td>\n",
              "      <td>{'count': '7', 'name': 'medieval'}</td>\n",
              "      <td>3.93</td>\n",
              "    </tr>\n",
              "    <tr>\n",
              "      <th>...</th>\n",
              "      <td>...</td>\n",
              "      <td>...</td>\n",
              "      <td>...</td>\n",
              "      <td>...</td>\n",
              "    </tr>\n",
              "    <tr>\n",
              "      <th>25613187</th>\n",
              "      <td>forgotten (Twisted Cedars Mysteries, #2)</td>\n",
              "      <td>25</td>\n",
              "      <td>{'count': '1', 'name': 'carmichael-c-j'}</td>\n",
              "      <td>4.21</td>\n",
              "    </tr>\n",
              "    <tr>\n",
              "      <th>25613187</th>\n",
              "      <td>forgotten (Twisted Cedars Mysteries, #2)</td>\n",
              "      <td>25</td>\n",
              "      <td>{'count': '1', 'name': 'giveaway-books'}</td>\n",
              "      <td>4.21</td>\n",
              "    </tr>\n",
              "    <tr>\n",
              "      <th>25613187</th>\n",
              "      <td>forgotten (Twisted Cedars Mysteries, #2)</td>\n",
              "      <td>25</td>\n",
              "      <td>{'count': '1', 'name': '2016-fiction'}</td>\n",
              "      <td>4.21</td>\n",
              "    </tr>\n",
              "    <tr>\n",
              "      <th>25613187</th>\n",
              "      <td>forgotten (Twisted Cedars Mysteries, #2)</td>\n",
              "      <td>25</td>\n",
              "      <td>{'count': '1', 'name': 'giveaways'}</td>\n",
              "      <td>4.21</td>\n",
              "    </tr>\n",
              "    <tr>\n",
              "      <th>25613187</th>\n",
              "      <td>forgotten (Twisted Cedars Mysteries, #2)</td>\n",
              "      <td>25</td>\n",
              "      <td>{'count': '1', 'name': 'lola-s-blog-tours'}</td>\n",
              "      <td>4.21</td>\n",
              "    </tr>\n",
              "  </tbody>\n",
              "</table>\n",
              "<p>1563125 rows × 4 columns</p>\n",
              "</div>"
            ],
            "text/plain": [
              "                                              title  ...  average_rating\n",
              "book_id                                              ...                \n",
              "6066814   Crowner Royal (Crowner John Mystery, #13)  ...            3.93\n",
              "6066814   Crowner Royal (Crowner John Mystery, #13)  ...            3.93\n",
              "6066814   Crowner Royal (Crowner John Mystery, #13)  ...            3.93\n",
              "6066814   Crowner Royal (Crowner John Mystery, #13)  ...            3.93\n",
              "6066814   Crowner Royal (Crowner John Mystery, #13)  ...            3.93\n",
              "...                                             ...  ...             ...\n",
              "25613187   forgotten (Twisted Cedars Mysteries, #2)  ...            4.21\n",
              "25613187   forgotten (Twisted Cedars Mysteries, #2)  ...            4.21\n",
              "25613187   forgotten (Twisted Cedars Mysteries, #2)  ...            4.21\n",
              "25613187   forgotten (Twisted Cedars Mysteries, #2)  ...            4.21\n",
              "25613187   forgotten (Twisted Cedars Mysteries, #2)  ...            4.21\n",
              "\n",
              "[1563125 rows x 4 columns]"
            ]
          },
          "metadata": {},
          "execution_count": 29
        }
      ]
    },
    {
      "cell_type": "markdown",
      "metadata": {
        "id": "b_5MOuQZbmmE"
      },
      "source": [
        "---"
      ]
    },
    {
      "cell_type": "code",
      "metadata": {
        "id": "d-vGcq3bbmmE"
      },
      "source": [
        "# Utility to split the data into training and test sets.\n",
        "def split_dataframe(df, holdout_fraction=0.2):\n",
        "  \"\"\"Splits a DataFrame into training and test sets.\n",
        "  Args:\n",
        "    df: a dataframe.\n",
        "    holdout_fraction: fraction of dataframe rows to use in the test set.\n",
        "  Returns:\n",
        "    train: dataframe for training\n",
        "    test: dataframe for testing\n",
        "  \"\"\"\n",
        "  test = df.sample(frac=holdout_fraction, replace=False)\n",
        "  train = df[~df.index.isin(test.index)]\n",
        "  return train, test"
      ],
      "execution_count": 30,
      "outputs": []
    },
    {
      "cell_type": "markdown",
      "metadata": {
        "id": "gYeVf38bbmmF"
      },
      "source": [
        "---"
      ]
    },
    {
      "cell_type": "markdown",
      "metadata": {
        "id": "Hib-sfqHbmmG"
      },
      "source": [
        "# Recommender System"
      ]
    },
    {
      "cell_type": "code",
      "metadata": {
        "id": "Ffm8DSr1nxf-"
      },
      "source": [
        "!pip install -q tensorflow-recommenders"
      ],
      "execution_count": 31,
      "outputs": []
    },
    {
      "cell_type": "code",
      "metadata": {
        "id": "g4_2h-gubmmG"
      },
      "source": [
        "import tensorflow as tf\n",
        "import tensorflow_recommenders as tfrs"
      ],
      "execution_count": 32,
      "outputs": []
    },
    {
      "cell_type": "markdown",
      "metadata": {
        "id": "EWt65tsYbmmH"
      },
      "source": [
        "## Model"
      ]
    },
    {
      "cell_type": "markdown",
      "metadata": {
        "id": "ADTCNoDQbmmI"
      },
      "source": [
        "ratings:\n",
        "`<MapDataset shapes: {movie_title: (), user_id: ()}, types: {movie_title: tf.string, user_id: tf.string}>`\n",
        "\n",
        "`{'movie_title': <tf.Tensor: shape=(), dtype=string, numpy=b\"One Flew Over the Cuckoo's Nest (1975)\">, 'user_id': <tf.Tensor: shape=(), dtype=string, numpy=b'138'>}`\n",
        "\n",
        "movies:\n",
        "`<MapDataset shapes: (), types: tf.string>`\n",
        "\n",
        "`tf.Tensor(b'You So Crazy (1994)', shape=(), dtype=string)`\n"
      ]
    },
    {
      "cell_type": "markdown",
      "metadata": {
        "id": "2iS_kXH0bmmK"
      },
      "source": [
        "sprich: \n",
        "user (ratings): 1:1 Titel <-> UserID\n",
        "item: nur Titel"
      ]
    },
    {
      "cell_type": "code",
      "metadata": {
        "id": "vQwxTFZjbmmL"
      },
      "source": [
        "from typing import Dict, Text\n",
        "\n",
        "class GoodReadsModel(tfrs.Model):\n",
        "  # We derive from a custom base class to help reduce boilerplate. Under the hood,\n",
        "  # these are still plain Keras Models.\n",
        "\n",
        "  def __init__(\n",
        "      self,\n",
        "      user_model: tf.keras.Model,\n",
        "      book_model: tf.keras.Model,\n",
        "      task: tfrs.tasks.Retrieval):\n",
        "    super().__init__()\n",
        "\n",
        "    # Set up user and movie representations.\n",
        "    self.user_model = user_model\n",
        "    self.book_model = book_model\n",
        "\n",
        "    # Set up a retrieval task.\n",
        "    self.task = task\n",
        "\n",
        "  def compute_loss(self, features: Dict[Text, tf.Tensor], training=False) -> tf.Tensor:\n",
        "    # Define how the loss is computed.\n",
        "\n",
        "    user_embeddings = self.user_model(features['user_id'])\n",
        "    movie_embeddings = self.book_model(features['book_id'])\n",
        "\n",
        "    return self.task(user_embeddings, movie_embeddings)"
      ],
      "execution_count": 33,
      "outputs": []
    },
    {
      "cell_type": "markdown",
      "metadata": {
        "id": "vPYmAQqVbmmN"
      },
      "source": [
        "Build vocabularies to convert user ids and movie titles into integer indices for embedding layers:"
      ]
    },
    {
      "cell_type": "code",
      "metadata": {
        "id": "43h3V3xqbmmO",
        "outputId": "79b7bce2-87c9-4fcc-e674-87c24f496610",
        "colab": {
          "base_uri": "https://localhost:8080/",
          "height": 176
        }
      },
      "source": [
        "df_books.head(2)"
      ],
      "execution_count": 51,
      "outputs": [
        {
          "output_type": "execute_result",
          "data": {
            "text/html": [
              "<div>\n",
              "<style scoped>\n",
              "    .dataframe tbody tr th:only-of-type {\n",
              "        vertical-align: middle;\n",
              "    }\n",
              "\n",
              "    .dataframe tbody tr th {\n",
              "        vertical-align: top;\n",
              "    }\n",
              "\n",
              "    .dataframe thead th {\n",
              "        text-align: right;\n",
              "    }\n",
              "</style>\n",
              "<table border=\"1\" class=\"dataframe\">\n",
              "  <thead>\n",
              "    <tr style=\"text-align: right;\">\n",
              "      <th></th>\n",
              "      <th>title</th>\n",
              "      <th>text_reviews_count</th>\n",
              "      <th>popular_shelves</th>\n",
              "      <th>average_rating</th>\n",
              "    </tr>\n",
              "    <tr>\n",
              "      <th>book_id</th>\n",
              "      <th></th>\n",
              "      <th></th>\n",
              "      <th></th>\n",
              "      <th></th>\n",
              "    </tr>\n",
              "  </thead>\n",
              "  <tbody>\n",
              "    <tr>\n",
              "      <th>6066814</th>\n",
              "      <td>Crowner Royal (Crowner John Mystery, #13)</td>\n",
              "      <td>15</td>\n",
              "      <td>[{'count': '159', 'name': 'to-read'}, {'count'...</td>\n",
              "      <td>3.93</td>\n",
              "    </tr>\n",
              "    <tr>\n",
              "      <th>33394837</th>\n",
              "      <td>The House of Memory (Pluto's Snitch #2)</td>\n",
              "      <td>60</td>\n",
              "      <td>[{'count': '54', 'name': 'currently-reading'},...</td>\n",
              "      <td>4.33</td>\n",
              "    </tr>\n",
              "  </tbody>\n",
              "</table>\n",
              "</div>"
            ],
            "text/plain": [
              "                                              title  ...  average_rating\n",
              "book_id                                              ...                \n",
              "6066814   Crowner Royal (Crowner John Mystery, #13)  ...            3.93\n",
              "33394837    The House of Memory (Pluto's Snitch #2)  ...            4.33\n",
              "\n",
              "[2 rows x 4 columns]"
            ]
          },
          "metadata": {},
          "execution_count": 51
        }
      ]
    },
    {
      "cell_type": "code",
      "metadata": {
        "id": "XaxUgrzJbmmP",
        "outputId": "1c85d85f-6ca0-49f5-b8ef-5919f49fa954",
        "colab": {
          "base_uri": "https://localhost:8080/"
        }
      },
      "source": [
        "book_ids = df_books.index\n",
        "book_ids"
      ],
      "execution_count": 35,
      "outputs": [
        {
          "output_type": "execute_result",
          "data": {
            "text/plain": [
              "Int64Index([ 6066814, 33394837, 29074697,  1902202,  9671977, 16158998,\n",
              "            25162836,  2805495, 22722787, 16158996,\n",
              "            ...\n",
              "            23254442, 22560144, 23626834, 24265177, 11094979, 28399280,\n",
              "            17264536,  5208056, 31141194, 25613187],\n",
              "           dtype='int64', name='book_id', length=20000)"
            ]
          },
          "metadata": {},
          "execution_count": 35
        }
      ]
    },
    {
      "cell_type": "code",
      "metadata": {
        "id": "RFTtmvnsbmmR",
        "outputId": "98b7c843-38f9-49b6-9209-07eab16699f7",
        "colab": {
          "base_uri": "https://localhost:8080/"
        }
      },
      "source": [
        "user_ids = df_reviews['user_id']\n",
        "user_ids"
      ],
      "execution_count": 36,
      "outputs": [
        {
          "output_type": "execute_result",
          "data": {
            "text/plain": [
              "review_id\n",
              "5e212a62bced17b4dbe41150e5bb9037    8842281e1d1347389f2ab93d60773d4d\n",
              "2ede853b14dc4583f96cf5d120af636f    8842281e1d1347389f2ab93d60773d4d\n",
              "8e4d61801907e591018bdc3442a9cf2b    8842281e1d1347389f2ab93d60773d4d\n",
              "022bb6daffa49adc27f6b20b6ebeb37d    8842281e1d1347389f2ab93d60773d4d\n",
              "0e317947e1fd341f573192111bb2921d    8842281e1d1347389f2ab93d60773d4d\n",
              "                                                  ...               \n",
              "162e9428cc714dc7454ef0a559ae4d55    8a8232f778ed15a62df87ccc4c398908\n",
              "ad973faee87b80b8bfbfd6bb19a37b24    8a8232f778ed15a62df87ccc4c398908\n",
              "f16063c4d371f261be5886a728604b97    8a8232f778ed15a62df87ccc4c398908\n",
              "b5081cac439dbfda1c421570ec8edb62    8a8232f778ed15a62df87ccc4c398908\n",
              "08613ff440399ee649ef2292e7148614    8a8232f778ed15a62df87ccc4c398908\n",
              "Name: user_id, Length: 10000, dtype: object"
            ]
          },
          "metadata": {},
          "execution_count": 36
        }
      ]
    },
    {
      "cell_type": "code",
      "metadata": {
        "id": "PSF4rdTLbmmS",
        "outputId": "0aa75af8-2841-43cb-e600-711b2eb1f95f",
        "colab": {
          "base_uri": "https://localhost:8080/",
          "height": 235
        }
      },
      "source": [
        "df_reviews.head()"
      ],
      "execution_count": 37,
      "outputs": [
        {
          "output_type": "execute_result",
          "data": {
            "text/html": [
              "<div>\n",
              "<style scoped>\n",
              "    .dataframe tbody tr th:only-of-type {\n",
              "        vertical-align: middle;\n",
              "    }\n",
              "\n",
              "    .dataframe tbody tr th {\n",
              "        vertical-align: top;\n",
              "    }\n",
              "\n",
              "    .dataframe thead th {\n",
              "        text-align: right;\n",
              "    }\n",
              "</style>\n",
              "<table border=\"1\" class=\"dataframe\">\n",
              "  <thead>\n",
              "    <tr style=\"text-align: right;\">\n",
              "      <th></th>\n",
              "      <th>user_id</th>\n",
              "      <th>book_id</th>\n",
              "      <th>rating</th>\n",
              "    </tr>\n",
              "    <tr>\n",
              "      <th>review_id</th>\n",
              "      <th></th>\n",
              "      <th></th>\n",
              "      <th></th>\n",
              "    </tr>\n",
              "  </thead>\n",
              "  <tbody>\n",
              "    <tr>\n",
              "      <th>5e212a62bced17b4dbe41150e5bb9037</th>\n",
              "      <td>8842281e1d1347389f2ab93d60773d4d</td>\n",
              "      <td>6392944</td>\n",
              "      <td>3</td>\n",
              "    </tr>\n",
              "    <tr>\n",
              "      <th>2ede853b14dc4583f96cf5d120af636f</th>\n",
              "      <td>8842281e1d1347389f2ab93d60773d4d</td>\n",
              "      <td>28684704</td>\n",
              "      <td>3</td>\n",
              "    </tr>\n",
              "    <tr>\n",
              "      <th>8e4d61801907e591018bdc3442a9cf2b</th>\n",
              "      <td>8842281e1d1347389f2ab93d60773d4d</td>\n",
              "      <td>32283133</td>\n",
              "      <td>0</td>\n",
              "    </tr>\n",
              "    <tr>\n",
              "      <th>022bb6daffa49adc27f6b20b6ebeb37d</th>\n",
              "      <td>8842281e1d1347389f2ab93d60773d4d</td>\n",
              "      <td>17860739</td>\n",
              "      <td>4</td>\n",
              "    </tr>\n",
              "    <tr>\n",
              "      <th>0e317947e1fd341f573192111bb2921d</th>\n",
              "      <td>8842281e1d1347389f2ab93d60773d4d</td>\n",
              "      <td>8694005</td>\n",
              "      <td>3</td>\n",
              "    </tr>\n",
              "  </tbody>\n",
              "</table>\n",
              "</div>"
            ],
            "text/plain": [
              "                                                           user_id  ...  rating\n",
              "review_id                                                           ...        \n",
              "5e212a62bced17b4dbe41150e5bb9037  8842281e1d1347389f2ab93d60773d4d  ...       3\n",
              "2ede853b14dc4583f96cf5d120af636f  8842281e1d1347389f2ab93d60773d4d  ...       3\n",
              "8e4d61801907e591018bdc3442a9cf2b  8842281e1d1347389f2ab93d60773d4d  ...       0\n",
              "022bb6daffa49adc27f6b20b6ebeb37d  8842281e1d1347389f2ab93d60773d4d  ...       4\n",
              "0e317947e1fd341f573192111bb2921d  8842281e1d1347389f2ab93d60773d4d  ...       3\n",
              "\n",
              "[5 rows x 3 columns]"
            ]
          },
          "metadata": {},
          "execution_count": 37
        }
      ]
    },
    {
      "cell_type": "markdown",
      "metadata": {
        "id": "iNjnK-FxbmmV"
      },
      "source": [
        "Kann ich mir sparen wenn ich gleich mit den IDs arbeite:"
      ]
    },
    {
      "cell_type": "code",
      "metadata": {
        "id": "ItvJoHeabmmW"
      },
      "source": [
        "tf_book_ids = tf.convert_to_tensor(book_ids)"
      ],
      "execution_count": 38,
      "outputs": []
    },
    {
      "cell_type": "code",
      "metadata": {
        "id": "jSWwhRs7bmmX",
        "outputId": "3be0eb79-4782-411e-9117-043046b627d7",
        "colab": {
          "base_uri": "https://localhost:8080/"
        }
      },
      "source": [
        "booktitle_tensor= tf.convert_to_tensor(df_books['title'])\n",
        "bookid_tensor= tf.convert_to_tensor(df_books.index)\n",
        "# bookid_tensor = tf.strings.as_string(bookid_tensor)\n",
        "tf_book_ds = tf.data.Dataset.from_tensor_slices({\"book_id\": bookid_tensor, \"title\": booktitle_tensor})\n",
        "tf_book_ds"
      ],
      "execution_count": 96,
      "outputs": [
        {
          "output_type": "execute_result",
          "data": {
            "text/plain": [
              "<TensorSliceDataset shapes: {book_id: (), title: ()}, types: {book_id: tf.int64, title: tf.string}>"
            ]
          },
          "metadata": {},
          "execution_count": 96
        }
      ]
    },
    {
      "cell_type": "code",
      "metadata": {
        "id": "4G9gDeZnbmmY"
      },
      "source": [
        "useridtensor= tf.convert_to_tensor(df_reviews['user_id'])\n",
        "bookidtensor= tf.convert_to_tensor(df_reviews['book_id'])"
      ],
      "execution_count": 40,
      "outputs": []
    },
    {
      "cell_type": "code",
      "metadata": {
        "id": "dzsd6Ys4bmmZ",
        "outputId": "e5c2b8be-7356-43fa-eb9c-7b3cc2061f39",
        "colab": {
          "base_uri": "https://localhost:8080/"
        }
      },
      "source": [
        "review_ds = tf.data.Dataset.from_tensor_slices({\"user_id\": useridtensor, \"book_id\": bookidtensor})\n",
        "review_ds"
      ],
      "execution_count": 41,
      "outputs": [
        {
          "output_type": "execute_result",
          "data": {
            "text/plain": [
              "<TensorSliceDataset shapes: {user_id: (), book_id: ()}, types: {user_id: tf.string, book_id: tf.int64}>"
            ]
          },
          "metadata": {},
          "execution_count": 41
        }
      ]
    },
    {
      "cell_type": "code",
      "metadata": {
        "id": "PI0rhhKMbmma",
        "outputId": "41a221ed-8cda-434f-f737-354d8a290350",
        "colab": {
          "base_uri": "https://localhost:8080/",
          "height": 341
        }
      },
      "source": [
        "tf_reviews = tf.data.Dataset.from_tensors([tf.convert_to_tensor(df_reviews['user_id']), tf.convert_to_tensor(df_reviews['book_id'])])"
      ],
      "execution_count": 42,
      "outputs": [
        {
          "output_type": "error",
          "ename": "InvalidArgumentError",
          "evalue": "ignored",
          "traceback": [
            "\u001b[0;31m---------------------------------------------------------------------------\u001b[0m",
            "\u001b[0;31mInvalidArgumentError\u001b[0m                      Traceback (most recent call last)",
            "\u001b[0;32m<ipython-input-42-a305b727f780>\u001b[0m in \u001b[0;36m<module>\u001b[0;34m()\u001b[0m\n\u001b[0;32m----> 1\u001b[0;31m \u001b[0mtf_reviews\u001b[0m \u001b[0;34m=\u001b[0m \u001b[0mtf\u001b[0m\u001b[0;34m.\u001b[0m\u001b[0mdata\u001b[0m\u001b[0;34m.\u001b[0m\u001b[0mDataset\u001b[0m\u001b[0;34m.\u001b[0m\u001b[0mfrom_tensors\u001b[0m\u001b[0;34m(\u001b[0m\u001b[0;34m[\u001b[0m\u001b[0mtf\u001b[0m\u001b[0;34m.\u001b[0m\u001b[0mconvert_to_tensor\u001b[0m\u001b[0;34m(\u001b[0m\u001b[0mdf_reviews\u001b[0m\u001b[0;34m[\u001b[0m\u001b[0;34m'user_id'\u001b[0m\u001b[0;34m]\u001b[0m\u001b[0;34m)\u001b[0m\u001b[0;34m,\u001b[0m \u001b[0mtf\u001b[0m\u001b[0;34m.\u001b[0m\u001b[0mconvert_to_tensor\u001b[0m\u001b[0;34m(\u001b[0m\u001b[0mdf_reviews\u001b[0m\u001b[0;34m[\u001b[0m\u001b[0;34m'book_id'\u001b[0m\u001b[0;34m]\u001b[0m\u001b[0;34m)\u001b[0m\u001b[0;34m]\u001b[0m\u001b[0;34m)\u001b[0m\u001b[0;34m\u001b[0m\u001b[0;34m\u001b[0m\u001b[0m\n\u001b[0m",
            "\u001b[0;32m/usr/local/lib/python3.7/dist-packages/tensorflow/python/data/ops/dataset_ops.py\u001b[0m in \u001b[0;36mfrom_tensors\u001b[0;34m(tensors, name)\u001b[0m\n\u001b[1;32m    699\u001b[0m       \u001b[0mDataset\u001b[0m\u001b[0;34m:\u001b[0m \u001b[0mA\u001b[0m\u001b[0;31m \u001b[0m\u001b[0;31m`\u001b[0m\u001b[0mDataset\u001b[0m\u001b[0;31m`\u001b[0m\u001b[0;34m.\u001b[0m\u001b[0;34m\u001b[0m\u001b[0;34m\u001b[0m\u001b[0m\n\u001b[1;32m    700\u001b[0m     \"\"\"\n\u001b[0;32m--> 701\u001b[0;31m     \u001b[0;32mreturn\u001b[0m \u001b[0mTensorDataset\u001b[0m\u001b[0;34m(\u001b[0m\u001b[0mtensors\u001b[0m\u001b[0;34m,\u001b[0m \u001b[0mname\u001b[0m\u001b[0;34m=\u001b[0m\u001b[0mname\u001b[0m\u001b[0;34m)\u001b[0m\u001b[0;34m\u001b[0m\u001b[0;34m\u001b[0m\u001b[0m\n\u001b[0m\u001b[1;32m    702\u001b[0m \u001b[0;34m\u001b[0m\u001b[0m\n\u001b[1;32m    703\u001b[0m   \u001b[0;34m@\u001b[0m\u001b[0mstaticmethod\u001b[0m\u001b[0;34m\u001b[0m\u001b[0;34m\u001b[0m\u001b[0m\n",
            "\u001b[0;32m/usr/local/lib/python3.7/dist-packages/tensorflow/python/data/ops/dataset_ops.py\u001b[0m in \u001b[0;36m__init__\u001b[0;34m(self, element, name)\u001b[0m\n\u001b[1;32m   4634\u001b[0m   \u001b[0;32mdef\u001b[0m \u001b[0m__init__\u001b[0m\u001b[0;34m(\u001b[0m\u001b[0mself\u001b[0m\u001b[0;34m,\u001b[0m \u001b[0melement\u001b[0m\u001b[0;34m,\u001b[0m \u001b[0mname\u001b[0m\u001b[0;34m=\u001b[0m\u001b[0;32mNone\u001b[0m\u001b[0;34m)\u001b[0m\u001b[0;34m:\u001b[0m\u001b[0;34m\u001b[0m\u001b[0;34m\u001b[0m\u001b[0m\n\u001b[1;32m   4635\u001b[0m     \u001b[0;34m\"\"\"See `Dataset.from_tensors()` for details.\"\"\"\u001b[0m\u001b[0;34m\u001b[0m\u001b[0;34m\u001b[0m\u001b[0m\n\u001b[0;32m-> 4636\u001b[0;31m     \u001b[0melement\u001b[0m \u001b[0;34m=\u001b[0m \u001b[0mstructure\u001b[0m\u001b[0;34m.\u001b[0m\u001b[0mnormalize_element\u001b[0m\u001b[0;34m(\u001b[0m\u001b[0melement\u001b[0m\u001b[0;34m)\u001b[0m\u001b[0;34m\u001b[0m\u001b[0;34m\u001b[0m\u001b[0m\n\u001b[0m\u001b[1;32m   4637\u001b[0m     \u001b[0mself\u001b[0m\u001b[0;34m.\u001b[0m\u001b[0m_structure\u001b[0m \u001b[0;34m=\u001b[0m \u001b[0mstructure\u001b[0m\u001b[0;34m.\u001b[0m\u001b[0mtype_spec_from_value\u001b[0m\u001b[0;34m(\u001b[0m\u001b[0melement\u001b[0m\u001b[0;34m)\u001b[0m\u001b[0;34m\u001b[0m\u001b[0;34m\u001b[0m\u001b[0m\n\u001b[1;32m   4638\u001b[0m     \u001b[0mself\u001b[0m\u001b[0;34m.\u001b[0m\u001b[0m_tensors\u001b[0m \u001b[0;34m=\u001b[0m \u001b[0mstructure\u001b[0m\u001b[0;34m.\u001b[0m\u001b[0mto_tensor_list\u001b[0m\u001b[0;34m(\u001b[0m\u001b[0mself\u001b[0m\u001b[0;34m.\u001b[0m\u001b[0m_structure\u001b[0m\u001b[0;34m,\u001b[0m \u001b[0melement\u001b[0m\u001b[0;34m)\u001b[0m\u001b[0;34m\u001b[0m\u001b[0;34m\u001b[0m\u001b[0m\n",
            "\u001b[0;32m/usr/local/lib/python3.7/dist-packages/tensorflow/python/data/util/structure.py\u001b[0m in \u001b[0;36mnormalize_element\u001b[0;34m(element, element_signature)\u001b[0m\n\u001b[1;32m    109\u001b[0m         \u001b[0;31m# the value. As a fallback try converting the value to a tensor.\u001b[0m\u001b[0;34m\u001b[0m\u001b[0;34m\u001b[0m\u001b[0;34m\u001b[0m\u001b[0m\n\u001b[1;32m    110\u001b[0m         normalized_components.append(\n\u001b[0;32m--> 111\u001b[0;31m             ops.convert_to_tensor(t, name=\"component_%d\" % i))\n\u001b[0m\u001b[1;32m    112\u001b[0m       \u001b[0;32melse\u001b[0m\u001b[0;34m:\u001b[0m\u001b[0;34m\u001b[0m\u001b[0;34m\u001b[0m\u001b[0m\n\u001b[1;32m    113\u001b[0m         \u001b[0;32mif\u001b[0m \u001b[0misinstance\u001b[0m\u001b[0;34m(\u001b[0m\u001b[0mspec\u001b[0m\u001b[0;34m,\u001b[0m \u001b[0msparse_tensor\u001b[0m\u001b[0;34m.\u001b[0m\u001b[0mSparseTensorSpec\u001b[0m\u001b[0;34m)\u001b[0m\u001b[0;34m:\u001b[0m\u001b[0;34m\u001b[0m\u001b[0;34m\u001b[0m\u001b[0m\n",
            "\u001b[0;32m/usr/local/lib/python3.7/dist-packages/tensorflow/python/profiler/trace.py\u001b[0m in \u001b[0;36mwrapped\u001b[0;34m(*args, **kwargs)\u001b[0m\n\u001b[1;32m    161\u001b[0m         \u001b[0;32mwith\u001b[0m \u001b[0mTrace\u001b[0m\u001b[0;34m(\u001b[0m\u001b[0mtrace_name\u001b[0m\u001b[0;34m,\u001b[0m \u001b[0;34m**\u001b[0m\u001b[0mtrace_kwargs\u001b[0m\u001b[0;34m)\u001b[0m\u001b[0;34m:\u001b[0m\u001b[0;34m\u001b[0m\u001b[0;34m\u001b[0m\u001b[0m\n\u001b[1;32m    162\u001b[0m           \u001b[0;32mreturn\u001b[0m \u001b[0mfunc\u001b[0m\u001b[0;34m(\u001b[0m\u001b[0;34m*\u001b[0m\u001b[0margs\u001b[0m\u001b[0;34m,\u001b[0m \u001b[0;34m**\u001b[0m\u001b[0mkwargs\u001b[0m\u001b[0;34m)\u001b[0m\u001b[0;34m\u001b[0m\u001b[0;34m\u001b[0m\u001b[0m\n\u001b[0;32m--> 163\u001b[0;31m       \u001b[0;32mreturn\u001b[0m \u001b[0mfunc\u001b[0m\u001b[0;34m(\u001b[0m\u001b[0;34m*\u001b[0m\u001b[0margs\u001b[0m\u001b[0;34m,\u001b[0m \u001b[0;34m**\u001b[0m\u001b[0mkwargs\u001b[0m\u001b[0;34m)\u001b[0m\u001b[0;34m\u001b[0m\u001b[0;34m\u001b[0m\u001b[0m\n\u001b[0m\u001b[1;32m    164\u001b[0m \u001b[0;34m\u001b[0m\u001b[0m\n\u001b[1;32m    165\u001b[0m     \u001b[0;32mreturn\u001b[0m \u001b[0mwrapped\u001b[0m\u001b[0;34m\u001b[0m\u001b[0;34m\u001b[0m\u001b[0m\n",
            "\u001b[0;32m/usr/local/lib/python3.7/dist-packages/tensorflow/python/framework/ops.py\u001b[0m in \u001b[0;36mconvert_to_tensor\u001b[0;34m(value, dtype, name, as_ref, preferred_dtype, dtype_hint, ctx, accepted_result_types)\u001b[0m\n\u001b[1;32m   1619\u001b[0m \u001b[0;34m\u001b[0m\u001b[0m\n\u001b[1;32m   1620\u001b[0m     \u001b[0;32mif\u001b[0m \u001b[0mret\u001b[0m \u001b[0;32mis\u001b[0m \u001b[0;32mNone\u001b[0m\u001b[0;34m:\u001b[0m\u001b[0;34m\u001b[0m\u001b[0;34m\u001b[0m\u001b[0m\n\u001b[0;32m-> 1621\u001b[0;31m       \u001b[0mret\u001b[0m \u001b[0;34m=\u001b[0m \u001b[0mconversion_func\u001b[0m\u001b[0;34m(\u001b[0m\u001b[0mvalue\u001b[0m\u001b[0;34m,\u001b[0m \u001b[0mdtype\u001b[0m\u001b[0;34m=\u001b[0m\u001b[0mdtype\u001b[0m\u001b[0;34m,\u001b[0m \u001b[0mname\u001b[0m\u001b[0;34m=\u001b[0m\u001b[0mname\u001b[0m\u001b[0;34m,\u001b[0m \u001b[0mas_ref\u001b[0m\u001b[0;34m=\u001b[0m\u001b[0mas_ref\u001b[0m\u001b[0;34m)\u001b[0m\u001b[0;34m\u001b[0m\u001b[0;34m\u001b[0m\u001b[0m\n\u001b[0m\u001b[1;32m   1622\u001b[0m \u001b[0;34m\u001b[0m\u001b[0m\n\u001b[1;32m   1623\u001b[0m     \u001b[0;32mif\u001b[0m \u001b[0mret\u001b[0m \u001b[0;32mis\u001b[0m \u001b[0mNotImplemented\u001b[0m\u001b[0;34m:\u001b[0m\u001b[0;34m\u001b[0m\u001b[0;34m\u001b[0m\u001b[0m\n",
            "\u001b[0;32m/usr/local/lib/python3.7/dist-packages/tensorflow/python/ops/array_ops.py\u001b[0m in \u001b[0;36m_autopacking_conversion_function\u001b[0;34m(v, dtype, name, as_ref)\u001b[0m\n\u001b[1;32m   1535\u001b[0m   \u001b[0;32melif\u001b[0m \u001b[0mdtype\u001b[0m \u001b[0;34m!=\u001b[0m \u001b[0minferred_dtype\u001b[0m\u001b[0;34m:\u001b[0m\u001b[0;34m\u001b[0m\u001b[0;34m\u001b[0m\u001b[0m\n\u001b[1;32m   1536\u001b[0m     \u001b[0mv\u001b[0m \u001b[0;34m=\u001b[0m \u001b[0mnest\u001b[0m\u001b[0;34m.\u001b[0m\u001b[0mmap_structure\u001b[0m\u001b[0;34m(\u001b[0m\u001b[0m_cast_nested_seqs_to_dtype\u001b[0m\u001b[0;34m(\u001b[0m\u001b[0mdtype\u001b[0m\u001b[0;34m)\u001b[0m\u001b[0;34m,\u001b[0m \u001b[0mv\u001b[0m\u001b[0;34m)\u001b[0m\u001b[0;34m\u001b[0m\u001b[0;34m\u001b[0m\u001b[0m\n\u001b[0;32m-> 1537\u001b[0;31m   \u001b[0;32mreturn\u001b[0m \u001b[0m_autopacking_helper\u001b[0m\u001b[0;34m(\u001b[0m\u001b[0mv\u001b[0m\u001b[0;34m,\u001b[0m \u001b[0mdtype\u001b[0m\u001b[0;34m,\u001b[0m \u001b[0mname\u001b[0m \u001b[0;32mor\u001b[0m \u001b[0;34m\"packed\"\u001b[0m\u001b[0;34m)\u001b[0m\u001b[0;34m\u001b[0m\u001b[0;34m\u001b[0m\u001b[0m\n\u001b[0m\u001b[1;32m   1538\u001b[0m \u001b[0;34m\u001b[0m\u001b[0m\n\u001b[1;32m   1539\u001b[0m \u001b[0;34m\u001b[0m\u001b[0m\n",
            "\u001b[0;32m/usr/local/lib/python3.7/dist-packages/tensorflow/python/ops/array_ops.py\u001b[0m in \u001b[0;36m_autopacking_helper\u001b[0;34m(list_or_tuple, dtype, name)\u001b[0m\n\u001b[1;32m   1442\u001b[0m     \u001b[0;31m# checking.\u001b[0m\u001b[0;34m\u001b[0m\u001b[0;34m\u001b[0m\u001b[0;34m\u001b[0m\u001b[0m\n\u001b[1;32m   1443\u001b[0m     \u001b[0;32mif\u001b[0m \u001b[0mall\u001b[0m\u001b[0;34m(\u001b[0m\u001b[0misinstance\u001b[0m\u001b[0;34m(\u001b[0m\u001b[0melem\u001b[0m\u001b[0;34m,\u001b[0m \u001b[0mcore\u001b[0m\u001b[0;34m.\u001b[0m\u001b[0mTensor\u001b[0m\u001b[0;34m)\u001b[0m \u001b[0;32mfor\u001b[0m \u001b[0melem\u001b[0m \u001b[0;32min\u001b[0m \u001b[0mlist_or_tuple\u001b[0m\u001b[0;34m)\u001b[0m\u001b[0;34m:\u001b[0m\u001b[0;34m\u001b[0m\u001b[0;34m\u001b[0m\u001b[0m\n\u001b[0;32m-> 1444\u001b[0;31m       \u001b[0;32mreturn\u001b[0m \u001b[0mgen_array_ops\u001b[0m\u001b[0;34m.\u001b[0m\u001b[0mpack\u001b[0m\u001b[0;34m(\u001b[0m\u001b[0mlist_or_tuple\u001b[0m\u001b[0;34m,\u001b[0m \u001b[0mname\u001b[0m\u001b[0;34m=\u001b[0m\u001b[0mname\u001b[0m\u001b[0;34m)\u001b[0m\u001b[0;34m\u001b[0m\u001b[0;34m\u001b[0m\u001b[0m\n\u001b[0m\u001b[1;32m   1445\u001b[0m   \u001b[0mmust_pack\u001b[0m \u001b[0;34m=\u001b[0m \u001b[0;32mFalse\u001b[0m\u001b[0;34m\u001b[0m\u001b[0;34m\u001b[0m\u001b[0m\n\u001b[1;32m   1446\u001b[0m   \u001b[0mconverted_elems\u001b[0m \u001b[0;34m=\u001b[0m \u001b[0;34m[\u001b[0m\u001b[0;34m]\u001b[0m\u001b[0;34m\u001b[0m\u001b[0;34m\u001b[0m\u001b[0m\n",
            "\u001b[0;32m/usr/local/lib/python3.7/dist-packages/tensorflow/python/ops/gen_array_ops.py\u001b[0m in \u001b[0;36mpack\u001b[0;34m(values, axis, name)\u001b[0m\n\u001b[1;32m   6546\u001b[0m       \u001b[0;32mreturn\u001b[0m \u001b[0m_result\u001b[0m\u001b[0;34m\u001b[0m\u001b[0;34m\u001b[0m\u001b[0m\n\u001b[1;32m   6547\u001b[0m     \u001b[0;32mexcept\u001b[0m \u001b[0m_core\u001b[0m\u001b[0;34m.\u001b[0m\u001b[0m_NotOkStatusException\u001b[0m \u001b[0;32mas\u001b[0m \u001b[0me\u001b[0m\u001b[0;34m:\u001b[0m\u001b[0;34m\u001b[0m\u001b[0;34m\u001b[0m\u001b[0m\n\u001b[0;32m-> 6548\u001b[0;31m       \u001b[0m_ops\u001b[0m\u001b[0;34m.\u001b[0m\u001b[0mraise_from_not_ok_status\u001b[0m\u001b[0;34m(\u001b[0m\u001b[0me\u001b[0m\u001b[0;34m,\u001b[0m \u001b[0mname\u001b[0m\u001b[0;34m)\u001b[0m\u001b[0;34m\u001b[0m\u001b[0;34m\u001b[0m\u001b[0m\n\u001b[0m\u001b[1;32m   6549\u001b[0m     \u001b[0;32mexcept\u001b[0m \u001b[0m_core\u001b[0m\u001b[0;34m.\u001b[0m\u001b[0m_FallbackException\u001b[0m\u001b[0;34m:\u001b[0m\u001b[0;34m\u001b[0m\u001b[0;34m\u001b[0m\u001b[0m\n\u001b[1;32m   6550\u001b[0m       \u001b[0;32mpass\u001b[0m\u001b[0;34m\u001b[0m\u001b[0;34m\u001b[0m\u001b[0m\n",
            "\u001b[0;32m/usr/local/lib/python3.7/dist-packages/tensorflow/python/framework/ops.py\u001b[0m in \u001b[0;36mraise_from_not_ok_status\u001b[0;34m(e, name)\u001b[0m\n\u001b[1;32m   7105\u001b[0m \u001b[0;32mdef\u001b[0m \u001b[0mraise_from_not_ok_status\u001b[0m\u001b[0;34m(\u001b[0m\u001b[0me\u001b[0m\u001b[0;34m,\u001b[0m \u001b[0mname\u001b[0m\u001b[0;34m)\u001b[0m\u001b[0;34m:\u001b[0m\u001b[0;34m\u001b[0m\u001b[0;34m\u001b[0m\u001b[0m\n\u001b[1;32m   7106\u001b[0m   \u001b[0me\u001b[0m\u001b[0;34m.\u001b[0m\u001b[0mmessage\u001b[0m \u001b[0;34m+=\u001b[0m \u001b[0;34m(\u001b[0m\u001b[0;34m\" name: \"\u001b[0m \u001b[0;34m+\u001b[0m \u001b[0mname\u001b[0m \u001b[0;32mif\u001b[0m \u001b[0mname\u001b[0m \u001b[0;32mis\u001b[0m \u001b[0;32mnot\u001b[0m \u001b[0;32mNone\u001b[0m \u001b[0;32melse\u001b[0m \u001b[0;34m\"\"\u001b[0m\u001b[0;34m)\u001b[0m\u001b[0;34m\u001b[0m\u001b[0;34m\u001b[0m\u001b[0m\n\u001b[0;32m-> 7107\u001b[0;31m   \u001b[0;32mraise\u001b[0m \u001b[0mcore\u001b[0m\u001b[0;34m.\u001b[0m\u001b[0m_status_to_exception\u001b[0m\u001b[0;34m(\u001b[0m\u001b[0me\u001b[0m\u001b[0;34m)\u001b[0m \u001b[0;32mfrom\u001b[0m \u001b[0;32mNone\u001b[0m  \u001b[0;31m# pylint: disable=protected-access\u001b[0m\u001b[0;34m\u001b[0m\u001b[0;34m\u001b[0m\u001b[0m\n\u001b[0m\u001b[1;32m   7108\u001b[0m \u001b[0;34m\u001b[0m\u001b[0m\n\u001b[1;32m   7109\u001b[0m \u001b[0;34m\u001b[0m\u001b[0m\n",
            "\u001b[0;31mInvalidArgumentError\u001b[0m: cannot compute Pack as input #1(zero-based) was expected to be a string tensor but is a int64 tensor [Op:Pack] name: component_0"
          ]
        }
      ]
    },
    {
      "cell_type": "code",
      "metadata": {
        "id": "PQxn4JFlbmma",
        "outputId": "6607fbd4-5fed-48eb-eed9-eb1fdf948bf3",
        "colab": {
          "base_uri": "https://localhost:8080/",
          "height": 164
        }
      },
      "source": [
        "tf_reviews"
      ],
      "execution_count": 43,
      "outputs": [
        {
          "output_type": "error",
          "ename": "NameError",
          "evalue": "ignored",
          "traceback": [
            "\u001b[0;31m---------------------------------------------------------------------------\u001b[0m",
            "\u001b[0;31mNameError\u001b[0m                                 Traceback (most recent call last)",
            "\u001b[0;32m<ipython-input-43-a55ce5f2077d>\u001b[0m in \u001b[0;36m<module>\u001b[0;34m()\u001b[0m\n\u001b[0;32m----> 1\u001b[0;31m \u001b[0mtf_reviews\u001b[0m\u001b[0;34m\u001b[0m\u001b[0;34m\u001b[0m\u001b[0m\n\u001b[0m",
            "\u001b[0;31mNameError\u001b[0m: name 'tf_reviews' is not defined"
          ]
        }
      ]
    },
    {
      "cell_type": "code",
      "metadata": {
        "id": "3nFq537Dbmmb",
        "outputId": "6647cff5-20df-423c-994b-75785e3484a1",
        "colab": {
          "base_uri": "https://localhost:8080/"
        }
      },
      "source": [
        "for line in review_ds.take(3):\n",
        "    print(line)\n",
        "    print(\"--\")\n",
        "for line in tf_book_ds.take(3):\n",
        "    print(line)\n",
        "    print(\"--\")"
      ],
      "execution_count": 82,
      "outputs": [
        {
          "output_type": "stream",
          "name": "stdout",
          "text": [
            "{'user_id': <tf.Tensor: shape=(), dtype=string, numpy=b'8842281e1d1347389f2ab93d60773d4d'>, 'book_id': <tf.Tensor: shape=(), dtype=int64, numpy=6392944>}\n",
            "--\n",
            "{'user_id': <tf.Tensor: shape=(), dtype=string, numpy=b'8842281e1d1347389f2ab93d60773d4d'>, 'book_id': <tf.Tensor: shape=(), dtype=int64, numpy=28684704>}\n",
            "--\n",
            "{'user_id': <tf.Tensor: shape=(), dtype=string, numpy=b'8842281e1d1347389f2ab93d60773d4d'>, 'book_id': <tf.Tensor: shape=(), dtype=int64, numpy=32283133>}\n",
            "--\n",
            "{'book_id': <tf.Tensor: shape=(), dtype=string, numpy=b'6066814'>, 'title': <tf.Tensor: shape=(), dtype=string, numpy=b'Crowner Royal (Crowner John Mystery, #13)'>}\n",
            "--\n",
            "{'book_id': <tf.Tensor: shape=(), dtype=string, numpy=b'33394837'>, 'title': <tf.Tensor: shape=(), dtype=string, numpy=b\"The House of Memory (Pluto's Snitch #2)\">}\n",
            "--\n",
            "{'book_id': <tf.Tensor: shape=(), dtype=string, numpy=b'29074697'>, 'title': <tf.Tensor: shape=(), dtype=string, numpy=b'The Slaughtered Virgin of Zenopolis (Inspector Capstan #1)'>}\n",
            "--\n"
          ]
        }
      ]
    },
    {
      "cell_type": "code",
      "metadata": {
        "id": "-qTYdae6tzwM",
        "outputId": "d071a9a7-5d8f-4f8d-8a8e-7653c2b07138",
        "colab": {
          "base_uri": "https://localhost:8080/"
        }
      },
      "source": [
        "a = next(tf_book_ds.as_numpy_iterator())\n",
        "a"
      ],
      "execution_count": 83,
      "outputs": [
        {
          "output_type": "execute_result",
          "data": {
            "text/plain": [
              "{'book_id': b'6066814', 'title': b'Crowner Royal (Crowner John Mystery, #13)'}"
            ]
          },
          "metadata": {},
          "execution_count": 83
        }
      ]
    },
    {
      "cell_type": "code",
      "metadata": {
        "id": "xv1lJZg-t3xW",
        "outputId": "7d7ebb89-0dcf-4b03-9380-06c7f55c7cdd",
        "colab": {
          "base_uri": "https://localhost:8080/"
        }
      },
      "source": [
        "a['book_id']"
      ],
      "execution_count": 84,
      "outputs": [
        {
          "output_type": "execute_result",
          "data": {
            "text/plain": [
              "b'6066814'"
            ]
          },
          "metadata": {},
          "execution_count": 84
        }
      ]
    },
    {
      "cell_type": "code",
      "metadata": {
        "id": "pmvZYFerbmmc"
      },
      "source": [
        "user_ids_vocabulary = tf.keras.layers.StringLookup(mask_token=None)\n",
        "user_ids_vocabulary.adapt(review_ds.map(lambda x: x['user_id']))"
      ],
      "execution_count": 54,
      "outputs": []
    },
    {
      "cell_type": "code",
      "metadata": {
        "id": "uwchQuPfbmmd",
        "outputId": "24b890da-efb8-47f8-8e9a-6cb622a4933a",
        "colab": {
          "base_uri": "https://localhost:8080/"
        }
      },
      "source": [
        "len(user_ids_vocabulary.get_vocabulary())\n",
        "user_ids_vocabulary.get_vocabulary()[:10]"
      ],
      "execution_count": 57,
      "outputs": [
        {
          "output_type": "execute_result",
          "data": {
            "text/plain": [
              "['[UNK]',\n",
              " 'b11fb9f8b16ed8c8021fcc2a193a6016',\n",
              " 'fdc12d21a19b9c69b479a2b62cd6fa53',\n",
              " 'ab2fadb5c7bbe55c80406d2b3692e969',\n",
              " 'cd6522e9018f2f77332ec74f928f8c45',\n",
              " 'a04990a9062191f84d05d44581872e86',\n",
              " '230ca5b40e729a52912eb49b46670a0a',\n",
              " '0ef32090550901ead25cb0ea21c4d36b',\n",
              " 'cd23d9de8fb9983fe66401ed9268903b',\n",
              " '481d871a5c558a53a88f52ba290ec8c2']"
            ]
          },
          "metadata": {},
          "execution_count": 57
        }
      ]
    },
    {
      "cell_type": "code",
      "metadata": {
        "id": "C3Wo7_FRpvEk"
      },
      "source": [
        "book_titles_vocabulary = tf.keras.layers.StringLookup(mask_token=None)\n",
        "book_titles_vocabulary.adapt(tf_book_ds.map(lambda x: x['book_id']))"
      ],
      "execution_count": 85,
      "outputs": []
    },
    {
      "cell_type": "code",
      "metadata": {
        "id": "Q0X8jVrVbmmg",
        "outputId": "db7ee7c0-45e6-4833-e51c-d75353986b4d",
        "colab": {
          "base_uri": "https://localhost:8080/"
        }
      },
      "source": [
        "print(len(book_titles_vocabulary.get_vocabulary()))\n",
        "book_titles_vocabulary.get_vocabulary()[:10]\n"
      ],
      "execution_count": 86,
      "outputs": [
        {
          "output_type": "stream",
          "name": "stdout",
          "text": [
            "20001\n"
          ]
        },
        {
          "output_type": "execute_result",
          "data": {
            "text/plain": [
              "['[UNK]',\n",
              " '9997969',\n",
              " '9996438',\n",
              " '9996226',\n",
              " '9994711',\n",
              " '999149',\n",
              " '999049',\n",
              " '9988168',\n",
              " '9987430',\n",
              " '9986899']"
            ]
          },
          "metadata": {},
          "execution_count": 86
        }
      ]
    },
    {
      "cell_type": "code",
      "metadata": {
        "id": "aeLRwNF0bmmh"
      },
      "source": [
        "# Define user and movie models.\n",
        "user_model = tf.keras.Sequential([\n",
        "    user_ids_vocabulary,\n",
        "    tf.keras.layers.Embedding(user_ids_vocabulary.vocabulary_size(), 64)\n",
        "])\n",
        "# book_model = tf.keras.Sequential([\n",
        "#     book_titles_vocabulary,\n",
        "#     tf.keras.layers.Embedding(book_titles_vocabulary.vocabulary_size(), 64)\n",
        "# ])\n",
        "book_model = lambda x: x"
      ],
      "execution_count": 97,
      "outputs": []
    },
    {
      "cell_type": "code",
      "metadata": {
        "id": "WxLasTbgbmmi",
        "outputId": "85866ab1-06c5-4524-bb93-fc12adc70114",
        "colab": {
          "base_uri": "https://localhost:8080/"
        }
      },
      "source": [
        "for e in tf_book_ds.take(3):\n",
        "    print(e)\n",
        "print(\"---\")\n",
        "for e in review_ds.take(3):\n",
        "    print(e)"
      ],
      "execution_count": 102,
      "outputs": [
        {
          "output_type": "stream",
          "name": "stdout",
          "text": [
            "{'book_id': <tf.Tensor: shape=(), dtype=int64, numpy=6066814>, 'title': <tf.Tensor: shape=(), dtype=string, numpy=b'Crowner Royal (Crowner John Mystery, #13)'>}\n",
            "{'book_id': <tf.Tensor: shape=(), dtype=int64, numpy=33394837>, 'title': <tf.Tensor: shape=(), dtype=string, numpy=b\"The House of Memory (Pluto's Snitch #2)\">}\n",
            "{'book_id': <tf.Tensor: shape=(), dtype=int64, numpy=29074697>, 'title': <tf.Tensor: shape=(), dtype=string, numpy=b'The Slaughtered Virgin of Zenopolis (Inspector Capstan #1)'>}\n",
            "---\n",
            "{'user_id': <tf.Tensor: shape=(), dtype=string, numpy=b'8842281e1d1347389f2ab93d60773d4d'>, 'book_id': <tf.Tensor: shape=(), dtype=int64, numpy=6392944>}\n",
            "{'user_id': <tf.Tensor: shape=(), dtype=string, numpy=b'8842281e1d1347389f2ab93d60773d4d'>, 'book_id': <tf.Tensor: shape=(), dtype=int64, numpy=28684704>}\n",
            "{'user_id': <tf.Tensor: shape=(), dtype=string, numpy=b'8842281e1d1347389f2ab93d60773d4d'>, 'book_id': <tf.Tensor: shape=(), dtype=int64, numpy=32283133>}\n"
          ]
        }
      ]
    },
    {
      "cell_type": "code",
      "metadata": {
        "id": "b9sWUTO6bmmi"
      },
      "source": [
        "# Define your objectives.\n",
        "task = tfrs.tasks.Retrieval(metrics=tfrs.metrics.FactorizedTopK(\n",
        "    tf_book_ds.batch(32).map(lambda x: x['book_id']).map(book_model)\n",
        "  )\n",
        ")"
      ],
      "execution_count": 98,
      "outputs": []
    },
    {
      "cell_type": "markdown",
      "metadata": {
        "id": "oP5ILE51bmmj"
      },
      "source": [
        "### Fit and evaluate it.\n",
        "\n",
        "Create the model, train it, and generate predictions:"
      ]
    },
    {
      "cell_type": "code",
      "metadata": {
        "id": "RGzbOx4Pbmmk",
        "outputId": "94cc5856-887a-4bd1-960b-1fe02f95493b",
        "colab": {
          "base_uri": "https://localhost:8080/"
        }
      },
      "source": [
        "for e in review_ds.take(3):\n",
        "    print(e)"
      ],
      "execution_count": 101,
      "outputs": [
        {
          "output_type": "stream",
          "name": "stdout",
          "text": [
            "{'user_id': <tf.Tensor: shape=(), dtype=string, numpy=b'8842281e1d1347389f2ab93d60773d4d'>, 'book_id': <tf.Tensor: shape=(), dtype=int64, numpy=6392944>}\n",
            "{'user_id': <tf.Tensor: shape=(), dtype=string, numpy=b'8842281e1d1347389f2ab93d60773d4d'>, 'book_id': <tf.Tensor: shape=(), dtype=int64, numpy=28684704>}\n",
            "{'user_id': <tf.Tensor: shape=(), dtype=string, numpy=b'8842281e1d1347389f2ab93d60773d4d'>, 'book_id': <tf.Tensor: shape=(), dtype=int64, numpy=32283133>}\n"
          ]
        }
      ]
    },
    {
      "cell_type": "code",
      "metadata": {
        "id": "Oa2JiJFebmml",
        "outputId": "e26030d2-ae62-4eae-93c8-a1f4c441d0f0",
        "colab": {
          "base_uri": "https://localhost:8080/",
          "height": 953
        }
      },
      "source": [
        "# Create a retrieval model.\n",
        "model = GoodReadsModel(user_model, book_model, task)\n",
        "model.compile(optimizer=tf.keras.optimizers.Adagrad(0.5))\n",
        "\n",
        "# Train for 3 epochs.\n",
        "model.fit(review_ds.batch(32), epochs=20)\n",
        "\n",
        "# Use brute-force search to set up retrieval using the trained representations.\n",
        "index = tfrs.layers.factorized_top_k.BruteForce(model.user_model)\n",
        "index.index_from_dataset(\n",
        "    tf_book_ds.batch(32).map(lambda x: (x['book_id'], model.book_model(x['book_id']))))\n"
      ],
      "execution_count": 100,
      "outputs": [
        {
          "output_type": "stream",
          "name": "stdout",
          "text": [
            "Epoch 1/20\n"
          ]
        },
        {
          "output_type": "error",
          "ename": "TypeError",
          "evalue": "ignored",
          "traceback": [
            "\u001b[0;31m---------------------------------------------------------------------------\u001b[0m",
            "\u001b[0;31mTypeError\u001b[0m                                 Traceback (most recent call last)",
            "\u001b[0;32m<ipython-input-100-27e7bebfa661>\u001b[0m in \u001b[0;36m<module>\u001b[0;34m()\u001b[0m\n\u001b[1;32m      4\u001b[0m \u001b[0;34m\u001b[0m\u001b[0m\n\u001b[1;32m      5\u001b[0m \u001b[0;31m# Train for 3 epochs.\u001b[0m\u001b[0;34m\u001b[0m\u001b[0;34m\u001b[0m\u001b[0;34m\u001b[0m\u001b[0m\n\u001b[0;32m----> 6\u001b[0;31m \u001b[0mmodel\u001b[0m\u001b[0;34m.\u001b[0m\u001b[0mfit\u001b[0m\u001b[0;34m(\u001b[0m\u001b[0mreview_ds\u001b[0m\u001b[0;34m.\u001b[0m\u001b[0mbatch\u001b[0m\u001b[0;34m(\u001b[0m\u001b[0;36m32\u001b[0m\u001b[0;34m)\u001b[0m\u001b[0;34m,\u001b[0m \u001b[0mepochs\u001b[0m\u001b[0;34m=\u001b[0m\u001b[0;36m20\u001b[0m\u001b[0;34m)\u001b[0m\u001b[0;34m\u001b[0m\u001b[0;34m\u001b[0m\u001b[0m\n\u001b[0m\u001b[1;32m      7\u001b[0m \u001b[0;34m\u001b[0m\u001b[0m\n\u001b[1;32m      8\u001b[0m \u001b[0;31m# Use brute-force search to set up retrieval using the trained representations.\u001b[0m\u001b[0;34m\u001b[0m\u001b[0;34m\u001b[0m\u001b[0;34m\u001b[0m\u001b[0m\n",
            "\u001b[0;32m/usr/local/lib/python3.7/dist-packages/keras/utils/traceback_utils.py\u001b[0m in \u001b[0;36merror_handler\u001b[0;34m(*args, **kwargs)\u001b[0m\n\u001b[1;32m     65\u001b[0m     \u001b[0;32mexcept\u001b[0m \u001b[0mException\u001b[0m \u001b[0;32mas\u001b[0m \u001b[0me\u001b[0m\u001b[0;34m:\u001b[0m  \u001b[0;31m# pylint: disable=broad-except\u001b[0m\u001b[0;34m\u001b[0m\u001b[0;34m\u001b[0m\u001b[0m\n\u001b[1;32m     66\u001b[0m       \u001b[0mfiltered_tb\u001b[0m \u001b[0;34m=\u001b[0m \u001b[0m_process_traceback_frames\u001b[0m\u001b[0;34m(\u001b[0m\u001b[0me\u001b[0m\u001b[0;34m.\u001b[0m\u001b[0m__traceback__\u001b[0m\u001b[0;34m)\u001b[0m\u001b[0;34m\u001b[0m\u001b[0;34m\u001b[0m\u001b[0m\n\u001b[0;32m---> 67\u001b[0;31m       \u001b[0;32mraise\u001b[0m \u001b[0me\u001b[0m\u001b[0;34m.\u001b[0m\u001b[0mwith_traceback\u001b[0m\u001b[0;34m(\u001b[0m\u001b[0mfiltered_tb\u001b[0m\u001b[0;34m)\u001b[0m \u001b[0;32mfrom\u001b[0m \u001b[0;32mNone\u001b[0m\u001b[0;34m\u001b[0m\u001b[0;34m\u001b[0m\u001b[0m\n\u001b[0m\u001b[1;32m     68\u001b[0m     \u001b[0;32mfinally\u001b[0m\u001b[0;34m:\u001b[0m\u001b[0;34m\u001b[0m\u001b[0;34m\u001b[0m\u001b[0m\n\u001b[1;32m     69\u001b[0m       \u001b[0;32mdel\u001b[0m \u001b[0mfiltered_tb\u001b[0m\u001b[0;34m\u001b[0m\u001b[0;34m\u001b[0m\u001b[0m\n",
            "\u001b[0;32m/usr/local/lib/python3.7/dist-packages/tensorflow/python/framework/func_graph.py\u001b[0m in \u001b[0;36mautograph_handler\u001b[0;34m(*args, **kwargs)\u001b[0m\n\u001b[1;32m   1127\u001b[0m           \u001b[0;32mexcept\u001b[0m \u001b[0mException\u001b[0m \u001b[0;32mas\u001b[0m \u001b[0me\u001b[0m\u001b[0;34m:\u001b[0m  \u001b[0;31m# pylint:disable=broad-except\u001b[0m\u001b[0;34m\u001b[0m\u001b[0;34m\u001b[0m\u001b[0m\n\u001b[1;32m   1128\u001b[0m             \u001b[0;32mif\u001b[0m \u001b[0mhasattr\u001b[0m\u001b[0;34m(\u001b[0m\u001b[0me\u001b[0m\u001b[0;34m,\u001b[0m \u001b[0;34m\"ag_error_metadata\"\u001b[0m\u001b[0;34m)\u001b[0m\u001b[0;34m:\u001b[0m\u001b[0;34m\u001b[0m\u001b[0;34m\u001b[0m\u001b[0m\n\u001b[0;32m-> 1129\u001b[0;31m               \u001b[0;32mraise\u001b[0m \u001b[0me\u001b[0m\u001b[0;34m.\u001b[0m\u001b[0mag_error_metadata\u001b[0m\u001b[0;34m.\u001b[0m\u001b[0mto_exception\u001b[0m\u001b[0;34m(\u001b[0m\u001b[0me\u001b[0m\u001b[0;34m)\u001b[0m\u001b[0;34m\u001b[0m\u001b[0;34m\u001b[0m\u001b[0m\n\u001b[0m\u001b[1;32m   1130\u001b[0m             \u001b[0;32melse\u001b[0m\u001b[0;34m:\u001b[0m\u001b[0;34m\u001b[0m\u001b[0;34m\u001b[0m\u001b[0m\n\u001b[1;32m   1131\u001b[0m               \u001b[0;32mraise\u001b[0m\u001b[0;34m\u001b[0m\u001b[0;34m\u001b[0m\u001b[0m\n",
            "\u001b[0;31mTypeError\u001b[0m: in user code:\n\n    File \"/usr/local/lib/python3.7/dist-packages/keras/engine/training.py\", line 878, in train_function  *\n        return step_function(self, iterator)\n    File \"/usr/local/lib/python3.7/dist-packages/keras/engine/training.py\", line 867, in step_function  **\n        outputs = model.distribute_strategy.run(run_step, args=(data,))\n    File \"/usr/local/lib/python3.7/dist-packages/keras/engine/training.py\", line 860, in run_step  **\n        outputs = model.train_step(data)\n    File \"/usr/local/lib/python3.7/dist-packages/tensorflow_recommenders/models/base.py\", line 68, in train_step\n        loss = self.compute_loss(inputs, training=True)\n    File \"<ipython-input-33-a25805f6f738>\", line 27, in compute_loss\n        return self.task(user_embeddings, movie_embeddings)\n    File \"/usr/local/lib/python3.7/dist-packages/keras/utils/traceback_utils.py\", line 67, in error_handler\n        raise e.with_traceback(filtered_tb) from None\n\n    TypeError: Exception encountered when calling layer \"retrieval_2\" (type Retrieval).\n    \n    in user code:\n    \n        File \"/usr/local/lib/python3.7/dist-packages/tensorflow_recommenders/tasks/retrieval.py\", line 132, in call  *\n            scores = tf.linalg.matmul(\n    \n        TypeError: Input 'b' of 'MatMul' Op has type int64 that does not match type float32 of argument 'a'.\n    \n    \n    Call arguments received:\n      • query_embeddings=tf.Tensor(shape=(None, 64), dtype=float32)\n      • candidate_embeddings=tf.Tensor(shape=(None,), dtype=int64)\n      • sample_weight=None\n      • candidate_sampling_probability=None\n      • candidate_ids=None\n      • compute_metrics=True\n"
          ]
        }
      ]
    },
    {
      "cell_type": "code",
      "metadata": {
        "id": "R161nGp8bmmn"
      },
      "source": [
        "# Load the TensorBoard notebook extension\n",
        "%load_ext tensorboard\n"
      ],
      "execution_count": null,
      "outputs": []
    },
    {
      "cell_type": "code",
      "metadata": {
        "id": "LX9bYZd2bmmo"
      },
      "source": [
        "\n",
        "# Get some recommendations.\n",
        "values, titles = index(np.array([\"42\"]))\n",
        "print(f\"Top 3 recommendations for user 42: {titles[0, :3]}\")"
      ],
      "execution_count": null,
      "outputs": []
    },
    {
      "cell_type": "code",
      "metadata": {
        "id": "iPcxRXCxbmmq"
      },
      "source": [
        "index"
      ],
      "execution_count": null,
      "outputs": []
    },
    {
      "cell_type": "code",
      "metadata": {
        "id": "_il_f4jcbmms"
      },
      "source": [
        "values"
      ],
      "execution_count": null,
      "outputs": []
    },
    {
      "cell_type": "code",
      "metadata": {
        "id": "IhXem_Nobmmt"
      },
      "source": [
        "ids = [str(title.numpy()).split(\"'\")[1] for title in titles[0, :5]]\n",
        "print(ids)\n",
        "df_books[df_books.index.isin(ids)]"
      ],
      "execution_count": null,
      "outputs": []
    },
    {
      "cell_type": "code",
      "metadata": {
        "id": "OuI67Omdbmmv"
      },
      "source": [
        "df_reviews.iloc[42]"
      ],
      "execution_count": null,
      "outputs": []
    },
    {
      "cell_type": "code",
      "metadata": {
        "id": "oEyHhIvsbmmw"
      },
      "source": [
        "user_review_book_ids = df_reviews[df_reviews['user_id'] == '06316bec7a49286f1f98d5acce24f923']['book_id'].tolist()\n",
        "user_review_book_ids\n"
      ],
      "execution_count": null,
      "outputs": []
    },
    {
      "cell_type": "code",
      "metadata": {
        "id": "aZ0yYHnbbmmx"
      },
      "source": [
        "import datetime\n",
        "fn = 'saved_model/goodreads_model_' + datetime.datetime.now().strftime(\"%Y%m%d-%H%M%S\")\n",
        "!mkdir -p saved_model\n",
        "model.save(fn)"
      ],
      "execution_count": null,
      "outputs": []
    },
    {
      "cell_type": "code",
      "metadata": {
        "id": "H2_fCQF5bmmz"
      },
      "source": [
        "import tempfile\n",
        "\n",
        "with tempfile.TemporaryDirectory() as tmp:\n",
        "  path = os.path.join(tmp, \"bruteforce\")\n",
        "  tf.saved_model.save(\n",
        "      index,\n",
        "      path,\n",
        "      options=tf.saved_model.SaveOptions(namespace_whitelist=[\"BruteForce\"])\n",
        "  )\n",
        "\n",
        "with tempfile.TemporaryDirectory() as tmp:\n",
        "  path = os.path.join(tmp, \"model\")\n",
        "  tf.saved_model.save(\n",
        "      model,\n",
        "      path,\n",
        "  )\n"
      ],
      "execution_count": null,
      "outputs": []
    },
    {
      "cell_type": "markdown",
      "metadata": {
        "id": "WEozKhfMlrhD"
      },
      "source": [
        "# DASK"
      ]
    },
    {
      "cell_type": "code",
      "metadata": {
        "id": "ZZ1YVYXokwWc",
        "outputId": "b35dc6df-5b90-4247-dd20-d4923913c13e",
        "colab": {
          "base_uri": "https://localhost:8080/"
        }
      },
      "source": [
        "!pip install dask[dataframe] --upgrade\n",
        "import numpy as np\n",
        "import pandas as pd\n",
        "import dask.dataframe as dd"
      ],
      "execution_count": 2,
      "outputs": [
        {
          "output_type": "stream",
          "name": "stdout",
          "text": [
            "Requirement already satisfied: dask[dataframe] in /usr/local/lib/python3.7/dist-packages (2.12.0)\n",
            "Requirement already satisfied: fsspec>=0.6.0 in /usr/local/lib/python3.7/dist-packages (from dask[dataframe]) (2021.11.0)\n",
            "Requirement already satisfied: pandas>=0.23.0 in /usr/local/lib/python3.7/dist-packages (from dask[dataframe]) (1.1.5)\n",
            "Requirement already satisfied: numpy>=1.13.0 in /usr/local/lib/python3.7/dist-packages (from dask[dataframe]) (1.19.5)\n",
            "Requirement already satisfied: toolz>=0.7.3 in /usr/local/lib/python3.7/dist-packages (from dask[dataframe]) (0.11.2)\n",
            "Requirement already satisfied: partd>=0.3.10 in /usr/local/lib/python3.7/dist-packages (from dask[dataframe]) (1.2.0)\n",
            "Requirement already satisfied: python-dateutil>=2.7.3 in /usr/local/lib/python3.7/dist-packages (from pandas>=0.23.0->dask[dataframe]) (2.8.2)\n",
            "Requirement already satisfied: pytz>=2017.2 in /usr/local/lib/python3.7/dist-packages (from pandas>=0.23.0->dask[dataframe]) (2018.9)\n",
            "Requirement already satisfied: locket in /usr/local/lib/python3.7/dist-packages (from partd>=0.3.10->dask[dataframe]) (0.2.1)\n",
            "Requirement already satisfied: six>=1.5 in /usr/local/lib/python3.7/dist-packages (from python-dateutil>=2.7.3->pandas>=0.23.0->dask[dataframe]) (1.15.0)\n"
          ]
        }
      ]
    },
    {
      "cell_type": "markdown",
      "metadata": {
        "id": "xnRJVFIVlIyV"
      },
      "source": [
        "## Pandas"
      ]
    },
    {
      "cell_type": "code",
      "metadata": {
        "id": "nZNyNqoPlLmg"
      },
      "source": [
        "DIR = './'\n",
        "import os"
      ],
      "execution_count": 3,
      "outputs": []
    },
    {
      "cell_type": "code",
      "metadata": {
        "id": "qwrEIVJTk4ke",
        "outputId": "2855cae2-3f8a-4f2d-b217-0f297238fe7f",
        "colab": {
          "base_uri": "https://localhost:8080/",
          "height": 1000
        }
      },
      "source": [
        "pd_books = pd.read_json(os.path.join(DIR, 'goodreads_books_mystery_thriller_crime.json.gz'), lines=True, nrows=50000)\n",
        "pd_books"
      ],
      "execution_count": 8,
      "outputs": [
        {
          "output_type": "execute_result",
          "data": {
            "text/html": [
              "<div>\n",
              "<style scoped>\n",
              "    .dataframe tbody tr th:only-of-type {\n",
              "        vertical-align: middle;\n",
              "    }\n",
              "\n",
              "    .dataframe tbody tr th {\n",
              "        vertical-align: top;\n",
              "    }\n",
              "\n",
              "    .dataframe thead th {\n",
              "        text-align: right;\n",
              "    }\n",
              "</style>\n",
              "<table border=\"1\" class=\"dataframe\">\n",
              "  <thead>\n",
              "    <tr style=\"text-align: right;\">\n",
              "      <th></th>\n",
              "      <th>isbn</th>\n",
              "      <th>text_reviews_count</th>\n",
              "      <th>series</th>\n",
              "      <th>country_code</th>\n",
              "      <th>language_code</th>\n",
              "      <th>popular_shelves</th>\n",
              "      <th>asin</th>\n",
              "      <th>is_ebook</th>\n",
              "      <th>average_rating</th>\n",
              "      <th>kindle_asin</th>\n",
              "      <th>similar_books</th>\n",
              "      <th>description</th>\n",
              "      <th>format</th>\n",
              "      <th>link</th>\n",
              "      <th>authors</th>\n",
              "      <th>publisher</th>\n",
              "      <th>num_pages</th>\n",
              "      <th>publication_day</th>\n",
              "      <th>isbn13</th>\n",
              "      <th>publication_month</th>\n",
              "      <th>edition_information</th>\n",
              "      <th>publication_year</th>\n",
              "      <th>url</th>\n",
              "      <th>image_url</th>\n",
              "      <th>book_id</th>\n",
              "      <th>ratings_count</th>\n",
              "      <th>work_id</th>\n",
              "      <th>title</th>\n",
              "      <th>title_without_series</th>\n",
              "    </tr>\n",
              "  </thead>\n",
              "  <tbody>\n",
              "    <tr>\n",
              "      <th>0</th>\n",
              "      <td>184737297X</td>\n",
              "      <td>15</td>\n",
              "      <td>[169353]</td>\n",
              "      <td>US</td>\n",
              "      <td></td>\n",
              "      <td>[{'count': '159', 'name': 'to-read'}, {'count'...</td>\n",
              "      <td></td>\n",
              "      <td>false</td>\n",
              "      <td>3.93</td>\n",
              "      <td>B007YLTG5I</td>\n",
              "      <td>[439108, 522621, 116770, 1275927, 6202655, 840...</td>\n",
              "      <td>London, 1196. At the command of Richard the Li...</td>\n",
              "      <td>Hardcover</td>\n",
              "      <td>https://www.goodreads.com/book/show/6066814-cr...</td>\n",
              "      <td>[{'author_id': '37778', 'role': ''}]</td>\n",
              "      <td>Simon &amp; Schuster UK</td>\n",
              "      <td>400</td>\n",
              "      <td>6</td>\n",
              "      <td>9781847372970</td>\n",
              "      <td>4</td>\n",
              "      <td></td>\n",
              "      <td>2009</td>\n",
              "      <td>https://www.goodreads.com/book/show/6066814-cr...</td>\n",
              "      <td>https://images.gr-assets.com/books/1328724803m...</td>\n",
              "      <td>6066814</td>\n",
              "      <td>186</td>\n",
              "      <td>6243149</td>\n",
              "      <td>Crowner Royal (Crowner John Mystery, #13)</td>\n",
              "      <td>Crowner Royal (Crowner John Mystery, #13)</td>\n",
              "    </tr>\n",
              "    <tr>\n",
              "      <th>1</th>\n",
              "      <td></td>\n",
              "      <td>60</td>\n",
              "      <td>[1052227]</td>\n",
              "      <td>US</td>\n",
              "      <td>eng</td>\n",
              "      <td>[{'count': '54', 'name': 'currently-reading'},...</td>\n",
              "      <td>B01NCIKAQX</td>\n",
              "      <td>true</td>\n",
              "      <td>4.33</td>\n",
              "      <td>B01NCIKAQX</td>\n",
              "      <td>[]</td>\n",
              "      <td></td>\n",
              "      <td></td>\n",
              "      <td>https://www.goodreads.com/book/show/33394837-t...</td>\n",
              "      <td>[{'author_id': '242185', 'role': ''}]</td>\n",
              "      <td></td>\n",
              "      <td>318</td>\n",
              "      <td></td>\n",
              "      <td></td>\n",
              "      <td></td>\n",
              "      <td></td>\n",
              "      <td></td>\n",
              "      <td>https://www.goodreads.com/book/show/33394837-t...</td>\n",
              "      <td>https://images.gr-assets.com/books/1493114742m...</td>\n",
              "      <td>33394837</td>\n",
              "      <td>269</td>\n",
              "      <td>54143148</td>\n",
              "      <td>The House of Memory (Pluto's Snitch #2)</td>\n",
              "      <td>The House of Memory (Pluto's Snitch #2)</td>\n",
              "    </tr>\n",
              "    <tr>\n",
              "      <th>2</th>\n",
              "      <td></td>\n",
              "      <td>23</td>\n",
              "      <td>[953679]</td>\n",
              "      <td>US</td>\n",
              "      <td>eng</td>\n",
              "      <td>[{'count': '90', 'name': 'to-read'}, {'count':...</td>\n",
              "      <td>B01ALOWJN0</td>\n",
              "      <td>true</td>\n",
              "      <td>3.49</td>\n",
              "      <td>B01ALOWJN0</td>\n",
              "      <td>[]</td>\n",
              "      <td>BATHS, BANKS AND ROMAN INSURRECTION\\nDetective...</td>\n",
              "      <td></td>\n",
              "      <td>https://www.goodreads.com/book/show/29074697-t...</td>\n",
              "      <td>[{'author_id': '15104629', 'role': ''}, {'auth...</td>\n",
              "      <td>Amazon Digital Services</td>\n",
              "      <td></td>\n",
              "      <td></td>\n",
              "      <td></td>\n",
              "      <td></td>\n",
              "      <td></td>\n",
              "      <td></td>\n",
              "      <td>https://www.goodreads.com/book/show/29074697-t...</td>\n",
              "      <td>https://s.gr-assets.com/assets/nophoto/book/11...</td>\n",
              "      <td>29074697</td>\n",
              "      <td>192</td>\n",
              "      <td>49305010</td>\n",
              "      <td>The Slaughtered Virgin of Zenopolis (Inspector...</td>\n",
              "      <td>The Slaughtered Virgin of Zenopolis (Inspector...</td>\n",
              "    </tr>\n",
              "    <tr>\n",
              "      <th>3</th>\n",
              "      <td>0854563903</td>\n",
              "      <td>8</td>\n",
              "      <td>[408775]</td>\n",
              "      <td>US</td>\n",
              "      <td></td>\n",
              "      <td>[{'count': '51', 'name': 'to-read'}, {'count':...</td>\n",
              "      <td></td>\n",
              "      <td>false</td>\n",
              "      <td>3.30</td>\n",
              "      <td></td>\n",
              "      <td>[]</td>\n",
              "      <td>Gerald breezily introduced his wife, Helen, to...</td>\n",
              "      <td>Hardcover</td>\n",
              "      <td>https://www.goodreads.com/book/show/1902202.De...</td>\n",
              "      <td>[{'author_id': '190988', 'role': ''}]</td>\n",
              "      <td>Ulverscroft</td>\n",
              "      <td></td>\n",
              "      <td>1</td>\n",
              "      <td>9780854563906</td>\n",
              "      <td>12</td>\n",
              "      <td>Large Print</td>\n",
              "      <td>1975</td>\n",
              "      <td>https://www.goodreads.com/book/show/1902202.De...</td>\n",
              "      <td>https://s.gr-assets.com/assets/nophoto/book/11...</td>\n",
              "      <td>1902202</td>\n",
              "      <td>52</td>\n",
              "      <td>1903897</td>\n",
              "      <td>Dead in the Morning (Patrick Grant, #1)</td>\n",
              "      <td>Dead in the Morning (Patrick Grant, #1)</td>\n",
              "    </tr>\n",
              "    <tr>\n",
              "      <th>4</th>\n",
              "      <td>8838920931</td>\n",
              "      <td>3</td>\n",
              "      <td>[274410]</td>\n",
              "      <td>US</td>\n",
              "      <td>ita</td>\n",
              "      <td>[{'count': '48', 'name': 'to-read'}, {'count':...</td>\n",
              "      <td></td>\n",
              "      <td>false</td>\n",
              "      <td>3.54</td>\n",
              "      <td></td>\n",
              "      <td>[]</td>\n",
              "      <td>\"I misteri di Eleusi\" e il quinto romanzo di A...</td>\n",
              "      <td>Paperback</td>\n",
              "      <td>https://www.goodreads.com/book/show/9671977-ar...</td>\n",
              "      <td>[{'author_id': '337108', 'role': ''}, {'author...</td>\n",
              "      <td>Sellerio</td>\n",
              "      <td>659</td>\n",
              "      <td></td>\n",
              "      <td>9788838920936</td>\n",
              "      <td></td>\n",
              "      <td></td>\n",
              "      <td>2006</td>\n",
              "      <td>https://www.goodreads.com/book/show/9671977-ar...</td>\n",
              "      <td>https://images.gr-assets.com/books/1474788304m...</td>\n",
              "      <td>9671977</td>\n",
              "      <td>22</td>\n",
              "      <td>2152906</td>\n",
              "      <td>Aristotele e i misteri di Eleusi</td>\n",
              "      <td>Aristotele e i misteri di Eleusi</td>\n",
              "    </tr>\n",
              "    <tr>\n",
              "      <th>...</th>\n",
              "      <td>...</td>\n",
              "      <td>...</td>\n",
              "      <td>...</td>\n",
              "      <td>...</td>\n",
              "      <td>...</td>\n",
              "      <td>...</td>\n",
              "      <td>...</td>\n",
              "      <td>...</td>\n",
              "      <td>...</td>\n",
              "      <td>...</td>\n",
              "      <td>...</td>\n",
              "      <td>...</td>\n",
              "      <td>...</td>\n",
              "      <td>...</td>\n",
              "      <td>...</td>\n",
              "      <td>...</td>\n",
              "      <td>...</td>\n",
              "      <td>...</td>\n",
              "      <td>...</td>\n",
              "      <td>...</td>\n",
              "      <td>...</td>\n",
              "      <td>...</td>\n",
              "      <td>...</td>\n",
              "      <td>...</td>\n",
              "      <td>...</td>\n",
              "      <td>...</td>\n",
              "      <td>...</td>\n",
              "      <td>...</td>\n",
              "      <td>...</td>\n",
              "    </tr>\n",
              "    <tr>\n",
              "      <th>49995</th>\n",
              "      <td></td>\n",
              "      <td>93</td>\n",
              "      <td>[1067177]</td>\n",
              "      <td>US</td>\n",
              "      <td></td>\n",
              "      <td>[{'count': '381', 'name': 'to-read'}, {'count'...</td>\n",
              "      <td></td>\n",
              "      <td>false</td>\n",
              "      <td>4.42</td>\n",
              "      <td></td>\n",
              "      <td>[]</td>\n",
              "      <td>A former Marine and Las Vegas vice cop, Nathan...</td>\n",
              "      <td></td>\n",
              "      <td>https://www.goodreads.com/book/show/34953072-g...</td>\n",
              "      <td>[{'author_id': '5357264', 'role': ''}]</td>\n",
              "      <td></td>\n",
              "      <td></td>\n",
              "      <td></td>\n",
              "      <td></td>\n",
              "      <td></td>\n",
              "      <td></td>\n",
              "      <td></td>\n",
              "      <td>https://www.goodreads.com/book/show/34953072-g...</td>\n",
              "      <td>https://images.gr-assets.com/books/1493100125m...</td>\n",
              "      <td>34953072</td>\n",
              "      <td>125</td>\n",
              "      <td>56227556</td>\n",
              "      <td>Game of Chance (Vegas Heat, #1)</td>\n",
              "      <td>Game of Chance (Vegas Heat, #1)</td>\n",
              "    </tr>\n",
              "    <tr>\n",
              "      <th>49996</th>\n",
              "      <td>1101475269</td>\n",
              "      <td>3</td>\n",
              "      <td>[542921]</td>\n",
              "      <td>US</td>\n",
              "      <td>eng</td>\n",
              "      <td>[{'count': '1760', 'name': 'to-read'}, {'count...</td>\n",
              "      <td></td>\n",
              "      <td>true</td>\n",
              "      <td>3.99</td>\n",
              "      <td></td>\n",
              "      <td>[7144433, 7031099, 7907677, 7954726, 9310968, ...</td>\n",
              "      <td>When wild boy Ro Curtlee was convicted of rape...</td>\n",
              "      <td>ebook</td>\n",
              "      <td>https://www.goodreads.com/book/show/9745394-da...</td>\n",
              "      <td>[{'author_id': '10521', 'role': ''}]</td>\n",
              "      <td>Signet Book</td>\n",
              "      <td>0</td>\n",
              "      <td>4</td>\n",
              "      <td>9781101475263</td>\n",
              "      <td>1</td>\n",
              "      <td></td>\n",
              "      <td>2011</td>\n",
              "      <td>https://www.goodreads.com/book/show/9745394-da...</td>\n",
              "      <td>https://images.gr-assets.com/books/1294431120m...</td>\n",
              "      <td>9745394</td>\n",
              "      <td>15</td>\n",
              "      <td>13417526</td>\n",
              "      <td>Damage</td>\n",
              "      <td>Damage</td>\n",
              "    </tr>\n",
              "    <tr>\n",
              "      <th>49997</th>\n",
              "      <td>1880216620</td>\n",
              "      <td>21</td>\n",
              "      <td>[267793]</td>\n",
              "      <td>US</td>\n",
              "      <td>en-US</td>\n",
              "      <td>[{'count': '262', 'name': 'to-read'}, {'count'...</td>\n",
              "      <td></td>\n",
              "      <td>false</td>\n",
              "      <td>4.12</td>\n",
              "      <td>B00F9H59Z0</td>\n",
              "      <td>[419170, 17213020, 15702877, 384646, 9737151, ...</td>\n",
              "      <td>The first new novel in a decade from New York ...</td>\n",
              "      <td>Hardcover</td>\n",
              "      <td>https://www.goodreads.com/book/show/23824.Spea...</td>\n",
              "      <td>[{'author_id': '5244478', 'role': ''}]</td>\n",
              "      <td>River City Publishing</td>\n",
              "      <td>726</td>\n",
              "      <td>1</td>\n",
              "      <td>9781880216620</td>\n",
              "      <td>9</td>\n",
              "      <td></td>\n",
              "      <td>2002</td>\n",
              "      <td>https://www.goodreads.com/book/show/23824.Spea...</td>\n",
              "      <td>https://images.gr-assets.com/books/1340811306m...</td>\n",
              "      <td>23824</td>\n",
              "      <td>112</td>\n",
              "      <td>16692325</td>\n",
              "      <td>Speaks the Nightbird (Matthew Corbett, #1)</td>\n",
              "      <td>Speaks the Nightbird (Matthew Corbett, #1)</td>\n",
              "    </tr>\n",
              "    <tr>\n",
              "      <th>49998</th>\n",
              "      <td>0671664867</td>\n",
              "      <td>9</td>\n",
              "      <td>[]</td>\n",
              "      <td>US</td>\n",
              "      <td>eng</td>\n",
              "      <td>[{'count': '3107', 'name': 'to-read'}, {'count...</td>\n",
              "      <td></td>\n",
              "      <td>false</td>\n",
              "      <td>3.88</td>\n",
              "      <td>B005T54HYG</td>\n",
              "      <td>[269203, 1829992, 906491, 19161882, 363015, 61...</td>\n",
              "      <td>Adrift in the 1980s and slowly losing her mind...</td>\n",
              "      <td></td>\n",
              "      <td>https://www.goodreads.com/book/show/23825.Mine</td>\n",
              "      <td>[{'author_id': '5244478', 'role': ''}]</td>\n",
              "      <td></td>\n",
              "      <td>442</td>\n",
              "      <td></td>\n",
              "      <td>9780671664862</td>\n",
              "      <td></td>\n",
              "      <td></td>\n",
              "      <td></td>\n",
              "      <td>https://www.goodreads.com/book/show/23825.Mine</td>\n",
              "      <td>https://images.gr-assets.com/books/1357643789m...</td>\n",
              "      <td>23825</td>\n",
              "      <td>62</td>\n",
              "      <td>16692628</td>\n",
              "      <td>Mine</td>\n",
              "      <td>Mine</td>\n",
              "    </tr>\n",
              "    <tr>\n",
              "      <th>49999</th>\n",
              "      <td>0030618339</td>\n",
              "      <td>9</td>\n",
              "      <td>[]</td>\n",
              "      <td>US</td>\n",
              "      <td>eng</td>\n",
              "      <td>[{'count': '2120', 'name': 'to-read'}, {'count...</td>\n",
              "      <td></td>\n",
              "      <td>false</td>\n",
              "      <td>3.88</td>\n",
              "      <td>B005T54GF6</td>\n",
              "      <td>[921198, 1835584, 215606, 876145, 5661348, 341...</td>\n",
              "      <td>Inspired by Edgar Allan Poe's classic story \"F...</td>\n",
              "      <td>Hardcover</td>\n",
              "      <td>https://www.goodreads.com/book/show/23826.Ushe...</td>\n",
              "      <td>[{'author_id': '5244478', 'role': ''}]</td>\n",
              "      <td>Holt Rinehart &amp; Winston</td>\n",
              "      <td>401</td>\n",
              "      <td></td>\n",
              "      <td>9780030618338</td>\n",
              "      <td></td>\n",
              "      <td>1st edition</td>\n",
              "      <td>1984</td>\n",
              "      <td>https://www.goodreads.com/book/show/23826.Ushe...</td>\n",
              "      <td>https://images.gr-assets.com/books/1350424731m...</td>\n",
              "      <td>23826</td>\n",
              "      <td>51</td>\n",
              "      <td>16695959</td>\n",
              "      <td>Usher's Passing</td>\n",
              "      <td>Usher's Passing</td>\n",
              "    </tr>\n",
              "  </tbody>\n",
              "</table>\n",
              "<p>50000 rows × 29 columns</p>\n",
              "</div>"
            ],
            "text/plain": [
              "             isbn  ...                               title_without_series\n",
              "0      184737297X  ...          Crowner Royal (Crowner John Mystery, #13)\n",
              "1                  ...            The House of Memory (Pluto's Snitch #2)\n",
              "2                  ...  The Slaughtered Virgin of Zenopolis (Inspector...\n",
              "3      0854563903  ...            Dead in the Morning (Patrick Grant, #1)\n",
              "4      8838920931  ...                   Aristotele e i misteri di Eleusi\n",
              "...           ...  ...                                                ...\n",
              "49995              ...                    Game of Chance (Vegas Heat, #1)\n",
              "49996  1101475269  ...                                             Damage\n",
              "49997  1880216620  ...         Speaks the Nightbird (Matthew Corbett, #1)\n",
              "49998  0671664867  ...                                               Mine\n",
              "49999  0030618339  ...                                    Usher's Passing\n",
              "\n",
              "[50000 rows x 29 columns]"
            ]
          },
          "metadata": {},
          "execution_count": 8
        }
      ]
    },
    {
      "cell_type": "code",
      "metadata": {
        "id": "Xds1RgiXlPE3"
      },
      "source": [
        ""
      ],
      "execution_count": null,
      "outputs": []
    }
  ]
}