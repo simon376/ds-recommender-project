{
 "cells": [
  {
   "cell_type": "markdown",
   "metadata": {},
   "source": [
    "## Download the datasets from Google Drive"
   ]
  },
  {
   "cell_type": "code",
   "execution_count": 1,
   "metadata": {},
   "outputs": [],
   "source": [
    "import pandas as pd\n",
    "import gdown\n",
    "import os\n",
    "DIR = './data/'"
   ]
  },
  {
   "cell_type": "code",
   "execution_count": 2,
   "metadata": {},
   "outputs": [],
   "source": [
    "in_fn_books = \"goodreads_books_mystery_thriller_crime.json.gz\"\n",
    "in_fn_reviews = \"goodreads_reviews_mystery_thriller_crime.json.gz\"\n",
    "in_fn_genres = \"goodreads_book_genres_initial.json.gz\"\n",
    "in_fn_authors = \"goodreads_book_authors.json.gz\""
   ]
  },
  {
   "cell_type": "code",
   "execution_count": 4,
   "metadata": {},
   "outputs": [
    {
     "name": "stderr",
     "output_type": "stream",
     "text": [
      "Downloading...\n",
      "From: https://drive.google.com/uc?id=1ACGrQS0sX4-26D358G2i5pja1Y6CsGtz\n",
      "To: /home/simon95/ds-recommender-project/data/goodreads_books_mystery_thriller_crime.json.gz\n",
      "100%|██████████| 231M/231M [00:04<00:00, 52.7MB/s] \n",
      "Downloading...\n",
      "From: https://drive.google.com/uc?id=1ONpyuv0vrtd6iUEp0-zzkKqwpm3njEqi\n",
      "To: /home/simon95/ds-recommender-project/data/goodreads_reviews_mystery_thriller_crime.json.gz\n",
      "100%|██████████| 610M/610M [00:10<00:00, 56.1MB/s] \n",
      "Downloading...\n",
      "From: https://drive.google.com/uc?id=1ah0_KpUterVi-AHxJ03iKD6O0NfbK0md\n",
      "To: /home/simon95/ds-recommender-project/data/goodreads_book_genres_initial.json.gz\n",
      "100%|██████████| 24.3M/24.3M [00:00<00:00, 81.6MB/s]\n",
      "Downloading...\n",
      "From: https://drive.google.com/uc?id=19cdwyXwfXx_HDIgxXaHzH0mrx8nMyLvC\n",
      "To: /home/simon95/ds-recommender-project/data/goodreads_book_authors.json.gz\n",
      "100%|██████████| 17.9M/17.9M [00:00<00:00, 67.4MB/s]\n"
     ]
    }
   ],
   "source": [
    "if not os.path.exists(DIR):\n",
    "  os.mkdir(DIR)\n",
    "if not os.path.exists(os.path.join(DIR, in_fn_books)):\n",
    "  gdown.download('https://drive.google.com/uc?id=1ACGrQS0sX4-26D358G2i5pja1Y6CsGtz', os.path.join(DIR, in_fn_books), quiet=False)\n",
    "if not os.path.exists(os.path.join(DIR, in_fn_reviews)):\n",
    "  gdown.download('https://drive.google.com/uc?id=1ONpyuv0vrtd6iUEp0-zzkKqwpm3njEqi', os.path.join(DIR, in_fn_reviews), quiet=False)\n",
    "if not os.path.exists(os.path.join(DIR, in_fn_genres)):\n",
    "  gdown.download('https://drive.google.com/uc?id=1ah0_KpUterVi-AHxJ03iKD6O0NfbK0md', os.path.join(DIR, in_fn_genres), quiet=False)\n",
    "if not os.path.exists(os.path.join(DIR, in_fn_authors)):\n",
    "  gdown.download(\"https://drive.google.com/uc?id=19cdwyXwfXx_HDIgxXaHzH0mrx8nMyLvC\", os.path.join(DIR, in_fn_authors), quiet=False)\n"
   ]
  },
  {
   "cell_type": "code",
   "execution_count": null,
   "metadata": {},
   "outputs": [],
   "source": [
    "import gzip\n",
    "import json\n",
    "import re\n",
    "import os\n",
    "import sys\n",
    "import numpy as np\n",
    "import pandas as pd\n",
    "from IPython.display import display\n"
   ]
  },
  {
   "cell_type": "code",
   "execution_count": null,
   "metadata": {},
   "outputs": [],
   "source": [
    "OUT_DIR = os.path.join(DIR, \"cleaned/\")\n",
    "os.mkdir(OUT_DIR)\n",
    "OUT_DIR\n"
   ]
  },
  {
   "cell_type": "markdown",
   "metadata": {},
   "source": [
    "using pandas to read json-data line-by-line and convert to csv"
   ]
  },
  {
   "cell_type": "markdown",
   "metadata": {},
   "source": [
    "NBOOKS = 100000\n",
    "NREVIEWS = 1*NBOOKS\n",
    "NAUTHORS = 5*NBOOKS\n",
    "NGENRES = 5*NBOOKS"
   ]
  }
 ],
 "metadata": {
  "interpreter": {
   "hash": "2d776beef21983daaa881d15bbb2a33b0c46204b84b05add282227166f57495c"
  },
  "kernelspec": {
   "display_name": "Python 3.9.7 64-bit ('venv': venv)",
   "language": "python",
   "name": "python3"
  },
  "language_info": {
   "codemirror_mode": {
    "name": "ipython",
    "version": 3
   },
   "file_extension": ".py",
   "mimetype": "text/x-python",
   "name": "python",
   "nbconvert_exporter": "python",
   "pygments_lexer": "ipython3",
   "version": "3.9.7"
  },
  "orig_nbformat": 4
 },
 "nbformat": 4,
 "nbformat_minor": 2
}
